{
  "cells": [
    {
      "cell_type": "code",
      "execution_count": 45,
      "id": "02d7dbd3",
      "metadata": {
        "cellId": "2nsqqr86x7xv72m8visqd9",
        "id": "02d7dbd3"
      },
      "outputs": [
        {
          "name": "stdout",
          "output_type": "stream",
          "text": [
            "^C\n",
            "Note: you may need to restart the kernel to use updated packages.\n",
            "Note: you may need to restart the kernel to use updated packages.\n"
          ]
        }
      ],
      "source": [
        "%pip -q install gdown\n",
        "%pip -q install catboost"
      ]
    },
    {
      "cell_type": "code",
      "execution_count": null,
      "id": "69622b9d",
      "metadata": {
        "cellId": "7kq43mal0bixzz9th2kph",
        "colab": {
          "base_uri": "https://localhost:8080/"
        },
        "id": "69622b9d",
        "outputId": "8fc66fd8-1c3a-41f3-af57-14070cb3d7d8"
      },
      "outputs": [
        {
          "name": "stdout",
          "output_type": "stream",
          "text": [
            "\u001b[2K     \u001b[90m━━━━━━━━━━━━━━━━━━━━━━━━━━━━━━━━━━━━━━━━\u001b[0m \u001b[32m12.3/12.3 MB\u001b[0m \u001b[31m46.8 MB/s\u001b[0m eta \u001b[36m0:00:00\u001b[0m\n",
            "\u001b[?25h\u001b[31mERROR: pip's dependency resolver does not currently take into account all the packages that are installed. This behaviour is the source of the following dependency conflicts.\n",
            "google-colab 1.0.0 requires pandas==1.5.3, but you have pandas 2.0.1 which is incompatible.\u001b[0m\u001b[31m\n",
            "\u001b[2K     \u001b[90m━━━━━━━━━━━━━━━━━━━━━━━━━━━━━━━━━━━━━━━━\u001b[0m \u001b[32m38.9/38.9 MB\u001b[0m \u001b[31m12.2 MB/s\u001b[0m eta \u001b[36m0:00:00\u001b[0m\n",
            "\u001b[?25h\u001b[31mERROR: pip's dependency resolver does not currently take into account all the packages that are installed. This behaviour is the source of the following dependency conflicts.\n",
            "pandas-gbq 0.17.9 requires pyarrow<10.0dev,>=3.0.0, but you have pyarrow 12.0.0 which is incompatible.\u001b[0m\u001b[31m\n",
            "\u001b[0m^C\n"
          ]
        }
      ],
      "source": [
        "# %pip -q install --upgrade pyarrow\n",
        "# %pip -q install --upgrade numpy\n",
        "# %pip -q install --upgrade networkx[default]"
      ]
    },
    {
      "cell_type": "code",
      "execution_count": 1,
      "id": "b665dc97",
      "metadata": {
        "cellId": "bls132imi3lk984l5611l",
        "id": "b665dc97"
      },
      "outputs": [],
      "source": [
        "import gdown\n",
        "import pandas as pd\n",
        "import random\n",
        "import json\n",
        "import numpy as np\n",
        "import networkx as nx\n",
        "import torch"
      ]
    },
    {
      "cell_type": "code",
      "execution_count": 3,
      "id": "e152b4e3",
      "metadata": {
        "cellId": "ecgc500ig4e84c0e08wi96",
        "colab": {
          "base_uri": "https://localhost:8080/",
          "height": 108
        },
        "id": "e152b4e3",
        "outputId": "75c58906-f158-46f5-a835-085478aa0478"
      },
      "outputs": [
        {
          "name": "stderr",
          "output_type": "stream",
          "text": [
            "Downloading...\n",
            "From: https://drive.google.com/uc?id=17NBXx6l_6znStM52RJOKKKlxnHigavzq\n",
            "To: /content/hackathon_objects.tar.gz\n",
            "100%|██████████| 1.15G/1.15G [00:13<00:00, 87.7MB/s]\n"
          ]
        },
        {
          "data": {
            "application/vnd.google.colaboratory.intrinsic+json": {
              "type": "string"
            },
            "text/plain": [
              "'hackathon_objects.tar.gz'"
            ]
          },
          "execution_count": 3,
          "metadata": {},
          "output_type": "execute_result"
        }
      ],
      "source": [
        "gdown.download(\n",
        "    \"https://drive.google.com/file/d/17NBXx6l_6znStM52RJOKKKlxnHigavzq/view\", fuzzy=True\n",
        ")"
      ]
    },
    {
      "cell_type": "code",
      "execution_count": 4,
      "id": "135613cb",
      "metadata": {
        "cellId": "hwohee7gwj4j1786f4b5l",
        "colab": {
          "base_uri": "https://localhost:8080/",
          "height": 108
        },
        "id": "135613cb",
        "outputId": "17f692a8-6a44-41e7-ceda-b8fe17498a01"
      },
      "outputs": [
        {
          "name": "stderr",
          "output_type": "stream",
          "text": [
            "Downloading...\n",
            "From: https://drive.google.com/uc?id=1WGODJxN91z98TsR6Pt4lTkGtJwBglMGm\n",
            "To: /content/train_pairs_ext.parquet\n",
            "100%|██████████| 7.12M/7.12M [00:00<00:00, 95.9MB/s]\n"
          ]
        },
        {
          "data": {
            "application/vnd.google.colaboratory.intrinsic+json": {
              "type": "string"
            },
            "text/plain": [
              "'train_pairs_ext.parquet'"
            ]
          },
          "execution_count": 4,
          "metadata": {},
          "output_type": "execute_result"
        }
      ],
      "source": [
        "gdown.download(\n",
        "    \"https://drive.google.com/file/d/1WGODJxN91z98TsR6Pt4lTkGtJwBglMGm/view?usp=drive_link\",\n",
        "    fuzzy=True,\n",
        ")"
      ]
    },
    {
      "cell_type": "code",
      "execution_count": null,
      "id": "039b642d",
      "metadata": {
        "cellId": "re6h9wqm6g8hiuvjgsdmq",
        "execution": {
          "iopub.execute_input": "2023-05-25T09:23:40.962970Z",
          "iopub.status.busy": "2023-05-25T09:23:40.962397Z",
          "iopub.status.idle": "2023-05-25T09:23:42.070585Z",
          "shell.execute_reply": "2023-05-25T09:23:42.067301Z",
          "shell.execute_reply.started": "2023-05-25T09:23:40.962937Z"
        },
        "id": "039b642d"
      },
      "outputs": [],
      "source": [
        "# !ls ../input/my-params"
      ]
    },
    {
      "cell_type": "code",
      "execution_count": 5,
      "id": "214f43a7",
      "metadata": {
        "cellId": "wfvjmfdiopmgq06lqsi97g",
        "colab": {
          "base_uri": "https://localhost:8080/"
        },
        "id": "214f43a7",
        "outputId": "45977e2a-b789-436b-adbf-b8c80adcfc88"
      },
      "outputs": [
        {
          "name": "stdout",
          "output_type": "stream",
          "text": [
            "files/\n",
            "files/metric.py\n",
            "files/submission_example.csv\n",
            "files/datasets/\n",
            "files/datasets/test_data.parquet\n",
            "files/datasets/train_data.parquet\n",
            "files/datasets/train_pairs_w_target.parquet\n",
            "files/datasets/test_for_participants.csv\n"
          ]
        }
      ],
      "source": [
        "!tar -xvzf hackathon_objects.tar.gz"
      ]
    },
    {
      "cell_type": "code",
      "execution_count": 2,
      "id": "ddae7e18",
      "metadata": {
        "cellId": "s3787kdzasvahec8kf73r",
        "id": "ddae7e18"
      },
      "outputs": [],
      "source": [
        "goods_data = pd.read_parquet(\"../../files/datasets/train_data.parquet\", engine=\"pyarrow\")\n",
        "cat_embed = torch.load('./y_embed.pt').reshape(-1, 64)\n",
        "cat_idx = torch.load('./y_idxs.pt')\n",
        "cat_embed = {i: j  for i, j in zip(cat_idx, cat_embed)}\n",
        "# goods_pairs = pd.read_parquet('files/datasets/train_pairs_w_target.parquet')"
      ]
    },
    {
      "cell_type": "code",
      "execution_count": 3,
      "id": "935f4b2c",
      "metadata": {
        "cellId": "7fb83ie8l6jmuctlg76so",
        "id": "935f4b2c"
      },
      "outputs": [],
      "source": [
        "tr = goods_data.categories.apply(lambda x: eval(x))\n",
        "trim = pd.DataFrame(tr.to_list()).rename(\n",
        "    columns={str(i): f\"cat_{i}\" for i in range(1, 5)}\n",
        ")\n",
        "st = (\n",
        "    trim.drop_duplicates()\n",
        "    .reset_index(drop=True)\n",
        "    .rename(columns={str(i): f\"cat_{i}\" for i in range(1, 5)})\n",
        ")\n",
        "dikt_cat_2 = {i: j for i, j in zip(st.cat_2.unique(), range(1, st.cat_2.nunique() + 1))}\n",
        "dikt_cat_3 = {i: j for i, j in zip(st.cat_3.unique(), range(1, st.cat_3.nunique() + 1))}\n",
        "dikt_cat_4 = {i: j for i, j in zip(st.cat_4.unique(), range(1, st.cat_4.nunique() + 1))}\n",
        "st[\"cat_2\"] = st.cat_2.map(dikt_cat_2)\n",
        "st[\"cat_3\"] = st.cat_3.map(dikt_cat_3)\n",
        "st[\"cat_4\"] = st.cat_4.map(dikt_cat_4)\n",
        "trim[\"cat_2_en\"] = trim.cat_2.map(dikt_cat_2)\n",
        "trim[\"cat_3_en\"] = trim.cat_3.map(dikt_cat_3)\n",
        "trim[\"cat_4_en\"] = trim.cat_4.map(dikt_cat_4)\n",
        "G = nx.Graph()\n",
        "nodes = [0]\n",
        "edges = []\n",
        "lz = []\n",
        "for _, row in st.iterrows():\n",
        "    cat_1, cat_2, cat_3, cat_4 = row[\"cat_1\"], row[\"cat_2\"], row[\"cat_3\"], row[\"cat_4\"]\n",
        "    cat_2 = int(\"1\" + (\"0\" + str(cat_2))[-2:])\n",
        "    if cat_2 not in nodes:\n",
        "        nodes.append(cat_2)\n",
        "        edges.append((0, cat_2))\n",
        "    cat_3 = int(str(cat_2) + (\"00\" + str(cat_3))[-3:])\n",
        "    if cat_3 not in nodes:\n",
        "        nodes.append(cat_3)\n",
        "        edges.append((cat_2, cat_3))\n",
        "    cat_4 = int(str(cat_2) + str(cat_3) + (\"00\" + str(cat_4))[-3:])\n",
        "    if cat_4 not in nodes:\n",
        "        nodes.append(cat_4)\n",
        "        edges.append((cat_3, cat_4))\n",
        "    lz.append(cat_4)\n",
        "G.add_nodes_from(nodes)\n",
        "G.add_edges_from(edges)\n",
        "st[\"encoder\"] = lz\n",
        "trim = trim.merge(\n",
        "    st,\n",
        "    left_on=[\"cat_2_en\", \"cat_3_en\", \"cat_4_en\"],\n",
        "    right_on=[\"cat_2\", \"cat_3\", \"cat_4\"],\n",
        "    how=\"left\",\n",
        ")\n",
        "goods_data[\"cat_encoded\"] = trim[\"encoder\"]"
      ]
    },
    {
      "cell_type": "code",
      "execution_count": 4,
      "id": "cc2774e3",
      "metadata": {
        "cellId": "un7g4kr0qpd0tmhg5cztn",
        "id": "cc2774e3"
      },
      "outputs": [],
      "source": [
        "def symm_pairs(df):\n",
        "    # todo: complete cliques of goods\n",
        "\n",
        "    df2 = df.copy()\n",
        "    cols = [\"variantid1\", \"variantid2\"]\n",
        "    for c in cols:\n",
        "        if c not in df2.columns:\n",
        "            raise UserWarning\n",
        "    df2 = df2.rename(columns={cols[0]: cols[1], cols[1]: cols[0]})\n",
        "    return pd.concat([df, df2]).drop_duplicates()"
      ]
    },
    {
      "cell_type": "code",
      "execution_count": 5,
      "id": "b96f11bf",
      "metadata": {
        "cellId": "mxmneu68tpil28k71w3ktm",
        "id": "b96f11bf"
      },
      "outputs": [],
      "source": [
        "import torch\n",
        "import random\n",
        "import numpy as np\n",
        "from torch.utils.data import Dataset, DataLoader\n",
        "\n",
        "\n",
        "class ContrastiveDataset(Dataset):\n",
        "    def __init__(self, original_dataset, pairs_dataset, cat_embed, embedding_columns, mode = True):\n",
        "       # self.original_dataset = original_dataset.set_index('variantid')\n",
        "        self.pairs_dataset = pairs_dataset\n",
        "        self.embedding_columns = embedding_columns\n",
        "        self.dataset = None\n",
        "        self.mode = mode\n",
        "        self.cat_embed = cat_embed\n",
        "        if self.mode:\n",
        "            self.prepare_dataset()\n",
        "        else:\n",
        "            self.prepare_test_dataset()\n",
        "        indexes = pairs_dataset.variantid1 | pairs_dataset.variantid1\n",
        "        original_dataset = original_dataset[original_dataset.variantid.isin(indexes)]\n",
        "        self.data = self.prepare_data(original_dataset.set_index('variantid'))\n",
        "        \n",
        "\n",
        "    def prepare_dataset(self):\n",
        "        neg_pairs =  self.pairs_dataset[ self.pairs_dataset.target ==0.].groupby('variantid1').variantid2.apply(lambda x: list(x)).to_frame()\n",
        "        pos_pairs =  self.pairs_dataset[ self.pairs_dataset.target ==1.].groupby('variantid1').variantid2.apply(lambda x: list(x)).to_frame()\n",
        "        self.dataset = pos_pairs.merge(neg_pairs, how = 'outer', left_index = True, right_index = True, suffixes = ['_pos', '_neg'])\n",
        "        sol = pd.Series(np.where(self.dataset.variantid2_pos.notnull(), self.dataset.variantid2_pos, pd.Series(self.dataset.index).apply(lambda x: [x])))\n",
        "        self.dataset['variantid2_pos'] = sol.set_axis(self.dataset.index)\n",
        "        # random_ids = pd.DataFrame({'rand_1':pd.Series(self.dataset.index).sample(frac = 1, replace=True).tolist(), \n",
        "        #            'rand_2':pd.Series(self.dataset.index).sample(frac = 1, replace=True).tolist()})\\\n",
        "        #             .apply(lambda x: list([x['rand_1'], x['rand_2']]), axis =1).to_frame().set_index(self.dataset.index)\n",
        "        # pr = self.dataset.merge(random_ids, right_index = True, left_index = True, how = 'left')\n",
        "        # sol = pd.Series(np.where(pr['variantid2_neg'].notnull(), pr['variantid2_neg']+pr[0], pr[0]))\n",
        "        ld = pd.Series(self.dataset.index).sample(frac = 1, replace=True).apply(lambda x: [x])\n",
        "        sol = pd.Series(np.where(self.dataset.variantid2_neg.notnull(), self.dataset.variantid2_neg, ld))\n",
        "        self.dataset['variantid2_neg'] = sol.set_axis(self.dataset.index)\n",
        "        self.dataset['random_neg'] = pd.Series(self.dataset.index).sample(frac = 1, replace = True).tolist()\n",
        "        self.dataset = self.dataset.reset_index()\n",
        "\n",
        "        \n",
        "    def prepare_data(self, original_dataset):\n",
        "        def func(x):\n",
        "            lz = []\n",
        "            if \"main_pic_embeddings_resnet_v1\" in self.embedding_columns:\n",
        "                lz.append(torch.tensor(x[\"main_pic_embeddings_resnet_v1\"][0]))\n",
        "           # print(x)\n",
        "            if \"name_bert_64\" in self.embedding_columns:\n",
        "                lz.append(torch.tensor(x[\"name_bert_64\"]))\n",
        "            if \"cat_embed\" in self.embedding_columns:\n",
        "                lz.append(self.cat_embed[x.name])\n",
        "        #    print(self.embedding_columns)\n",
        "        #    print(lz)\n",
        "            return torch.cat(lz, axis=0)\n",
        "\n",
        "        return original_dataset.apply(lambda x: func(x), axis=1)\n",
        "    \n",
        "    def prepare_test_dataset(self):\n",
        "        self.dataset = self.pairs_dataset[['variantid1']].drop_duplicates().reset_index(drop=True)\n",
        "\n",
        "\n",
        "\n",
        "    def __getitem__(self, index):\n",
        "        original_idx = self.dataset.loc[index].variantid1\n",
        "        if self.mode:\n",
        "            positive_idx = self.dataset.loc[index].variantid2_pos\n",
        "            negative_idx_1 = self.dataset.loc[index].variantid2_neg\n",
        "            negative_idx_2 = self.dataset.loc[index].random_neg \n",
        "            val = np.random.choice(len(positive_idx), 1)[0]\n",
        "            positive_idx = positive_idx[val]\n",
        "            val = np.random.choice(len(negative_idx_1), 1)\n",
        "            negative_idx_1 = negative_idx_1[val[0]]\n",
        "        #    negative_idx_2 = negative_idx[val[1]]\n",
        "\n",
        "            positive_pair = self.data.loc[positive_idx]\n",
        "            negative_pair_1 = self.data.loc[negative_idx_1]\n",
        "            negative_pair_2 = self.data.loc[negative_idx_2]\n",
        "            original_data = self.data.loc[original_idx]\n",
        "          #  print(original_data)\n",
        "            return original_data, positive_pair, negative_pair_1, negative_pair_2, original_idx\n",
        "        else:\n",
        "            original_data = self.data.loc[original_idx]\n",
        "            return original_data, 0, 0, 0, original_idx\n",
        "\n",
        "\n",
        "    def __len__(self):\n",
        "        return len(self.dataset)\n",
        "\n"
      ]
    },
    {
      "attachments": {},
      "cell_type": "markdown",
      "id": "beba22b7",
      "metadata": {
        "cellId": "3tmtu33k29xdruqfbz2rac",
        "execution_id": "016b6958-47a3-449c-96ce-1a45cc0c6275",
        "id": "beba22b7"
      },
      "source": [
        "# Actual data"
      ]
    },
    {
      "cell_type": "code",
      "execution_count": 6,
      "id": "18e93264",
      "metadata": {
        "cellId": "e66sob5skeokmuldwzmmf",
        "id": "18e93264"
      },
      "outputs": [],
      "source": [
        "goods_pairs_ext = pd.read_parquet(\"train_pairs_ext.parquet\")\n",
        "# symm_goods_pairs = symm_pairs(goods_pairs)\n",
        "#symm_goods_pairs_ext = symm_pairs(goods_pairs_ext)"
      ]
    },
    {
      "cell_type": "code",
      "execution_count": 80,
      "id": "99aa08fa",
      "metadata": {
        "cellId": "onuhhpepvgopxu3eynfqb",
        "colab": {
          "base_uri": "https://localhost:8080/"
        },
        "id": "99aa08fa",
        "outputId": "dec64605-4002-4012-a9b8-278201cb187a"
      },
      "outputs": [
        {
          "name": "stderr",
          "output_type": "stream",
          "text": [
            "Calculating components: 468759it [00:31, 14690.06it/s]\n",
            "Adding component numbers: 468759it [00:29, 15647.24it/s]\n"
          ]
        }
      ],
      "source": [
        "from splitter import Splitter\n",
        "\n",
        "spl = Splitter(goods_pairs_ext)\n",
        "train_pairs, test_pairs = spl.split(goods_pairs_ext, test_size=0.2)"
      ]
    },
    {
      "cell_type": "code",
      "execution_count": 11,
      "id": "de41ef5b",
      "metadata": {
        "cellId": "5rg0va45rbvvbocucuhpm",
        "id": "de41ef5b"
      },
      "outputs": [],
      "source": [
        "# goods_data[\"cat3\"] = goods_data[\"categories\"].apply(lambda x: json.loads(x)[\"3\"])\n",
        "# cat3_counts = goods_data[\"cat3\"].value_counts().to_dict()\n",
        "# goods_data[\"cat3_grouped\"] = goods_data[\"cat3\"].apply(lambda x: x if cat3_counts[x] > 1000 else \"rest\")\n",
        "# dikt_categories= {i: j for i, j in zip(goods_data.cat3_grouped.unique(), np.arange(goods_data.cat3_grouped.nunique())/goods_data.cat3_grouped.nunique())}\n",
        "# goods_data['category_encoded'] = goods_data.cat3_grouped.map(dikt_categories)"
      ]
    },
    {
      "cell_type": "code",
      "execution_count": 81,
      "id": "02c5299b",
      "metadata": {
        "cellId": "s4fwg9p204n8sjuzrk1z02",
        "id": "02c5299b"
      },
      "outputs": [
        {
          "ename": "KeyboardInterrupt",
          "evalue": "",
          "output_type": "error",
          "traceback": [
            "\u001b[0;31m---------------------------------------------------------------------------\u001b[0m",
            "\u001b[0;31mKeyboardInterrupt\u001b[0m                         Traceback (most recent call last)",
            "\u001b[0;32m/tmp/ipykernel_168360/1460838814.py\u001b[0m in \u001b[0;36m<module>\u001b[0;34m\u001b[0m\n\u001b[1;32m      3\u001b[0m \u001b[0;34m\u001b[0m\u001b[0m\n\u001b[1;32m      4\u001b[0m contrastive_dataset_train = ContrastiveDataset(\n\u001b[0;32m----> 5\u001b[0;31m     \u001b[0mgoods_data\u001b[0m\u001b[0;34m,\u001b[0m \u001b[0msymm_pairs\u001b[0m\u001b[0;34m(\u001b[0m\u001b[0mtrain_pairs\u001b[0m\u001b[0;34m)\u001b[0m\u001b[0;34m,\u001b[0m  \u001b[0mcat_embed\u001b[0m\u001b[0;34m,\u001b[0m \u001b[0membedding_columns\u001b[0m\u001b[0;34m,\u001b[0m \u001b[0mmode\u001b[0m\u001b[0;34m=\u001b[0m\u001b[0;32mTrue\u001b[0m\u001b[0;34m\u001b[0m\u001b[0;34m\u001b[0m\u001b[0m\n\u001b[0m\u001b[1;32m      6\u001b[0m )\n\u001b[1;32m      7\u001b[0m contrastive_dataloader_train = DataLoader(\n",
            "\u001b[0;32m/tmp/ipykernel_168360/1850605079.py\u001b[0m in \u001b[0;36m__init__\u001b[0;34m(self, original_dataset, pairs_dataset, cat_embed, embedding_columns, mode)\u001b[0m\n\u001b[1;32m     14\u001b[0m         \u001b[0mself\u001b[0m\u001b[0;34m.\u001b[0m\u001b[0mcat_embed\u001b[0m \u001b[0;34m=\u001b[0m \u001b[0mcat_embed\u001b[0m\u001b[0;34m\u001b[0m\u001b[0;34m\u001b[0m\u001b[0m\n\u001b[1;32m     15\u001b[0m         \u001b[0;32mif\u001b[0m \u001b[0mself\u001b[0m\u001b[0;34m.\u001b[0m\u001b[0mmode\u001b[0m\u001b[0;34m:\u001b[0m\u001b[0;34m\u001b[0m\u001b[0;34m\u001b[0m\u001b[0m\n\u001b[0;32m---> 16\u001b[0;31m             \u001b[0mself\u001b[0m\u001b[0;34m.\u001b[0m\u001b[0mprepare_dataset\u001b[0m\u001b[0;34m(\u001b[0m\u001b[0;34m)\u001b[0m\u001b[0;34m\u001b[0m\u001b[0;34m\u001b[0m\u001b[0m\n\u001b[0m\u001b[1;32m     17\u001b[0m         \u001b[0;32melse\u001b[0m\u001b[0;34m:\u001b[0m\u001b[0;34m\u001b[0m\u001b[0;34m\u001b[0m\u001b[0m\n\u001b[1;32m     18\u001b[0m             \u001b[0mself\u001b[0m\u001b[0;34m.\u001b[0m\u001b[0mprepare_test_dataset\u001b[0m\u001b[0;34m(\u001b[0m\u001b[0;34m)\u001b[0m\u001b[0;34m\u001b[0m\u001b[0;34m\u001b[0m\u001b[0m\n",
            "\u001b[0;32m/tmp/ipykernel_168360/1850605079.py\u001b[0m in \u001b[0;36mprepare_dataset\u001b[0;34m(self)\u001b[0m\n\u001b[1;32m     23\u001b[0m \u001b[0;34m\u001b[0m\u001b[0m\n\u001b[1;32m     24\u001b[0m     \u001b[0;32mdef\u001b[0m \u001b[0mprepare_dataset\u001b[0m\u001b[0;34m(\u001b[0m\u001b[0mself\u001b[0m\u001b[0;34m)\u001b[0m\u001b[0;34m:\u001b[0m\u001b[0;34m\u001b[0m\u001b[0;34m\u001b[0m\u001b[0m\n\u001b[0;32m---> 25\u001b[0;31m         \u001b[0mneg_pairs\u001b[0m \u001b[0;34m=\u001b[0m  \u001b[0mself\u001b[0m\u001b[0;34m.\u001b[0m\u001b[0mpairs_dataset\u001b[0m\u001b[0;34m[\u001b[0m \u001b[0mself\u001b[0m\u001b[0;34m.\u001b[0m\u001b[0mpairs_dataset\u001b[0m\u001b[0;34m.\u001b[0m\u001b[0mtarget\u001b[0m \u001b[0;34m==\u001b[0m\u001b[0;36m0.\u001b[0m\u001b[0;34m]\u001b[0m\u001b[0;34m.\u001b[0m\u001b[0mgroupby\u001b[0m\u001b[0;34m(\u001b[0m\u001b[0;34m'variantid1'\u001b[0m\u001b[0;34m)\u001b[0m\u001b[0;34m.\u001b[0m\u001b[0mvariantid2\u001b[0m\u001b[0;34m.\u001b[0m\u001b[0mapply\u001b[0m\u001b[0;34m(\u001b[0m\u001b[0;32mlambda\u001b[0m \u001b[0mx\u001b[0m\u001b[0;34m:\u001b[0m \u001b[0mlist\u001b[0m\u001b[0;34m(\u001b[0m\u001b[0mx\u001b[0m\u001b[0;34m)\u001b[0m\u001b[0;34m)\u001b[0m\u001b[0;34m.\u001b[0m\u001b[0mto_frame\u001b[0m\u001b[0;34m(\u001b[0m\u001b[0;34m)\u001b[0m\u001b[0;34m\u001b[0m\u001b[0;34m\u001b[0m\u001b[0m\n\u001b[0m\u001b[1;32m     26\u001b[0m         \u001b[0mpos_pairs\u001b[0m \u001b[0;34m=\u001b[0m  \u001b[0mself\u001b[0m\u001b[0;34m.\u001b[0m\u001b[0mpairs_dataset\u001b[0m\u001b[0;34m[\u001b[0m \u001b[0mself\u001b[0m\u001b[0;34m.\u001b[0m\u001b[0mpairs_dataset\u001b[0m\u001b[0;34m.\u001b[0m\u001b[0mtarget\u001b[0m \u001b[0;34m==\u001b[0m\u001b[0;36m1.\u001b[0m\u001b[0;34m]\u001b[0m\u001b[0;34m.\u001b[0m\u001b[0mgroupby\u001b[0m\u001b[0;34m(\u001b[0m\u001b[0;34m'variantid1'\u001b[0m\u001b[0;34m)\u001b[0m\u001b[0;34m.\u001b[0m\u001b[0mvariantid2\u001b[0m\u001b[0;34m.\u001b[0m\u001b[0mapply\u001b[0m\u001b[0;34m(\u001b[0m\u001b[0;32mlambda\u001b[0m \u001b[0mx\u001b[0m\u001b[0;34m:\u001b[0m \u001b[0mlist\u001b[0m\u001b[0;34m(\u001b[0m\u001b[0mx\u001b[0m\u001b[0;34m)\u001b[0m\u001b[0;34m)\u001b[0m\u001b[0;34m.\u001b[0m\u001b[0mto_frame\u001b[0m\u001b[0;34m(\u001b[0m\u001b[0;34m)\u001b[0m\u001b[0;34m\u001b[0m\u001b[0;34m\u001b[0m\u001b[0m\n\u001b[1;32m     27\u001b[0m         \u001b[0mself\u001b[0m\u001b[0;34m.\u001b[0m\u001b[0mdataset\u001b[0m \u001b[0;34m=\u001b[0m \u001b[0mpos_pairs\u001b[0m\u001b[0;34m.\u001b[0m\u001b[0mmerge\u001b[0m\u001b[0;34m(\u001b[0m\u001b[0mneg_pairs\u001b[0m\u001b[0;34m,\u001b[0m \u001b[0mhow\u001b[0m \u001b[0;34m=\u001b[0m \u001b[0;34m'outer'\u001b[0m\u001b[0;34m,\u001b[0m \u001b[0mleft_index\u001b[0m \u001b[0;34m=\u001b[0m \u001b[0;32mTrue\u001b[0m\u001b[0;34m,\u001b[0m \u001b[0mright_index\u001b[0m \u001b[0;34m=\u001b[0m \u001b[0;32mTrue\u001b[0m\u001b[0;34m,\u001b[0m \u001b[0msuffixes\u001b[0m \u001b[0;34m=\u001b[0m \u001b[0;34m[\u001b[0m\u001b[0;34m'_pos'\u001b[0m\u001b[0;34m,\u001b[0m \u001b[0;34m'_neg'\u001b[0m\u001b[0;34m]\u001b[0m\u001b[0;34m)\u001b[0m\u001b[0;34m\u001b[0m\u001b[0;34m\u001b[0m\u001b[0m\n",
            "\u001b[0;32m~/.venv/lib/python3.7/site-packages/pandas/core/groupby/generic.py\u001b[0m in \u001b[0;36mapply\u001b[0;34m(self, func, *args, **kwargs)\u001b[0m\n\u001b[1;32m    221\u001b[0m     )\n\u001b[1;32m    222\u001b[0m     \u001b[0;32mdef\u001b[0m \u001b[0mapply\u001b[0m\u001b[0;34m(\u001b[0m\u001b[0mself\u001b[0m\u001b[0;34m,\u001b[0m \u001b[0mfunc\u001b[0m\u001b[0;34m,\u001b[0m \u001b[0;34m*\u001b[0m\u001b[0margs\u001b[0m\u001b[0;34m,\u001b[0m \u001b[0;34m**\u001b[0m\u001b[0mkwargs\u001b[0m\u001b[0;34m)\u001b[0m\u001b[0;34m:\u001b[0m\u001b[0;34m\u001b[0m\u001b[0;34m\u001b[0m\u001b[0m\n\u001b[0;32m--> 223\u001b[0;31m         \u001b[0;32mreturn\u001b[0m \u001b[0msuper\u001b[0m\u001b[0;34m(\u001b[0m\u001b[0;34m)\u001b[0m\u001b[0;34m.\u001b[0m\u001b[0mapply\u001b[0m\u001b[0;34m(\u001b[0m\u001b[0mfunc\u001b[0m\u001b[0;34m,\u001b[0m \u001b[0;34m*\u001b[0m\u001b[0margs\u001b[0m\u001b[0;34m,\u001b[0m \u001b[0;34m**\u001b[0m\u001b[0mkwargs\u001b[0m\u001b[0;34m)\u001b[0m\u001b[0;34m\u001b[0m\u001b[0;34m\u001b[0m\u001b[0m\n\u001b[0m\u001b[1;32m    224\u001b[0m \u001b[0;34m\u001b[0m\u001b[0m\n\u001b[1;32m    225\u001b[0m     \u001b[0;34m@\u001b[0m\u001b[0mdoc\u001b[0m\u001b[0;34m(\u001b[0m\u001b[0m_agg_template\u001b[0m\u001b[0;34m,\u001b[0m \u001b[0mexamples\u001b[0m\u001b[0;34m=\u001b[0m\u001b[0m_agg_examples_doc\u001b[0m\u001b[0;34m,\u001b[0m \u001b[0mklass\u001b[0m\u001b[0;34m=\u001b[0m\u001b[0;34m\"Series\"\u001b[0m\u001b[0;34m)\u001b[0m\u001b[0;34m\u001b[0m\u001b[0;34m\u001b[0m\u001b[0m\n",
            "\u001b[0;32m~/.venv/lib/python3.7/site-packages/pandas/core/groupby/groupby.py\u001b[0m in \u001b[0;36mapply\u001b[0;34m(self, func, *args, **kwargs)\u001b[0m\n\u001b[1;32m   1273\u001b[0m         \u001b[0;32mwith\u001b[0m \u001b[0moption_context\u001b[0m\u001b[0;34m(\u001b[0m\u001b[0;34m\"mode.chained_assignment\"\u001b[0m\u001b[0;34m,\u001b[0m \u001b[0;32mNone\u001b[0m\u001b[0;34m)\u001b[0m\u001b[0;34m:\u001b[0m\u001b[0;34m\u001b[0m\u001b[0;34m\u001b[0m\u001b[0m\n\u001b[1;32m   1274\u001b[0m             \u001b[0;32mtry\u001b[0m\u001b[0;34m:\u001b[0m\u001b[0;34m\u001b[0m\u001b[0;34m\u001b[0m\u001b[0m\n\u001b[0;32m-> 1275\u001b[0;31m                 \u001b[0mresult\u001b[0m \u001b[0;34m=\u001b[0m \u001b[0mself\u001b[0m\u001b[0;34m.\u001b[0m\u001b[0m_python_apply_general\u001b[0m\u001b[0;34m(\u001b[0m\u001b[0mf\u001b[0m\u001b[0;34m,\u001b[0m \u001b[0mself\u001b[0m\u001b[0;34m.\u001b[0m\u001b[0m_selected_obj\u001b[0m\u001b[0;34m)\u001b[0m\u001b[0;34m\u001b[0m\u001b[0;34m\u001b[0m\u001b[0m\n\u001b[0m\u001b[1;32m   1276\u001b[0m             \u001b[0;32mexcept\u001b[0m \u001b[0mTypeError\u001b[0m\u001b[0;34m:\u001b[0m\u001b[0;34m\u001b[0m\u001b[0;34m\u001b[0m\u001b[0m\n\u001b[1;32m   1277\u001b[0m                 \u001b[0;31m# gh-20949\u001b[0m\u001b[0;34m\u001b[0m\u001b[0;34m\u001b[0m\u001b[0;34m\u001b[0m\u001b[0m\n",
            "\u001b[0;32m~/.venv/lib/python3.7/site-packages/pandas/core/groupby/groupby.py\u001b[0m in \u001b[0;36m_python_apply_general\u001b[0;34m(self, f, data)\u001b[0m\n\u001b[1;32m   1307\u001b[0m             \u001b[0mdata\u001b[0m \u001b[0mafter\u001b[0m \u001b[0mapplying\u001b[0m \u001b[0mf\u001b[0m\u001b[0;34m\u001b[0m\u001b[0;34m\u001b[0m\u001b[0m\n\u001b[1;32m   1308\u001b[0m         \"\"\"\n\u001b[0;32m-> 1309\u001b[0;31m         \u001b[0mkeys\u001b[0m\u001b[0;34m,\u001b[0m \u001b[0mvalues\u001b[0m\u001b[0;34m,\u001b[0m \u001b[0mmutated\u001b[0m \u001b[0;34m=\u001b[0m \u001b[0mself\u001b[0m\u001b[0;34m.\u001b[0m\u001b[0mgrouper\u001b[0m\u001b[0;34m.\u001b[0m\u001b[0mapply\u001b[0m\u001b[0;34m(\u001b[0m\u001b[0mf\u001b[0m\u001b[0;34m,\u001b[0m \u001b[0mdata\u001b[0m\u001b[0;34m,\u001b[0m \u001b[0mself\u001b[0m\u001b[0;34m.\u001b[0m\u001b[0maxis\u001b[0m\u001b[0;34m)\u001b[0m\u001b[0;34m\u001b[0m\u001b[0;34m\u001b[0m\u001b[0m\n\u001b[0m\u001b[1;32m   1310\u001b[0m \u001b[0;34m\u001b[0m\u001b[0m\n\u001b[1;32m   1311\u001b[0m         return self._wrap_applied_output(\n",
            "\u001b[0;32m~/.venv/lib/python3.7/site-packages/pandas/core/groupby/ops.py\u001b[0m in \u001b[0;36mapply\u001b[0;34m(self, f, data, axis)\u001b[0m\n\u001b[1;32m    845\u001b[0m             \u001b[0mnext\u001b[0m\u001b[0;34m(\u001b[0m\u001b[0mzipped\u001b[0m\u001b[0;34m)\u001b[0m\u001b[0;34m\u001b[0m\u001b[0;34m\u001b[0m\u001b[0m\n\u001b[1;32m    846\u001b[0m \u001b[0;34m\u001b[0m\u001b[0m\n\u001b[0;32m--> 847\u001b[0;31m         \u001b[0;32mfor\u001b[0m \u001b[0mkey\u001b[0m\u001b[0;34m,\u001b[0m \u001b[0mgroup\u001b[0m \u001b[0;32min\u001b[0m \u001b[0mzipped\u001b[0m\u001b[0;34m:\u001b[0m\u001b[0;34m\u001b[0m\u001b[0;34m\u001b[0m\u001b[0m\n\u001b[0m\u001b[1;32m    848\u001b[0m             \u001b[0mobject\u001b[0m\u001b[0;34m.\u001b[0m\u001b[0m__setattr__\u001b[0m\u001b[0;34m(\u001b[0m\u001b[0mgroup\u001b[0m\u001b[0;34m,\u001b[0m \u001b[0;34m\"name\"\u001b[0m\u001b[0;34m,\u001b[0m \u001b[0mkey\u001b[0m\u001b[0;34m)\u001b[0m\u001b[0;34m\u001b[0m\u001b[0;34m\u001b[0m\u001b[0m\n\u001b[1;32m    849\u001b[0m \u001b[0;34m\u001b[0m\u001b[0m\n",
            "\u001b[0;32m~/.venv/lib/python3.7/site-packages/pandas/core/groupby/ops.py\u001b[0m in \u001b[0;36m__iter__\u001b[0;34m(self)\u001b[0m\n\u001b[1;32m   1329\u001b[0m         \u001b[0mstarts\u001b[0m\u001b[0;34m,\u001b[0m \u001b[0mends\u001b[0m \u001b[0;34m=\u001b[0m \u001b[0mlib\u001b[0m\u001b[0;34m.\u001b[0m\u001b[0mgenerate_slices\u001b[0m\u001b[0;34m(\u001b[0m\u001b[0mself\u001b[0m\u001b[0;34m.\u001b[0m\u001b[0mslabels\u001b[0m\u001b[0;34m,\u001b[0m \u001b[0mself\u001b[0m\u001b[0;34m.\u001b[0m\u001b[0mngroups\u001b[0m\u001b[0;34m)\u001b[0m\u001b[0;34m\u001b[0m\u001b[0;34m\u001b[0m\u001b[0m\n\u001b[1;32m   1330\u001b[0m \u001b[0;34m\u001b[0m\u001b[0m\n\u001b[0;32m-> 1331\u001b[0;31m         \u001b[0;32mfor\u001b[0m \u001b[0mstart\u001b[0m\u001b[0;34m,\u001b[0m \u001b[0mend\u001b[0m \u001b[0;32min\u001b[0m \u001b[0mzip\u001b[0m\u001b[0;34m(\u001b[0m\u001b[0mstarts\u001b[0m\u001b[0;34m,\u001b[0m \u001b[0mends\u001b[0m\u001b[0;34m)\u001b[0m\u001b[0;34m:\u001b[0m\u001b[0;34m\u001b[0m\u001b[0;34m\u001b[0m\u001b[0m\n\u001b[0m\u001b[1;32m   1332\u001b[0m             \u001b[0;32myield\u001b[0m \u001b[0mself\u001b[0m\u001b[0;34m.\u001b[0m\u001b[0m_chop\u001b[0m\u001b[0;34m(\u001b[0m\u001b[0msdata\u001b[0m\u001b[0;34m,\u001b[0m \u001b[0mslice\u001b[0m\u001b[0;34m(\u001b[0m\u001b[0mstart\u001b[0m\u001b[0;34m,\u001b[0m \u001b[0mend\u001b[0m\u001b[0;34m)\u001b[0m\u001b[0;34m)\u001b[0m\u001b[0;34m\u001b[0m\u001b[0;34m\u001b[0m\u001b[0m\n\u001b[1;32m   1333\u001b[0m \u001b[0;34m\u001b[0m\u001b[0m\n",
            "\u001b[0;31mKeyboardInterrupt\u001b[0m: "
          ]
        }
      ],
      "source": [
        "embedding_columns = [\"main_pic_embeddings_resnet_v1\", \"name_bert_64\", \"cat_embed\"]\n",
        "\n",
        "\n",
        "contrastive_dataset_train = ContrastiveDataset(\n",
        "    goods_data, symm_pairs(train_pairs),  cat_embed, embedding_columns, mode=True\n",
        ")\n",
        "contrastive_dataloader_train = DataLoader(\n",
        "    contrastive_dataset_train, batch_size=512, shuffle=True, drop_last=False, num_workers=8\n",
        ")\n",
        "\n",
        "# contrastive_dataset_test = ContrastiveDataset(\n",
        "#     goods_data, test_pairs, embedding_columns, mode=True\n",
        "# )\n",
        "# contrastive_dataloader_test = DataLoader(\n",
        "#     contrastive_dataset_test, batch_size=128, shuffle=True, drop_last=False, num_workers=2\n",
        "# )\n",
        "\n",
        "# next(iter(contrastive_dataloader_test))[0].shape"
      ]
    },
    {
      "cell_type": "code",
      "execution_count": null,
      "id": "4b1b67da",
      "metadata": {
        "cellId": "s1wm2jphrh10gjw3av98ls",
        "colab": {
          "base_uri": "https://localhost:8080/"
        },
        "id": "4b1b67da",
        "outputId": "4917b505-7d1d-442c-a0f6-f1733f7d6794"
      },
      "outputs": [
        {
          "data": {
            "text/plain": [
              "(torch.Size([512, 256]),\n",
              " torch.Size([512, 256]),\n",
              " torch.Size([512, 256]),\n",
              " torch.Size([512, 256]),\n",
              " torch.Size([512]))"
            ]
          },
          "execution_count": 9,
          "metadata": {},
          "output_type": "execute_result"
        }
      ],
      "source": [
        "yt = next(iter(contrastive_dataloader_train))\n",
        "yt[0].shape, yt[1].shape, yt[2].shape, yt[3].shape, yt[4].shape"
      ]
    },
    {
      "attachments": {},
      "cell_type": "markdown",
      "id": "7644888d",
      "metadata": {
        "cellId": "8hmealx9wh946wmkeqqznp",
        "execution_id": "85d6b05b-d476-4542-afbe-66586a407d24",
        "id": "7644888d"
      },
      "source": [
        "# Basic train example"
      ]
    },
    {
      "cell_type": "code",
      "execution_count": 10,
      "id": "c39c6587",
      "metadata": {
        "cellId": "v3sv6t44b74rjsewq93wo",
        "id": "c39c6587"
      },
      "outputs": [],
      "source": [
        "import torch\n",
        "import torch.nn as nn\n",
        "import torch.optim as optim\n",
        "from torch.utils.data import DataLoader\n",
        "from torch.optim.lr_scheduler import ExponentialLR\n",
        "\n",
        "\n",
        "from tqdm.notebook import tqdm"
      ]
    },
    {
      "cell_type": "code",
      "execution_count": 11,
      "id": "798209d0",
      "metadata": {
        "cellId": "hftt4a973j5hxwbsb6hmd",
        "colab": {
          "base_uri": "https://localhost:8080/",
          "height": 35
        },
        "id": "798209d0",
        "outputId": "01cc7709-398c-42b4-f3d2-056fa2391f20"
      },
      "outputs": [
        {
          "data": {
            "text/plain": [
              "'cuda'"
            ]
          },
          "execution_count": 11,
          "metadata": {},
          "output_type": "execute_result"
        }
      ],
      "source": [
        "#!g1.1\n",
        "\n",
        "device = \"cuda\" if torch.cuda.is_available() else \"cpu\"\n",
        "device"
      ]
    },
    {
      "cell_type": "code",
      "execution_count": null,
      "id": "ca79b51d",
      "metadata": {
        "cellId": "og2gft5os44sped1le5br",
        "colab": {
          "base_uri": "https://localhost:8080/"
        },
        "id": "ca79b51d",
        "outputId": "c9a76acb-f7c8-46e9-c407-e5719544d4f6"
      },
      "outputs": [],
      "source": [
        "#!g1.1\n",
        "class EncoderModel(nn.Module):\n",
        "    def __init__(self, input_size, hidden_sizes, embedding_size):\n",
        "        super(EncoderModel, self).__init__()\n",
        "\n",
        "        self.input_size = input_size\n",
        "        self.embedding_size = embedding_size\n",
        "        # self.hidden_size = hidden_size\n",
        "\n",
        "        self.fc1 = nn.Linear(input_size, hidden_sizes[0])\n",
        "        self.fc2 = nn.Linear(hidden_sizes[0], hidden_sizes[1])\n",
        "        self.fc3 = nn.Linear(hidden_sizes[1], embedding_size)\n",
        "\n",
        "        self.relu = nn.ReLU()\n",
        "        self.dropout = nn.Dropout(p=0.2)\n",
        "\n",
        "    def forward(self, x):\n",
        "        x = self.relu(self.fc1(x))\n",
        "        x = self.dropout(x)\n",
        "        x = self.relu(self.fc2(x))\n",
        "        x = self.fc3(x)\n",
        "        return x\n",
        "\n",
        "\n",
        "class ProjectorModel(nn.Module):\n",
        "    def __init__(self, input_size, hidden_sizes, output_size):\n",
        "        super(ProjectorModel, self).__init__()\n",
        "\n",
        "        self.input_size = input_size\n",
        "        self.embedding_size = embedding_size\n",
        "        # self.hidden_size = hidden_size\n",
        "\n",
        "        self.fc1 = nn.Linear(input_size, hidden_sizes[0])\n",
        "        self.fc2 = nn.Linear(hidden_sizes[0], hidden_sizes[1])\n",
        "        self.fc3 = nn.Linear(hidden_sizes[1], output_size)\n",
        "\n",
        "        self.relu = nn.ReLU()\n",
        "        self.dropout = nn.Dropout(p=0.2)\n",
        "\n",
        "    def forward(self, x):\n",
        "        x = self.relu(self.fc1(x))\n",
        "        x = self.dropout(x)\n",
        "        x = self.relu(self.fc2(x))\n",
        "        x = self.fc3(x)\n",
        "        return x\n",
        "\n",
        "\n",
        "class ContrastiveModel(nn.Module):\n",
        "    def __init__(\n",
        "        self,\n",
        "        input_size,\n",
        "        hidden_sizes_encoder,\n",
        "        embedding_size,\n",
        "        hidden_sizes_projector,\n",
        "        output_size,\n",
        "    ):\n",
        "        super(ContrastiveModel, self).__init__()\n",
        "\n",
        "        self.encoder = EncoderModel(input_size, hidden_sizes_encoder, embedding_size)\n",
        "        self.projector = ProjectorModel(\n",
        "            embedding_size, hidden_sizes_projector, output_size\n",
        "        )\n",
        "\n",
        "    def forward(self, x):\n",
        "        x = self.encoder(x)\n",
        "        x = self.projector(x)\n",
        "        return x\n",
        "\n",
        "\n",
        "def triplet_loss(anchor, positive, negative, margin=1.0):\n",
        "    distance_positive = torch.norm(anchor - positive, dim=1)\n",
        "    distance_negative = torch.norm(anchor - negative, dim=1)\n",
        "    loss = torch.clamp(distance_positive - distance_negative + margin, min=0.0).mean()\n",
        "    return loss\n",
        "\n",
        "class QuadrupletLoss(torch.nn.Module):\n",
        "    def __init__(self, margin1=2.0, margin2=1.0):\n",
        "        super(QuadrupletLoss, self).__init__()\n",
        "        self.margin1 = margin1\n",
        "        self.margin2 = margin2\n",
        "\n",
        "    def forward(self, anchor, positive, negative1, negative2):\n",
        "\n",
        "        squarred_distance_pos = (anchor - positive).pow(2).sum(1)\n",
        "        squarred_distance_neg = (anchor - negative1).pow(2).sum(1)\n",
        "        squarred_distance_neg_b = (negative1 - negative2).pow(2).sum(1)\n",
        "\n",
        "        quadruplet_loss = \\\n",
        "            nn.functional.relu(self.margin1 + squarred_distance_pos - squarred_distance_neg) \\\n",
        "            + nn.functional.relu(self.margin2 + squarred_distance_pos - squarred_distance_neg_b)\n",
        "\n",
        "        return quadruplet_loss.mean()\n",
        "\n",
        "# Example parameters\n",
        "input_size = 256\n",
        "hidden_sizes_encoder = [64, 64]\n",
        "embedding_size = 64\n",
        "hidden_sizes_projector = [64, 64]\n",
        "output_size = 256\n",
        "learning_rate = 0.001\n",
        "num_epochs = 10\n",
        "\n",
        "# Create an instance of the model\n",
        "\n",
        "\n",
        "\n",
        "# Train loop\n",
        "def train(model, contrastive_dataloader, criterion, optimizer, scheduler, num_epochs):\n",
        "    for epoch in tqdm(range(num_epochs)):\n",
        "        total_loss = 0.0\n",
        "\n",
        "        for original_data, positive_pair, negative_pair_1, negative_pair_2, _ in tqdm(\n",
        "            contrastive_dataloader\n",
        "        ):\n",
        "            # Zero the gradients\n",
        "            optimizer.zero_grad()\n",
        "\n",
        "            # Forward pass\n",
        "            anchor = model(original_data.to(device))\n",
        "            positive = model(positive_pair.to(device))\n",
        "            negative_1 = model(negative_pair_1.to(device))\n",
        "            negative_2 = model(negative_pair_2.to(device))\n",
        "\n",
        "            # Compute the triplet loss\n",
        "            loss = criterion(anchor, positive, negative_1, negative_2)\n",
        "\n",
        "            # Backward pass and optimization\n",
        "            loss.backward()\n",
        "            optimizer.step()\n",
        "\n",
        "            #     print(loss.item())\n",
        "            total_loss += loss.item()\n",
        "\n",
        "        average_loss = total_loss / len(contrastive_dataloader)\n",
        "        scheduler.step()\n",
        "\n",
        "        print(f\"Epoch [{epoch+1}/{num_epochs}], Average Loss: {average_loss:.4f}\")"
      ]
    },
    {
      "cell_type": "code",
      "execution_count": null,
      "id": "c6710908",
      "metadata": {},
      "outputs": [
        {
          "name": "stdout",
          "output_type": "stream",
          "text": [
            "Adjusting learning rate of group 0 to 1.0000e-03.\n"
          ]
        }
      ],
      "source": [
        "model = ContrastiveModel(\n",
        "    input_size=input_size,\n",
        "    hidden_sizes_encoder=hidden_sizes_encoder,\n",
        "    embedding_size=embedding_size,\n",
        "    hidden_sizes_projector=hidden_sizes_projector,\n",
        "    output_size=output_size,\n",
        ").to(device)\n",
        "\n",
        "# Define the optimizer and the loss function\n",
        "optimizer = optim.Adam(model.parameters(), lr=learning_rate)\n",
        "scheduler = ExponentialLR(optimizer, gamma=0.9, verbose=True)\n",
        "criterion = QuadrupletLoss()"
      ]
    },
    {
      "cell_type": "code",
      "execution_count": 426,
      "id": "9767aba8",
      "metadata": {
        "cellId": "256cs6dlcnuodf0fljjpak",
        "colab": {
          "base_uri": "https://localhost:8080/",
          "height": 421,
          "referenced_widgets": [
            "1b3f4e752c554abb9565d455c8c0fb71",
            "74bc64e24d5c4f9a8577180ca35580c8",
            "a20b73c1d3c8418e859d6dcc5f6d7b61",
            "a49a7da603b84bc9bf4fbed4b9992366",
            "4f7171f03c0a4de0a492d05eee24a4a7",
            "3f90c7a77cc541babe54938549647215",
            "90deb11d04ac44498addf6b2a8b51ec7",
            "55ad764d9add4bbc9398de90f9fd96ce",
            "10dce98cff5f4390a0da3f74df534e3c",
            "d264b48fbe3a411f9f94367f7de8a692",
            "5986103e6728401f98b9970ca223bfdc",
            "2d65a4dbbda64ff3a1b529da88651e8b",
            "18bfb3c493414345b340e31b168357ff",
            "5654e7bcd0394496a418e510ec51d49a",
            "589f09aa73bb4362a89b21b031293569",
            "4b8848361bc34398bb1544820362f826",
            "38014ff32c08418f81d6e27e61f9b8d2",
            "3b234a2cde3a4a02bd8d1f97199136af",
            "4d61a6f555324092b9d3ecf15034ef79",
            "732f4c20e32e4afe9d30473cc1c734c5",
            "8f4e19674add419997a9927e0b5a5b51",
            "cfece7df523845828a9812ea816181bb"
          ]
        },
        "id": "9767aba8",
        "outputId": "244f6ccc-13b9-4bc3-94e3-343c61356821"
      },
      "outputs": [
        {
          "name": "stdout",
          "output_type": "stream",
          "text": [
            "Adjusting learning rate of group 0 to 3.4868e-04.\n"
          ]
        },
        {
          "data": {
            "application/vnd.jupyter.widget-view+json": {
              "model_id": "e968f804595f463397a96fddcce4fe7d",
              "version_major": 2,
              "version_minor": 0
            },
            "text/plain": [
              "  0%|          | 0/10 [00:00<?, ?it/s]"
            ]
          },
          "metadata": {},
          "output_type": "display_data"
        },
        {
          "data": {
            "application/vnd.jupyter.widget-view+json": {
              "model_id": "3a882d3502a844dd827224025f5493a5",
              "version_major": 2,
              "version_minor": 0
            },
            "text/plain": [
              "  0%|          | 0/718 [00:00<?, ?it/s]"
            ]
          },
          "metadata": {},
          "output_type": "display_data"
        },
        {
          "name": "stdout",
          "output_type": "stream",
          "text": [
            "Adjusting learning rate of group 0 to 3.1381e-04.\n",
            "Epoch [1/10], Average Loss: 0.7208\n"
          ]
        },
        {
          "data": {
            "application/vnd.jupyter.widget-view+json": {
              "model_id": "1c169176f8094404a20eb017259ef833",
              "version_major": 2,
              "version_minor": 0
            },
            "text/plain": [
              "  0%|          | 0/718 [00:00<?, ?it/s]"
            ]
          },
          "metadata": {},
          "output_type": "display_data"
        },
        {
          "name": "stdout",
          "output_type": "stream",
          "text": [
            "Adjusting learning rate of group 0 to 2.8243e-04.\n",
            "Epoch [2/10], Average Loss: 0.7193\n"
          ]
        },
        {
          "data": {
            "application/vnd.jupyter.widget-view+json": {
              "model_id": "793bec6fdeaf4ab2a8f5dafd4a4347fb",
              "version_major": 2,
              "version_minor": 0
            },
            "text/plain": [
              "  0%|          | 0/718 [00:00<?, ?it/s]"
            ]
          },
          "metadata": {},
          "output_type": "display_data"
        },
        {
          "name": "stdout",
          "output_type": "stream",
          "text": [
            "Adjusting learning rate of group 0 to 2.5419e-04.\n",
            "Epoch [3/10], Average Loss: 0.7214\n"
          ]
        },
        {
          "data": {
            "application/vnd.jupyter.widget-view+json": {
              "model_id": "46a799baa1fe48218f2a7851ec9c774b",
              "version_major": 2,
              "version_minor": 0
            },
            "text/plain": [
              "  0%|          | 0/718 [00:00<?, ?it/s]"
            ]
          },
          "metadata": {},
          "output_type": "display_data"
        },
        {
          "name": "stdout",
          "output_type": "stream",
          "text": [
            "Adjusting learning rate of group 0 to 2.2877e-04.\n",
            "Epoch [4/10], Average Loss: 0.7206\n"
          ]
        },
        {
          "data": {
            "application/vnd.jupyter.widget-view+json": {
              "model_id": "b38b65246ecc4a599190bb409f746eee",
              "version_major": 2,
              "version_minor": 0
            },
            "text/plain": [
              "  0%|          | 0/718 [00:00<?, ?it/s]"
            ]
          },
          "metadata": {},
          "output_type": "display_data"
        },
        {
          "name": "stdout",
          "output_type": "stream",
          "text": [
            "Adjusting learning rate of group 0 to 2.0589e-04.\n",
            "Epoch [5/10], Average Loss: 0.7199\n"
          ]
        },
        {
          "data": {
            "application/vnd.jupyter.widget-view+json": {
              "model_id": "882dd142fe5946fa9b032a7876a021a8",
              "version_major": 2,
              "version_minor": 0
            },
            "text/plain": [
              "  0%|          | 0/718 [00:00<?, ?it/s]"
            ]
          },
          "metadata": {},
          "output_type": "display_data"
        },
        {
          "name": "stdout",
          "output_type": "stream",
          "text": [
            "Adjusting learning rate of group 0 to 1.8530e-04.\n",
            "Epoch [6/10], Average Loss: 0.7174\n"
          ]
        },
        {
          "data": {
            "application/vnd.jupyter.widget-view+json": {
              "model_id": "78609b56485849dba86e8a29a5fbbf92",
              "version_major": 2,
              "version_minor": 0
            },
            "text/plain": [
              "  0%|          | 0/718 [00:00<?, ?it/s]"
            ]
          },
          "metadata": {},
          "output_type": "display_data"
        },
        {
          "name": "stdout",
          "output_type": "stream",
          "text": [
            "Adjusting learning rate of group 0 to 1.6677e-04.\n",
            "Epoch [7/10], Average Loss: 0.7195\n"
          ]
        },
        {
          "data": {
            "application/vnd.jupyter.widget-view+json": {
              "model_id": "6a0c6b8927424f809d387212d129539b",
              "version_major": 2,
              "version_minor": 0
            },
            "text/plain": [
              "  0%|          | 0/718 [00:00<?, ?it/s]"
            ]
          },
          "metadata": {},
          "output_type": "display_data"
        },
        {
          "name": "stdout",
          "output_type": "stream",
          "text": [
            "Adjusting learning rate of group 0 to 1.5009e-04.\n",
            "Epoch [8/10], Average Loss: 0.7188\n"
          ]
        },
        {
          "data": {
            "application/vnd.jupyter.widget-view+json": {
              "model_id": "91284583b08645baa9f076ab847f0e03",
              "version_major": 2,
              "version_minor": 0
            },
            "text/plain": [
              "  0%|          | 0/718 [00:00<?, ?it/s]"
            ]
          },
          "metadata": {},
          "output_type": "display_data"
        },
        {
          "name": "stdout",
          "output_type": "stream",
          "text": [
            "Adjusting learning rate of group 0 to 1.3509e-04.\n",
            "Epoch [9/10], Average Loss: 0.7190\n"
          ]
        },
        {
          "data": {
            "application/vnd.jupyter.widget-view+json": {
              "model_id": "a12c130c7bd0477f955f497ed0895a8d",
              "version_major": 2,
              "version_minor": 0
            },
            "text/plain": [
              "  0%|          | 0/718 [00:00<?, ?it/s]"
            ]
          },
          "metadata": {},
          "output_type": "display_data"
        },
        {
          "name": "stdout",
          "output_type": "stream",
          "text": [
            "Adjusting learning rate of group 0 to 1.2158e-04.\n",
            "Epoch [10/10], Average Loss: 0.7212\n"
          ]
        }
      ],
      "source": [
        "#!g1.1\n",
        "learning_rate = 0.001\n",
        "num_epochs = 10\n",
        "scheduler = ExponentialLR(optimizer, gamma=0.9, verbose=True)\n",
        "train(model, contrastive_dataloader_train, criterion, optimizer, scheduler, num_epochs)"
      ]
    },
    {
      "cell_type": "code",
      "execution_count": null,
      "id": "60f761c0",
      "metadata": {
        "cellId": "ih9rpbuckvdebbt33i6sm7",
        "execution": {
          "iopub.execute_input": "2023-05-25T03:49:36.173112Z",
          "iopub.status.busy": "2023-05-25T03:49:36.172731Z",
          "iopub.status.idle": "2023-05-25T03:49:36.186377Z",
          "shell.execute_reply": "2023-05-25T03:49:36.185166Z",
          "shell.execute_reply.started": "2023-05-25T03:49:36.173079Z"
        },
        "id": "60f761c0"
      },
      "outputs": [],
      "source": [
        "#!g1.1\n",
        "torch.save(model.state_dict(), \"contrastive_ozon_proj.pt\")"
      ]
    },
    {
      "cell_type": "code",
      "execution_count": 16,
      "id": "3af43cd7",
      "metadata": {
        "cellId": "m01xk2iyg6cweuydz54",
        "colab": {
          "base_uri": "https://localhost:8080/",
          "height": 35
        },
        "execution": {
          "iopub.execute_input": "2023-05-25T03:41:00.450350Z",
          "iopub.status.busy": "2023-05-25T03:41:00.449514Z",
          "iopub.status.idle": "2023-05-25T03:41:00.457978Z",
          "shell.execute_reply": "2023-05-25T03:41:00.456929Z",
          "shell.execute_reply.started": "2023-05-25T03:41:00.450317Z"
        },
        "id": "3af43cd7",
        "outputId": "272ab979-deb2-4c39-e805-88a0c1849c35"
      },
      "outputs": [
        {
          "data": {
            "text/html": [
              "Path (<tt>contrastive_ozon_cat.pt</tt>) doesn't exist. It may still be in the process of being generated, or you may have the incorrect path."
            ],
            "text/plain": [
              "/content/contrastive_ozon_cat.pt"
            ]
          },
          "execution_count": 16,
          "metadata": {},
          "output_type": "execute_result"
        }
      ],
      "source": [
        "# from IPython.display import FileLink\n",
        "\n",
        "# FileLink(r\"contrastive_ozon_cat.pt\")"
      ]
    },
    {
      "cell_type": "code",
      "execution_count": 15,
      "id": "b38fcc7c",
      "metadata": {},
      "outputs": [
        {
          "data": {
            "text/plain": [
              "EncoderModel(\n",
              "  (fc1): Linear(in_features=256, out_features=64, bias=True)\n",
              "  (fc2): Linear(in_features=64, out_features=64, bias=True)\n",
              "  (fc3): Linear(in_features=64, out_features=64, bias=True)\n",
              "  (relu): ReLU()\n",
              "  (dropout): Dropout(p=0.2, inplace=False)\n",
              ")"
            ]
          },
          "execution_count": 15,
          "metadata": {},
          "output_type": "execute_result"
        }
      ],
      "source": [
        "model = model.encoder\n",
        "model.to(device)"
      ]
    },
    {
      "cell_type": "code",
      "execution_count": 423,
      "id": "peEq48-_Cm7c",
      "metadata": {
        "id": "peEq48-_Cm7c"
      },
      "outputs": [
        {
          "data": {
            "text/plain": [
              "<All keys matched successfully>"
            ]
          },
          "execution_count": 423,
          "metadata": {},
          "output_type": "execute_result"
        }
      ],
      "source": [
        "model = ContrastiveModel(\n",
        "    input_size=input_size,\n",
        "    hidden_sizes_encoder=hidden_sizes_encoder,\n",
        "    embedding_size=embedding_size,\n",
        "    hidden_sizes_projector=hidden_sizes_projector,\n",
        "    output_size=output_size,\n",
        ")\n",
        "\n",
        "model.load_state_dict(torch.load(\"./contrastive_ozon_proj.pt\"))\n",
        "\n",
        "# leave only encoder\n",
        "model = model.encoder\n",
        "model.to(device);"
      ]
    },
    {
      "cell_type": "code",
      "execution_count": 16,
      "id": "cad44545",
      "metadata": {
        "cellId": "13e01eam7vpcthi0zaphyes",
        "id": "cad44545"
      },
      "outputs": [],
      "source": [
        "def predict(model, dataloader):\n",
        "    model.eval()\n",
        "    y_idxs = []\n",
        "    y_embed = []\n",
        "    for orig, _, _, _, idx in tqdm(dataloader):\n",
        "        embed = model(orig.to(device))\n",
        "        y_idxs.extend([i.detach().cpu().item() for i in idx])\n",
        "        y_embed.extend([[j.item() for j in i.detach().cpu()] for i in embed])\n",
        "    return y_idxs, y_embed"
      ]
    },
    {
      "cell_type": "code",
      "execution_count": 17,
      "id": "Ql2IP3Y2IIR4",
      "metadata": {
        "id": "Ql2IP3Y2IIR4"
      },
      "outputs": [],
      "source": [
        "from sklearn.metrics.pairwise import cosine_similarity\n",
        "\n",
        "\n",
        "def get_pic_features(main_pic_embeddings_1, main_pic_embeddings_2):\n",
        "    \"\"\"Calculate distances percentiles for\n",
        "    pairwise pic distances. Percentiles are useful\n",
        "    when product has several pictures.\n",
        "    \"\"\"\n",
        "\n",
        "    embed = list(\n",
        "        np.abs(\n",
        "            np.array(main_pic_embeddings_1)[None, ...]\n",
        "            - np.array(main_pic_embeddings_2)[None, ...]\n",
        "        )[0]\n",
        "    )\n",
        "\n",
        "    cos_sim = cosine_similarity(\n",
        "        np.array(main_pic_embeddings_1)[None, ...],\n",
        "        np.array(main_pic_embeddings_2)[None, ...],\n",
        "    )[0][0]\n",
        "\n",
        "    # pair_features = []\n",
        "    # pair_features += np.percentile(dist_m, percentiles).tolist()\n",
        "\n",
        "    return embed, cos_sim\n",
        "\n",
        "def get_cat_diff(x, y):\n",
        "    return (len(nx.bidirectional_shortest_path(G, int(x), int(y))) - 1) // 2\n",
        "\n",
        "def make_catboostable(pairs, y_idxs, y_embed):\n",
        "    embed = pd.DataFrame({\"variant\": y_idxs, \"embed\": y_embed})\n",
        "    classif = pairs.merge(\n",
        "        embed, left_on=\"variantid1\", right_on=\"variant\", how=\"left\", suffixes=[\"\", \"_1\"]\n",
        "    )\n",
        "    classif = classif.merge(\n",
        "        embed, left_on=\"variantid2\", right_on=\"variant\", how=\"left\", suffixes=[\"\", \"_2\"]\n",
        "    )\n",
        "    classif.drop([\"variant\", \"variant_2\"], axis=1, inplace=True)\n",
        "\n",
        "    classif = classif.merge(\n",
        "        goods_data[[\"variantid\", \"categories\", \"cat_encoded\"]],\n",
        "        left_on=\"variantid1\",\n",
        "        right_on=\"variantid\",\n",
        "        how=\"left\",\n",
        "        suffixes=[\"\", \"_1\"],\n",
        "    )\n",
        "    classif = classif.merge(\n",
        "        goods_data[[\"variantid\", \"cat_encoded\"]],\n",
        "        left_on=\"variantid2\",\n",
        "        right_on=\"variantid\",\n",
        "        how=\"left\",\n",
        "        suffixes=[\"\", \"_2\"],\n",
        "    )\n",
        "    classif[\"cat3\"] = classif[\"categories\"].apply(lambda x: json.loads(x)[\"3\"])\n",
        "    cat3_counts = classif[\"cat3\"].value_counts().to_dict()\n",
        "    classif[\"cat3_grouped\"] = classif[\"cat3\"].apply(\n",
        "        lambda x: x if cat3_counts[x] > 1000 else \"rest\"\n",
        "    )\n",
        "  #  display(classif.info())\n",
        "\n",
        "\n",
        "    classif[\"cat_dif\"] = classif[[\"cat_encoded\", \"cat_encoded_2\"]].apply(\n",
        "        lambda x: get_cat_diff(*x), axis=1\n",
        "    )\n",
        "\n",
        "    classif[\n",
        "        [\n",
        "            \"embed_dif\",\n",
        "            \"cos_sim\",\n",
        "        ]\n",
        "    ] = classif[\n",
        "        [\"embed\", \"embed_2\"]\n",
        "    ].apply(lambda x: pd.Series(get_pic_features(*x)), axis=1)\n",
        "\n",
        "    dikt_categories = {\n",
        "        i: j\n",
        "        for i, j in zip(\n",
        "            sorted(classif.cat_encoded.unique()),\n",
        "            range(1, classif.cat_encoded.nunique() + 1),\n",
        "        )\n",
        "    }\n",
        "    classif[\"category\"] = classif.cat_encoded.map(dikt_categories)\n",
        "    classif.category = np.where(classif.cat3_grouped == \"rest\", 0, classif.category)\n",
        "    embeddings = pd.DataFrame(classif[\"embed_dif\"].tolist())\n",
        "    data = pd.concat([classif, embeddings], axis=1)\n",
        "    data = data[\n",
        "        [\"target\", \"variantid1\", \"variantid2\", \"cat3_grouped\", \"cos_sim\", \"cat_dif\", 'predict_labels', 'category']\n",
        "        + list(embeddings.columns)\n",
        "    ]  # , 'category'\n",
        "\n",
        "    return data"
      ]
    },
    {
      "cell_type": "code",
      "execution_count": 18,
      "id": "2797ba49",
      "metadata": {},
      "outputs": [
        {
          "data": {
            "text/plain": [
              "(True, True)"
            ]
          },
          "execution_count": 18,
          "metadata": {},
          "output_type": "execute_result"
        }
      ],
      "source": [
        "import re\n",
        "\n",
        "def is_digital(word):\n",
        "    for w in word:\n",
        "        if w.isdigit():\n",
        "            return True\n",
        "    return False\n",
        "\n",
        "def is_english(word):\n",
        "    if re.search('[a-zA-Z]', word):\n",
        "        return True\n",
        "    return False\n",
        "\n",
        "def is_upper(word):\n",
        "    return word == word.upper()\n",
        "\n",
        "def is_special(word):\n",
        "    return (is_digital(word) or is_english(word) or is_upper(word)) and len(word) > 2\n",
        "\n",
        "is_english('выds'), is_digital('AR-96')"
      ]
    },
    {
      "cell_type": "code",
      "execution_count": 19,
      "id": "ea8746a7",
      "metadata": {},
      "outputs": [
        {
          "data": {
            "text/plain": [
              "'dell latitude 5421 54217950'"
            ]
          },
          "execution_count": 19,
          "metadata": {},
          "output_type": "execute_result"
        }
      ],
      "source": [
        "def extract_bullshit(name, return_str=False):\n",
        "    name = re.sub(r'(\\(|\\)|\\.|\\,|-)', '', name)\n",
        "\n",
        "    words = name.split()\n",
        "\n",
        "    sp_words = [w.lower() for w in words if is_special(w)]\n",
        "\n",
        "    if return_str:\n",
        "        return \" \".join(sp_words)\n",
        "    else:\n",
        "        return sp_words\n",
        "\n",
        "\n",
        "extract_bullshit('Ноутбук Dell Latitude 5421, (5421-7950)', return_str=True)"
      ]
    },
    {
      "cell_type": "code",
      "execution_count": 20,
      "id": "fe66ae06",
      "metadata": {},
      "outputs": [
        {
          "data": {
            "text/plain": [
              "True"
            ]
          },
          "execution_count": 20,
          "metadata": {},
          "output_type": "execute_result"
        }
      ],
      "source": [
        "def check_inside(query, db):\n",
        "    for q in query:\n",
        "        if q not in db:\n",
        "            return False\n",
        "    return True\n",
        "\n",
        "def compare_bs(words_1, words_2):\n",
        "    if type(words_1) == str:\n",
        "        raise ValueError\n",
        "    fins = check_inside(words_1, words_2)\n",
        "    sinf = check_inside(words_2, words_1)\n",
        "\n",
        "    # print('fdsafas',fins, sinf)\n",
        "\n",
        "    if (not fins) and (not sinf):\n",
        "        return False\n",
        "    return True\n",
        "\n",
        "compare_bs('Samsung Galaxy A12 3/32'.split(), 'Samsung SM-A127F/DSN Galaxy A12 2021 32gb 3/32'.split())"
      ]
    },
    {
      "cell_type": "code",
      "execution_count": 21,
      "id": "b8ec7e2c",
      "metadata": {},
      "outputs": [],
      "source": [
        "def get_pred(id, verbose=False):\n",
        "    col = goods_pairs_ext.iloc[id]\n",
        "    row_1 = goods_data[goods_data['variantid'] == col['variantid1']].iloc[0]\n",
        "    row_2 = goods_data[goods_data['variantid'] == col['variantid2']].iloc[0]\n",
        "\n",
        "    true_ans = col['target']\n",
        "\n",
        "    nam_1 = row_1['name']\n",
        "    nam_2 = row_2['name']\n",
        "\n",
        "    bs_1 = extract_bullshit(nam_1)\n",
        "    bs_2 = extract_bullshit(nam_2)\n",
        "\n",
        "    \n",
        "    my_feat = compare_bs(bs_1, bs_2)\n",
        "\n",
        "    if verbose and my_feat != true_ans:\n",
        "        print('--|||---')\n",
        "        print(bs_1)\n",
        "        print(bs_2)\n",
        "        print('--|||---')\n",
        "\n",
        "\n",
        "    return true_ans, my_feat"
      ]
    },
    {
      "cell_type": "code",
      "execution_count": 22,
      "id": "70e3e204",
      "metadata": {},
      "outputs": [
        {
          "data": {
            "application/vnd.jupyter.widget-view+json": {
              "model_id": "748d704c72e34dc9b356559e202e9c63",
              "version_major": 2,
              "version_minor": 0
            },
            "text/plain": [
              "  0%|          | 0/468759 [00:00<?, ?it/s]"
            ]
          },
          "metadata": {},
          "output_type": "display_data"
        }
      ],
      "source": [
        "\n",
        "predict_labels = []\n",
        "for i in tqdm(range(goods_pairs_ext.shape[0])):\n",
        "    t, a = get_pred(i)\n",
        "    predict_labels.append(a)"
      ]
    },
    {
      "cell_type": "code",
      "execution_count": 26,
      "id": "f4e8d1e2",
      "metadata": {},
      "outputs": [],
      "source": [
        "goods_pairs_ext['predict_labels'] = predict_labels"
      ]
    },
    {
      "cell_type": "code",
      "execution_count": 27,
      "id": "16978c58",
      "metadata": {},
      "outputs": [],
      "source": [
        "train_pairs = train_pairs.merge(goods_pairs_ext[['variantid1', 'variantid2', 'predict_labels']], on = ['variantid1', 'variantid2'], how = 'left', )\n"
      ]
    },
    {
      "cell_type": "code",
      "execution_count": 28,
      "id": "795c181d",
      "metadata": {},
      "outputs": [],
      "source": [
        "test_pairs = test_pairs.merge(goods_pairs_ext[['variantid1', 'variantid2', 'predict_labels']], on = ['variantid1', 'variantid2'], how = 'left', )"
      ]
    },
    {
      "cell_type": "code",
      "execution_count": null,
      "id": "be1144ee",
      "metadata": {},
      "outputs": [
        {
          "data": {
            "text/html": [
              "<div>\n",
              "<style scoped>\n",
              "    .dataframe tbody tr th:only-of-type {\n",
              "        vertical-align: middle;\n",
              "    }\n",
              "\n",
              "    .dataframe tbody tr th {\n",
              "        vertical-align: top;\n",
              "    }\n",
              "\n",
              "    .dataframe thead th {\n",
              "        text-align: right;\n",
              "    }\n",
              "</style>\n",
              "<table border=\"1\" class=\"dataframe\">\n",
              "  <thead>\n",
              "    <tr style=\"text-align: right;\">\n",
              "      <th></th>\n",
              "      <th>target</th>\n",
              "      <th>variantid1</th>\n",
              "      <th>variantid2</th>\n",
              "      <th>predict_labels</th>\n",
              "    </tr>\n",
              "  </thead>\n",
              "  <tbody>\n",
              "    <tr>\n",
              "      <th>0</th>\n",
              "      <td>1</td>\n",
              "      <td>53062686</td>\n",
              "      <td>536165289</td>\n",
              "      <td>False</td>\n",
              "    </tr>\n",
              "    <tr>\n",
              "      <th>1</th>\n",
              "      <td>1</td>\n",
              "      <td>53602615</td>\n",
              "      <td>587809782</td>\n",
              "      <td>False</td>\n",
              "    </tr>\n",
              "    <tr>\n",
              "      <th>2</th>\n",
              "      <td>0</td>\n",
              "      <td>67934231</td>\n",
              "      <td>193416714</td>\n",
              "      <td>False</td>\n",
              "    </tr>\n",
              "    <tr>\n",
              "      <th>3</th>\n",
              "      <td>1</td>\n",
              "      <td>78509805</td>\n",
              "      <td>90849346</td>\n",
              "      <td>True</td>\n",
              "    </tr>\n",
              "    <tr>\n",
              "      <th>4</th>\n",
              "      <td>1</td>\n",
              "      <td>79077690</td>\n",
              "      <td>723024492</td>\n",
              "      <td>False</td>\n",
              "    </tr>\n",
              "    <tr>\n",
              "      <th>...</th>\n",
              "      <td>...</td>\n",
              "      <td>...</td>\n",
              "      <td>...</td>\n",
              "      <td>...</td>\n",
              "    </tr>\n",
              "    <tr>\n",
              "      <th>67543</th>\n",
              "      <td>0</td>\n",
              "      <td>548704712</td>\n",
              "      <td>548786423</td>\n",
              "      <td>False</td>\n",
              "    </tr>\n",
              "    <tr>\n",
              "      <th>67544</th>\n",
              "      <td>0</td>\n",
              "      <td>591552100</td>\n",
              "      <td>805145628</td>\n",
              "      <td>False</td>\n",
              "    </tr>\n",
              "    <tr>\n",
              "      <th>67545</th>\n",
              "      <td>0</td>\n",
              "      <td>606987405</td>\n",
              "      <td>769592131</td>\n",
              "      <td>True</td>\n",
              "    </tr>\n",
              "    <tr>\n",
              "      <th>67546</th>\n",
              "      <td>0</td>\n",
              "      <td>644190967</td>\n",
              "      <td>646819484</td>\n",
              "      <td>False</td>\n",
              "    </tr>\n",
              "    <tr>\n",
              "      <th>67547</th>\n",
              "      <td>0</td>\n",
              "      <td>414618960</td>\n",
              "      <td>782715268</td>\n",
              "      <td>False</td>\n",
              "    </tr>\n",
              "  </tbody>\n",
              "</table>\n",
              "<p>67548 rows × 4 columns</p>\n",
              "</div>"
            ],
            "text/plain": [
              "       target  variantid1  variantid2  predict_labels\n",
              "0           1    53062686   536165289           False\n",
              "1           1    53602615   587809782           False\n",
              "2           0    67934231   193416714           False\n",
              "3           1    78509805    90849346            True\n",
              "4           1    79077690   723024492           False\n",
              "...       ...         ...         ...             ...\n",
              "67543       0   548704712   548786423           False\n",
              "67544       0   591552100   805145628           False\n",
              "67545       0   606987405   769592131            True\n",
              "67546       0   644190967   646819484           False\n",
              "67547       0   414618960   782715268           False\n",
              "\n",
              "[67548 rows x 4 columns]"
            ]
          },
          "execution_count": 448,
          "metadata": {},
          "output_type": "execute_result"
        }
      ],
      "source": [
        "test_pairs"
      ]
    },
    {
      "cell_type": "code",
      "execution_count": 29,
      "id": "bd196e25",
      "metadata": {},
      "outputs": [
        {
          "data": {
            "application/vnd.jupyter.widget-view+json": {
              "model_id": "3fa15c9f71e44ac5b993ff0aea877091",
              "version_major": 2,
              "version_minor": 0
            },
            "text/plain": [
              "  0%|          | 0/717 [00:00<?, ?it/s]"
            ]
          },
          "metadata": {},
          "output_type": "display_data"
        }
      ],
      "source": [
        "y_idxs, y_embed = predict(model, contrastive_dataloader_train)\n",
        "train_poo = make_catboostable(train_pairs, y_idxs, y_embed)\n",
        "\n",
        "#del contrastive_dataset_train \n",
        "#del contrastive_dataloader_train"
      ]
    },
    {
      "cell_type": "code",
      "execution_count": 30,
      "id": "a074fa7e",
      "metadata": {},
      "outputs": [],
      "source": [
        "contrastive_dataset_test = ContrastiveDataset(\n",
        "    goods_data, symm_pairs(test_pairs), cat_embed, embedding_columns, mode=False\n",
        ")\n",
        "contrastive_dataloader_test = DataLoader(\n",
        "    contrastive_dataset_test, batch_size=128, shuffle=True, drop_last=False, num_workers=2\n",
        ")"
      ]
    },
    {
      "cell_type": "code",
      "execution_count": 31,
      "id": "8fd75ca4",
      "metadata": {},
      "outputs": [
        {
          "data": {
            "application/vnd.jupyter.widget-view+json": {
              "model_id": "d43c00678c404f6c8be85a32c902d525",
              "version_major": 2,
              "version_minor": 0
            },
            "text/plain": [
              "  0%|          | 0/702 [00:00<?, ?it/s]"
            ]
          },
          "metadata": {},
          "output_type": "display_data"
        }
      ],
      "source": [
        "y_idxs, y_embed = predict(model, contrastive_dataloader_test)\n",
        "test_poo = make_catboostable(test_pairs, y_idxs, y_embed)\n",
        "\n",
        "#del contrastive_dataset_test\n",
        "#del contrastive_dataloader_test"
      ]
    },
    {
      "cell_type": "code",
      "execution_count": 38,
      "id": "0c8768eb",
      "metadata": {},
      "outputs": [],
      "source": [
        "train_poo.columns.to_list().remove('category')"
      ]
    },
    {
      "cell_type": "code",
      "execution_count": 39,
      "id": "e79b5658",
      "metadata": {},
      "outputs": [],
      "source": [
        "columns= train_poo.columns.to_list()\n",
        "columns.remove('category')\n",
        "train_data = train_poo[columns]#[[\"target\", \"variantid1\", \"variantid2\", \"cat3_grouped\", \"cos_sim\", \"cat_dif\", 'predict_labels']]#[['target', 'variantid1', 'variantid2', 'predict_labels', 'cat3_grouped']]\n",
        "test_data = test_poo[columns]#[[\"target\", \"variantid1\", \"variantid2\", \"cat3_grouped\", \"cos_sim\", \"cat_dif\", 'predict_labels']]#[['target', 'variantid1', 'variantid2', 'predict_labels', 'cat3_grouped']]"
      ]
    },
    {
      "cell_type": "code",
      "execution_count": 40,
      "id": "8690d9f0",
      "metadata": {
        "cellId": "ablwdt9izelwmpi5zcr3b",
        "execution": {
          "iopub.execute_input": "2023-05-25T09:35:50.161038Z",
          "iopub.status.busy": "2023-05-25T09:35:50.160550Z",
          "iopub.status.idle": "2023-05-25T09:35:54.687862Z",
          "shell.execute_reply": "2023-05-25T09:35:54.686811Z",
          "shell.execute_reply.started": "2023-05-25T09:35:50.160978Z"
        },
        "id": "8690d9f0"
      },
      "outputs": [],
      "source": [
        "from catboost import CatBoostClassifier, Pool\n",
        "from sklearn.model_selection import train_test_split\n",
        "from sklearn.preprocessing import StandardScaler\n",
        "\n",
        "# X_train, X_test = train_test_split(\n",
        "#     data, test_size=0.3, random_state=42, stratify=classif[[\"target\", \"cat3_grouped\"]]\n",
        "# )\n",
        "\n",
        "X_train, X_test = train_data, test_data\n",
        "\n",
        "y_test = X_test[\n",
        "    [\n",
        "        \"target\",\n",
        "        \"variantid1\",\n",
        "        \"variantid2\",\n",
        "    ]\n",
        "]\n",
        "cat_test = X_test[\"cat3_grouped\"]\n",
        "X_test = X_test.drop([\"target\", \"cat3_grouped\"], axis=1)\n",
        "\n",
        "y_train = X_train[\"target\"]\n",
        "cat_train = X_train[\"cat3_grouped\"]\n",
        "X_train = X_train.drop(\n",
        "    [\"target\", \"cat3_grouped\", \"variantid1\", \"variantid2\"], axis=1\n",
        ")  # ,\n",
        "# scaler = StandardScaler()\n",
        "# X_train_sc = scaler.fit_transform(X_train)\n",
        "# X_test_sc =scaler.transform(X_test.drop([\"variantid1\", \"variantid2\"], axis=1))\n",
        "train_pool = Pool(\n",
        "    data=X_train,\n",
        "    label=y_train,\n",
        ")\n",
        "eval_pool = Pool(\n",
        "    data=X_test.drop([\"variantid1\", \"variantid2\"], axis=1), label=y_test[\"target\"]\n",
        ")"
      ]
    },
    {
      "cell_type": "code",
      "execution_count": null,
      "id": "6fdc59ff",
      "metadata": {
        "cellId": "42pkvub9alw0uo5b32rdxlq",
        "execution": {
          "iopub.execute_input": "2023-05-25T08:07:16.449878Z",
          "iopub.status.busy": "2023-05-25T08:07:16.447119Z",
          "iopub.status.idle": "2023-05-25T08:07:17.075416Z",
          "shell.execute_reply": "2023-05-25T08:07:17.074286Z",
          "shell.execute_reply.started": "2023-05-25T08:07:16.449837Z"
        },
        "id": "6fdc59ff"
      },
      "outputs": [],
      "source": [
        "# tr = list(set(X_train.variantid1.to_list() + X_train.variantid2.to_list()))\n",
        "# X_test[X_test.variantid1.isin(tr)].shape, X_test.shape"
      ]
    },
    {
      "cell_type": "code",
      "execution_count": 182,
      "id": "098c4471",
      "metadata": {
        "cellId": "377lekse0kkfuxxziukp3c",
        "execution": {
          "iopub.execute_input": "2023-05-25T07:27:39.684112Z",
          "iopub.status.busy": "2023-05-25T07:27:39.683738Z",
          "iopub.status.idle": "2023-05-25T07:27:39.689714Z",
          "shell.execute_reply": "2023-05-25T07:27:39.688734Z",
          "shell.execute_reply.started": "2023-05-25T07:27:39.684062Z"
        },
        "id": "098c4471"
      },
      "outputs": [
        {
          "name": "stderr",
          "output_type": "stream",
          "text": [
            "/home/andreychuk/.venv/lib/python3.7/site-packages/sklearn/utils/validation.py:1692: FutureWarning: Feature names only support names that are all strings. Got feature names with dtypes: ['int', 'str']. An error will be raised in 1.2.\n",
            "  FutureWarning,\n"
          ]
        },
        {
          "data": {
            "text/plain": [
              "LogisticRegression()"
            ]
          },
          "execution_count": 182,
          "metadata": {},
          "output_type": "execute_result"
        }
      ],
      "source": [
        "# from sklearn.linear_model import LogisticRegression\n",
        "# model_cat = LogisticRegression(penalty='l2')\n",
        "# model_cat.fit(X_train, y_train)"
      ]
    },
    {
      "cell_type": "code",
      "execution_count": 42,
      "id": "d58f9d08",
      "metadata": {
        "cellId": "8o6p7u5p6choe3zfiq2cf",
        "colab": {
          "base_uri": "https://localhost:8080/",
          "height": 198,
          "referenced_widgets": [
            "461666bdc3ef4440b6dbf66a6c7ba1aa"
          ]
        },
        "execution": {
          "iopub.execute_input": "2023-05-25T09:35:54.689874Z",
          "iopub.status.busy": "2023-05-25T09:35:54.689501Z",
          "iopub.status.idle": "2023-05-25T09:36:08.338192Z",
          "shell.execute_reply": "2023-05-25T09:36:08.337275Z",
          "shell.execute_reply.started": "2023-05-25T09:35:54.689842Z"
        },
        "id": "d58f9d08",
        "outputId": "44202338-d442-460d-c350-306092c8fb1c"
      },
      "outputs": [
        {
          "data": {
            "application/vnd.jupyter.widget-view+json": {
              "model_id": "a93fc569d1cd4ce2a55f35102bf98371",
              "version_major": 2,
              "version_minor": 0
            },
            "text/plain": [
              "MetricVisualizer(layout=Layout(align_self='stretch', height='500px'))"
            ]
          },
          "metadata": {},
          "output_type": "display_data"
        },
        {
          "name": "stdout",
          "output_type": "stream",
          "text": [
            "Learning rate set to 0.13944\n",
            "0:\tlearn: 0.6581481\ttest: 0.6732871\tbest: 0.6732871 (0)\ttotal: 50.1ms\tremaining: 50s\n"
          ]
        },
        {
          "name": "stderr",
          "output_type": "stream",
          "text": [
            "Warning: Overfitting detector is active, thus evaluation metric is calculated on every iteration. 'metric_period' is ignored for evaluation metric.\n"
          ]
        },
        {
          "name": "stdout",
          "output_type": "stream",
          "text": [
            "100:\tlearn: 0.5061871\ttest: 0.5990765\tbest: 0.5990765 (100)\ttotal: 3.01s\tremaining: 26.8s\n",
            "200:\tlearn: 0.4904535\ttest: 0.5931003\tbest: 0.5930604 (197)\ttotal: 5.95s\tremaining: 23.7s\n",
            "300:\tlearn: 0.4806066\ttest: 0.5903105\tbest: 0.5902945 (298)\ttotal: 8.9s\tremaining: 20.7s\n",
            "400:\tlearn: 0.4727428\ttest: 0.5883312\tbest: 0.5883172 (397)\ttotal: 11.8s\tremaining: 17.6s\n",
            "500:\tlearn: 0.4657859\ttest: 0.5870119\tbest: 0.5869433 (492)\ttotal: 14.7s\tremaining: 14.7s\n",
            "600:\tlearn: 0.4596632\ttest: 0.5860539\tbest: 0.5860159 (591)\ttotal: 17.7s\tremaining: 11.7s\n",
            "700:\tlearn: 0.4541516\ttest: 0.5849852\tbest: 0.5849852 (700)\ttotal: 20.6s\tremaining: 8.79s\n",
            "800:\tlearn: 0.4489130\ttest: 0.5839758\tbest: 0.5839441 (795)\ttotal: 23.5s\tremaining: 5.85s\n",
            "900:\tlearn: 0.4440594\ttest: 0.5832232\tbest: 0.5832162 (899)\ttotal: 26.5s\tremaining: 2.91s\n",
            "999:\tlearn: 0.4395932\ttest: 0.5828235\tbest: 0.5828235 (999)\ttotal: 29.4s\tremaining: 0us\n",
            "\n",
            "bestTest = 0.5828234909\n",
            "bestIteration = 999\n",
            "\n"
          ]
        },
        {
          "data": {
            "text/plain": [
              "<catboost.core.CatBoostClassifier at 0x7f92bd30ef10>"
            ]
          },
          "execution_count": 42,
          "metadata": {},
          "output_type": "execute_result"
        }
      ],
      "source": [
        "model_cat = CatBoostClassifier()\n",
        "\n",
        "model_cat.fit(\n",
        "    train_pool,\n",
        "    eval_set=eval_pool,\n",
        "    #   n_jobs=10,\n",
        "    plot=True,\n",
        "    verbose=True,\n",
        "    use_best_model=True,\n",
        "    early_stopping_rounds=50,\n",
        "    metric_period=100,\n",
        ")"
      ]
    },
    {
      "cell_type": "code",
      "execution_count": 43,
      "id": "795bc0ae",
      "metadata": {
        "cellId": "ma08m3t67b82mpnhne8a0b",
        "colab": {
          "base_uri": "https://localhost:8080/"
        },
        "execution": {
          "iopub.execute_input": "2023-05-25T09:37:54.288617Z",
          "iopub.status.busy": "2023-05-25T09:37:54.287553Z",
          "iopub.status.idle": "2023-05-25T09:37:54.298844Z",
          "shell.execute_reply": "2023-05-25T09:37:54.297886Z",
          "shell.execute_reply.started": "2023-05-25T09:37:54.288583Z"
        },
        "id": "795bc0ae",
        "outputId": "1bb2e5bc-a51d-4739-a0d3-c0b97140eb8d"
      },
      "outputs": [
        {
          "name": "stdout",
          "output_type": "stream",
          "text": [
            "cos_sim 7.989455334962933\n",
            "cat_dif 0.8667592354165939\n",
            "predict_labels 15.30422965863313\n",
            "0 0.5508892554024496\n",
            "1 1.4750457096229603\n",
            "2 0.9327112618012867\n",
            "3 0.8422346937255075\n",
            "4 0.5757378150153328\n",
            "5 1.9590648125914387\n",
            "6 1.6003668773516633\n",
            "7 1.2603212714838947\n",
            "8 0.6630650183293693\n",
            "9 1.9533806774931806\n",
            "10 0.857615530556013\n",
            "11 1.2208884892901308\n",
            "12 1.4178180570623977\n",
            "13 1.4661436157070538\n",
            "14 1.7578937803258523\n",
            "15 0.6294791230315098\n",
            "16 0.7417505187760624\n",
            "17 0.7704485356302887\n",
            "18 1.2346374041862598\n",
            "19 1.2053089672149861\n",
            "20 1.133184952341288\n",
            "21 1.9849732750346882\n",
            "22 1.3627691439381535\n",
            "23 0.941611399209037\n",
            "24 0.7312344836485364\n",
            "25 0.6688108683252156\n",
            "26 0.7518983936598224\n",
            "27 1.4865964586691967\n",
            "28 1.3332710432865122\n",
            "29 0.7566370080419762\n",
            "30 2.680809312439084\n",
            "31 0.8880985420461522\n",
            "32 0.9568887635006981\n",
            "33 1.7844531693627443\n",
            "34 0.6476732948942516\n",
            "35 0.595993565057454\n",
            "36 1.6790129116688302\n",
            "37 1.8995438464006738\n",
            "38 0.8852896635732314\n",
            "39 0.650585548628163\n",
            "40 0.848315765626206\n",
            "41 0.9510221699809398\n",
            "42 1.1663635193251811\n",
            "43 0.8142595417070302\n",
            "44 0.8700442223887218\n",
            "45 1.3341063372062394\n",
            "46 1.285986124273819\n",
            "47 1.2086631301770725\n",
            "48 1.1775282194190915\n",
            "49 1.45685746217255\n",
            "50 1.6080300680077804\n",
            "51 2.137622705949828\n",
            "52 1.2480778714740666\n",
            "53 0.48902294839094657\n",
            "54 1.0311558465444306\n",
            "55 0.8834400678014167\n",
            "56 0.6808574745039309\n",
            "57 1.824046230184812\n",
            "58 0.8004960684420016\n",
            "59 2.3337220248422477\n",
            "60 0.7213627304756334\n",
            "61 0.9816015391814179\n",
            "62 1.507153849395119\n",
            "63 1.545682795193502\n"
          ]
        }
      ],
      "source": [
        "for i, j in {\n",
        "    i: j for i, j in zip(X_train.columns, model_cat.get_feature_importance())\n",
        "}.items():\n",
        "    print(i, j)"
      ]
    },
    {
      "cell_type": "code",
      "execution_count": 44,
      "id": "0859476e",
      "metadata": {},
      "outputs": [],
      "source": [
        "import numpy as np\n",
        "import pandas as pd\n",
        "from sklearn.metrics import precision_recall_curve, auc\n",
        "\n",
        "\n",
        "def pr_auc_macro(\n",
        "    target_df: pd.DataFrame,\n",
        "    predictions_df: pd.DataFrame,\n",
        "    prec_level: float = 0.75,\n",
        "    cat_column: str = \"cat3_grouped\",\n",
        "    cat_df: pd.DataFrame = cat_test\n",
        ") -> float:\n",
        "\n",
        "    df = target_df.merge(predictions_df, on=[\"variantid1\", \"variantid2\"])\n",
        "\n",
        "    y_true = df[\"target\"]\n",
        "    y_pred = df[\"scores\"]\n",
        "    categories = cat_df\n",
        "\n",
        "    weights = []\n",
        "    pr_aucs = []\n",
        "\n",
        "    unique_cats, counts = np.unique(categories, return_counts=True)\n",
        "\n",
        "    # calculate metric for each big category\n",
        "    for i, category in enumerate(unique_cats):\n",
        "        # take just a certain category\n",
        "        cat_idx = np.where(categories == category)[0]\n",
        "        y_pred_cat = y_pred[cat_idx]\n",
        "        y_true_cat = y_true[cat_idx]\n",
        "\n",
        "        # if there is no matches in the category then PRAUC=0\n",
        "        if sum(y_true_cat) == 0:\n",
        "            pr_aucs.append(0)\n",
        "            weights.append(counts[i] / len(categories))\n",
        "            continue\n",
        "        \n",
        "        # get coordinates (x, y) for (recall, precision) of PR-curve\n",
        "        y, x, _ = precision_recall_curve(y_true_cat, y_pred_cat)\n",
        "        \n",
        "        # reverse the lists so that x's are in ascending order (left to right)\n",
        "        y = y[::-1]\n",
        "        x = x[::-1]\n",
        "        \n",
        "        # get indices for x-coordinate (recall) where y-coordinate (precision) \n",
        "        # is higher than precision level (75% for our task)\n",
        "        good_idx = np.where(y >= prec_level)[0]\n",
        "        \n",
        "        # if there are more than one such x's (at least one is always there, \n",
        "        # it's x=0 (recall=0)) we get a grid from x=0, to the rightest x \n",
        "        # with acceptable precision\n",
        "        if len(good_idx) > 1:\n",
        "            gt_prec_level_idx = np.arange(0, good_idx[-1] + 1)\n",
        "        # if there is only one such x, then we have zeros in the top scores \n",
        "        # and the curve simply goes down sharply at x=0 and does not rise \n",
        "        # above the required precision: PRAUC=0\n",
        "        else:\n",
        "            pr_aucs.append(0)\n",
        "            weights.append(counts[i] / len(categories))\n",
        "            continue\n",
        "        \n",
        "        # calculate category weight anyway\n",
        "        weights.append(counts[i] / len(categories))\n",
        "        # calculate PRAUC for all points where the rightest x \n",
        "        # still has required precision \n",
        "        try:\n",
        "            pr_auc_prec_level = auc(x[gt_prec_level_idx], y[gt_prec_level_idx])\n",
        "            if not np.isnan(pr_auc_prec_level):\n",
        "                pr_aucs.append(pr_auc_prec_level)\n",
        "        except ValueError:\n",
        "            pr_aucs.append(0)\n",
        "            \n",
        "    return np.average(pr_aucs, weights=weights)\n"
      ]
    },
    {
      "cell_type": "code",
      "execution_count": 45,
      "id": "0e36efab",
      "metadata": {
        "cellId": "zu9qik6zi7h3j8uqmvswqo",
        "execution": {
          "iopub.execute_input": "2023-05-25T09:38:09.364067Z",
          "iopub.status.busy": "2023-05-25T09:38:09.363692Z",
          "iopub.status.idle": "2023-05-25T09:38:09.464170Z",
          "shell.execute_reply": "2023-05-25T09:38:09.463175Z",
          "shell.execute_reply.started": "2023-05-25T09:38:09.364037Z"
        },
        "id": "0e36efab"
      },
      "outputs": [],
      "source": [
        "X_test[\"scores\"] = model_cat.predict_proba(\n",
        "    X_test.drop([\"variantid1\", \"variantid2\"], axis=1)\n",
        ")[:, 1]"
      ]
    },
    {
      "cell_type": "code",
      "execution_count": 46,
      "id": "2d1ed208",
      "metadata": {
        "cellId": "f8vfe2dviuqx0fu7ztkj",
        "execution": {
          "iopub.execute_input": "2023-05-25T09:38:09.775154Z",
          "iopub.status.busy": "2023-05-25T09:38:09.774798Z",
          "iopub.status.idle": "2023-05-25T09:38:09.942976Z",
          "shell.execute_reply": "2023-05-25T09:38:09.941826Z",
          "shell.execute_reply.started": "2023-05-25T09:38:09.775125Z"
        },
        "id": "2d1ed208"
      },
      "outputs": [],
      "source": [
        "X_train[\"scores\"] = model_cat.predict_proba(X_train)[:, 1]"
      ]
    },
    {
      "cell_type": "code",
      "execution_count": 47,
      "id": "1f42e73f",
      "metadata": {
        "cellId": "dpk7njltk3jksk0znob8bh",
        "execution": {
          "iopub.execute_input": "2023-05-25T09:38:12.973064Z",
          "iopub.status.busy": "2023-05-25T09:38:12.972639Z",
          "iopub.status.idle": "2023-05-25T09:38:13.101230Z",
          "shell.execute_reply": "2023-05-25T09:38:13.100201Z",
          "shell.execute_reply.started": "2023-05-25T09:38:12.973031Z"
        },
        "id": "1f42e73f"
      },
      "outputs": [],
      "source": [
        "res = model_cat.predict(X_test.drop([\"variantid1\", \"variantid2\", 'scores'], axis=1))"
      ]
    },
    {
      "cell_type": "code",
      "execution_count": 48,
      "id": "a5a1c9a3",
      "metadata": {
        "cellId": "7qnjceuqvqso34x6i6f0si",
        "colab": {
          "base_uri": "https://localhost:8080/"
        },
        "execution": {
          "iopub.execute_input": "2023-05-25T09:38:15.683894Z",
          "iopub.status.busy": "2023-05-25T09:38:15.683521Z",
          "iopub.status.idle": "2023-05-25T09:38:17.071604Z",
          "shell.execute_reply": "2023-05-25T09:38:17.070411Z",
          "shell.execute_reply.started": "2023-05-25T09:38:15.683865Z"
        },
        "id": "a5a1c9a3",
        "outputId": "749f80a0-02ff-4227-de90-9ba7b318ba8d"
      },
      "outputs": [
        {
          "data": {
            "text/plain": [
              "0.19844369655156224"
            ]
          },
          "execution_count": 48,
          "metadata": {},
          "output_type": "execute_result"
        }
      ],
      "source": [
        "pr_auc_macro_metr = pr_auc_macro(\n",
        "    target_df=y_test,\n",
        "    predictions_df=X_test,\n",
        "    prec_level=0.75,\n",
        "    cat_column=\"cat3_grouped\",\n",
        "    cat_df=cat_test,\n",
        ")\n",
        "\n",
        "pr_auc_macro_metr"
      ]
    },
    {
      "cell_type": "code",
      "execution_count": 129,
      "id": "fd0d9f49",
      "metadata": {
        "cellId": "3q6kulk5diazs3j9l2cr6",
        "execution": {
          "iopub.execute_input": "2023-05-25T07:27:58.509296Z",
          "iopub.status.busy": "2023-05-25T07:27:58.508918Z",
          "iopub.status.idle": "2023-05-25T07:27:58.514071Z",
          "shell.execute_reply": "2023-05-25T07:27:58.513134Z",
          "shell.execute_reply.started": "2023-05-25T07:27:58.509266Z"
        },
        "id": "fd0d9f49"
      },
      "outputs": [],
      "source": [
        "# используется только одна картинка, можно делать positive pairs со всеми"
      ]
    },
    {
      "cell_type": "code",
      "execution_count": 49,
      "id": "c3621b3c",
      "metadata": {
        "cellId": "c5d93cg52fgkff9fcsmowt",
        "colab": {
          "base_uri": "https://localhost:8080/"
        },
        "execution": {
          "iopub.execute_input": "2023-05-25T09:38:27.316774Z",
          "iopub.status.busy": "2023-05-25T09:38:27.316397Z",
          "iopub.status.idle": "2023-05-25T09:38:27.479261Z",
          "shell.execute_reply": "2023-05-25T09:38:27.478315Z",
          "shell.execute_reply.started": "2023-05-25T09:38:27.316744Z"
        },
        "id": "c3621b3c",
        "outputId": "ccdc501c-7d8d-4504-fcd9-02aff7b5483b"
      },
      "outputs": [
        {
          "data": {
            "text/plain": [
              "(0.7403164355697358, 0.879598669798746)"
            ]
          },
          "execution_count": 49,
          "metadata": {},
          "output_type": "execute_result"
        }
      ],
      "source": [
        "from sklearn.metrics import roc_auc_score\n",
        "from sklearn.metrics import roc_curve\n",
        "\n",
        "roc_auc_score(y_test[\"target\"], X_test[\"scores\"]), roc_auc_score(y_train, X_train[\"scores\"])"
      ]
    },
    {
      "cell_type": "code",
      "execution_count": 50,
      "id": "799bc82b",
      "metadata": {
        "cellId": "ayxx9wuixof6mj1h3f47n4",
        "colab": {
          "base_uri": "https://localhost:8080/"
        },
        "execution": {
          "iopub.execute_input": "2023-05-25T09:38:33.642039Z",
          "iopub.status.busy": "2023-05-25T09:38:33.641288Z",
          "iopub.status.idle": "2023-05-25T09:38:33.737642Z",
          "shell.execute_reply": "2023-05-25T09:38:33.736435Z",
          "shell.execute_reply.started": "2023-05-25T09:38:33.641996Z"
        },
        "id": "799bc82b",
        "outputId": "777a3790-9c93-4cbe-a890-ff4bc5bdf4eb"
      },
      "outputs": [
        {
          "data": {
            "text/plain": [
              "(0.6433320485642706, 0.560132555895801, 0.6913067797109129)"
            ]
          },
          "execution_count": 50,
          "metadata": {},
          "output_type": "execute_result"
        }
      ],
      "source": [
        "from sklearn.metrics import precision_score, f1_score, accuracy_score\n",
        "\n",
        "precision_score(y_test[\"target\"], res), f1_score(y_test[\"target\"], res), accuracy_score(y_test['target'], res)"
      ]
    },
    {
      "cell_type": "code",
      "execution_count": 51,
      "id": "fee54ca8",
      "metadata": {
        "cellId": "qvfyw463q6pid4jkdcuo2",
        "colab": {
          "base_uri": "https://localhost:8080/",
          "height": 448
        },
        "execution": {
          "iopub.execute_input": "2023-05-25T09:38:42.863963Z",
          "iopub.status.busy": "2023-05-25T09:38:42.863576Z",
          "iopub.status.idle": "2023-05-25T09:38:43.238354Z",
          "shell.execute_reply": "2023-05-25T09:38:43.237296Z",
          "shell.execute_reply.started": "2023-05-25T09:38:42.863935Z"
        },
        "id": "fee54ca8",
        "outputId": "27c8fb3e-3d54-4dd8-ca1d-1617858f6c6e"
      },
      "outputs": [
        {
          "data": {
            "text/plain": [
              "[<matplotlib.lines.Line2D at 0x7f92be32c750>]"
            ]
          },
          "execution_count": 51,
          "metadata": {},
          "output_type": "execute_result"
        },
        {
          "data": {
            "image/png": "[encoded data removed]",
            "text/plain": [
              "<Figure size 640x480 with 1 Axes>"
            ]
          },
          "metadata": {},
          "output_type": "display_data"
        }
      ],
      "source": [
        "import matplotlib.pyplot as plt\n",
        "\n",
        "fpr, tpr, thresholds = roc_curve(y_test[\"target\"], X_test[\"scores\"])\n",
        "plt.plot(fpr, tpr)"
      ]
    },
    {
      "cell_type": "code",
      "execution_count": 52,
      "id": "074116b1",
      "metadata": {
        "cellId": "iqj92obkdpx5pe43cj9g",
        "colab": {
          "base_uri": "https://localhost:8080/",
          "height": 448
        },
        "execution": {
          "iopub.execute_input": "2023-05-25T09:38:44.610350Z",
          "iopub.status.busy": "2023-05-25T09:38:44.609975Z",
          "iopub.status.idle": "2023-05-25T09:38:44.931328Z",
          "shell.execute_reply": "2023-05-25T09:38:44.930306Z",
          "shell.execute_reply.started": "2023-05-25T09:38:44.610320Z"
        },
        "id": "074116b1",
        "outputId": "324b672f-ef34-43ec-f423-0e236b5ddf33"
      },
      "outputs": [
        {
          "data": {
            "text/plain": [
              "[<matplotlib.lines.Line2D at 0x7f92be76bb90>]"
            ]
          },
          "execution_count": 52,
          "metadata": {},
          "output_type": "execute_result"
        },
        {
          "data": {
            "image/png": "[encoded data removed]",
            "text/plain": [
              "<Figure size 640x480 with 1 Axes>"
            ]
          },
          "metadata": {},
          "output_type": "display_data"
        }
      ],
      "source": [
        "y, x, thr = precision_recall_curve(y_test[\"target\"], X_test[\"scores\"])\n",
        "plt.plot(x, y)"
      ]
    },
    {
      "cell_type": "code",
      "execution_count": 53,
      "id": "c6c719e8",
      "metadata": {
        "cellId": "um5f0j2j9o5kilnybw1l",
        "execution": {
          "iopub.execute_input": "2023-05-25T09:38:49.605124Z",
          "iopub.status.busy": "2023-05-25T09:38:49.604746Z",
          "iopub.status.idle": "2023-05-25T09:38:49.912432Z",
          "shell.execute_reply": "2023-05-25T09:38:49.911481Z",
          "shell.execute_reply.started": "2023-05-25T09:38:49.605094Z"
        },
        "id": "c6c719e8"
      },
      "outputs": [
        {
          "data": {
            "text/plain": [
              "<AxesSubplot:>"
            ]
          },
          "execution_count": 53,
          "metadata": {},
          "output_type": "execute_result"
        },
        {
          "data": {
            "image/png": "[encoded data removed]",
            "text/plain": [
              "<Figure size 640x480 with 1 Axes>"
            ]
          },
          "metadata": {},
          "output_type": "display_data"
        }
      ],
      "source": [
        "pd.Series(X_test[\"scores\"]).hist()"
      ]
    },
    {
      "cell_type": "code",
      "execution_count": 54,
      "id": "59bae989",
      "metadata": {
        "cellId": "nmt7mm0bn9sor17yc7mnc",
        "execution": {
          "iopub.execute_input": "2023-05-25T09:38:54.168891Z",
          "iopub.status.busy": "2023-05-25T09:38:54.168418Z",
          "iopub.status.idle": "2023-05-25T09:38:54.571824Z",
          "shell.execute_reply": "2023-05-25T09:38:54.570911Z",
          "shell.execute_reply.started": "2023-05-25T09:38:54.168854Z"
        },
        "id": "59bae989"
      },
      "outputs": [
        {
          "data": {
            "text/plain": [
              "<AxesSubplot:>"
            ]
          },
          "execution_count": 54,
          "metadata": {},
          "output_type": "execute_result"
        },
        {
          "data": {
            "image/png": "[encoded data removed]",
            "text/plain": [
              "<Figure size 640x480 with 1 Axes>"
            ]
          },
          "metadata": {},
          "output_type": "display_data"
        }
      ],
      "source": [
        "pd.Series(X_train[\"scores\"]).hist()"
      ]
    },
    {
      "cell_type": "code",
      "execution_count": 55,
      "id": "bc4a10ef",
      "metadata": {
        "cellId": "9olq4zxd6ku9cceclhtvd",
        "execution": {
          "iopub.execute_input": "2023-05-25T09:39:10.275059Z",
          "iopub.status.busy": "2023-05-25T09:39:10.274213Z",
          "iopub.status.idle": "2023-05-25T09:39:10.601379Z",
          "shell.execute_reply": "2023-05-25T09:39:10.600289Z",
          "shell.execute_reply.started": "2023-05-25T09:39:10.275021Z"
        },
        "id": "bc4a10ef"
      },
      "outputs": [
        {
          "data": {
            "text/plain": [
              "<AxesSubplot:>"
            ]
          },
          "execution_count": 55,
          "metadata": {},
          "output_type": "execute_result"
        },
        {
          "data": {
            "image/png": "[encoded data removed]",
            "text/plain": [
              "<Figure size 640x480 with 1 Axes>"
            ]
          },
          "metadata": {},
          "output_type": "display_data"
        }
      ],
      "source": [
        "X_train.cos_sim.hist()"
      ]
    },
    {
      "cell_type": "code",
      "execution_count": null,
      "id": "77bdb98a",
      "metadata": {
        "cellId": "fyjtewjocxc8gh2kkj5yvx",
        "execution": {
          "iopub.execute_input": "2023-05-25T07:28:13.668620Z",
          "iopub.status.busy": "2023-05-25T07:28:13.668216Z",
          "iopub.status.idle": "2023-05-25T07:28:14.144794Z",
          "shell.execute_reply": "2023-05-25T07:28:14.143833Z",
          "shell.execute_reply.started": "2023-05-25T07:28:13.668591Z"
        },
        "id": "77bdb98a"
      },
      "outputs": [],
      "source": [
        "X_train = X_train.merge(\n",
        "    data[[\"target\", \"variantid1\", \"variantid2\"]], right_index=True, left_index=True\n",
        ")\n",
        "X_test = X_test.merge(data[[\"target\"]], right_index=True, left_index=True)"
      ]
    },
    {
      "cell_type": "code",
      "execution_count": null,
      "id": "65adfa65",
      "metadata": {
        "cellId": "xnh41nx5zq89ots33z0ehp",
        "execution": {
          "iopub.execute_input": "2023-05-25T07:28:16.220876Z",
          "iopub.status.busy": "2023-05-25T07:28:16.220511Z",
          "iopub.status.idle": "2023-05-25T07:28:16.228566Z",
          "shell.execute_reply": "2023-05-25T07:28:16.227129Z",
          "shell.execute_reply.started": "2023-05-25T07:28:16.220847Z"
        },
        "id": "65adfa65"
      },
      "outputs": [],
      "source": [
        "pd.set_option(\"display.max_rows\", 100)"
      ]
    },
    {
      "attachments": {},
      "cell_type": "markdown",
      "id": "c9630dec",
      "metadata": {
        "cellId": "r1n771izxyeo11itxqsvo",
        "id": "c9630dec"
      },
      "source": [
        "# Submission"
      ]
    },
    {
      "cell_type": "code",
      "execution_count": 3,
      "id": "fabeba31",
      "metadata": {
        "cellId": "mksv7gsukwrnd265ihxk",
        "execution": {
          "iopub.execute_input": "2023-05-25T09:39:19.404052Z",
          "iopub.status.busy": "2023-05-25T09:39:19.403655Z",
          "iopub.status.idle": "2023-05-25T09:39:20.516926Z",
          "shell.execute_reply": "2023-05-25T09:39:20.515722Z",
          "shell.execute_reply.started": "2023-05-25T09:39:19.404022Z"
        },
        "id": "fabeba31"
      },
      "outputs": [],
      "source": [
        "# test_pairs = pd.read_parquet(\"../datasets/test_pairs_wo_target.parquet\")\n",
        "test_pairs = pd.read_csv(\"../../files/datasets/test_for_participants.csv\")\n",
        "test_etl = pd.read_parquet(\"../../files/datasets/test_data.parquet\")"
      ]
    },
    {
      "cell_type": "code",
      "execution_count": 7,
      "id": "5664d190",
      "metadata": {},
      "outputs": [],
      "source": [
        "goods_data\n",
        "goods_data[\"cat3\"] = goods_data[\"categories\"].apply(lambda x: json.loads(x)[\"3\"])\n",
        "cat3_counts = goods_data[\"cat3\"].value_counts().to_dict()\n",
        "goods_data[\"cat3_grouped\"] = goods_data[\"cat3\"].apply(\n",
        "    lambda x: x if cat3_counts[x] > 1000 else \"rest\"\n",
        ")\n",
        "test_etl[\"cat3\"] = test_etl[\"categories\"].apply(lambda x: json.loads(x)[\"3\"])\n",
        "cat3_counts = test_etl[\"cat3\"].value_counts().to_dict()\n",
        "test_etl[\"cat3_grouped\"] = test_etl[\"cat3\"].apply(\n",
        "    lambda x: x if cat3_counts[x] > 500 else \"rest\"\n",
        ")"
      ]
    },
    {
      "cell_type": "code",
      "execution_count": 57,
      "id": "43656c9a",
      "metadata": {},
      "outputs": [],
      "source": [
        "cat_embed_test = torch.load('./y_embed_test.pt').reshape(-1, 64)\n",
        "cat_idx_test = torch.load('./y_idxs_test.pt')\n",
        "cat_embed_test = {i: j  for i, j in zip(cat_idx_test, cat_embed_test)}\n",
        "# goods_pairs = pd.read_parquet('files/datasets/train_pairs_w_target.parquet')"
      ]
    },
    {
      "cell_type": "code",
      "execution_count": 58,
      "id": "284c5a59",
      "metadata": {
        "cellId": "z73yru5coms9gxytcjd195",
        "execution": {
          "iopub.execute_input": "2023-05-25T09:39:22.515912Z",
          "iopub.status.busy": "2023-05-25T09:39:22.515510Z",
          "iopub.status.idle": "2023-05-25T09:39:23.286059Z",
          "shell.execute_reply": "2023-05-25T09:39:23.285077Z",
          "shell.execute_reply.started": "2023-05-25T09:39:22.515882Z"
        },
        "id": "284c5a59"
      },
      "outputs": [],
      "source": [
        "tr_test = test_etl.categories.apply(lambda x: eval(x))\n",
        "trim_test = pd.DataFrame(tr_test.to_list()).rename(\n",
        "    columns={str(i): f\"cat_{i}\" for i in range(1, 5)}\n",
        ")\n",
        "trim_test[\"cat_2_en\"] = trim_test.cat_2.map(dikt_cat_2)\n",
        "trim_test[\"cat_3_en\"] = trim_test.cat_3.map(dikt_cat_3)\n",
        "trim_test[\"cat_4_en\"] = trim_test.cat_4.map(dikt_cat_4)\n",
        "trim_test = trim_test.merge(\n",
        "    st,\n",
        "    left_on=[\"cat_2_en\", \"cat_3_en\", \"cat_4_en\"],\n",
        "    right_on=[\"cat_2\", \"cat_3\", \"cat_4\"],\n",
        "    how=\"left\",\n",
        ")\n",
        "test_etl[\"cat_encoded\"] = trim_test[\"encoder\"]"
      ]
    },
    {
      "cell_type": "code",
      "execution_count": 59,
      "id": "6abaaa03",
      "metadata": {
        "cellId": "yvgn0bu5gmalfxbg5nkzj",
        "execution": {
          "iopub.execute_input": "2023-05-25T09:39:25.532958Z",
          "iopub.status.busy": "2023-05-25T09:39:25.529686Z",
          "iopub.status.idle": "2023-05-25T09:39:28.316601Z",
          "shell.execute_reply": "2023-05-25T09:39:28.315551Z",
          "shell.execute_reply.started": "2023-05-25T09:39:25.532916Z"
        },
        "id": "6abaaa03"
      },
      "outputs": [],
      "source": [
        "embedding_columns = [\"main_pic_embeddings_resnet_v1\", \"name_bert_64\", \"cat_embed\"]\n",
        "symm_goods_pairs_test = symm_pairs(test_pairs)\n",
        "dataset_test = ContrastiveDataset(\n",
        "    test_etl, symm_goods_pairs_test, cat_embed_test, embedding_columns, mode=False\n",
        ")\n",
        "test_dataloader = DataLoader(\n",
        "    dataset_test, batch_size=128, shuffle=False, drop_last=False, num_workers=2\n",
        ")"
      ]
    },
    {
      "cell_type": "code",
      "execution_count": 60,
      "id": "fce235cd",
      "metadata": {
        "cellId": "z6bfzfbexfs02b5sln3kf",
        "execution": {
          "iopub.execute_input": "2023-05-25T09:39:28.319060Z",
          "iopub.status.busy": "2023-05-25T09:39:28.318676Z",
          "iopub.status.idle": "2023-05-25T09:39:28.774302Z",
          "shell.execute_reply": "2023-05-25T09:39:28.772745Z",
          "shell.execute_reply.started": "2023-05-25T09:39:28.319024Z"
        },
        "id": "fce235cd"
      },
      "outputs": [],
      "source": [
        "yt = next(iter(test_dataloader))"
      ]
    },
    {
      "cell_type": "code",
      "execution_count": 61,
      "id": "13c1aacf",
      "metadata": {},
      "outputs": [
        {
          "data": {
            "application/vnd.jupyter.widget-view+json": {
              "model_id": "27432e2336684a9ebc301269e1a8ec22",
              "version_major": 2,
              "version_minor": 0
            },
            "text/plain": [
              "  0%|          | 0/18086 [00:00<?, ?it/s]"
            ]
          },
          "metadata": {},
          "output_type": "display_data"
        }
      ],
      "source": [
        "predict_labels = []\n",
        "for i in tqdm(range(test_pairs.shape[0])):\n",
        "    t, a = get_pred(i)\n",
        "    predict_labels.append(a)"
      ]
    },
    {
      "cell_type": "code",
      "execution_count": 62,
      "id": "23e8e2a5",
      "metadata": {},
      "outputs": [],
      "source": [
        "test_pairs['predict_labels'] = predict_labels"
      ]
    },
    {
      "cell_type": "code",
      "execution_count": 63,
      "id": "3260a707",
      "metadata": {},
      "outputs": [
        {
          "data": {
            "text/html": [
              "<div>\n",
              "<style scoped>\n",
              "    .dataframe tbody tr th:only-of-type {\n",
              "        vertical-align: middle;\n",
              "    }\n",
              "\n",
              "    .dataframe tbody tr th {\n",
              "        vertical-align: top;\n",
              "    }\n",
              "\n",
              "    .dataframe thead th {\n",
              "        text-align: right;\n",
              "    }\n",
              "</style>\n",
              "<table border=\"1\" class=\"dataframe\">\n",
              "  <thead>\n",
              "    <tr style=\"text-align: right;\">\n",
              "      <th></th>\n",
              "      <th>variantid1</th>\n",
              "      <th>variantid2</th>\n",
              "      <th>predict_labels</th>\n",
              "    </tr>\n",
              "  </thead>\n",
              "  <tbody>\n",
              "    <tr>\n",
              "      <th>0</th>\n",
              "      <td>372065731</td>\n",
              "      <td>372070671</td>\n",
              "      <td>False</td>\n",
              "    </tr>\n",
              "    <tr>\n",
              "      <th>1</th>\n",
              "      <td>528068358</td>\n",
              "      <td>533445916</td>\n",
              "      <td>False</td>\n",
              "    </tr>\n",
              "    <tr>\n",
              "      <th>2</th>\n",
              "      <td>480899084</td>\n",
              "      <td>480899989</td>\n",
              "      <td>False</td>\n",
              "    </tr>\n",
              "    <tr>\n",
              "      <th>3</th>\n",
              "      <td>384479474</td>\n",
              "      <td>488458602</td>\n",
              "      <td>True</td>\n",
              "    </tr>\n",
              "    <tr>\n",
              "      <th>4</th>\n",
              "      <td>658044199</td>\n",
              "      <td>663187587</td>\n",
              "      <td>True</td>\n",
              "    </tr>\n",
              "    <tr>\n",
              "      <th>...</th>\n",
              "      <td>...</td>\n",
              "      <td>...</td>\n",
              "      <td>...</td>\n",
              "    </tr>\n",
              "    <tr>\n",
              "      <th>18081</th>\n",
              "      <td>405934001</td>\n",
              "      <td>695957034</td>\n",
              "      <td>False</td>\n",
              "    </tr>\n",
              "    <tr>\n",
              "      <th>18082</th>\n",
              "      <td>692224892</td>\n",
              "      <td>692246989</td>\n",
              "      <td>False</td>\n",
              "    </tr>\n",
              "    <tr>\n",
              "      <th>18083</th>\n",
              "      <td>388824213</td>\n",
              "      <td>658486072</td>\n",
              "      <td>False</td>\n",
              "    </tr>\n",
              "    <tr>\n",
              "      <th>18084</th>\n",
              "      <td>479858327</td>\n",
              "      <td>480111601</td>\n",
              "      <td>False</td>\n",
              "    </tr>\n",
              "    <tr>\n",
              "      <th>18085</th>\n",
              "      <td>196626653</td>\n",
              "      <td>696488427</td>\n",
              "      <td>False</td>\n",
              "    </tr>\n",
              "  </tbody>\n",
              "</table>\n",
              "<p>18086 rows × 3 columns</p>\n",
              "</div>"
            ],
            "text/plain": [
              "       variantid1  variantid2  predict_labels\n",
              "0       372065731   372070671           False\n",
              "1       528068358   533445916           False\n",
              "2       480899084   480899989           False\n",
              "3       384479474   488458602            True\n",
              "4       658044199   663187587            True\n",
              "...           ...         ...             ...\n",
              "18081   405934001   695957034           False\n",
              "18082   692224892   692246989           False\n",
              "18083   388824213   658486072           False\n",
              "18084   479858327   480111601           False\n",
              "18085   196626653   696488427           False\n",
              "\n",
              "[18086 rows x 3 columns]"
            ]
          },
          "execution_count": 63,
          "metadata": {},
          "output_type": "execute_result"
        }
      ],
      "source": [
        "test_pairs"
      ]
    },
    {
      "cell_type": "code",
      "execution_count": 64,
      "id": "a447b9ca",
      "metadata": {
        "cellId": "4vvewv793b8kgkwb463vl",
        "execution": {
          "iopub.execute_input": "2023-05-25T09:39:28.779693Z",
          "iopub.status.busy": "2023-05-25T09:39:28.779284Z",
          "iopub.status.idle": "2023-05-25T09:39:36.750689Z",
          "shell.execute_reply": "2023-05-25T09:39:36.748303Z",
          "shell.execute_reply.started": "2023-05-25T09:39:28.779656Z"
        },
        "id": "a447b9ca"
      },
      "outputs": [
        {
          "data": {
            "application/vnd.jupyter.widget-view+json": {
              "model_id": "d0db933b53654b14acfff476fbc24c15",
              "version_major": 2,
              "version_minor": 0
            },
            "text/plain": [
              "  0%|          | 0/280 [00:00<?, ?it/s]"
            ]
          },
          "metadata": {},
          "output_type": "display_data"
        }
      ],
      "source": [
        "def predict(model, dataloader):\n",
        "    y_idxs = []\n",
        "    y_embed = []\n",
        "    model.eval()\n",
        "    for orig, _, _, _, idx in tqdm(dataloader):\n",
        "        embed = model(orig.to(device))\n",
        "        y_idxs.extend([i.detach().cpu().item() for i in idx])\n",
        "        y_embed.extend([[j.item() for j in i.detach().cpu()] for i in embed])\n",
        "    return y_idxs, y_embed\n",
        "\n",
        "\n",
        "y_idxs, y_embed = predict(model, test_dataloader)"
      ]
    },
    {
      "cell_type": "code",
      "execution_count": 65,
      "id": "c2f23793",
      "metadata": {
        "cellId": "zgjul9hk2r8o6cm7yvco8",
        "execution": {
          "iopub.execute_input": "2023-05-25T09:39:36.758449Z",
          "iopub.status.busy": "2023-05-25T09:39:36.757507Z",
          "iopub.status.idle": "2023-05-25T09:39:36.860961Z",
          "shell.execute_reply": "2023-05-25T09:39:36.859639Z",
          "shell.execute_reply.started": "2023-05-25T09:39:36.758397Z"
        },
        "id": "c2f23793"
      },
      "outputs": [],
      "source": [
        "embed_test = pd.DataFrame({\"variant\": y_idxs, \"embed\": y_embed})\n",
        "classif_test = test_pairs.merge(\n",
        "    embed_test,\n",
        "    left_on=\"variantid1\",\n",
        "    right_on=\"variant\",\n",
        "    how=\"left\",\n",
        "    suffixes=[\"\", \"_1\"],\n",
        ")\n",
        "classif_test = classif_test.merge(\n",
        "    embed_test,\n",
        "    left_on=\"variantid2\",\n",
        "    right_on=\"variant\",\n",
        "    how=\"left\",\n",
        "    suffixes=[\"\", \"_2\"],\n",
        ")\n",
        "classif_test.drop([\"variant\", \"variant_2\"], axis=1, inplace=True)"
      ]
    },
    {
      "cell_type": "code",
      "execution_count": 66,
      "id": "a393cc0d",
      "metadata": {
        "cellId": "nsc1z0zgzvqwzy3az7kc6a",
        "execution": {
          "iopub.execute_input": "2023-05-25T02:08:35.685900Z",
          "iopub.status.busy": "2023-05-25T02:08:35.685346Z",
          "iopub.status.idle": "2023-05-25T02:08:35.724021Z",
          "shell.execute_reply": "2023-05-25T02:08:35.723307Z",
          "shell.execute_reply.started": "2023-05-25T02:08:35.685857Z"
        },
        "id": "a393cc0d"
      },
      "outputs": [
        {
          "name": "stdout",
          "output_type": "stream",
          "text": [
            "<class 'pandas.core.frame.DataFrame'>\n",
            "Int64Index: 18086 entries, 0 to 18085\n",
            "Data columns (total 5 columns):\n",
            " #   Column          Non-Null Count  Dtype \n",
            "---  ------          --------------  ----- \n",
            " 0   variantid1      18086 non-null  int64 \n",
            " 1   variantid2      18086 non-null  int64 \n",
            " 2   predict_labels  18086 non-null  bool  \n",
            " 3   embed           18086 non-null  object\n",
            " 4   embed_2         18086 non-null  object\n",
            "dtypes: bool(1), int64(2), object(2)\n",
            "memory usage: 724.1+ KB\n"
          ]
        }
      ],
      "source": [
        "classif_test.info()"
      ]
    },
    {
      "cell_type": "code",
      "execution_count": 67,
      "id": "cd3e9583",
      "metadata": {
        "cellId": "hdqsdrx1mjhb3qnxdsgjsg",
        "execution": {
          "iopub.execute_input": "2023-05-25T09:39:36.869707Z",
          "iopub.status.busy": "2023-05-25T09:39:36.866388Z",
          "iopub.status.idle": "2023-05-25T09:39:36.881019Z",
          "shell.execute_reply": "2023-05-25T09:39:36.879774Z",
          "shell.execute_reply.started": "2023-05-25T09:39:36.869658Z"
        },
        "id": "cd3e9583"
      },
      "outputs": [],
      "source": [
        "from sklearn.metrics.pairwise import cosine_similarity\n",
        "from sklearn.metrics import pairwise_distances\n",
        "\n",
        "\n",
        "def get_pic_features(main_pic_embeddings_1, main_pic_embeddings_2):\n",
        "    \"\"\"Calculate distances percentiles for\n",
        "    pairwise pic distances. Percentiles are useful\n",
        "    when product has several pictures.\n",
        "    \"\"\"\n",
        "\n",
        "    embed = list(\n",
        "        np.abs(\n",
        "            np.array(main_pic_embeddings_1)[None, ...]\n",
        "            - np.array(main_pic_embeddings_2)[None, ...]\n",
        "        )[0]\n",
        "    )\n",
        "\n",
        "    cos_sim = cosine_similarity(\n",
        "        np.array(main_pic_embeddings_1)[None, ...],\n",
        "        np.array(main_pic_embeddings_2)[None, ...],\n",
        "    )[0][0]\n",
        "\n",
        "    # pair_features = []\n",
        "    # pair_features += np.percentile(dist_m, percentiles).tolist()\n",
        "\n",
        "    return embed, cos_sim"
      ]
    },
    {
      "cell_type": "code",
      "execution_count": 68,
      "id": "20de8eaa",
      "metadata": {
        "cellId": "dfk43vsbxai07pg4w5fk0d4",
        "execution": {
          "iopub.execute_input": "2023-05-25T09:39:36.884161Z",
          "iopub.status.busy": "2023-05-25T09:39:36.883810Z",
          "iopub.status.idle": "2023-05-25T09:39:47.850881Z",
          "shell.execute_reply": "2023-05-25T09:39:47.849179Z",
          "shell.execute_reply.started": "2023-05-25T09:39:36.884128Z"
        },
        "id": "20de8eaa"
      },
      "outputs": [],
      "source": [
        "classif_test[\n",
        "    [\n",
        "        \"embed_dif\",\n",
        "        \"cos_sim\",\n",
        "    ]\n",
        "] = classif_test[\n",
        "    [\"embed\", \"embed_2\"]\n",
        "].apply(lambda x: pd.Series(get_pic_features(*x)), axis=1)"
      ]
    },
    {
      "cell_type": "code",
      "execution_count": 69,
      "id": "dabdf1c5",
      "metadata": {
        "cellId": "9aknx5tzvxctf9bg5q00w",
        "execution": {
          "iopub.execute_input": "2023-05-25T09:39:47.855883Z",
          "iopub.status.busy": "2023-05-25T09:39:47.855465Z",
          "iopub.status.idle": "2023-05-25T09:39:47.996246Z",
          "shell.execute_reply": "2023-05-25T09:39:47.995277Z",
          "shell.execute_reply.started": "2023-05-25T09:39:47.855844Z"
        },
        "id": "dabdf1c5"
      },
      "outputs": [],
      "source": [
        "classif_test = classif_test.merge(\n",
        "    test_etl[[\"variantid\", \"categories\", \"cat_encoded\"]],\n",
        "    left_on=\"variantid1\",\n",
        "    right_on=\"variantid\",\n",
        "    how=\"left\",\n",
        "    suffixes=[\"\", \"_1\"],\n",
        ")\n",
        "classif_test = classif_test.merge(\n",
        "    test_etl[[\"variantid\", \"cat_encoded\"]],\n",
        "    left_on=\"variantid2\",\n",
        "    right_on=\"variantid\",\n",
        "    how=\"left\",\n",
        "    suffixes=[\"\", \"_2\"],\n",
        ")\n",
        "classif_test[\"cat3\"] = classif_test[\"categories\"].apply(lambda x: json.loads(x)[\"3\"])\n",
        "cat3_counts = classif_test[\"cat3\"].value_counts().to_dict()"
      ]
    },
    {
      "cell_type": "code",
      "execution_count": 70,
      "id": "dd39cb29",
      "metadata": {
        "cellId": "zfcdry370dbe3iopjbsrlv",
        "execution": {
          "iopub.execute_input": "2023-05-25T09:39:47.998591Z",
          "iopub.status.busy": "2023-05-25T09:39:47.998291Z",
          "iopub.status.idle": "2023-05-25T09:39:48.013295Z",
          "shell.execute_reply": "2023-05-25T09:39:48.012223Z",
          "shell.execute_reply.started": "2023-05-25T09:39:47.998566Z"
        },
        "id": "dd39cb29"
      },
      "outputs": [],
      "source": [
        "classif_test[\"cat3_grouped\"] = classif_test[\"cat3\"].apply(\n",
        "    lambda x: x if cat3_counts[x] > 1000 else \"rest\"\n",
        ")"
      ]
    },
    {
      "cell_type": "code",
      "execution_count": 71,
      "id": "57d58ec6",
      "metadata": {
        "cellId": "9eczbf1pxtq3jc4abatexn",
        "execution": {
          "iopub.execute_input": "2023-05-25T09:39:48.015178Z",
          "iopub.status.busy": "2023-05-25T09:39:48.014830Z",
          "iopub.status.idle": "2023-05-25T09:39:48.022556Z",
          "shell.execute_reply": "2023-05-25T09:39:48.021563Z",
          "shell.execute_reply.started": "2023-05-25T09:39:48.015146Z"
        },
        "id": "57d58ec6"
      },
      "outputs": [],
      "source": [
        "def get_cat_diff(x, y):\n",
        "    if not np.isnan(x) and not np.isnan(y):\n",
        "        return (len(nx.bidirectional_shortest_path(G, int(x), int(y))) - 1) // 2\n",
        "    else:\n",
        "        return 0"
      ]
    },
    {
      "cell_type": "code",
      "execution_count": 72,
      "id": "803de864",
      "metadata": {
        "cellId": "gpj8vg9ae6mjlhqqsynyee",
        "execution": {
          "iopub.execute_input": "2023-05-25T09:39:48.024465Z",
          "iopub.status.busy": "2023-05-25T09:39:48.024100Z",
          "iopub.status.idle": "2023-05-25T09:39:48.375504Z",
          "shell.execute_reply": "2023-05-25T09:39:48.374422Z",
          "shell.execute_reply.started": "2023-05-25T09:39:48.024434Z"
        },
        "id": "803de864"
      },
      "outputs": [],
      "source": [
        "classif_test[\"cat_dif\"] = classif_test[[\"cat_encoded\", \"cat_encoded_2\"]].apply(\n",
        "    lambda x: get_cat_diff(*x), axis=1\n",
        ")"
      ]
    },
    {
      "cell_type": "code",
      "execution_count": 73,
      "id": "79a88361",
      "metadata": {
        "cellId": "0t15ix4dafu0tmzjg19s3xr",
        "execution": {
          "iopub.execute_input": "2023-05-25T09:39:48.378057Z",
          "iopub.status.busy": "2023-05-25T09:39:48.376974Z",
          "iopub.status.idle": "2023-05-25T09:39:48.584566Z",
          "shell.execute_reply": "2023-05-25T09:39:48.583572Z",
          "shell.execute_reply.started": "2023-05-25T09:39:48.378006Z"
        },
        "id": "79a88361"
      },
      "outputs": [],
      "source": [
        "dikt_categories = {\n",
        "    i: j\n",
        "    for i, j in zip(\n",
        "        sorted(classif_test.cat_encoded.unique()),\n",
        "        range(1, classif_test.cat_encoded.nunique() + 1),\n",
        "    )\n",
        "}\n",
        "classif_test[\"category\"] = classif_test.cat_encoded.map(dikt_categories)\n",
        "classif_test.category = np.where(\n",
        "    classif_test.cat3_grouped == \"rest\", 0, classif_test.category\n",
        ")\n",
        "embeddings = pd.DataFrame(classif_test[\"embed_dif\"].tolist())\n",
        "data_test = pd.concat([classif_test, embeddings], axis=1)"
      ]
    },
    {
      "cell_type": "code",
      "execution_count": 74,
      "id": "9de5baaa",
      "metadata": {
        "cellId": "otaobnmxe0ipksu0zcjwn8",
        "execution": {
          "iopub.execute_input": "2023-05-25T09:39:49.342957Z",
          "iopub.status.busy": "2023-05-25T09:39:49.342577Z",
          "iopub.status.idle": "2023-05-25T09:39:49.361758Z",
          "shell.execute_reply": "2023-05-25T09:39:49.360670Z",
          "shell.execute_reply.started": "2023-05-25T09:39:49.342927Z"
        },
        "id": "9de5baaa"
      },
      "outputs": [],
      "source": [
        "data_test = data_test[\n",
        "    [\"variantid1\", \"variantid2\", \"cos_sim\", \"cat_dif\", 'predict_labels', ] + list(embeddings.columns)#'category'\n",
        "]  #'category'"
      ]
    },
    {
      "cell_type": "code",
      "execution_count": 75,
      "id": "7130f460",
      "metadata": {
        "cellId": "q5fg0ttrpxsasner0mesuv",
        "execution": {
          "iopub.execute_input": "2023-05-25T09:39:59.394344Z",
          "iopub.status.busy": "2023-05-25T09:39:59.393958Z",
          "iopub.status.idle": "2023-05-25T09:39:59.421516Z",
          "shell.execute_reply": "2023-05-25T09:39:59.420430Z",
          "shell.execute_reply.started": "2023-05-25T09:39:59.394312Z"
        },
        "id": "7130f460"
      },
      "outputs": [],
      "source": [
        "data_test[\"target\"] = model_cat.predict_proba(data_test.drop(['variantid1', 'variantid2'], axis = 1))[:, 1]"
      ]
    },
    {
      "cell_type": "code",
      "execution_count": 76,
      "id": "3abe65ea",
      "metadata": {
        "cellId": "0rze4z2mu3cwz2ef6nwlqg",
        "execution": {
          "iopub.execute_input": "2023-05-25T09:40:02.212197Z",
          "iopub.status.busy": "2023-05-25T09:40:02.211810Z",
          "iopub.status.idle": "2023-05-25T09:40:02.221552Z",
          "shell.execute_reply": "2023-05-25T09:40:02.220246Z",
          "shell.execute_reply.started": "2023-05-25T09:40:02.212165Z"
        },
        "id": "3abe65ea"
      },
      "outputs": [],
      "source": [
        "submit = data_test[[\"variantid1\", \"variantid2\", \"target\"]]"
      ]
    },
    {
      "cell_type": "code",
      "execution_count": 79,
      "id": "a8baf5d0",
      "metadata": {
        "cellId": "qpncmi3tuc1v3uqd1f8rr",
        "execution": {
          "iopub.execute_input": "2023-05-25T08:45:08.438566Z",
          "iopub.status.busy": "2023-05-25T08:45:08.438209Z",
          "iopub.status.idle": "2023-05-25T08:45:08.517020Z",
          "shell.execute_reply": "2023-05-25T08:45:08.516029Z",
          "shell.execute_reply.started": "2023-05-25T08:45:08.438536Z"
        },
        "id": "a8baf5d0"
      },
      "outputs": [],
      "source": [
        "submit.to_csv(\"submition_last_4.csv\", index=False, sep=\",\")"
      ]
    },
    {
      "cell_type": "code",
      "execution_count": 266,
      "id": "b431ed2f",
      "metadata": {
        "cellId": "t34u80vpqtqsfl6yq3tk5c",
        "execution": {
          "iopub.execute_input": "2023-05-25T08:45:12.367144Z",
          "iopub.status.busy": "2023-05-25T08:45:12.366749Z",
          "iopub.status.idle": "2023-05-25T08:45:12.374017Z",
          "shell.execute_reply": "2023-05-25T08:45:12.373041Z",
          "shell.execute_reply.started": "2023-05-25T08:45:12.367109Z"
        },
        "id": "b431ed2f"
      },
      "outputs": [
        {
          "data": {
            "text/html": [
              "<a href='submition_last_2.csv' target='_blank'>submition_last_2.csv</a><br>"
            ],
            "text/plain": [
              "/home/andreychuk/files/Ozon_marketplace/submition_last_2.csv"
            ]
          },
          "execution_count": 266,
          "metadata": {},
          "output_type": "execute_result"
        }
      ],
      "source": [
        "# from IPython.display import FileLink\n",
        "\n",
        "# FileLink(r\"submition_last_2.csv\")"
      ]
    },
    {
      "cell_type": "code",
      "execution_count": 77,
      "id": "2b8b641f",
      "metadata": {
        "cellId": "042e8e8rd9chg1s4j4goh0t",
        "execution": {
          "iopub.execute_input": "2023-05-25T08:45:19.661255Z",
          "iopub.status.busy": "2023-05-25T08:45:19.660827Z",
          "iopub.status.idle": "2023-05-25T08:45:19.681222Z",
          "shell.execute_reply": "2023-05-25T08:45:19.680348Z",
          "shell.execute_reply.started": "2023-05-25T08:45:19.661221Z"
        },
        "id": "2b8b641f"
      },
      "outputs": [
        {
          "data": {
            "text/html": [
              "<div>\n",
              "<style scoped>\n",
              "    .dataframe tbody tr th:only-of-type {\n",
              "        vertical-align: middle;\n",
              "    }\n",
              "\n",
              "    .dataframe tbody tr th {\n",
              "        vertical-align: top;\n",
              "    }\n",
              "\n",
              "    .dataframe thead th {\n",
              "        text-align: right;\n",
              "    }\n",
              "</style>\n",
              "<table border=\"1\" class=\"dataframe\">\n",
              "  <thead>\n",
              "    <tr style=\"text-align: right;\">\n",
              "      <th></th>\n",
              "      <th>variantid1</th>\n",
              "      <th>variantid2</th>\n",
              "      <th>target</th>\n",
              "    </tr>\n",
              "  </thead>\n",
              "  <tbody>\n",
              "    <tr>\n",
              "      <th>10</th>\n",
              "      <td>493573460</td>\n",
              "      <td>587481441</td>\n",
              "      <td>0.827781</td>\n",
              "    </tr>\n",
              "    <tr>\n",
              "      <th>11</th>\n",
              "      <td>91502637</td>\n",
              "      <td>585047902</td>\n",
              "      <td>0.734426</td>\n",
              "    </tr>\n",
              "    <tr>\n",
              "      <th>12</th>\n",
              "      <td>185789629</td>\n",
              "      <td>696087195</td>\n",
              "      <td>0.201525</td>\n",
              "    </tr>\n",
              "    <tr>\n",
              "      <th>13</th>\n",
              "      <td>447312641</td>\n",
              "      <td>447313347</td>\n",
              "      <td>0.206116</td>\n",
              "    </tr>\n",
              "    <tr>\n",
              "      <th>14</th>\n",
              "      <td>555583230</td>\n",
              "      <td>599512145</td>\n",
              "      <td>0.890106</td>\n",
              "    </tr>\n",
              "    <tr>\n",
              "      <th>15</th>\n",
              "      <td>238737191</td>\n",
              "      <td>437149011</td>\n",
              "      <td>0.770285</td>\n",
              "    </tr>\n",
              "    <tr>\n",
              "      <th>16</th>\n",
              "      <td>228350734</td>\n",
              "      <td>228354704</td>\n",
              "      <td>0.884742</td>\n",
              "    </tr>\n",
              "    <tr>\n",
              "      <th>17</th>\n",
              "      <td>387690243</td>\n",
              "      <td>406348303</td>\n",
              "      <td>0.174161</td>\n",
              "    </tr>\n",
              "    <tr>\n",
              "      <th>18</th>\n",
              "      <td>204196658</td>\n",
              "      <td>208311490</td>\n",
              "      <td>0.515681</td>\n",
              "    </tr>\n",
              "    <tr>\n",
              "      <th>19</th>\n",
              "      <td>460594798</td>\n",
              "      <td>460760951</td>\n",
              "      <td>0.651304</td>\n",
              "    </tr>\n",
              "  </tbody>\n",
              "</table>\n",
              "</div>"
            ],
            "text/plain": [
              "    variantid1  variantid2    target\n",
              "10   493573460   587481441  0.827781\n",
              "11    91502637   585047902  0.734426\n",
              "12   185789629   696087195  0.201525\n",
              "13   447312641   447313347  0.206116\n",
              "14   555583230   599512145  0.890106\n",
              "15   238737191   437149011  0.770285\n",
              "16   228350734   228354704  0.884742\n",
              "17   387690243   406348303  0.174161\n",
              "18   204196658   208311490  0.515681\n",
              "19   460594798   460760951  0.651304"
            ]
          },
          "execution_count": 77,
          "metadata": {},
          "output_type": "execute_result"
        }
      ],
      "source": [
        "submit.iloc[10:20]"
      ]
    },
    {
      "cell_type": "code",
      "execution_count": 267,
      "id": "c5a6caff",
      "metadata": {
        "cellId": "vqh1s9zqfqc10cujyigq8",
        "execution": {
          "iopub.execute_input": "2023-05-25T09:42:25.726396Z",
          "iopub.status.busy": "2023-05-25T09:42:25.725986Z",
          "iopub.status.idle": "2023-05-25T09:42:25.738804Z",
          "shell.execute_reply": "2023-05-25T09:42:25.737424Z",
          "shell.execute_reply.started": "2023-05-25T09:42:25.726347Z"
        },
        "id": "c5a6caff"
      },
      "outputs": [
        {
          "data": {
            "text/plain": [
              "(18086, 3)"
            ]
          },
          "execution_count": 267,
          "metadata": {},
          "output_type": "execute_result"
        }
      ],
      "source": [
        "submit.shape"
      ]
    },
    {
      "cell_type": "code",
      "execution_count": 78,
      "id": "d7f7dbf8",
      "metadata": {
        "cellId": "gdxrl8d4hlhgv5d2o0rtm5",
        "execution": {
          "iopub.execute_input": "2023-05-25T09:42:00.044447Z",
          "iopub.status.busy": "2023-05-25T09:42:00.044038Z",
          "iopub.status.idle": "2023-05-25T09:42:00.309610Z",
          "shell.execute_reply": "2023-05-25T09:42:00.308731Z",
          "shell.execute_reply.started": "2023-05-25T09:42:00.044413Z"
        },
        "id": "d7f7dbf8"
      },
      "outputs": [
        {
          "data": {
            "text/plain": [
              "<AxesSubplot:>"
            ]
          },
          "execution_count": 78,
          "metadata": {},
          "output_type": "execute_result"
        },
        {
          "data": {
            "image/png": "[encoded data removed]",
            "text/plain": [
              "<Figure size 640x480 with 1 Axes>"
            ]
          },
          "metadata": {},
          "output_type": "display_data"
        }
      ],
      "source": [
        "submit.target.hist()"
      ]
    },
    {
      "cell_type": "code",
      "execution_count": null,
      "id": "a5e60b49",
      "metadata": {},
      "outputs": [],
      "source": []
    }
  ],
  "metadata": {
    "accelerator": "GPU",
    "colab": {
      "gpuType": "T4",
      "provenance": []
    },
    "gpuClass": "standard",
    "kernelspec": {
      "display_name": "Python 3",
      "name": "python3"
    },
    "language_info": {
      "codemirror_mode": {
        "name": "ipython",
        "version": 3
      },
      "file_extension": ".py",
      "mimetype": "text/x-python",
      "name": "python",
      "nbconvert_exporter": "python",
      "pygments_lexer": "ipython3",
      "version": "3.7.9"
    },
    "notebookId": "e57f2cf1-d111-49e7-b4cf-332ced700e9f",
    "notebookPath": "Ozon_marketplace/cur_ver.ipynb",
    "widgets": {
      "application/vnd.jupyter.widget-state+json": {
        "10dce98cff5f4390a0da3f74df534e3c": {
          "model_module": "@jupyter-widgets/controls",
          "model_module_version": "1.5.0",
          "model_name": "ProgressStyleModel",
          "state": {
            "_model_module": "@jupyter-widgets/controls",
            "_model_module_version": "1.5.0",
            "_model_name": "ProgressStyleModel",
            "_view_count": null,
            "_view_module": "@jupyter-widgets/base",
            "_view_module_version": "1.2.0",
            "_view_name": "StyleView",
            "bar_color": null,
            "description_width": ""
          }
        },
        "18bfb3c493414345b340e31b168357ff": {
          "model_module": "@jupyter-widgets/controls",
          "model_module_version": "1.5.0",
          "model_name": "HTMLModel",
          "state": {
            "_dom_classes": [],
            "_model_module": "@jupyter-widgets/controls",
            "_model_module_version": "1.5.0",
            "_model_name": "HTMLModel",
            "_view_count": null,
            "_view_module": "@jupyter-widgets/controls",
            "_view_module_version": "1.5.0",
            "_view_name": "HTMLView",
            "description": "",
            "description_tooltip": null,
            "layout": "IPY_MODEL_38014ff32c08418f81d6e27e61f9b8d2",
            "placeholder": "​",
            "style": "IPY_MODEL_3b234a2cde3a4a02bd8d1f97199136af",
            "value": "  7%"
          }
        },
        "1b3f4e752c554abb9565d455c8c0fb71": {
          "model_module": "@jupyter-widgets/controls",
          "model_module_version": "1.5.0",
          "model_name": "HBoxModel",
          "state": {
            "_dom_classes": [],
            "_model_module": "@jupyter-widgets/controls",
            "_model_module_version": "1.5.0",
            "_model_name": "HBoxModel",
            "_view_count": null,
            "_view_module": "@jupyter-widgets/controls",
            "_view_module_version": "1.5.0",
            "_view_name": "HBoxView",
            "box_style": "",
            "children": [
              "IPY_MODEL_74bc64e24d5c4f9a8577180ca35580c8",
              "IPY_MODEL_a20b73c1d3c8418e859d6dcc5f6d7b61",
              "IPY_MODEL_a49a7da603b84bc9bf4fbed4b9992366"
            ],
            "layout": "IPY_MODEL_4f7171f03c0a4de0a492d05eee24a4a7"
          }
        },
        "2b3116bbf9644d4fa7851da449b47125": {
          "model_module": "@jupyter-widgets/controls",
          "model_module_version": "1.5.0",
          "model_name": "HTMLModel",
          "state": {
            "_dom_classes": [],
            "_model_module": "@jupyter-widgets/controls",
            "_model_module_version": "1.5.0",
            "_model_name": "HTMLModel",
            "_view_count": null,
            "_view_module": "@jupyter-widgets/controls",
            "_view_module_version": "1.5.0",
            "_view_name": "HTMLView",
            "description": "",
            "description_tooltip": null,
            "layout": "IPY_MODEL_fee91cd9d881478db0c9fb5c325f1823",
            "placeholder": "​",
            "style": "IPY_MODEL_68c2c0d8abb245c18ae3dceb915d651e",
            "value": "100%"
          }
        },
        "2d65a4dbbda64ff3a1b529da88651e8b": {
          "model_module": "@jupyter-widgets/controls",
          "model_module_version": "1.5.0",
          "model_name": "HBoxModel",
          "state": {
            "_dom_classes": [],
            "_model_module": "@jupyter-widgets/controls",
            "_model_module_version": "1.5.0",
            "_model_name": "HBoxModel",
            "_view_count": null,
            "_view_module": "@jupyter-widgets/controls",
            "_view_module_version": "1.5.0",
            "_view_name": "HBoxView",
            "box_style": "",
            "children": [
              "IPY_MODEL_18bfb3c493414345b340e31b168357ff",
              "IPY_MODEL_5654e7bcd0394496a418e510ec51d49a",
              "IPY_MODEL_589f09aa73bb4362a89b21b031293569"
            ],
            "layout": "IPY_MODEL_4b8848361bc34398bb1544820362f826"
          }
        },
        "373e6f98f3a84093981c64b5cd4b9050": {
          "model_module": "@jupyter-widgets/controls",
          "model_module_version": "1.5.0",
          "model_name": "HTMLModel",
          "state": {
            "_dom_classes": [],
            "_model_module": "@jupyter-widgets/controls",
            "_model_module_version": "1.5.0",
            "_model_name": "HTMLModel",
            "_view_count": null,
            "_view_module": "@jupyter-widgets/controls",
            "_view_module_version": "1.5.0",
            "_view_name": "HTMLView",
            "description": "",
            "description_tooltip": null,
            "layout": "IPY_MODEL_e19f8e1882a644c6995522d3b4197f3b",
            "placeholder": "​",
            "style": "IPY_MODEL_5c5e4c6e3bd649fc905701142c5079a8",
            "value": "100%"
          }
        },
        "38014ff32c08418f81d6e27e61f9b8d2": {
          "model_module": "@jupyter-widgets/base",
          "model_module_version": "1.2.0",
          "model_name": "LayoutModel",
          "state": {
            "_model_module": "@jupyter-widgets/base",
            "_model_module_version": "1.2.0",
            "_model_name": "LayoutModel",
            "_view_count": null,
            "_view_module": "@jupyter-widgets/base",
            "_view_module_version": "1.2.0",
            "_view_name": "LayoutView",
            "align_content": null,
            "align_items": null,
            "align_self": null,
            "border": null,
            "bottom": null,
            "display": null,
            "flex": null,
            "flex_flow": null,
            "grid_area": null,
            "grid_auto_columns": null,
            "grid_auto_flow": null,
            "grid_auto_rows": null,
            "grid_column": null,
            "grid_gap": null,
            "grid_row": null,
            "grid_template_areas": null,
            "grid_template_columns": null,
            "grid_template_rows": null,
            "height": null,
            "justify_content": null,
            "justify_items": null,
            "left": null,
            "margin": null,
            "max_height": null,
            "max_width": null,
            "min_height": null,
            "min_width": null,
            "object_fit": null,
            "object_position": null,
            "order": null,
            "overflow": null,
            "overflow_x": null,
            "overflow_y": null,
            "padding": null,
            "right": null,
            "top": null,
            "visibility": null,
            "width": null
          }
        },
        "3b234a2cde3a4a02bd8d1f97199136af": {
          "model_module": "@jupyter-widgets/controls",
          "model_module_version": "1.5.0",
          "model_name": "DescriptionStyleModel",
          "state": {
            "_model_module": "@jupyter-widgets/controls",
            "_model_module_version": "1.5.0",
            "_model_name": "DescriptionStyleModel",
            "_view_count": null,
            "_view_module": "@jupyter-widgets/base",
            "_view_module_version": "1.2.0",
            "_view_name": "StyleView",
            "description_width": ""
          }
        },
        "3f90c7a77cc541babe54938549647215": {
          "model_module": "@jupyter-widgets/base",
          "model_module_version": "1.2.0",
          "model_name": "LayoutModel",
          "state": {
            "_model_module": "@jupyter-widgets/base",
            "_model_module_version": "1.2.0",
            "_model_name": "LayoutModel",
            "_view_count": null,
            "_view_module": "@jupyter-widgets/base",
            "_view_module_version": "1.2.0",
            "_view_name": "LayoutView",
            "align_content": null,
            "align_items": null,
            "align_self": null,
            "border": null,
            "bottom": null,
            "display": null,
            "flex": null,
            "flex_flow": null,
            "grid_area": null,
            "grid_auto_columns": null,
            "grid_auto_flow": null,
            "grid_auto_rows": null,
            "grid_column": null,
            "grid_gap": null,
            "grid_row": null,
            "grid_template_areas": null,
            "grid_template_columns": null,
            "grid_template_rows": null,
            "height": null,
            "justify_content": null,
            "justify_items": null,
            "left": null,
            "margin": null,
            "max_height": null,
            "max_width": null,
            "min_height": null,
            "min_width": null,
            "object_fit": null,
            "object_position": null,
            "order": null,
            "overflow": null,
            "overflow_x": null,
            "overflow_y": null,
            "padding": null,
            "right": null,
            "top": null,
            "visibility": null,
            "width": null
          }
        },
        "412163b9fc8c4ef7a67646bd04cf4092": {
          "model_module": "@jupyter-widgets/controls",
          "model_module_version": "1.5.0",
          "model_name": "ProgressStyleModel",
          "state": {
            "_model_module": "@jupyter-widgets/controls",
            "_model_module_version": "1.5.0",
            "_model_name": "ProgressStyleModel",
            "_view_count": null,
            "_view_module": "@jupyter-widgets/base",
            "_view_module_version": "1.2.0",
            "_view_name": "StyleView",
            "bar_color": null,
            "description_width": ""
          }
        },
        "461666bdc3ef4440b6dbf66a6c7ba1aa": {
          "model_module": "catboost-widget",
          "model_module_version": "^1.0.0",
          "model_name": "CatboostWidgetModel",
          "state": {
            "_dom_classes": [],
            "_model_module": "catboost-widget",
            "_model_module_version": "^1.0.0",
            "_model_name": "CatboostWidgetModel",
            "_view_count": null,
            "_view_module": "catboost-widget",
            "_view_module_version": "^1.0.0",
            "_view_name": "CatboostWidgetView",
            "data": {
              "catboost_info": {
                "content": {
                  "data": {
                    "iterations": [
                      {
                        "iteration": 0,
                        "learn": [
                          0.6609112235
                        ],
                        "passed_time": 0.1746547903,
                        "remaining_time": 17.29082424,
                        "test": [
                          0.6867330427
                        ]
                      },
                      {
                        "iteration": 99,
                        "learn": [
                          0.5692471533
                        ],
                        "passed_time": 12.02905902,
                        "remaining_time": 0,
                        "test": [
                          0.6666071049
                        ]
                      }
                    ],
                    "meta": {
                      "iteration_count": 100,
                      "launch_mode": "Train",
                      "learn_metrics": [
                        {
                          "best_value": "Min",
                          "name": "Logloss"
                        }
                      ],
                      "learn_sets": [
                        "learn"
                      ],
                      "name": "experiment",
                      "parameters": "",
                      "test_metrics": [
                        {
                          "best_value": "Min",
                          "name": "Logloss"
                        }
                      ],
                      "test_sets": [
                        "test"
                      ]
                    }
                  },
                  "passed_iterations": 99,
                  "total_iterations": 100
                },
                "name": "catboost_info",
                "path": "catboost_info"
              }
            },
            "layout": "IPY_MODEL_4326cbcf6c624a6c9b0e355e936b6c98"
          }
        },
        "4b8848361bc34398bb1544820362f826": {
          "model_module": "@jupyter-widgets/base",
          "model_module_version": "1.2.0",
          "model_name": "LayoutModel",
          "state": {
            "_model_module": "@jupyter-widgets/base",
            "_model_module_version": "1.2.0",
            "_model_name": "LayoutModel",
            "_view_count": null,
            "_view_module": "@jupyter-widgets/base",
            "_view_module_version": "1.2.0",
            "_view_name": "LayoutView",
            "align_content": null,
            "align_items": null,
            "align_self": null,
            "border": null,
            "bottom": null,
            "display": null,
            "flex": null,
            "flex_flow": null,
            "grid_area": null,
            "grid_auto_columns": null,
            "grid_auto_flow": null,
            "grid_auto_rows": null,
            "grid_column": null,
            "grid_gap": null,
            "grid_row": null,
            "grid_template_areas": null,
            "grid_template_columns": null,
            "grid_template_rows": null,
            "height": null,
            "justify_content": null,
            "justify_items": null,
            "left": null,
            "margin": null,
            "max_height": null,
            "max_width": null,
            "min_height": null,
            "min_width": null,
            "object_fit": null,
            "object_position": null,
            "order": null,
            "overflow": null,
            "overflow_x": null,
            "overflow_y": null,
            "padding": null,
            "right": null,
            "top": null,
            "visibility": null,
            "width": null
          }
        },
        "4d61a6f555324092b9d3ecf15034ef79": {
          "model_module": "@jupyter-widgets/base",
          "model_module_version": "1.2.0",
          "model_name": "LayoutModel",
          "state": {
            "_model_module": "@jupyter-widgets/base",
            "_model_module_version": "1.2.0",
            "_model_name": "LayoutModel",
            "_view_count": null,
            "_view_module": "@jupyter-widgets/base",
            "_view_module_version": "1.2.0",
            "_view_name": "LayoutView",
            "align_content": null,
            "align_items": null,
            "align_self": null,
            "border": null,
            "bottom": null,
            "display": null,
            "flex": null,
            "flex_flow": null,
            "grid_area": null,
            "grid_auto_columns": null,
            "grid_auto_flow": null,
            "grid_auto_rows": null,
            "grid_column": null,
            "grid_gap": null,
            "grid_row": null,
            "grid_template_areas": null,
            "grid_template_columns": null,
            "grid_template_rows": null,
            "height": null,
            "justify_content": null,
            "justify_items": null,
            "left": null,
            "margin": null,
            "max_height": null,
            "max_width": null,
            "min_height": null,
            "min_width": null,
            "object_fit": null,
            "object_position": null,
            "order": null,
            "overflow": null,
            "overflow_x": null,
            "overflow_y": null,
            "padding": null,
            "right": null,
            "top": null,
            "visibility": null,
            "width": null
          }
        },
        "4f7171f03c0a4de0a492d05eee24a4a7": {
          "model_module": "@jupyter-widgets/base",
          "model_module_version": "1.2.0",
          "model_name": "LayoutModel",
          "state": {
            "_model_module": "@jupyter-widgets/base",
            "_model_module_version": "1.2.0",
            "_model_name": "LayoutModel",
            "_view_count": null,
            "_view_module": "@jupyter-widgets/base",
            "_view_module_version": "1.2.0",
            "_view_name": "LayoutView",
            "align_content": null,
            "align_items": null,
            "align_self": null,
            "border": null,
            "bottom": null,
            "display": null,
            "flex": null,
            "flex_flow": null,
            "grid_area": null,
            "grid_auto_columns": null,
            "grid_auto_flow": null,
            "grid_auto_rows": null,
            "grid_column": null,
            "grid_gap": null,
            "grid_row": null,
            "grid_template_areas": null,
            "grid_template_columns": null,
            "grid_template_rows": null,
            "height": null,
            "justify_content": null,
            "justify_items": null,
            "left": null,
            "margin": null,
            "max_height": null,
            "max_width": null,
            "min_height": null,
            "min_width": null,
            "object_fit": null,
            "object_position": null,
            "order": null,
            "overflow": null,
            "overflow_x": null,
            "overflow_y": null,
            "padding": null,
            "right": null,
            "top": null,
            "visibility": null,
            "width": null
          }
        },
        "55ad764d9add4bbc9398de90f9fd96ce": {
          "model_module": "@jupyter-widgets/base",
          "model_module_version": "1.2.0",
          "model_name": "LayoutModel",
          "state": {
            "_model_module": "@jupyter-widgets/base",
            "_model_module_version": "1.2.0",
            "_model_name": "LayoutModel",
            "_view_count": null,
            "_view_module": "@jupyter-widgets/base",
            "_view_module_version": "1.2.0",
            "_view_name": "LayoutView",
            "align_content": null,
            "align_items": null,
            "align_self": null,
            "border": null,
            "bottom": null,
            "display": null,
            "flex": null,
            "flex_flow": null,
            "grid_area": null,
            "grid_auto_columns": null,
            "grid_auto_flow": null,
            "grid_auto_rows": null,
            "grid_column": null,
            "grid_gap": null,
            "grid_row": null,
            "grid_template_areas": null,
            "grid_template_columns": null,
            "grid_template_rows": null,
            "height": null,
            "justify_content": null,
            "justify_items": null,
            "left": null,
            "margin": null,
            "max_height": null,
            "max_width": null,
            "min_height": null,
            "min_width": null,
            "object_fit": null,
            "object_position": null,
            "order": null,
            "overflow": null,
            "overflow_x": null,
            "overflow_y": null,
            "padding": null,
            "right": null,
            "top": null,
            "visibility": null,
            "width": null
          }
        },
        "5654e7bcd0394496a418e510ec51d49a": {
          "model_module": "@jupyter-widgets/controls",
          "model_module_version": "1.5.0",
          "model_name": "FloatProgressModel",
          "state": {
            "_dom_classes": [],
            "_model_module": "@jupyter-widgets/controls",
            "_model_module_version": "1.5.0",
            "_model_name": "FloatProgressModel",
            "_view_count": null,
            "_view_module": "@jupyter-widgets/controls",
            "_view_module_version": "1.5.0",
            "_view_name": "ProgressView",
            "bar_style": "danger",
            "description": "",
            "description_tooltip": null,
            "layout": "IPY_MODEL_4d61a6f555324092b9d3ecf15034ef79",
            "max": 2862,
            "min": 0,
            "orientation": "horizontal",
            "style": "IPY_MODEL_732f4c20e32e4afe9d30473cc1c734c5",
            "value": 198
          }
        },
        "589f09aa73bb4362a89b21b031293569": {
          "model_module": "@jupyter-widgets/controls",
          "model_module_version": "1.5.0",
          "model_name": "HTMLModel",
          "state": {
            "_dom_classes": [],
            "_model_module": "@jupyter-widgets/controls",
            "_model_module_version": "1.5.0",
            "_model_name": "HTMLModel",
            "_view_count": null,
            "_view_module": "@jupyter-widgets/controls",
            "_view_module_version": "1.5.0",
            "_view_name": "HTMLView",
            "description": "",
            "description_tooltip": null,
            "layout": "IPY_MODEL_8f4e19674add419997a9927e0b5a5b51",
            "placeholder": "​",
            "style": "IPY_MODEL_cfece7df523845828a9812ea816181bb",
            "value": " 198/2862 [00:15&lt;02:18, 19.30it/s]"
          }
        },
        "5986103e6728401f98b9970ca223bfdc": {
          "model_module": "@jupyter-widgets/controls",
          "model_module_version": "1.5.0",
          "model_name": "DescriptionStyleModel",
          "state": {
            "_model_module": "@jupyter-widgets/controls",
            "_model_module_version": "1.5.0",
            "_model_name": "DescriptionStyleModel",
            "_view_count": null,
            "_view_module": "@jupyter-widgets/base",
            "_view_module_version": "1.2.0",
            "_view_name": "StyleView",
            "description_width": ""
          }
        },
        "5c5e4c6e3bd649fc905701142c5079a8": {
          "model_module": "@jupyter-widgets/controls",
          "model_module_version": "1.5.0",
          "model_name": "DescriptionStyleModel",
          "state": {
            "_model_module": "@jupyter-widgets/controls",
            "_model_module_version": "1.5.0",
            "_model_name": "DescriptionStyleModel",
            "_view_count": null,
            "_view_module": "@jupyter-widgets/base",
            "_view_module_version": "1.2.0",
            "_view_name": "StyleView",
            "description_width": ""
          }
        },
        "617f3f54746f4e4aa0948d5ba5ccb3db": {
          "model_module": "@jupyter-widgets/base",
          "model_module_version": "1.2.0",
          "model_name": "LayoutModel",
          "state": {
            "_model_module": "@jupyter-widgets/base",
            "_model_module_version": "1.2.0",
            "_model_name": "LayoutModel",
            "_view_count": null,
            "_view_module": "@jupyter-widgets/base",
            "_view_module_version": "1.2.0",
            "_view_name": "LayoutView",
            "align_content": null,
            "align_items": null,
            "align_self": null,
            "border": null,
            "bottom": null,
            "display": null,
            "flex": null,
            "flex_flow": null,
            "grid_area": null,
            "grid_auto_columns": null,
            "grid_auto_flow": null,
            "grid_auto_rows": null,
            "grid_column": null,
            "grid_gap": null,
            "grid_row": null,
            "grid_template_areas": null,
            "grid_template_columns": null,
            "grid_template_rows": null,
            "height": null,
            "justify_content": null,
            "justify_items": null,
            "left": null,
            "margin": null,
            "max_height": null,
            "max_width": null,
            "min_height": null,
            "min_width": null,
            "object_fit": null,
            "object_position": null,
            "order": null,
            "overflow": null,
            "overflow_x": null,
            "overflow_y": null,
            "padding": null,
            "right": null,
            "top": null,
            "visibility": null,
            "width": null
          }
        },
        "63baf6749374428abb3878e0cf92a974": {
          "model_module": "@jupyter-widgets/base",
          "model_module_version": "1.2.0",
          "model_name": "LayoutModel",
          "state": {
            "_model_module": "@jupyter-widgets/base",
            "_model_module_version": "1.2.0",
            "_model_name": "LayoutModel",
            "_view_count": null,
            "_view_module": "@jupyter-widgets/base",
            "_view_module_version": "1.2.0",
            "_view_name": "LayoutView",
            "align_content": null,
            "align_items": null,
            "align_self": null,
            "border": null,
            "bottom": null,
            "display": null,
            "flex": null,
            "flex_flow": null,
            "grid_area": null,
            "grid_auto_columns": null,
            "grid_auto_flow": null,
            "grid_auto_rows": null,
            "grid_column": null,
            "grid_gap": null,
            "grid_row": null,
            "grid_template_areas": null,
            "grid_template_columns": null,
            "grid_template_rows": null,
            "height": null,
            "justify_content": null,
            "justify_items": null,
            "left": null,
            "margin": null,
            "max_height": null,
            "max_width": null,
            "min_height": null,
            "min_width": null,
            "object_fit": null,
            "object_position": null,
            "order": null,
            "overflow": null,
            "overflow_x": null,
            "overflow_y": null,
            "padding": null,
            "right": null,
            "top": null,
            "visibility": null,
            "width": null
          }
        },
        "68c2c0d8abb245c18ae3dceb915d651e": {
          "model_module": "@jupyter-widgets/controls",
          "model_module_version": "1.5.0",
          "model_name": "DescriptionStyleModel",
          "state": {
            "_model_module": "@jupyter-widgets/controls",
            "_model_module_version": "1.5.0",
            "_model_name": "DescriptionStyleModel",
            "_view_count": null,
            "_view_module": "@jupyter-widgets/base",
            "_view_module_version": "1.2.0",
            "_view_name": "StyleView",
            "description_width": ""
          }
        },
        "70c9b1a26c0549bc8eb1f086f591066d": {
          "model_module": "@jupyter-widgets/controls",
          "model_module_version": "1.5.0",
          "model_name": "FloatProgressModel",
          "state": {
            "_dom_classes": [],
            "_model_module": "@jupyter-widgets/controls",
            "_model_module_version": "1.5.0",
            "_model_name": "FloatProgressModel",
            "_view_count": null,
            "_view_module": "@jupyter-widgets/controls",
            "_view_module_version": "1.5.0",
            "_view_name": "ProgressView",
            "bar_style": "success",
            "description": "",
            "description_tooltip": null,
            "layout": "IPY_MODEL_ba3442e9f7f64d1185eb8d38216d06e9",
            "max": 2857,
            "min": 0,
            "orientation": "horizontal",
            "style": "IPY_MODEL_412163b9fc8c4ef7a67646bd04cf4092",
            "value": 2857
          }
        },
        "732f4c20e32e4afe9d30473cc1c734c5": {
          "model_module": "@jupyter-widgets/controls",
          "model_module_version": "1.5.0",
          "model_name": "ProgressStyleModel",
          "state": {
            "_model_module": "@jupyter-widgets/controls",
            "_model_module_version": "1.5.0",
            "_model_name": "ProgressStyleModel",
            "_view_count": null,
            "_view_module": "@jupyter-widgets/base",
            "_view_module_version": "1.2.0",
            "_view_name": "StyleView",
            "bar_color": null,
            "description_width": ""
          }
        },
        "742a63538796493684dad4a528bb5560": {
          "model_module": "@jupyter-widgets/base",
          "model_module_version": "1.2.0",
          "model_name": "LayoutModel",
          "state": {
            "_model_module": "@jupyter-widgets/base",
            "_model_module_version": "1.2.0",
            "_model_name": "LayoutModel",
            "_view_count": null,
            "_view_module": "@jupyter-widgets/base",
            "_view_module_version": "1.2.0",
            "_view_name": "LayoutView",
            "align_content": null,
            "align_items": null,
            "align_self": null,
            "border": null,
            "bottom": null,
            "display": null,
            "flex": null,
            "flex_flow": null,
            "grid_area": null,
            "grid_auto_columns": null,
            "grid_auto_flow": null,
            "grid_auto_rows": null,
            "grid_column": null,
            "grid_gap": null,
            "grid_row": null,
            "grid_template_areas": null,
            "grid_template_columns": null,
            "grid_template_rows": null,
            "height": null,
            "justify_content": null,
            "justify_items": null,
            "left": null,
            "margin": null,
            "max_height": null,
            "max_width": null,
            "min_height": null,
            "min_width": null,
            "object_fit": null,
            "object_position": null,
            "order": null,
            "overflow": null,
            "overflow_x": null,
            "overflow_y": null,
            "padding": null,
            "right": null,
            "top": null,
            "visibility": null,
            "width": null
          }
        },
        "74bc64e24d5c4f9a8577180ca35580c8": {
          "model_module": "@jupyter-widgets/controls",
          "model_module_version": "1.5.0",
          "model_name": "HTMLModel",
          "state": {
            "_dom_classes": [],
            "_model_module": "@jupyter-widgets/controls",
            "_model_module_version": "1.5.0",
            "_model_name": "HTMLModel",
            "_view_count": null,
            "_view_module": "@jupyter-widgets/controls",
            "_view_module_version": "1.5.0",
            "_view_name": "HTMLView",
            "description": "",
            "description_tooltip": null,
            "layout": "IPY_MODEL_3f90c7a77cc541babe54938549647215",
            "placeholder": "​",
            "style": "IPY_MODEL_90deb11d04ac44498addf6b2a8b51ec7",
            "value": "  0%"
          }
        },
        "76638f11629842ae8144c2cb7add1389": {
          "model_module": "@jupyter-widgets/base",
          "model_module_version": "1.2.0",
          "model_name": "LayoutModel",
          "state": {
            "_model_module": "@jupyter-widgets/base",
            "_model_module_version": "1.2.0",
            "_model_name": "LayoutModel",
            "_view_count": null,
            "_view_module": "@jupyter-widgets/base",
            "_view_module_version": "1.2.0",
            "_view_name": "LayoutView",
            "align_content": null,
            "align_items": null,
            "align_self": null,
            "border": null,
            "bottom": null,
            "display": null,
            "flex": null,
            "flex_flow": null,
            "grid_area": null,
            "grid_auto_columns": null,
            "grid_auto_flow": null,
            "grid_auto_rows": null,
            "grid_column": null,
            "grid_gap": null,
            "grid_row": null,
            "grid_template_areas": null,
            "grid_template_columns": null,
            "grid_template_rows": null,
            "height": null,
            "justify_content": null,
            "justify_items": null,
            "left": null,
            "margin": null,
            "max_height": null,
            "max_width": null,
            "min_height": null,
            "min_width": null,
            "object_fit": null,
            "object_position": null,
            "order": null,
            "overflow": null,
            "overflow_x": null,
            "overflow_y": null,
            "padding": null,
            "right": null,
            "top": null,
            "visibility": null,
            "width": null
          }
        },
        "79ecc6d4b05b4248b73f6cb9b2efa4bc": {
          "model_module": "@jupyter-widgets/controls",
          "model_module_version": "1.5.0",
          "model_name": "HTMLModel",
          "state": {
            "_dom_classes": [],
            "_model_module": "@jupyter-widgets/controls",
            "_model_module_version": "1.5.0",
            "_model_name": "HTMLModel",
            "_view_count": null,
            "_view_module": "@jupyter-widgets/controls",
            "_view_module_version": "1.5.0",
            "_view_name": "HTMLView",
            "description": "",
            "description_tooltip": null,
            "layout": "IPY_MODEL_79fc6efd45a9435bafbe7af621785e27",
            "placeholder": "​",
            "style": "IPY_MODEL_d6380a044eac4532af016954fefe2648",
            "value": " 2857/2857 [03:01&lt;00:00, 14.35it/s]"
          }
        },
        "79fc6efd45a9435bafbe7af621785e27": {
          "model_module": "@jupyter-widgets/base",
          "model_module_version": "1.2.0",
          "model_name": "LayoutModel",
          "state": {
            "_model_module": "@jupyter-widgets/base",
            "_model_module_version": "1.2.0",
            "_model_name": "LayoutModel",
            "_view_count": null,
            "_view_module": "@jupyter-widgets/base",
            "_view_module_version": "1.2.0",
            "_view_name": "LayoutView",
            "align_content": null,
            "align_items": null,
            "align_self": null,
            "border": null,
            "bottom": null,
            "display": null,
            "flex": null,
            "flex_flow": null,
            "grid_area": null,
            "grid_auto_columns": null,
            "grid_auto_flow": null,
            "grid_auto_rows": null,
            "grid_column": null,
            "grid_gap": null,
            "grid_row": null,
            "grid_template_areas": null,
            "grid_template_columns": null,
            "grid_template_rows": null,
            "height": null,
            "justify_content": null,
            "justify_items": null,
            "left": null,
            "margin": null,
            "max_height": null,
            "max_width": null,
            "min_height": null,
            "min_width": null,
            "object_fit": null,
            "object_position": null,
            "order": null,
            "overflow": null,
            "overflow_x": null,
            "overflow_y": null,
            "padding": null,
            "right": null,
            "top": null,
            "visibility": null,
            "width": null
          }
        },
        "8e32f7917b294d528dc782b69375c850": {
          "model_module": "@jupyter-widgets/controls",
          "model_module_version": "1.5.0",
          "model_name": "FloatProgressModel",
          "state": {
            "_dom_classes": [],
            "_model_module": "@jupyter-widgets/controls",
            "_model_module_version": "1.5.0",
            "_model_name": "FloatProgressModel",
            "_view_count": null,
            "_view_module": "@jupyter-widgets/controls",
            "_view_module_version": "1.5.0",
            "_view_name": "ProgressView",
            "bar_style": "success",
            "description": "",
            "description_tooltip": null,
            "layout": "IPY_MODEL_63baf6749374428abb3878e0cf92a974",
            "max": 712,
            "min": 0,
            "orientation": "horizontal",
            "style": "IPY_MODEL_ddf96ad606ac4374ac2623253cd9d56c",
            "value": 712
          }
        },
        "8f4e19674add419997a9927e0b5a5b51": {
          "model_module": "@jupyter-widgets/base",
          "model_module_version": "1.2.0",
          "model_name": "LayoutModel",
          "state": {
            "_model_module": "@jupyter-widgets/base",
            "_model_module_version": "1.2.0",
            "_model_name": "LayoutModel",
            "_view_count": null,
            "_view_module": "@jupyter-widgets/base",
            "_view_module_version": "1.2.0",
            "_view_name": "LayoutView",
            "align_content": null,
            "align_items": null,
            "align_self": null,
            "border": null,
            "bottom": null,
            "display": null,
            "flex": null,
            "flex_flow": null,
            "grid_area": null,
            "grid_auto_columns": null,
            "grid_auto_flow": null,
            "grid_auto_rows": null,
            "grid_column": null,
            "grid_gap": null,
            "grid_row": null,
            "grid_template_areas": null,
            "grid_template_columns": null,
            "grid_template_rows": null,
            "height": null,
            "justify_content": null,
            "justify_items": null,
            "left": null,
            "margin": null,
            "max_height": null,
            "max_width": null,
            "min_height": null,
            "min_width": null,
            "object_fit": null,
            "object_position": null,
            "order": null,
            "overflow": null,
            "overflow_x": null,
            "overflow_y": null,
            "padding": null,
            "right": null,
            "top": null,
            "visibility": null,
            "width": null
          }
        },
        "90deb11d04ac44498addf6b2a8b51ec7": {
          "model_module": "@jupyter-widgets/controls",
          "model_module_version": "1.5.0",
          "model_name": "DescriptionStyleModel",
          "state": {
            "_model_module": "@jupyter-widgets/controls",
            "_model_module_version": "1.5.0",
            "_model_name": "DescriptionStyleModel",
            "_view_count": null,
            "_view_module": "@jupyter-widgets/base",
            "_view_module_version": "1.2.0",
            "_view_name": "StyleView",
            "description_width": ""
          }
        },
        "a20b73c1d3c8418e859d6dcc5f6d7b61": {
          "model_module": "@jupyter-widgets/controls",
          "model_module_version": "1.5.0",
          "model_name": "FloatProgressModel",
          "state": {
            "_dom_classes": [],
            "_model_module": "@jupyter-widgets/controls",
            "_model_module_version": "1.5.0",
            "_model_name": "FloatProgressModel",
            "_view_count": null,
            "_view_module": "@jupyter-widgets/controls",
            "_view_module_version": "1.5.0",
            "_view_name": "ProgressView",
            "bar_style": "danger",
            "description": "",
            "description_tooltip": null,
            "layout": "IPY_MODEL_55ad764d9add4bbc9398de90f9fd96ce",
            "max": 10,
            "min": 0,
            "orientation": "horizontal",
            "style": "IPY_MODEL_10dce98cff5f4390a0da3f74df534e3c",
            "value": 0
          }
        },
        "a49a7da603b84bc9bf4fbed4b9992366": {
          "model_module": "@jupyter-widgets/controls",
          "model_module_version": "1.5.0",
          "model_name": "HTMLModel",
          "state": {
            "_dom_classes": [],
            "_model_module": "@jupyter-widgets/controls",
            "_model_module_version": "1.5.0",
            "_model_name": "HTMLModel",
            "_view_count": null,
            "_view_module": "@jupyter-widgets/controls",
            "_view_module_version": "1.5.0",
            "_view_name": "HTMLView",
            "description": "",
            "description_tooltip": null,
            "layout": "IPY_MODEL_d264b48fbe3a411f9f94367f7de8a692",
            "placeholder": "​",
            "style": "IPY_MODEL_5986103e6728401f98b9970ca223bfdc",
            "value": " 0/10 [00:15&lt;?, ?it/s]"
          }
        },
        "a8ef9eb3940c4708ab4a04fb97413b08": {
          "model_module": "@jupyter-widgets/controls",
          "model_module_version": "1.5.0",
          "model_name": "HBoxModel",
          "state": {
            "_dom_classes": [],
            "_model_module": "@jupyter-widgets/controls",
            "_model_module_version": "1.5.0",
            "_model_name": "HBoxModel",
            "_view_count": null,
            "_view_module": "@jupyter-widgets/controls",
            "_view_module_version": "1.5.0",
            "_view_name": "HBoxView",
            "box_style": "",
            "children": [
              "IPY_MODEL_373e6f98f3a84093981c64b5cd4b9050",
              "IPY_MODEL_8e32f7917b294d528dc782b69375c850",
              "IPY_MODEL_b105e7eb28c641559fdc701a4c9460d3"
            ],
            "layout": "IPY_MODEL_617f3f54746f4e4aa0948d5ba5ccb3db"
          }
        },
        "b105e7eb28c641559fdc701a4c9460d3": {
          "model_module": "@jupyter-widgets/controls",
          "model_module_version": "1.5.0",
          "model_name": "HTMLModel",
          "state": {
            "_dom_classes": [],
            "_model_module": "@jupyter-widgets/controls",
            "_model_module_version": "1.5.0",
            "_model_name": "HTMLModel",
            "_view_count": null,
            "_view_module": "@jupyter-widgets/controls",
            "_view_module_version": "1.5.0",
            "_view_name": "HTMLView",
            "description": "",
            "description_tooltip": null,
            "layout": "IPY_MODEL_76638f11629842ae8144c2cb7add1389",
            "placeholder": "​",
            "style": "IPY_MODEL_eb9fd2d2c9ed4eec86bcbe86dc03dc0a",
            "value": " 712/712 [00:17&lt;00:00, 47.02it/s]"
          }
        },
        "ba3442e9f7f64d1185eb8d38216d06e9": {
          "model_module": "@jupyter-widgets/base",
          "model_module_version": "1.2.0",
          "model_name": "LayoutModel",
          "state": {
            "_model_module": "@jupyter-widgets/base",
            "_model_module_version": "1.2.0",
            "_model_name": "LayoutModel",
            "_view_count": null,
            "_view_module": "@jupyter-widgets/base",
            "_view_module_version": "1.2.0",
            "_view_name": "LayoutView",
            "align_content": null,
            "align_items": null,
            "align_self": null,
            "border": null,
            "bottom": null,
            "display": null,
            "flex": null,
            "flex_flow": null,
            "grid_area": null,
            "grid_auto_columns": null,
            "grid_auto_flow": null,
            "grid_auto_rows": null,
            "grid_column": null,
            "grid_gap": null,
            "grid_row": null,
            "grid_template_areas": null,
            "grid_template_columns": null,
            "grid_template_rows": null,
            "height": null,
            "justify_content": null,
            "justify_items": null,
            "left": null,
            "margin": null,
            "max_height": null,
            "max_width": null,
            "min_height": null,
            "min_width": null,
            "object_fit": null,
            "object_position": null,
            "order": null,
            "overflow": null,
            "overflow_x": null,
            "overflow_y": null,
            "padding": null,
            "right": null,
            "top": null,
            "visibility": null,
            "width": null
          }
        },
        "cfece7df523845828a9812ea816181bb": {
          "model_module": "@jupyter-widgets/controls",
          "model_module_version": "1.5.0",
          "model_name": "DescriptionStyleModel",
          "state": {
            "_model_module": "@jupyter-widgets/controls",
            "_model_module_version": "1.5.0",
            "_model_name": "DescriptionStyleModel",
            "_view_count": null,
            "_view_module": "@jupyter-widgets/base",
            "_view_module_version": "1.2.0",
            "_view_name": "StyleView",
            "description_width": ""
          }
        },
        "d264b48fbe3a411f9f94367f7de8a692": {
          "model_module": "@jupyter-widgets/base",
          "model_module_version": "1.2.0",
          "model_name": "LayoutModel",
          "state": {
            "_model_module": "@jupyter-widgets/base",
            "_model_module_version": "1.2.0",
            "_model_name": "LayoutModel",
            "_view_count": null,
            "_view_module": "@jupyter-widgets/base",
            "_view_module_version": "1.2.0",
            "_view_name": "LayoutView",
            "align_content": null,
            "align_items": null,
            "align_self": null,
            "border": null,
            "bottom": null,
            "display": null,
            "flex": null,
            "flex_flow": null,
            "grid_area": null,
            "grid_auto_columns": null,
            "grid_auto_flow": null,
            "grid_auto_rows": null,
            "grid_column": null,
            "grid_gap": null,
            "grid_row": null,
            "grid_template_areas": null,
            "grid_template_columns": null,
            "grid_template_rows": null,
            "height": null,
            "justify_content": null,
            "justify_items": null,
            "left": null,
            "margin": null,
            "max_height": null,
            "max_width": null,
            "min_height": null,
            "min_width": null,
            "object_fit": null,
            "object_position": null,
            "order": null,
            "overflow": null,
            "overflow_x": null,
            "overflow_y": null,
            "padding": null,
            "right": null,
            "top": null,
            "visibility": null,
            "width": null
          }
        },
        "d6380a044eac4532af016954fefe2648": {
          "model_module": "@jupyter-widgets/controls",
          "model_module_version": "1.5.0",
          "model_name": "DescriptionStyleModel",
          "state": {
            "_model_module": "@jupyter-widgets/controls",
            "_model_module_version": "1.5.0",
            "_model_name": "DescriptionStyleModel",
            "_view_count": null,
            "_view_module": "@jupyter-widgets/base",
            "_view_module_version": "1.2.0",
            "_view_name": "StyleView",
            "description_width": ""
          }
        },
        "ddf96ad606ac4374ac2623253cd9d56c": {
          "model_module": "@jupyter-widgets/controls",
          "model_module_version": "1.5.0",
          "model_name": "ProgressStyleModel",
          "state": {
            "_model_module": "@jupyter-widgets/controls",
            "_model_module_version": "1.5.0",
            "_model_name": "ProgressStyleModel",
            "_view_count": null,
            "_view_module": "@jupyter-widgets/base",
            "_view_module_version": "1.2.0",
            "_view_name": "StyleView",
            "bar_color": null,
            "description_width": ""
          }
        },
        "e19f8e1882a644c6995522d3b4197f3b": {
          "model_module": "@jupyter-widgets/base",
          "model_module_version": "1.2.0",
          "model_name": "LayoutModel",
          "state": {
            "_model_module": "@jupyter-widgets/base",
            "_model_module_version": "1.2.0",
            "_model_name": "LayoutModel",
            "_view_count": null,
            "_view_module": "@jupyter-widgets/base",
            "_view_module_version": "1.2.0",
            "_view_name": "LayoutView",
            "align_content": null,
            "align_items": null,
            "align_self": null,
            "border": null,
            "bottom": null,
            "display": null,
            "flex": null,
            "flex_flow": null,
            "grid_area": null,
            "grid_auto_columns": null,
            "grid_auto_flow": null,
            "grid_auto_rows": null,
            "grid_column": null,
            "grid_gap": null,
            "grid_row": null,
            "grid_template_areas": null,
            "grid_template_columns": null,
            "grid_template_rows": null,
            "height": null,
            "justify_content": null,
            "justify_items": null,
            "left": null,
            "margin": null,
            "max_height": null,
            "max_width": null,
            "min_height": null,
            "min_width": null,
            "object_fit": null,
            "object_position": null,
            "order": null,
            "overflow": null,
            "overflow_x": null,
            "overflow_y": null,
            "padding": null,
            "right": null,
            "top": null,
            "visibility": null,
            "width": null
          }
        },
        "eb9fd2d2c9ed4eec86bcbe86dc03dc0a": {
          "model_module": "@jupyter-widgets/controls",
          "model_module_version": "1.5.0",
          "model_name": "DescriptionStyleModel",
          "state": {
            "_model_module": "@jupyter-widgets/controls",
            "_model_module_version": "1.5.0",
            "_model_name": "DescriptionStyleModel",
            "_view_count": null,
            "_view_module": "@jupyter-widgets/base",
            "_view_module_version": "1.2.0",
            "_view_name": "StyleView",
            "description_width": ""
          }
        },
        "eff2b6050605440e9d7f8125b6e5d9bb": {
          "model_module": "@jupyter-widgets/controls",
          "model_module_version": "1.5.0",
          "model_name": "HBoxModel",
          "state": {
            "_dom_classes": [],
            "_model_module": "@jupyter-widgets/controls",
            "_model_module_version": "1.5.0",
            "_model_name": "HBoxModel",
            "_view_count": null,
            "_view_module": "@jupyter-widgets/controls",
            "_view_module_version": "1.5.0",
            "_view_name": "HBoxView",
            "box_style": "",
            "children": [
              "IPY_MODEL_2b3116bbf9644d4fa7851da449b47125",
              "IPY_MODEL_70c9b1a26c0549bc8eb1f086f591066d",
              "IPY_MODEL_79ecc6d4b05b4248b73f6cb9b2efa4bc"
            ],
            "layout": "IPY_MODEL_742a63538796493684dad4a528bb5560"
          }
        },
        "fee91cd9d881478db0c9fb5c325f1823": {
          "model_module": "@jupyter-widgets/base",
          "model_module_version": "1.2.0",
          "model_name": "LayoutModel",
          "state": {
            "_model_module": "@jupyter-widgets/base",
            "_model_module_version": "1.2.0",
            "_model_name": "LayoutModel",
            "_view_count": null,
            "_view_module": "@jupyter-widgets/base",
            "_view_module_version": "1.2.0",
            "_view_name": "LayoutView",
            "align_content": null,
            "align_items": null,
            "align_self": null,
            "border": null,
            "bottom": null,
            "display": null,
            "flex": null,
            "flex_flow": null,
            "grid_area": null,
            "grid_auto_columns": null,
            "grid_auto_flow": null,
            "grid_auto_rows": null,
            "grid_column": null,
            "grid_gap": null,
            "grid_row": null,
            "grid_template_areas": null,
            "grid_template_columns": null,
            "grid_template_rows": null,
            "height": null,
            "justify_content": null,
            "justify_items": null,
            "left": null,
            "margin": null,
            "max_height": null,
            "max_width": null,
            "min_height": null,
            "min_width": null,
            "object_fit": null,
            "object_position": null,
            "order": null,
            "overflow": null,
            "overflow_x": null,
            "overflow_y": null,
            "padding": null,
            "right": null,
            "top": null,
            "visibility": null,
            "width": null
          }
        }
      }
    }
  },
  "nbformat": 4,
  "nbformat_minor": 5
}

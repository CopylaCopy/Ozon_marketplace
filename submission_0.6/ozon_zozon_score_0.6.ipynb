{
 "cells": [
  {
   "cell_type": "code",
   "execution_count": 1,
   "id": "27b992b0",
   "metadata": {
    "cellId": "bls132imi3lk984l5611l"
   },
   "outputs": [],
   "source": [
    "import gdown\n",
    "import pandas as pd\n",
    "import random\n",
    "import json"
   ]
  },
  {
   "cell_type": "code",
   "execution_count": null,
   "id": "42bef86b",
   "metadata": {
    "cellId": "ecgc500ig4e84c0e08wi96"
   },
   "outputs": [],
   "source": [
    "# gdown.download('https://drive.google.com/file/d/17NBXx6l_6znStM52RJOKKKlxnHigavzq/view', fuzzy=True)"
   ]
  },
  {
   "cell_type": "code",
   "execution_count": null,
   "id": "bbb30de9",
   "metadata": {
    "cellId": "wfvjmfdiopmgq06lqsi97g"
   },
   "outputs": [],
   "source": [
    "# tar -xvzf hackathon_objects.tar.gz"
   ]
  },
  {
   "cell_type": "code",
   "execution_count": 2,
   "id": "deee3114",
   "metadata": {
    "cellId": "s3787kdzasvahec8kf73r"
   },
   "outputs": [],
   "source": [
    "goods_data = pd.read_parquet('../datasets/train_data.parquet')\n",
    "\n",
    "goods_pairs = pd.read_parquet('../datasets/train_pairs_w_target.parquet')"
   ]
  },
  {
   "cell_type": "code",
   "execution_count": 3,
   "id": "3c57ed52",
   "metadata": {
    "cellId": "un7g4kr0qpd0tmhg5cztn"
   },
   "outputs": [],
   "source": [
    "def symm_pairs(df):\n",
    "    # todo: complete cliques of goods\n",
    "    \n",
    "    df2 = df.copy()\n",
    "    cols = [\"variantid1\", \"variantid2\"]\n",
    "    for c in cols:\n",
    "        if c not in df2.columns:\n",
    "            raise UserWarning\n",
    "    df2 = df2.rename(columns={cols[0]: cols[1], cols[1]: cols[0]})\n",
    "    return pd.concat([df, df2]).drop_duplicates()"
   ]
  },
  {
   "cell_type": "code",
   "execution_count": 4,
   "id": "010899f9",
   "metadata": {
    "cellId": "1kwhyiuyzyerhlxq9l94hm"
   },
   "outputs": [],
   "source": [
    "import torch\n",
    "import random\n",
    "import numpy as np\n",
    "from torch.utils.data import Dataset, DataLoader\n",
    "\n",
    "\n",
    "class ContrastiveDataset(Dataset):\n",
    "    def __init__(self, original_dataset, pairs_dataset, embedding_columns, mode = True):\n",
    "        self.original_dataset = original_dataset.set_index('variantid')\n",
    "        self.pairs_dataset = pairs_dataset\n",
    "        self.embedding_columns = embedding_columns\n",
    "        self.dataset = None\n",
    "        self.mode = mode\n",
    "        if self.mode:\n",
    "            self.prepare_dataset()\n",
    "\n",
    "        else:\n",
    "            self.prepare_test_dataset()\n",
    "        self.prepare_data()\n",
    "        \n",
    "\n",
    "    def prepare_dataset(self):\n",
    "        neg_pairs =  self.pairs_dataset[ self.pairs_dataset.target ==0.].groupby('variantid1').variantid2.apply(lambda x: list(x)).to_frame()\n",
    "        pos_pairs =  self.pairs_dataset[ self.pairs_dataset.target ==1.].groupby('variantid1').variantid2.apply(lambda x: list(x)).to_frame()\n",
    "        self.dataset = pos_pairs.merge(neg_pairs, how = 'outer', left_index = True, right_index = True, suffixes = ['_pos', '_neg'])\n",
    "        sol = pd.Series(np.where(self.dataset.variantid2_pos.notnull(), self.dataset.variantid2_pos, pd.Series(self.dataset.index).apply(lambda x: [x])))\n",
    "        self.dataset['variantid2_pos'] = sol.set_axis(self.dataset.index)\n",
    "        ld = pd.Series(self.dataset.index).sample(frac = 1).apply(lambda x: [x])\n",
    "        sol = pd.Series(np.where(self.dataset.variantid2_neg.notnull(), self.dataset.variantid2_neg, ld))\n",
    "        self.dataset['variantid2_neg'] = sol.set_axis(self.dataset.index)\n",
    "        self.dataset = self.dataset.reset_index()\n",
    "\n",
    "        \n",
    "    def prepare_data(self):\n",
    "        self.original_dataset = self.original_dataset.apply(lambda x: torch.cat([torch.tensor(x['main_pic_embeddings_resnet_v1'][0]), torch.tensor(x['name_bert_64'])], axis =0), axis =1)\n",
    "    \n",
    "    def prepare_test_dataset(self):\n",
    "        self.dataset = self.pairs_dataset[['variantid1']].reset_index(drop=True)\n",
    "\n",
    "\n",
    "\n",
    "    def __getitem__(self, index):\n",
    "        original_idx = self.dataset.loc[index].variantid1\n",
    "        if self.mode:\n",
    "            positive_idx = self.dataset.loc[index].variantid2_pos\n",
    "            negative_idx = self.dataset.loc[index].variantid2_neg\n",
    "            if len(positive_idx)>1:\n",
    "                val = np.random.choice(len(positive_idx), 1)[0]\n",
    "                positive_idx = positive_idx[val]\n",
    "            else:\n",
    "                positive_idx = positive_idx[0]\n",
    "            if len(negative_idx)>1:\n",
    "                val = np.random.choice(len(negative_idx), 1)[0]\n",
    "                negative_idx = negative_idx[val]\n",
    "            else:\n",
    "                negative_idx = negative_idx[0]\n",
    "            positive_pair = self.original_dataset.loc[positive_idx]\n",
    "            negative_pair = self.original_dataset.loc[negative_idx]\n",
    "            original_data = self.original_dataset.loc[original_idx]\n",
    "          #  print(original_data)\n",
    "            return original_data, positive_pair, negative_pair, original_idx\n",
    "        else:\n",
    "            original_data = self.original_dataset.loc[original_idx]\n",
    "            return original_data, original_idx\n",
    "\n",
    "\n",
    "    def __len__(self):\n",
    "        return len(self.dataset)\n",
    "\n"
   ]
  },
  {
   "attachments": {},
   "cell_type": "markdown",
   "id": "7cdd5b77",
   "metadata": {
    "cellId": "3tmtu33k29xdruqfbz2rac",
    "execution_id": "80fa1605-175e-411e-a81a-190708cc061f"
   },
   "source": [
    "# Actual data"
   ]
  },
  {
   "cell_type": "code",
   "execution_count": 5,
   "id": "31987838",
   "metadata": {
    "cellId": "e66sob5skeokmuldwzmmf"
   },
   "outputs": [],
   "source": [
    "symm_goods_pairs = symm_pairs(goods_pairs)"
   ]
  },
  {
   "cell_type": "code",
   "execution_count": null,
   "id": "706a1189",
   "metadata": {},
   "outputs": [
    {
     "data": {
      "text/plain": [
       "1     189650\n",
       "2      18977\n",
       "3       3806\n",
       "4       1403\n",
       "5        734\n",
       "6        561\n",
       "7        380\n",
       "8        287\n",
       "9        247\n",
       "10       190\n",
       "11       166\n",
       "12       129\n",
       "13       115\n",
       "14        72\n",
       "15        55\n",
       "16        40\n",
       "17        24\n",
       "18        22\n",
       "20        15\n",
       "19        14\n",
       "21         6\n",
       "22         5\n",
       "25         3\n",
       "26         3\n",
       "23         2\n",
       "27         2\n",
       "24         2\n",
       "28         1\n",
       "Name: variantid2, dtype: int64"
      ]
     },
     "execution_count": 43,
     "metadata": {},
     "output_type": "execute_result"
    }
   ],
   "source": [
    "pos_pairs = symm_goods_pairs[symm_goods_pairs.target ==1].groupby('variantid1').variantid2.apply(lambda x: list(x)).to_frame()\n",
    "#checking if lists contain duplicates\n",
    "pos_pairs.variantid2.apply(lambda x: len(x) !=len(set(x))).value_counts()\n",
    "# добавить все симметричные positive pairs\n",
    "pos_pairs.variantid2.str.len().value_counts()"
   ]
  },
  {
   "cell_type": "code",
   "execution_count": 6,
   "id": "94bf6263",
   "metadata": {
    "cellId": "s4fwg9p204n8sjuzrk1z02"
   },
   "outputs": [
    {
     "data": {
      "text/plain": [
       "torch.Size([128, 192])"
      ]
     },
     "execution_count": 6,
     "metadata": {},
     "output_type": "execute_result"
    }
   ],
   "source": [
    "embedding_columns = ['main_pic_embeddings_resnet_v1', 'name_bert_64']\n",
    "\n",
    "contrastive_dataset = ContrastiveDataset(goods_data, symm_goods_pairs, embedding_columns, mode= True)\n",
    "contrastive_dataloader = DataLoader(contrastive_dataset, batch_size=128, shuffle=False, drop_last= False, num_workers = 8)\n",
    "next(iter(contrastive_dataloader))[0].shape"
   ]
  },
  {
   "cell_type": "code",
   "execution_count": 7,
   "id": "59466520",
   "metadata": {},
   "outputs": [
    {
     "data": {
      "text/plain": [
       "(torch.Size([128, 192]), torch.Size([128, 192]), torch.Size([128, 192]))"
      ]
     },
     "execution_count": 7,
     "metadata": {},
     "output_type": "execute_result"
    }
   ],
   "source": [
    "yt = next(iter(contrastive_dataloader))\n",
    "yt[0].shape, yt[1].shape, yt[2].shape"
   ]
  },
  {
   "attachments": {},
   "cell_type": "markdown",
   "id": "ed9a02a9",
   "metadata": {
    "cellId": "8hmealx9wh946wmkeqqznp",
    "execution_id": "4c11f772-d5dc-440d-be92-b9930289b0ab"
   },
   "source": [
    "# Basic train example"
   ]
  },
  {
   "cell_type": "code",
   "execution_count": 8,
   "id": "dce93811",
   "metadata": {
    "cellId": "v3sv6t44b74rjsewq93wo"
   },
   "outputs": [],
   "source": [
    "import torch\n",
    "import torch.nn as nn\n",
    "import torch.optim as optim\n",
    "from torch.utils.data import DataLoader\n",
    "\n",
    "from tqdm.notebook import tqdm"
   ]
  },
  {
   "cell_type": "code",
   "execution_count": 9,
   "id": "e5d822a5",
   "metadata": {
    "cellId": "hftt4a973j5hxwbsb6hmd"
   },
   "outputs": [],
   "source": [
    "#!g1.1\n",
    "\n",
    "device = 'cuda' if torch.cuda.is_available() else 'cpu'"
   ]
  },
  {
   "cell_type": "code",
   "execution_count": 10,
   "id": "e683a8cd",
   "metadata": {
    "cellId": "og2gft5os44sped1le5br",
    "execution_id": "37f530e5-d8ac-4ed7-9d4e-8b72e5ead7bc"
   },
   "outputs": [],
   "source": [
    "#!g1.1\n",
    "class ContrastiveModel(nn.Module):\n",
    "    def __init__(self, input_size, hidden_size, embedding_size):\n",
    "        super(ContrastiveModel, self).__init__()\n",
    "        \n",
    "        self.input_size = input_size\n",
    "        self.embedding_size = embedding_size\n",
    "        self.hidden_size = hidden_size\n",
    "        \n",
    "        self.fc1 = nn.Linear(input_size, hidden_size)\n",
    "        self.fc2 = nn.Linear(hidden_size, hidden_size)\n",
    "        self.fc3 = nn.Linear(hidden_size, embedding_size)\n",
    "        \n",
    "        self.relu = nn.ReLU()\n",
    "        self.dropout = nn.Dropout(p=0.2)\n",
    "        \n",
    "    def forward(self, x):\n",
    "        x = self.relu(self.fc1(x))\n",
    "        x = self.dropout(x)\n",
    "        x = self.relu(self.fc2(x))\n",
    "        x = self.fc3(x)\n",
    "        return x\n",
    "\n",
    "def triplet_loss(anchor, positive, negative, margin=1.0):\n",
    "    distance_positive = torch.norm(anchor - positive, dim=1)\n",
    "    distance_negative = torch.norm(anchor - negative, dim=1)\n",
    "    loss = torch.clamp(distance_positive - distance_negative + margin, min=0.0).mean()\n",
    "    return loss\n",
    "\n",
    "# Example parameters\n",
    "input_size = 192\n",
    "hidden_size = 64\n",
    "embedding_size = 32\n",
    "learning_rate = 0.001\n",
    "num_epochs = 10\n",
    "\n",
    "# Create an instance of the model\n",
    "model = ContrastiveModel(input_size, hidden_size, embedding_size).to(device)\n",
    "\n",
    "# Define the optimizer and the loss function\n",
    "optimizer = optim.Adam(model.parameters(), lr=learning_rate)\n",
    "\n",
    "# Train loop\n",
    "def train(model, contrastive_dataloader, optimizer):\n",
    "    for epoch in tqdm(range(num_epochs)):\n",
    "        total_loss = 0.0\n",
    "        \n",
    "        for original_data, positive_pair, negative_pair, _ in tqdm(contrastive_dataloader):\n",
    "            # Zero the gradients\n",
    "            optimizer.zero_grad()\n",
    "            \n",
    "            # Forward pass\n",
    "            anchor = model(original_data.to(device))\n",
    "            positive = model(positive_pair.to(device))\n",
    "            negative = model(negative_pair.to(device))\n",
    "            \n",
    "            # Compute the triplet loss\n",
    "            loss = triplet_loss(anchor, positive, negative)\n",
    "            \n",
    "            # Backward pass and optimization\n",
    "            loss.backward()\n",
    "            optimizer.step()\n",
    "            \n",
    "    #     print(loss.item())\n",
    "            total_loss += loss.item()\n",
    "        \n",
    "        average_loss = total_loss / len(contrastive_dataloader)\n",
    "        print(f\"Epoch [{epoch+1}/{num_epochs}], Average Loss: {average_loss:.4f}\")\n"
   ]
  },
  {
   "cell_type": "code",
   "execution_count": null,
   "id": "4f1c220f",
   "metadata": {},
   "outputs": [],
   "source": [
    "torch.save(model.state_dict(), 'contrastive_ozon.pt')"
   ]
  },
  {
   "cell_type": "code",
   "execution_count": 11,
   "id": "49f5114b",
   "metadata": {},
   "outputs": [
    {
     "data": {
      "text/plain": [
       "<All keys matched successfully>"
      ]
     },
     "execution_count": 11,
     "metadata": {},
     "output_type": "execute_result"
    }
   ],
   "source": [
    "model = ContrastiveModel(input_size, hidden_size, embedding_size).to(device)\n",
    "model.load_state_dict(torch.load('./contrastive_ozon.pt'))"
   ]
  },
  {
   "cell_type": "code",
   "execution_count": 12,
   "id": "f434720f",
   "metadata": {
    "cellId": "13e01eam7vpcthi0zaphyes",
    "execution_id": "045d38c5-453d-44ae-a5cc-8d7272306430"
   },
   "outputs": [
    {
     "data": {
      "application/vnd.jupyter.widget-view+json": {
       "model_id": "cbe2189749744349bc2b1da57ed1b114",
       "version_major": 2,
       "version_minor": 0
      },
      "text/plain": [
       "  0%|          | 0/3569 [00:00<?, ?it/s]"
      ]
     },
     "metadata": {},
     "output_type": "display_data"
    }
   ],
   "source": [
    "def predict(model, dataloader):\n",
    "    y_idxs = []\n",
    "    y_embed = []\n",
    "    for orig, _, _, idx in tqdm(dataloader):\n",
    "        embed = model(orig.to(device))\n",
    "        y_idxs.extend([i.detach().cpu().item() for i in idx])\n",
    "        y_embed.extend([[j.item() for j in i.detach().cpu()] for i in embed])\n",
    "    return y_idxs, y_embed\n",
    "\n",
    "y_idxs, y_embed = predict(model, contrastive_dataloader)\n",
    "\n",
    "        \n"
   ]
  },
  {
   "cell_type": "code",
   "execution_count": 13,
   "id": "b512afb5",
   "metadata": {},
   "outputs": [],
   "source": [
    "embed = pd.DataFrame({'variant': y_idxs, 'embed': y_embed})\n",
    "classif = goods_pairs.merge(embed, left_on = 'variantid1', right_on = 'variant', how = 'left', suffixes = ['', '_1'])\n",
    "classif = classif.merge(embed, left_on = 'variantid2', right_on='variant', how = 'left', suffixes = ['', '_2'])\n",
    "classif.drop(['variant', 'variant_2'],axis = 1, inplace = True)"
   ]
  },
  {
   "cell_type": "code",
   "execution_count": 14,
   "id": "965f7493",
   "metadata": {},
   "outputs": [],
   "source": [
    "from sklearn.metrics.pairwise import cosine_similarity\n",
    "def get_pic_features(main_pic_embeddings_1,\n",
    "                     main_pic_embeddings_2):\n",
    "    \"\"\"Calculate distances percentiles for \n",
    "    pairwise pic distances. Percentiles are useful \n",
    "    when product has several pictures.\n",
    "    \"\"\"\n",
    "     \n",
    "    embed= list(np.abs(np.array(main_pic_embeddings_1)[None, ...] - np.array(main_pic_embeddings_2)[None, ...])[0])\n",
    "\n",
    "    cos_sim = cosine_similarity(\n",
    "        np.array(main_pic_embeddings_1)[None, ...], np.array(main_pic_embeddings_2)[None, ...]\n",
    "    )[0][0]\n",
    "    \n",
    "\n",
    "    # pair_features = []\n",
    "    # pair_features += np.percentile(dist_m, percentiles).tolist()\n",
    "\n",
    "    return embed, cos_sim"
   ]
  },
  {
   "cell_type": "code",
   "execution_count": 15,
   "id": "485b853c",
   "metadata": {},
   "outputs": [],
   "source": [
    "\n",
    "classif[[\"embed_dif\", \"cos_sim\", ]] = (\n",
    "    classif[[\"embed\", \"embed_2\"]].apply(\n",
    "        lambda x: pd.Series(get_pic_features(*x)), axis=1\n",
    "    )\n",
    ")"
   ]
  },
  {
   "cell_type": "code",
   "execution_count": 16,
   "id": "a53ed0b0",
   "metadata": {},
   "outputs": [],
   "source": [
    "classif = classif.merge(goods_data[['variantid', 'categories']], left_on = 'variantid1', right_on = 'variantid', how = 'left')\n",
    "classif[\"cat3\"] = classif[\"categories\"].apply(lambda x: json.loads(x)[\"3\"])\n",
    "cat3_counts = classif[\"cat3\"].value_counts().to_dict()\n",
    "classif[\"cat3_grouped\"] = classif[\"cat3\"].apply(lambda x: x if cat3_counts[x] > 1000 else \"rest\")"
   ]
  },
  {
   "cell_type": "code",
   "execution_count": 17,
   "id": "5dd54e10",
   "metadata": {},
   "outputs": [],
   "source": [
    "dikt_categories= {i: j for i, j in zip(classif.cat3_grouped.unique(), range(classif.cat3_grouped.nunique()))}\n",
    "classif['category'] = classif.cat3_grouped.map(dikt_categories)\n",
    "embeddings = pd.DataFrame(classif['embed_dif'].tolist())\n",
    "data = pd.concat([classif, embeddings], axis = 1)\n",
    "data= data[['target', 'variantid1', 'variantid2',  'cos_sim', 'cat3_grouped', 'category']+list(embeddings.columns)]"
   ]
  },
  {
   "cell_type": "code",
   "execution_count": 111,
   "id": "a11dfecf",
   "metadata": {},
   "outputs": [
    {
     "name": "stderr",
     "output_type": "stream",
     "text": [
      "/home/andreychuk/.venv/lib/python3.7/site-packages/sklearn/utils/validation.py:1692: FutureWarning: Feature names only support names that are all strings. Got feature names with dtypes: ['int', 'str']. An error will be raised in 1.2.\n",
      "  FutureWarning,\n",
      "/home/andreychuk/.venv/lib/python3.7/site-packages/sklearn/utils/validation.py:1692: FutureWarning: Feature names only support names that are all strings. Got feature names with dtypes: ['int', 'str']. An error will be raised in 1.2.\n",
      "  FutureWarning,\n",
      "/home/andreychuk/.venv/lib/python3.7/site-packages/sklearn/utils/validation.py:1692: FutureWarning: Feature names only support names that are all strings. Got feature names with dtypes: ['int', 'str']. An error will be raised in 1.2.\n",
      "  FutureWarning,\n"
     ]
    }
   ],
   "source": [
    "from catboost import CatBoostClassifier, Pool\n",
    "from sklearn.model_selection import train_test_split\n",
    "from sklearn.preprocessing import StandardScaler\n",
    "#в итоге убираю categories, с ней работает гораздо хуже\n",
    "\n",
    "X_train, X_test = train_test_split(\n",
    "    data, \n",
    "    test_size=0.1, random_state=42, stratify=classif[[\"target\", \"cat3_grouped\"]]\n",
    ")\n",
    "\n",
    "y_test = X_test[[\"target\", \"variantid1\", \"variantid2\", ]]\n",
    "cat_test = X_test[\"cat3_grouped\" ]\n",
    "X_test = X_test.drop([\"target\", \"cat3_grouped\", 'category'], axis=1)\n",
    "\n",
    "y_train = X_train[\"target\"]\n",
    "cat_train = X_train[\"cat3_grouped\"]\n",
    "X_train = X_train.drop([\"target\", \"cat3_grouped\",  'category'], axis=1)\n",
    "scaler = StandardScaler()\n",
    "X_train_sc = scaler.fit_transform(X_train)\n",
    "X_test_sc =scaler.transform(X_test)\n",
    "train_pool = Pool(\n",
    "    data=X_train,\n",
    "    label=y_train,\n",
    ")\n",
    "eval_pool = Pool(\n",
    "    data=X_test,\n",
    "    label=y_test['target']\n",
    ")"
   ]
  },
  {
   "cell_type": "code",
   "execution_count": 103,
   "id": "0bd7909a",
   "metadata": {},
   "outputs": [
    {
     "data": {
      "text/plain": [
       "LogisticRegression()"
      ]
     },
     "execution_count": 103,
     "metadata": {},
     "output_type": "execute_result"
    }
   ],
   "source": [
    "# from sklearn.linear_model import LogisticRegression\n",
    "# clf = LogisticRegression(penalty='l2')\n",
    "# clf.fit(X_train_sc, y_train)"
   ]
  },
  {
   "cell_type": "code",
   "execution_count": 112,
   "id": "2680d36b",
   "metadata": {},
   "outputs": [
    {
     "name": "stdout",
     "output_type": "stream",
     "text": [
      "Learning rate set to 0.345756\n",
      "0:\tlearn: 0.6619167\ttest: 0.6619180\tbest: 0.6619180 (0)\ttotal: 25.8ms\tremaining: 2.55s\n"
     ]
    },
    {
     "name": "stderr",
     "output_type": "stream",
     "text": [
      "Warning: Overfitting detector is active, thus evaluation metric is calculated on every iteration. 'metric_period' is ignored for evaluation metric.\n"
     ]
    },
    {
     "name": "stdout",
     "output_type": "stream",
     "text": [
      "99:\tlearn: 0.5670907\ttest: 0.5745963\tbest: 0.5745830 (98)\ttotal: 1.78s\tremaining: 0us\n",
      "\n",
      "bestTest = 0.5745829875\n",
      "bestIteration = 98\n",
      "\n",
      "Shrink model to first 99 iterations.\n"
     ]
    },
    {
     "data": {
      "text/plain": [
       "<catboost.core.CatBoostClassifier at 0x7fdb4b339710>"
      ]
     },
     "execution_count": 112,
     "metadata": {},
     "output_type": "execute_result"
    }
   ],
   "source": [
    "model_cat = CatBoostClassifier(iterations = 100)\n",
    "\n",
    "model_cat.fit(\n",
    "   train_pool,\n",
    "    eval_set = eval_pool,\n",
    " #   n_jobs=10, \n",
    " #   plot=True,\n",
    "    verbose=True,\n",
    "    use_best_model=True,\n",
    "    early_stopping_rounds=50,\n",
    "    metric_period=100\n",
    ")"
   ]
  },
  {
   "cell_type": "code",
   "execution_count": 113,
   "id": "8612d9a4",
   "metadata": {},
   "outputs": [],
   "source": [
    "import numpy as np\n",
    "from sklearn.metrics import precision_recall_curve, auc\n",
    "\n",
    "\n",
    "def pr_auc_macro(\n",
    "    target_df: pd.DataFrame,\n",
    "    predictions_df: pd.DataFrame,\n",
    "    prec_level: float = 0.75,\n",
    "    cat_column: str = \"cat3_grouped\",\n",
    "    cat_df: pd.DataFrame = cat_test\n",
    ") -> float:\n",
    "    \n",
    "    df = target_df.merge(predictions_df, on=[\"variantid1\", \"variantid2\"])\n",
    "    \n",
    "    y_true = df[\"target\"]\n",
    "    y_pred = df[\"scores\"]\n",
    "    categories = cat_df\n",
    "    \n",
    "    weights = []\n",
    "    pr_aucs = []\n",
    "\n",
    "    unique_cats, counts = np.unique(categories, return_counts=True)\n",
    "\n",
    "    for i, category in enumerate(unique_cats):\n",
    "        cat_idx = np.where(categories == category)[0]\n",
    "        y_pred_cat = y_pred[cat_idx]\n",
    "        y_true_cat = y_true[cat_idx]\n",
    "\n",
    "        y, x, thr = precision_recall_curve(y_true_cat, y_pred_cat)\n",
    "        gt_prec_level_idx = np.where(y >= prec_level)[0]\n",
    "\n",
    "        try:\n",
    "            pr_auc_prec_level = auc(x[gt_prec_level_idx], y[gt_prec_level_idx])\n",
    "            if not np.isnan(pr_auc_prec_level):\n",
    "                pr_aucs.append(pr_auc_prec_level)\n",
    "                weights.append(counts[i] / len(categories))\n",
    "        except ValueError as err:\n",
    "            pr_aucs.append(0)\n",
    "            weights.append(0)\n",
    "    return np.average(pr_aucs, weights=weights)"
   ]
  },
  {
   "cell_type": "code",
   "execution_count": 87,
   "id": "51dc09b2",
   "metadata": {},
   "outputs": [],
   "source": [
    "import numpy as np\n",
    "import pandas as pd\n",
    "from sklearn.metrics import precision_recall_curve, auc\n",
    "\n",
    "\n",
    "def pr_auc_macro(\n",
    "    target_df: pd.DataFrame,\n",
    "    predictions_df: pd.DataFrame,\n",
    "    prec_level: float = 0.75,\n",
    "    cat_column: str = \"cat3_grouped\",\n",
    "    cat_df: pd.DataFrame = cat_test\n",
    ") -> float:\n",
    "    \n",
    "    df = target_df.merge(predictions_df, on=[\"variantid1\", \"variantid2\"])\n",
    "    \n",
    "    y_true = df[\"target\"]\n",
    "    y_pred = df[\"scores\"]\n",
    "    categories = cat_df\n",
    "    \n",
    "    weights = []\n",
    "    pr_aucs = []\n",
    "\n",
    "    unique_cats, counts = np.unique(categories, return_counts=True)\n",
    "\n",
    "    for i, category in enumerate(unique_cats):\n",
    "        cat_idx = np.where(categories == category)[0]\n",
    "        y_pred_cat = y_pred[cat_idx]\n",
    "        y_true_cat = y_true[cat_idx]\n",
    "\n",
    "        y, x, thr = precision_recall_curve(y_true_cat, y_pred_cat)\n",
    "        gt_prec_level_idx = np.where(y >= 0)[0]\n",
    "\n",
    "        try:\n",
    "            pr_auc_prec_level = auc(x[gt_prec_level_idx], y[gt_prec_level_idx])\n",
    "            if not np.isnan(pr_auc_prec_level):\n",
    "                pr_aucs.append(pr_auc_prec_level- prec_level)\n",
    "                weights.append(counts[i] / len(categories))\n",
    "        except ValueError as err:\n",
    "            pr_aucs.append(0)\n",
    "            weights.append(0)\n",
    "    return np.average(pr_aucs, weights=weights)\n"
   ]
  },
  {
   "cell_type": "code",
   "execution_count": 114,
   "id": "2bdcdbc1",
   "metadata": {},
   "outputs": [],
   "source": [
    "X_test['scores'] = model_cat.predict_proba(X_test)[:, 1]"
   ]
  },
  {
   "cell_type": "code",
   "execution_count": 115,
   "id": "49092822",
   "metadata": {},
   "outputs": [
    {
     "data": {
      "text/plain": [
       "0.32331692284250807"
      ]
     },
     "execution_count": 115,
     "metadata": {},
     "output_type": "execute_result"
    }
   ],
   "source": [
    "pr_auc_macro_metr = pr_auc_macro(\n",
    "    target_df=y_test, \n",
    "    predictions_df=X_test,\n",
    "    prec_level=0.75,\n",
    "    cat_column=\"cat3_grouped\", \n",
    "    cat_df= cat_test\n",
    ")\n",
    "\n",
    "pr_auc_macro_metr"
   ]
  },
  {
   "cell_type": "code",
   "execution_count": null,
   "id": "a1853363",
   "metadata": {},
   "outputs": [],
   "source": [
    "#используется только одна картинка, можно делать positive pairs со всеми"
   ]
  },
  {
   "cell_type": "code",
   "execution_count": 116,
   "id": "a82674f7",
   "metadata": {},
   "outputs": [
    {
     "data": {
      "text/plain": [
       "<AxesSubplot:>"
      ]
     },
     "execution_count": 116,
     "metadata": {},
     "output_type": "execute_result"
    },
    {
     "data": {
      "image/png": "[encoded data removed]",
      "text/plain": [
       "<Figure size 640x480 with 1 Axes>"
      ]
     },
     "metadata": {},
     "output_type": "display_data"
    }
   ],
   "source": [
    "pd.Series(X_test['scores']).hist()"
   ]
  },
  {
   "attachments": {},
   "cell_type": "markdown",
   "id": "6ba8d95f",
   "metadata": {},
   "source": [
    "# Submission"
   ]
  },
  {
   "cell_type": "code",
   "execution_count": 117,
   "id": "4a27288e",
   "metadata": {},
   "outputs": [],
   "source": [
    "#test_pairs = pd.read_parquet(\"../datasets/test_pairs_wo_target.parquet\")\n",
    "test_pairs = pd.read_csv(\"../datasets/test_for_participants.csv\")\n",
    "test_etl = pd.read_parquet(\"../datasets/test_data.parquet\")"
   ]
  },
  {
   "cell_type": "code",
   "execution_count": 118,
   "id": "bb8df478",
   "metadata": {},
   "outputs": [],
   "source": [
    "embedding_columns = ['main_pic_embeddings_resnet_v1', 'name_bert_64']\n",
    "symm_goods_pairs = symm_pairs(test_pairs)\n",
    "dataset_test = ContrastiveDataset(test_etl, symm_goods_pairs, embedding_columns, mode = False)\n",
    "test_dataloader = DataLoader(dataset_test, batch_size=128, shuffle=False, drop_last= False, num_workers =7)"
   ]
  },
  {
   "cell_type": "code",
   "execution_count": 119,
   "id": "01330faf",
   "metadata": {},
   "outputs": [],
   "source": [
    "yt = next(iter(test_dataloader))"
   ]
  },
  {
   "cell_type": "code",
   "execution_count": 120,
   "id": "1157d164",
   "metadata": {},
   "outputs": [
    {
     "data": {
      "application/vnd.jupyter.widget-view+json": {
       "model_id": "3f5f7f07abe04d129a26893220afd881",
       "version_major": 2,
       "version_minor": 0
      },
      "text/plain": [
       "  0%|          | 0/283 [00:00<?, ?it/s]"
      ]
     },
     "metadata": {},
     "output_type": "display_data"
    }
   ],
   "source": [
    "def predict(model, dataloader):\n",
    "    y_idxs = []\n",
    "    y_embed = []\n",
    "    for orig, idx in tqdm(dataloader):\n",
    "        embed = model(orig.to(device))\n",
    "        y_idxs.extend([i.detach().cpu().item() for i in idx])\n",
    "        y_embed.extend([[j.item() for j in i.detach().cpu()] for i in embed])\n",
    "    return y_idxs, y_embed\n",
    "\n",
    "y_idxs, y_embed = predict(model, test_dataloader)\n",
    "\n",
    "        \n"
   ]
  },
  {
   "cell_type": "code",
   "execution_count": 121,
   "id": "650497d9",
   "metadata": {},
   "outputs": [],
   "source": [
    "embed = pd.DataFrame({'variant': y_idxs, 'embed': y_embed})\n",
    "classif = test_pairs.merge(embed, left_on = 'variantid1', right_on = 'variant', how = 'left', suffixes = ['', '_1'])\n",
    "classif = classif.merge(embed, left_on = 'variantid2', right_on='variant', how = 'left', suffixes = ['', '_2'])\n",
    "classif.drop(['variant', 'variant_2'],axis = 1, inplace = True)"
   ]
  },
  {
   "cell_type": "code",
   "execution_count": 122,
   "id": "df7b2359",
   "metadata": {},
   "outputs": [
    {
     "data": {
      "text/html": [
       "<div>\n",
       "<style scoped>\n",
       "    .dataframe tbody tr th:only-of-type {\n",
       "        vertical-align: middle;\n",
       "    }\n",
       "\n",
       "    .dataframe tbody tr th {\n",
       "        vertical-align: top;\n",
       "    }\n",
       "\n",
       "    .dataframe thead th {\n",
       "        text-align: right;\n",
       "    }\n",
       "</style>\n",
       "<table border=\"1\" class=\"dataframe\">\n",
       "  <thead>\n",
       "    <tr style=\"text-align: right;\">\n",
       "      <th></th>\n",
       "      <th>variantid1</th>\n",
       "      <th>variantid2</th>\n",
       "      <th>embed</th>\n",
       "      <th>embed_2</th>\n",
       "    </tr>\n",
       "  </thead>\n",
       "  <tbody>\n",
       "    <tr>\n",
       "      <th>0</th>\n",
       "      <td>372065731</td>\n",
       "      <td>372070671</td>\n",
       "      <td>[1.6525622606277466, -3.2439792156219482, 1.51...</td>\n",
       "      <td>[0.6750813126564026, -2.1645538806915283, 2.00...</td>\n",
       "    </tr>\n",
       "    <tr>\n",
       "      <th>1</th>\n",
       "      <td>528068358</td>\n",
       "      <td>533445916</td>\n",
       "      <td>[0.005696989595890045, -1.3313469886779785, 3....</td>\n",
       "      <td>[0.8352844715118408, -2.027942419052124, 3.344...</td>\n",
       "    </tr>\n",
       "    <tr>\n",
       "      <th>2</th>\n",
       "      <td>480899084</td>\n",
       "      <td>480899989</td>\n",
       "      <td>[-1.832124948501587, 0.48868897557258606, 1.28...</td>\n",
       "      <td>[-3.8057878017425537, -0.09418486803770065, 0....</td>\n",
       "    </tr>\n",
       "    <tr>\n",
       "      <th>3</th>\n",
       "      <td>384479474</td>\n",
       "      <td>488458602</td>\n",
       "      <td>[-4.925470352172852, 5.771787166595459, -0.819...</td>\n",
       "      <td>[-3.441995620727539, 4.656591892242432, -1.367...</td>\n",
       "    </tr>\n",
       "    <tr>\n",
       "      <th>4</th>\n",
       "      <td>658044199</td>\n",
       "      <td>663187587</td>\n",
       "      <td>[-1.116568684577942, 1.8577327728271484, 0.056...</td>\n",
       "      <td>[-3.4046566486358643, 4.571574687957764, 3.105...</td>\n",
       "    </tr>\n",
       "    <tr>\n",
       "      <th>...</th>\n",
       "      <td>...</td>\n",
       "      <td>...</td>\n",
       "      <td>...</td>\n",
       "      <td>...</td>\n",
       "    </tr>\n",
       "    <tr>\n",
       "      <th>19002</th>\n",
       "      <td>405934001</td>\n",
       "      <td>695957034</td>\n",
       "      <td>[-4.9288530349731445, -0.8200416564941406, 1.2...</td>\n",
       "      <td>[-4.291055202484131, -1.5159084796905518, 1.53...</td>\n",
       "    </tr>\n",
       "    <tr>\n",
       "      <th>19003</th>\n",
       "      <td>692224892</td>\n",
       "      <td>692246989</td>\n",
       "      <td>[-0.8456848859786987, 0.17000892758369446, 0.6...</td>\n",
       "      <td>[-1.5315381288528442, 1.7129992246627808, 0.06...</td>\n",
       "    </tr>\n",
       "    <tr>\n",
       "      <th>19004</th>\n",
       "      <td>388824213</td>\n",
       "      <td>658486072</td>\n",
       "      <td>[-5.06603479385376, 3.2865912914276123, 2.9591...</td>\n",
       "      <td>[-3.2435405254364014, 2.201007604598999, 4.590...</td>\n",
       "    </tr>\n",
       "    <tr>\n",
       "      <th>19005</th>\n",
       "      <td>479858327</td>\n",
       "      <td>480111601</td>\n",
       "      <td>[-1.6977787017822266, -0.2960455119609833, 3.0...</td>\n",
       "      <td>[-2.1160013675689697, 0.30456051230430603, 2.6...</td>\n",
       "    </tr>\n",
       "    <tr>\n",
       "      <th>19006</th>\n",
       "      <td>196626653</td>\n",
       "      <td>696488427</td>\n",
       "      <td>[-4.541161060333252, 1.2516759634017944, 2.252...</td>\n",
       "      <td>[-3.8346245288848877, 1.0791956186294556, 2.37...</td>\n",
       "    </tr>\n",
       "  </tbody>\n",
       "</table>\n",
       "<p>19007 rows × 4 columns</p>\n",
       "</div>"
      ],
      "text/plain": [
       "       variantid1  variantid2  \\\n",
       "0       372065731   372070671   \n",
       "1       528068358   533445916   \n",
       "2       480899084   480899989   \n",
       "3       384479474   488458602   \n",
       "4       658044199   663187587   \n",
       "...           ...         ...   \n",
       "19002   405934001   695957034   \n",
       "19003   692224892   692246989   \n",
       "19004   388824213   658486072   \n",
       "19005   479858327   480111601   \n",
       "19006   196626653   696488427   \n",
       "\n",
       "                                                   embed  \\\n",
       "0      [1.6525622606277466, -3.2439792156219482, 1.51...   \n",
       "1      [0.005696989595890045, -1.3313469886779785, 3....   \n",
       "2      [-1.832124948501587, 0.48868897557258606, 1.28...   \n",
       "3      [-4.925470352172852, 5.771787166595459, -0.819...   \n",
       "4      [-1.116568684577942, 1.8577327728271484, 0.056...   \n",
       "...                                                  ...   \n",
       "19002  [-4.9288530349731445, -0.8200416564941406, 1.2...   \n",
       "19003  [-0.8456848859786987, 0.17000892758369446, 0.6...   \n",
       "19004  [-5.06603479385376, 3.2865912914276123, 2.9591...   \n",
       "19005  [-1.6977787017822266, -0.2960455119609833, 3.0...   \n",
       "19006  [-4.541161060333252, 1.2516759634017944, 2.252...   \n",
       "\n",
       "                                                 embed_2  \n",
       "0      [0.6750813126564026, -2.1645538806915283, 2.00...  \n",
       "1      [0.8352844715118408, -2.027942419052124, 3.344...  \n",
       "2      [-3.8057878017425537, -0.09418486803770065, 0....  \n",
       "3      [-3.441995620727539, 4.656591892242432, -1.367...  \n",
       "4      [-3.4046566486358643, 4.571574687957764, 3.105...  \n",
       "...                                                  ...  \n",
       "19002  [-4.291055202484131, -1.5159084796905518, 1.53...  \n",
       "19003  [-1.5315381288528442, 1.7129992246627808, 0.06...  \n",
       "19004  [-3.2435405254364014, 2.201007604598999, 4.590...  \n",
       "19005  [-2.1160013675689697, 0.30456051230430603, 2.6...  \n",
       "19006  [-3.8346245288848877, 1.0791956186294556, 2.37...  \n",
       "\n",
       "[19007 rows x 4 columns]"
      ]
     },
     "execution_count": 122,
     "metadata": {},
     "output_type": "execute_result"
    }
   ],
   "source": [
    "classif"
   ]
  },
  {
   "cell_type": "code",
   "execution_count": 123,
   "id": "94a7be70",
   "metadata": {},
   "outputs": [],
   "source": [
    "from sklearn.metrics.pairwise import cosine_similarity\n",
    "from sklearn.metrics import pairwise_distances\n",
    "def get_pic_features(main_pic_embeddings_1,\n",
    "                     main_pic_embeddings_2):\n",
    "    \"\"\"Calculate distances percentiles for \n",
    "    pairwise pic distances. Percentiles are useful \n",
    "    when product has several pictures.\n",
    "    \"\"\"\n",
    "     \n",
    "    embed= list(np.abs(np.array(main_pic_embeddings_1)[None, ...] - np.array(main_pic_embeddings_2)[None, ...])[0])\n",
    "\n",
    "    cos_sim = cosine_similarity(\n",
    "        np.array(main_pic_embeddings_1)[None, ...], np.array(main_pic_embeddings_2)[None, ...]\n",
    "    )[0][0]\n",
    "    \n",
    "\n",
    "    # pair_features = []\n",
    "    # pair_features += np.percentile(dist_m, percentiles).tolist()\n",
    "\n",
    "    return embed, cos_sim"
   ]
  },
  {
   "cell_type": "code",
   "execution_count": 124,
   "id": "839a1392",
   "metadata": {},
   "outputs": [],
   "source": [
    "\n",
    "classif[[\"embed_dif\", \"cos_sim\", ]] = (\n",
    "    classif[[\"embed\", \"embed_2\"]].apply(\n",
    "        lambda x: pd.Series(get_pic_features(*x)), axis=1\n",
    "    )\n",
    ")"
   ]
  },
  {
   "cell_type": "code",
   "execution_count": 125,
   "id": "96bde53e",
   "metadata": {},
   "outputs": [],
   "source": [
    "classif = classif.merge(test_etl[['variantid', 'categories']], left_on = 'variantid1', right_on = 'variantid', how = 'left')\n",
    "classif[\"cat3\"] = classif[\"categories\"].apply(lambda x: json.loads(x)[\"3\"])\n",
    "cat3_counts = classif[\"cat3\"].value_counts().to_dict()\n"
   ]
  },
  {
   "cell_type": "code",
   "execution_count": 126,
   "id": "26f7015d",
   "metadata": {},
   "outputs": [],
   "source": [
    "classif[\"cat3_grouped\"] = classif[\"cat3\"].apply(lambda x: x if cat3_counts[x] > 1000 else \"rest\")"
   ]
  },
  {
   "cell_type": "code",
   "execution_count": 276,
   "id": "0ae47f30",
   "metadata": {},
   "outputs": [],
   "source": [
    "dikt_categories= {i: j for i, j in zip(classif.cat3_grouped.unique(), range(classif.cat3_grouped.nunique()))}\n",
    "classif['category'] = classif.cat3_grouped.map(dikt_categories)\n",
    "embeddings = pd.DataFrame(classif['embed_dif'].tolist())\n",
    "data = pd.concat([classif, embeddings], axis = 1)"
   ]
  },
  {
   "cell_type": "code",
   "execution_count": 127,
   "id": "1772bc99",
   "metadata": {},
   "outputs": [],
   "source": [
    "data= data[['variantid1', 'variantid2',  'cos_sim']+list(embeddings.columns)] #'category'"
   ]
  },
  {
   "cell_type": "code",
   "execution_count": 130,
   "id": "5ca39752",
   "metadata": {},
   "outputs": [
    {
     "data": {
      "text/html": [
       "<div>\n",
       "<style scoped>\n",
       "    .dataframe tbody tr th:only-of-type {\n",
       "        vertical-align: middle;\n",
       "    }\n",
       "\n",
       "    .dataframe tbody tr th {\n",
       "        vertical-align: top;\n",
       "    }\n",
       "\n",
       "    .dataframe thead th {\n",
       "        text-align: right;\n",
       "    }\n",
       "</style>\n",
       "<table border=\"1\" class=\"dataframe\">\n",
       "  <thead>\n",
       "    <tr style=\"text-align: right;\">\n",
       "      <th></th>\n",
       "      <th>variantid1</th>\n",
       "      <th>variantid2</th>\n",
       "      <th>cos_sim</th>\n",
       "      <th>0</th>\n",
       "      <th>1</th>\n",
       "      <th>2</th>\n",
       "      <th>3</th>\n",
       "      <th>4</th>\n",
       "      <th>5</th>\n",
       "      <th>6</th>\n",
       "      <th>...</th>\n",
       "      <th>22</th>\n",
       "      <th>23</th>\n",
       "      <th>24</th>\n",
       "      <th>25</th>\n",
       "      <th>26</th>\n",
       "      <th>27</th>\n",
       "      <th>28</th>\n",
       "      <th>29</th>\n",
       "      <th>30</th>\n",
       "      <th>31</th>\n",
       "    </tr>\n",
       "  </thead>\n",
       "  <tbody>\n",
       "    <tr>\n",
       "      <th>0</th>\n",
       "      <td>51197862</td>\n",
       "      <td>51198054</td>\n",
       "      <td>0.413231</td>\n",
       "      <td>0.850892</td>\n",
       "      <td>1.419359</td>\n",
       "      <td>1.449553</td>\n",
       "      <td>1.744147</td>\n",
       "      <td>1.871272</td>\n",
       "      <td>1.830117</td>\n",
       "      <td>2.390528</td>\n",
       "      <td>...</td>\n",
       "      <td>0.214506</td>\n",
       "      <td>1.129993</td>\n",
       "      <td>1.254275</td>\n",
       "      <td>1.736705</td>\n",
       "      <td>0.905519</td>\n",
       "      <td>0.151526</td>\n",
       "      <td>1.015846</td>\n",
       "      <td>0.537169</td>\n",
       "      <td>0.603081</td>\n",
       "      <td>0.605535</td>\n",
       "    </tr>\n",
       "    <tr>\n",
       "      <th>1</th>\n",
       "      <td>53062686</td>\n",
       "      <td>536165289</td>\n",
       "      <td>0.994501</td>\n",
       "      <td>0.724834</td>\n",
       "      <td>0.865314</td>\n",
       "      <td>0.180181</td>\n",
       "      <td>0.179855</td>\n",
       "      <td>0.108675</td>\n",
       "      <td>0.878026</td>\n",
       "      <td>0.023633</td>\n",
       "      <td>...</td>\n",
       "      <td>0.183326</td>\n",
       "      <td>0.442302</td>\n",
       "      <td>0.175646</td>\n",
       "      <td>0.610802</td>\n",
       "      <td>0.374828</td>\n",
       "      <td>0.170219</td>\n",
       "      <td>0.158223</td>\n",
       "      <td>0.243014</td>\n",
       "      <td>0.194189</td>\n",
       "      <td>0.219698</td>\n",
       "    </tr>\n",
       "    <tr>\n",
       "      <th>2</th>\n",
       "      <td>53602615</td>\n",
       "      <td>587809782</td>\n",
       "      <td>0.954776</td>\n",
       "      <td>0.617691</td>\n",
       "      <td>0.397453</td>\n",
       "      <td>0.696961</td>\n",
       "      <td>2.223639</td>\n",
       "      <td>1.486794</td>\n",
       "      <td>0.372180</td>\n",
       "      <td>1.089606</td>\n",
       "      <td>...</td>\n",
       "      <td>0.434875</td>\n",
       "      <td>0.570757</td>\n",
       "      <td>1.455370</td>\n",
       "      <td>0.439040</td>\n",
       "      <td>0.049713</td>\n",
       "      <td>1.091714</td>\n",
       "      <td>0.114849</td>\n",
       "      <td>0.287817</td>\n",
       "      <td>0.388773</td>\n",
       "      <td>0.741397</td>\n",
       "    </tr>\n",
       "    <tr>\n",
       "      <th>3</th>\n",
       "      <td>53888651</td>\n",
       "      <td>89598677</td>\n",
       "      <td>0.987757</td>\n",
       "      <td>1.159205</td>\n",
       "      <td>0.850549</td>\n",
       "      <td>0.602239</td>\n",
       "      <td>1.212186</td>\n",
       "      <td>0.992001</td>\n",
       "      <td>0.287687</td>\n",
       "      <td>0.317939</td>\n",
       "      <td>...</td>\n",
       "      <td>0.796361</td>\n",
       "      <td>0.153266</td>\n",
       "      <td>0.426669</td>\n",
       "      <td>0.790466</td>\n",
       "      <td>0.388277</td>\n",
       "      <td>0.716095</td>\n",
       "      <td>0.326445</td>\n",
       "      <td>0.063538</td>\n",
       "      <td>0.074501</td>\n",
       "      <td>0.475873</td>\n",
       "    </tr>\n",
       "    <tr>\n",
       "      <th>4</th>\n",
       "      <td>56930698</td>\n",
       "      <td>551526166</td>\n",
       "      <td>0.996819</td>\n",
       "      <td>0.036095</td>\n",
       "      <td>0.212312</td>\n",
       "      <td>0.085747</td>\n",
       "      <td>0.292147</td>\n",
       "      <td>0.062271</td>\n",
       "      <td>0.145790</td>\n",
       "      <td>0.075920</td>\n",
       "      <td>...</td>\n",
       "      <td>0.422532</td>\n",
       "      <td>0.186402</td>\n",
       "      <td>0.114349</td>\n",
       "      <td>0.038073</td>\n",
       "      <td>0.446134</td>\n",
       "      <td>0.120203</td>\n",
       "      <td>0.434610</td>\n",
       "      <td>0.115591</td>\n",
       "      <td>0.003185</td>\n",
       "      <td>0.290676</td>\n",
       "    </tr>\n",
       "    <tr>\n",
       "      <th>...</th>\n",
       "      <td>...</td>\n",
       "      <td>...</td>\n",
       "      <td>...</td>\n",
       "      <td>...</td>\n",
       "      <td>...</td>\n",
       "      <td>...</td>\n",
       "      <td>...</td>\n",
       "      <td>...</td>\n",
       "      <td>...</td>\n",
       "      <td>...</td>\n",
       "      <td>...</td>\n",
       "      <td>...</td>\n",
       "      <td>...</td>\n",
       "      <td>...</td>\n",
       "      <td>...</td>\n",
       "      <td>...</td>\n",
       "      <td>...</td>\n",
       "      <td>...</td>\n",
       "      <td>...</td>\n",
       "      <td>...</td>\n",
       "      <td>...</td>\n",
       "    </tr>\n",
       "    <tr>\n",
       "      <th>306535</th>\n",
       "      <td>817327230</td>\n",
       "      <td>822083612</td>\n",
       "      <td>0.999461</td>\n",
       "      <td>0.108054</td>\n",
       "      <td>0.064370</td>\n",
       "      <td>0.171312</td>\n",
       "      <td>0.057446</td>\n",
       "      <td>0.216250</td>\n",
       "      <td>0.030313</td>\n",
       "      <td>0.272700</td>\n",
       "      <td>...</td>\n",
       "      <td>0.102231</td>\n",
       "      <td>0.039616</td>\n",
       "      <td>0.005920</td>\n",
       "      <td>0.005734</td>\n",
       "      <td>0.143971</td>\n",
       "      <td>0.145606</td>\n",
       "      <td>0.229809</td>\n",
       "      <td>0.188015</td>\n",
       "      <td>0.155154</td>\n",
       "      <td>0.091037</td>\n",
       "    </tr>\n",
       "    <tr>\n",
       "      <th>306536</th>\n",
       "      <td>817560551</td>\n",
       "      <td>818069912</td>\n",
       "      <td>0.827965</td>\n",
       "      <td>0.016449</td>\n",
       "      <td>0.007624</td>\n",
       "      <td>0.605001</td>\n",
       "      <td>0.444642</td>\n",
       "      <td>0.506917</td>\n",
       "      <td>0.926046</td>\n",
       "      <td>0.794408</td>\n",
       "      <td>...</td>\n",
       "      <td>0.017004</td>\n",
       "      <td>0.519530</td>\n",
       "      <td>0.278388</td>\n",
       "      <td>0.577257</td>\n",
       "      <td>0.028803</td>\n",
       "      <td>0.517250</td>\n",
       "      <td>0.624337</td>\n",
       "      <td>1.020518</td>\n",
       "      <td>0.365789</td>\n",
       "      <td>0.324698</td>\n",
       "    </tr>\n",
       "    <tr>\n",
       "      <th>306537</th>\n",
       "      <td>817854719</td>\n",
       "      <td>817857267</td>\n",
       "      <td>0.981926</td>\n",
       "      <td>0.113213</td>\n",
       "      <td>0.168530</td>\n",
       "      <td>0.056260</td>\n",
       "      <td>1.084927</td>\n",
       "      <td>0.874533</td>\n",
       "      <td>1.224645</td>\n",
       "      <td>0.752612</td>\n",
       "      <td>...</td>\n",
       "      <td>0.802427</td>\n",
       "      <td>0.452742</td>\n",
       "      <td>1.918400</td>\n",
       "      <td>0.385042</td>\n",
       "      <td>0.433768</td>\n",
       "      <td>1.642656</td>\n",
       "      <td>0.157621</td>\n",
       "      <td>0.460941</td>\n",
       "      <td>0.050142</td>\n",
       "      <td>0.199502</td>\n",
       "    </tr>\n",
       "    <tr>\n",
       "      <th>306538</th>\n",
       "      <td>820036017</td>\n",
       "      <td>820037019</td>\n",
       "      <td>0.998165</td>\n",
       "      <td>0.648865</td>\n",
       "      <td>0.114590</td>\n",
       "      <td>0.148945</td>\n",
       "      <td>0.305492</td>\n",
       "      <td>0.089048</td>\n",
       "      <td>0.774182</td>\n",
       "      <td>0.063644</td>\n",
       "      <td>...</td>\n",
       "      <td>0.069098</td>\n",
       "      <td>0.072091</td>\n",
       "      <td>0.377989</td>\n",
       "      <td>0.521683</td>\n",
       "      <td>0.265968</td>\n",
       "      <td>0.271195</td>\n",
       "      <td>0.227437</td>\n",
       "      <td>0.322278</td>\n",
       "      <td>0.465487</td>\n",
       "      <td>0.081696</td>\n",
       "    </tr>\n",
       "    <tr>\n",
       "      <th>306539</th>\n",
       "      <td>821514120</td>\n",
       "      <td>821514311</td>\n",
       "      <td>0.989070</td>\n",
       "      <td>0.636520</td>\n",
       "      <td>0.374978</td>\n",
       "      <td>0.023387</td>\n",
       "      <td>1.392249</td>\n",
       "      <td>0.312153</td>\n",
       "      <td>0.648730</td>\n",
       "      <td>0.232111</td>\n",
       "      <td>...</td>\n",
       "      <td>0.480163</td>\n",
       "      <td>0.005312</td>\n",
       "      <td>0.703449</td>\n",
       "      <td>0.726168</td>\n",
       "      <td>0.307938</td>\n",
       "      <td>1.117138</td>\n",
       "      <td>0.060571</td>\n",
       "      <td>0.068447</td>\n",
       "      <td>0.028252</td>\n",
       "      <td>1.185473</td>\n",
       "    </tr>\n",
       "  </tbody>\n",
       "</table>\n",
       "<p>306540 rows × 35 columns</p>\n",
       "</div>"
      ],
      "text/plain": [
       "        variantid1  variantid2   cos_sim         0         1         2  \\\n",
       "0         51197862    51198054  0.413231  0.850892  1.419359  1.449553   \n",
       "1         53062686   536165289  0.994501  0.724834  0.865314  0.180181   \n",
       "2         53602615   587809782  0.954776  0.617691  0.397453  0.696961   \n",
       "3         53888651    89598677  0.987757  1.159205  0.850549  0.602239   \n",
       "4         56930698   551526166  0.996819  0.036095  0.212312  0.085747   \n",
       "...            ...         ...       ...       ...       ...       ...   \n",
       "306535   817327230   822083612  0.999461  0.108054  0.064370  0.171312   \n",
       "306536   817560551   818069912  0.827965  0.016449  0.007624  0.605001   \n",
       "306537   817854719   817857267  0.981926  0.113213  0.168530  0.056260   \n",
       "306538   820036017   820037019  0.998165  0.648865  0.114590  0.148945   \n",
       "306539   821514120   821514311  0.989070  0.636520  0.374978  0.023387   \n",
       "\n",
       "               3         4         5         6  ...        22        23  \\\n",
       "0       1.744147  1.871272  1.830117  2.390528  ...  0.214506  1.129993   \n",
       "1       0.179855  0.108675  0.878026  0.023633  ...  0.183326  0.442302   \n",
       "2       2.223639  1.486794  0.372180  1.089606  ...  0.434875  0.570757   \n",
       "3       1.212186  0.992001  0.287687  0.317939  ...  0.796361  0.153266   \n",
       "4       0.292147  0.062271  0.145790  0.075920  ...  0.422532  0.186402   \n",
       "...          ...       ...       ...       ...  ...       ...       ...   \n",
       "306535  0.057446  0.216250  0.030313  0.272700  ...  0.102231  0.039616   \n",
       "306536  0.444642  0.506917  0.926046  0.794408  ...  0.017004  0.519530   \n",
       "306537  1.084927  0.874533  1.224645  0.752612  ...  0.802427  0.452742   \n",
       "306538  0.305492  0.089048  0.774182  0.063644  ...  0.069098  0.072091   \n",
       "306539  1.392249  0.312153  0.648730  0.232111  ...  0.480163  0.005312   \n",
       "\n",
       "              24        25        26        27        28        29        30  \\\n",
       "0       1.254275  1.736705  0.905519  0.151526  1.015846  0.537169  0.603081   \n",
       "1       0.175646  0.610802  0.374828  0.170219  0.158223  0.243014  0.194189   \n",
       "2       1.455370  0.439040  0.049713  1.091714  0.114849  0.287817  0.388773   \n",
       "3       0.426669  0.790466  0.388277  0.716095  0.326445  0.063538  0.074501   \n",
       "4       0.114349  0.038073  0.446134  0.120203  0.434610  0.115591  0.003185   \n",
       "...          ...       ...       ...       ...       ...       ...       ...   \n",
       "306535  0.005920  0.005734  0.143971  0.145606  0.229809  0.188015  0.155154   \n",
       "306536  0.278388  0.577257  0.028803  0.517250  0.624337  1.020518  0.365789   \n",
       "306537  1.918400  0.385042  0.433768  1.642656  0.157621  0.460941  0.050142   \n",
       "306538  0.377989  0.521683  0.265968  0.271195  0.227437  0.322278  0.465487   \n",
       "306539  0.703449  0.726168  0.307938  1.117138  0.060571  0.068447  0.028252   \n",
       "\n",
       "              31  \n",
       "0       0.605535  \n",
       "1       0.219698  \n",
       "2       0.741397  \n",
       "3       0.475873  \n",
       "4       0.290676  \n",
       "...          ...  \n",
       "306535  0.091037  \n",
       "306536  0.324698  \n",
       "306537  0.199502  \n",
       "306538  0.081696  \n",
       "306539  1.185473  \n",
       "\n",
       "[306540 rows x 35 columns]"
      ]
     },
     "execution_count": 130,
     "metadata": {},
     "output_type": "execute_result"
    }
   ],
   "source": [
    "data"
   ]
  },
  {
   "cell_type": "code",
   "execution_count": 280,
   "id": "787224f1",
   "metadata": {},
   "outputs": [
    {
     "name": "stderr",
     "output_type": "stream",
     "text": [
      "/home/andreychuk/.venv/lib/python3.7/site-packages/sklearn/utils/validation.py:1692: FutureWarning: Feature names only support names that are all strings. Got feature names with dtypes: ['int', 'str']. An error will be raised in 1.2.\n",
      "  FutureWarning,\n",
      "/home/andreychuk/.venv/lib/python3.7/site-packages/sklearn/utils/validation.py:1692: FutureWarning: Feature names only support names that are all strings. Got feature names with dtypes: ['int', 'str']. An error will be raised in 1.2.\n",
      "  FutureWarning,\n"
     ]
    }
   ],
   "source": [
    "scaler = StandardScaler()\n",
    "X_test = scaler.fit_transform(data)"
   ]
  },
  {
   "cell_type": "code",
   "execution_count": 131,
   "id": "005d3cab",
   "metadata": {},
   "outputs": [],
   "source": [
    "data['scores'] = model_cat.predict_proba(data)[:, 1]"
   ]
  },
  {
   "cell_type": "code",
   "execution_count": 132,
   "id": "1f0af0cb",
   "metadata": {},
   "outputs": [],
   "source": [
    "submit = data[['variantid1', 'variantid2', 'scores']]"
   ]
  },
  {
   "cell_type": "code",
   "execution_count": 135,
   "id": "6f6cec36",
   "metadata": {},
   "outputs": [],
   "source": [
    "submit.to_csv('submition_cat.csv', index=False, sep = ',')"
   ]
  },
  {
   "cell_type": "code",
   "execution_count": 134,
   "id": "5dd4bc69",
   "metadata": {},
   "outputs": [
    {
     "data": {
      "text/plain": [
       "'/home/andreychuk/files/Ozon_marketplace'"
      ]
     },
     "execution_count": 134,
     "metadata": {},
     "output_type": "execute_result"
    }
   ],
   "source": [
    "import os\n",
    "os.getcwd()"
   ]
  },
  {
   "cell_type": "code",
   "execution_count": 210,
   "id": "746b67d3",
   "metadata": {},
   "outputs": [
    {
     "data": {
      "text/html": [
       "<div>\n",
       "<style scoped>\n",
       "    .dataframe tbody tr th:only-of-type {\n",
       "        vertical-align: middle;\n",
       "    }\n",
       "\n",
       "    .dataframe tbody tr th {\n",
       "        vertical-align: top;\n",
       "    }\n",
       "\n",
       "    .dataframe thead th {\n",
       "        text-align: right;\n",
       "    }\n",
       "</style>\n",
       "<table border=\"1\" class=\"dataframe\">\n",
       "  <thead>\n",
       "    <tr style=\"text-align: right;\">\n",
       "      <th></th>\n",
       "      <th>variantid1</th>\n",
       "      <th>variantid2</th>\n",
       "      <th>scores</th>\n",
       "    </tr>\n",
       "  </thead>\n",
       "  <tbody>\n",
       "    <tr>\n",
       "      <th>0</th>\n",
       "      <td>372065731</td>\n",
       "      <td>372070671</td>\n",
       "      <td>0.246572</td>\n",
       "    </tr>\n",
       "    <tr>\n",
       "      <th>1</th>\n",
       "      <td>528068358</td>\n",
       "      <td>533445916</td>\n",
       "      <td>0.334928</td>\n",
       "    </tr>\n",
       "    <tr>\n",
       "      <th>2</th>\n",
       "      <td>480899084</td>\n",
       "      <td>480899989</td>\n",
       "      <td>0.178535</td>\n",
       "    </tr>\n",
       "    <tr>\n",
       "      <th>3</th>\n",
       "      <td>384479474</td>\n",
       "      <td>488458602</td>\n",
       "      <td>0.675027</td>\n",
       "    </tr>\n",
       "    <tr>\n",
       "      <th>4</th>\n",
       "      <td>658044199</td>\n",
       "      <td>663187587</td>\n",
       "      <td>0.381631</td>\n",
       "    </tr>\n",
       "    <tr>\n",
       "      <th>...</th>\n",
       "      <td>...</td>\n",
       "      <td>...</td>\n",
       "      <td>...</td>\n",
       "    </tr>\n",
       "    <tr>\n",
       "      <th>19002</th>\n",
       "      <td>405934001</td>\n",
       "      <td>695957034</td>\n",
       "      <td>0.782935</td>\n",
       "    </tr>\n",
       "    <tr>\n",
       "      <th>19003</th>\n",
       "      <td>692224892</td>\n",
       "      <td>692246989</td>\n",
       "      <td>0.283634</td>\n",
       "    </tr>\n",
       "    <tr>\n",
       "      <th>19004</th>\n",
       "      <td>388824213</td>\n",
       "      <td>658486072</td>\n",
       "      <td>0.484977</td>\n",
       "    </tr>\n",
       "    <tr>\n",
       "      <th>19005</th>\n",
       "      <td>479858327</td>\n",
       "      <td>480111601</td>\n",
       "      <td>0.654282</td>\n",
       "    </tr>\n",
       "    <tr>\n",
       "      <th>19006</th>\n",
       "      <td>196626653</td>\n",
       "      <td>696488427</td>\n",
       "      <td>0.688906</td>\n",
       "    </tr>\n",
       "  </tbody>\n",
       "</table>\n",
       "<p>19007 rows × 3 columns</p>\n",
       "</div>"
      ],
      "text/plain": [
       "       variantid1  variantid2    scores\n",
       "0       372065731   372070671  0.246572\n",
       "1       528068358   533445916  0.334928\n",
       "2       480899084   480899989  0.178535\n",
       "3       384479474   488458602  0.675027\n",
       "4       658044199   663187587  0.381631\n",
       "...           ...         ...       ...\n",
       "19002   405934001   695957034  0.782935\n",
       "19003   692224892   692246989  0.283634\n",
       "19004   388824213   658486072  0.484977\n",
       "19005   479858327   480111601  0.654282\n",
       "19006   196626653   696488427  0.688906\n",
       "\n",
       "[19007 rows x 3 columns]"
      ]
     },
     "execution_count": 210,
     "metadata": {},
     "output_type": "execute_result"
    }
   ],
   "source": [
    "submit"
   ]
  },
  {
   "cell_type": "code",
   "execution_count": null,
   "id": "30163f73",
   "metadata": {},
   "outputs": [],
   "source": []
  }
 ],
 "metadata": {
  "kernelspec": {
   "display_name": ".venv",
   "language": "python",
   "name": "python3"
  },
  "language_info": {
   "codemirror_mode": {
    "name": "ipython",
    "version": 3
   },
   "file_extension": ".py",
   "mimetype": "text/x-python",
   "name": "python",
   "nbconvert_exporter": "python",
   "pygments_lexer": "ipython3",
   "version": "3.7.9"
  },
  "notebookId": "4dc84276-532a-4fde-b258-fa27d9b5763e",
  "notebookPath": "ozon_zozon.ipynb"
 },
 "nbformat": 4,
 "nbformat_minor": 5
}

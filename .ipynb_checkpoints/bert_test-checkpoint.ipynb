{
 "cells": [
  {
   "cell_type": "code",
   "execution_count": 324,
   "id": "ff27bb4a",
   "metadata": {
    "cellId": "bls132imi3lk984l5611l"
   },
   "outputs": [],
   "source": [
    "import gdown\n",
    "import pandas as pd\n",
    "import random\n",
    "import json"
   ]
  },
  {
   "cell_type": "code",
   "execution_count": 263,
   "id": "f620bf05",
   "metadata": {
    "cellId": "ecgc500ig4e84c0e08wi96"
   },
   "outputs": [],
   "source": [
    "# gdown.download('https://drive.google.com/file/d/17NBXx6l_6znStM52RJOKKKlxnHigavzq/view', fuzzy=True)"
   ]
  },
  {
   "cell_type": "code",
   "execution_count": 264,
   "id": "a04ba94b",
   "metadata": {
    "cellId": "wfvjmfdiopmgq06lqsi97g"
   },
   "outputs": [],
   "source": [
    "# tar -xvzf hackathon_objects.tar.gz"
   ]
  },
  {
   "cell_type": "code",
   "execution_count": 2,
   "id": "de472d6c",
   "metadata": {
    "cellId": "s3787kdzasvahec8kf73r"
   },
   "outputs": [],
   "source": [
    "try: \n",
    "\n",
    "    goods_data = pd.read_parquet('../datasets/train_data.parquet')\n",
    "\n",
    "    goods_pairs = pd.read_parquet('../datasets/train_pairs_w_target.parquet')\n",
    "except FileNotFoundError:\n",
    "    print('Using datasphere folder')\n",
    "    \n",
    "    goods_data = pd.read_parquet('../../data/datasets/train_data.parquet')\n",
    "\n",
    "    goods_pairs = pd.read_parquet('../../data/datasets/train_pairs_w_target.parquet')"
   ]
  },
  {
   "cell_type": "code",
   "execution_count": 3,
   "id": "987e9a55",
   "metadata": {
    "cellId": "e8ysdi4b9cgil23ozi6ndh"
   },
   "outputs": [
    {
     "data": {
      "text/html": [
       "<div>\n",
       "<style scoped>\n",
       "    .dataframe tbody tr th:only-of-type {\n",
       "        vertical-align: middle;\n",
       "    }\n",
       "\n",
       "    .dataframe tbody tr th {\n",
       "        vertical-align: top;\n",
       "    }\n",
       "\n",
       "    .dataframe thead th {\n",
       "        text-align: right;\n",
       "    }\n",
       "</style>\n",
       "<table border=\"1\" class=\"dataframe\">\n",
       "  <thead>\n",
       "    <tr style=\"text-align: right;\">\n",
       "      <th></th>\n",
       "      <th>target</th>\n",
       "      <th>variantid1</th>\n",
       "      <th>variantid2</th>\n",
       "    </tr>\n",
       "  </thead>\n",
       "  <tbody>\n",
       "    <tr>\n",
       "      <th>0</th>\n",
       "      <td>0.0</td>\n",
       "      <td>51197862</td>\n",
       "      <td>51198054</td>\n",
       "    </tr>\n",
       "    <tr>\n",
       "      <th>1</th>\n",
       "      <td>1.0</td>\n",
       "      <td>53062686</td>\n",
       "      <td>536165289</td>\n",
       "    </tr>\n",
       "    <tr>\n",
       "      <th>2</th>\n",
       "      <td>1.0</td>\n",
       "      <td>53602615</td>\n",
       "      <td>587809782</td>\n",
       "    </tr>\n",
       "    <tr>\n",
       "      <th>3</th>\n",
       "      <td>1.0</td>\n",
       "      <td>53888651</td>\n",
       "      <td>89598677</td>\n",
       "    </tr>\n",
       "    <tr>\n",
       "      <th>4</th>\n",
       "      <td>0.0</td>\n",
       "      <td>56930698</td>\n",
       "      <td>551526166</td>\n",
       "    </tr>\n",
       "  </tbody>\n",
       "</table>\n",
       "</div>"
      ],
      "text/plain": [
       "   target  variantid1  variantid2\n",
       "0     0.0    51197862    51198054\n",
       "1     1.0    53062686   536165289\n",
       "2     1.0    53602615   587809782\n",
       "3     1.0    53888651    89598677\n",
       "4     0.0    56930698   551526166"
      ]
     },
     "metadata": {},
     "output_type": "display_data"
    }
   ],
   "source": [
    "goods_pairs.head()"
   ]
  },
  {
   "cell_type": "code",
   "execution_count": 4,
   "id": "2e6fbfbc",
   "metadata": {
    "cellId": "bx0pomb8jeuy85ea89zip"
   },
   "outputs": [
    {
     "data": {
      "text/html": [
       "<div>\n",
       "<style scoped>\n",
       "    .dataframe tbody tr th:only-of-type {\n",
       "        vertical-align: middle;\n",
       "    }\n",
       "\n",
       "    .dataframe tbody tr th {\n",
       "        vertical-align: top;\n",
       "    }\n",
       "\n",
       "    .dataframe thead th {\n",
       "        text-align: right;\n",
       "    }\n",
       "</style>\n",
       "<table border=\"1\" class=\"dataframe\">\n",
       "  <thead>\n",
       "    <tr style=\"text-align: right;\">\n",
       "      <th></th>\n",
       "      <th>variantid</th>\n",
       "      <th>characteristic_attributes_mapping</th>\n",
       "      <th>name</th>\n",
       "      <th>categories</th>\n",
       "      <th>color_parsed</th>\n",
       "      <th>pic_embeddings_resnet_v1</th>\n",
       "      <th>main_pic_embeddings_resnet_v1</th>\n",
       "      <th>name_bert_64</th>\n",
       "    </tr>\n",
       "  </thead>\n",
       "  <tbody>\n",
       "    <tr>\n",
       "      <th>0</th>\n",
       "      <td>51195767</td>\n",
       "      <td>{\"85\":[\"Партнер-Электро\"],\"8229\":[\"Удлинитель ...</td>\n",
       "      <td>Удлинитель Партнер-Электро ПВС 2х0,75 ГОСТ,6A,...</td>\n",
       "      <td>{\"1\": \"EPG\", \"2\": \"Электроника\", \"3\": \"Сетевые...</td>\n",
       "      <td>[оранжевый]</td>\n",
       "      <td>None</td>\n",
       "      <td>[[0.04603629, 0.18839523, -0.09973055, -0.6636...</td>\n",
       "      <td>[-0.47045058, 0.67237014, 0.48984158, -0.54485...</td>\n",
       "    </tr>\n",
       "    <tr>\n",
       "      <th>1</th>\n",
       "      <td>51196903</td>\n",
       "      <td>{\"85\":[\"TDM Electric\"],\"8229\":[\"Удлинитель быт...</td>\n",
       "      <td>Колодка TDM Electric пятиместная без заземлени...</td>\n",
       "      <td>{\"1\": \"EPG\", \"2\": \"Электроника\", \"3\": \"Сетевые...</td>\n",
       "      <td>[белый]</td>\n",
       "      <td>[[0.42044494, -0.33794826, -0.037247024, 0.165...</td>\n",
       "      <td>[[0.16211876, -0.4455993, 0.6131705, 0.5954206...</td>\n",
       "      <td>[-0.48503304, 0.6264443, 0.6406273, -0.4696772...</td>\n",
       "    </tr>\n",
       "    <tr>\n",
       "      <th>2</th>\n",
       "      <td>52061880</td>\n",
       "      <td>{\"85\":[\"MINAMOTO\"],\"8229\":[\"Батарейка\"],\"5111\"...</td>\n",
       "      <td>Батарейка литиевая CR 1/3N 3V (CR11108) Minamo...</td>\n",
       "      <td>{\"1\": \"EPG\", \"2\": \"Электроника\", \"3\": \"Батарей...</td>\n",
       "      <td>None</td>\n",
       "      <td>[[0.66729844, -0.023996592, 0.42721167, 0.0205...</td>\n",
       "      <td>[[-0.8638098, -0.1625915, -0.034600798, 0.1337...</td>\n",
       "      <td>[-0.15832633, 0.44736174, 0.31883216, -0.55559...</td>\n",
       "    </tr>\n",
       "    <tr>\n",
       "      <th>3</th>\n",
       "      <td>52067481</td>\n",
       "      <td>{\"85\":[\"Duracell\"],\"8229\":[\"Батарейка\"],\"5111\"...</td>\n",
       "      <td>Батарейки DURACELL Ultra Power AA (LR6), 4 шт</td>\n",
       "      <td>{\"1\": \"EPG\", \"2\": \"Электроника\", \"3\": \"Батарей...</td>\n",
       "      <td>None</td>\n",
       "      <td>[[0.3516068, 0.6306597, 0.80962396, -0.0104141...</td>\n",
       "      <td>[[-0.26286322, 0.22858405, 0.4346232, 0.023486...</td>\n",
       "      <td>[-0.42703134, 0.16898727, 0.53922343, -0.53523...</td>\n",
       "    </tr>\n",
       "    <tr>\n",
       "      <th>4</th>\n",
       "      <td>52610752</td>\n",
       "      <td>{\"85\":[\"HP\"],\"8229\":[\"Картридж\"],\"5708\":[\"для ...</td>\n",
       "      <td>Картридж лазерный HP 12A Q2612A черный для LJ ...</td>\n",
       "      <td>{\"1\": \"EPG\", \"2\": \"Электроника\", \"3\": \"Расходн...</td>\n",
       "      <td>[черный, чер]</td>\n",
       "      <td>[[-0.009966308, 0.70965785, 0.10790472, -0.411...</td>\n",
       "      <td>[[0.09032486, 0.74205226, 0.30355096, -0.04755...</td>\n",
       "      <td>[-0.4892143, 0.47568643, 0.6505941, -0.4106509...</td>\n",
       "    </tr>\n",
       "  </tbody>\n",
       "</table>\n",
       "</div>"
      ],
      "text/plain": [
       "   variantid                  characteristic_attributes_mapping  \\\n",
       "0   51195767  {\"85\":[\"Партнер-Электро\"],\"8229\":[\"Удлинитель ...   \n",
       "1   51196903  {\"85\":[\"TDM Electric\"],\"8229\":[\"Удлинитель быт...   \n",
       "2   52061880  {\"85\":[\"MINAMOTO\"],\"8229\":[\"Батарейка\"],\"5111\"...   \n",
       "3   52067481  {\"85\":[\"Duracell\"],\"8229\":[\"Батарейка\"],\"5111\"...   \n",
       "4   52610752  {\"85\":[\"HP\"],\"8229\":[\"Картридж\"],\"5708\":[\"для ...   \n",
       "\n",
       "                                                name  \\\n",
       "0  Удлинитель Партнер-Электро ПВС 2х0,75 ГОСТ,6A,...   \n",
       "1  Колодка TDM Electric пятиместная без заземлени...   \n",
       "2  Батарейка литиевая CR 1/3N 3V (CR11108) Minamo...   \n",
       "3      Батарейки DURACELL Ultra Power AA (LR6), 4 шт   \n",
       "4  Картридж лазерный HP 12A Q2612A черный для LJ ...   \n",
       "\n",
       "                                          categories   color_parsed  \\\n",
       "0  {\"1\": \"EPG\", \"2\": \"Электроника\", \"3\": \"Сетевые...    [оранжевый]   \n",
       "1  {\"1\": \"EPG\", \"2\": \"Электроника\", \"3\": \"Сетевые...        [белый]   \n",
       "2  {\"1\": \"EPG\", \"2\": \"Электроника\", \"3\": \"Батарей...           None   \n",
       "3  {\"1\": \"EPG\", \"2\": \"Электроника\", \"3\": \"Батарей...           None   \n",
       "4  {\"1\": \"EPG\", \"2\": \"Электроника\", \"3\": \"Расходн...  [черный, чер]   \n",
       "\n",
       "                            pic_embeddings_resnet_v1  \\\n",
       "0                                               None   \n",
       "1  [[0.42044494, -0.33794826, -0.037247024, 0.165...   \n",
       "2  [[0.66729844, -0.023996592, 0.42721167, 0.0205...   \n",
       "3  [[0.3516068, 0.6306597, 0.80962396, -0.0104141...   \n",
       "4  [[-0.009966308, 0.70965785, 0.10790472, -0.411...   \n",
       "\n",
       "                       main_pic_embeddings_resnet_v1  \\\n",
       "0  [[0.04603629, 0.18839523, -0.09973055, -0.6636...   \n",
       "1  [[0.16211876, -0.4455993, 0.6131705, 0.5954206...   \n",
       "2  [[-0.8638098, -0.1625915, -0.034600798, 0.1337...   \n",
       "3  [[-0.26286322, 0.22858405, 0.4346232, 0.023486...   \n",
       "4  [[0.09032486, 0.74205226, 0.30355096, -0.04755...   \n",
       "\n",
       "                                        name_bert_64  \n",
       "0  [-0.47045058, 0.67237014, 0.48984158, -0.54485...  \n",
       "1  [-0.48503304, 0.6264443, 0.6406273, -0.4696772...  \n",
       "2  [-0.15832633, 0.44736174, 0.31883216, -0.55559...  \n",
       "3  [-0.42703134, 0.16898727, 0.53922343, -0.53523...  \n",
       "4  [-0.4892143, 0.47568643, 0.6505941, -0.4106509...  "
      ]
     },
     "metadata": {},
     "output_type": "display_data"
    }
   ],
   "source": [
    "goods_data.head()"
   ]
  },
  {
   "cell_type": "code",
   "execution_count": 5,
   "id": "4d0be8bc",
   "metadata": {
    "cellId": "yk5wh4mhrz67saw80ojo6"
   },
   "outputs": [
    {
     "data": {
      "text/plain": [
       "0.04603629"
      ]
     },
     "metadata": {},
     "output_type": "display_data"
    }
   ],
   "source": [
    "goods_data['main_pic_embeddings_resnet_v1'][0][0][0]"
   ]
  },
  {
   "cell_type": "code",
   "execution_count": 39,
   "id": "6af943c3",
   "metadata": {
    "cellId": "un7g4kr0qpd0tmhg5cztn"
   },
   "outputs": [],
   "source": [
    "def symm_pairs(df):\n",
    "    # todo: complete cliques of goods\n",
    "    \n",
    "    df2 = df.copy()\n",
    "    cols = [\"variantid1\", \"variantid2\"]\n",
    "    for c in cols:\n",
    "        if c not in df2.columns:\n",
    "            raise UserWarning\n",
    "    df2 = df2.rename(columns={cols[0]: cols[1], cols[1]: cols[0]})\n",
    "    return pd.concat([df, df2]).drop_duplicates()"
   ]
  },
  {
   "cell_type": "code",
   "execution_count": 257,
   "id": "34c5029d",
   "metadata": {
    "cellId": "1kwhyiuyzyerhlxq9l94hm"
   },
   "outputs": [],
   "source": [
    "import torch\n",
    "import random\n",
    "import numpy as np\n",
    "from torch.utils.data import Dataset, DataLoader\n",
    "\n",
    "\n",
    "class ContrastiveDataset(Dataset):\n",
    "    def __init__(self, original_dataset, pairs_dataset, embedding_columns):\n",
    "        self.original_dataset = original_dataset.set_index('variantid')\n",
    "        self.pairs_dataset = pairs_dataset\n",
    "        self.embedding_columns = embedding_columns\n",
    "        self.dataset = None\n",
    "        self.prepare_dataset()\n",
    "        \n",
    "\n",
    "    def prepare_dataset(\n",
    "        self,\n",
    "    ):\n",
    "        neg_pairs = (\n",
    "            self.pairs_dataset[self.pairs_dataset.target == 0.0]\n",
    "            .groupby(\"variantid1\")\n",
    "            .variantid2.apply(lambda x: list(x))\n",
    "            .to_frame()\n",
    "        )\n",
    "        pos_pairs = (\n",
    "            self.pairs_dataset[self.pairs_dataset.target == 1.0]\n",
    "            .groupby(\"variantid1\")\n",
    "            .variantid2.apply(lambda x: list(x))\n",
    "            .to_frame()\n",
    "        )\n",
    "        self.dataset = pos_pairs.merge(\n",
    "            neg_pairs,\n",
    "            how=\"outer\",\n",
    "            left_index=True,\n",
    "            right_index=True,\n",
    "            indicator=True,\n",
    "            suffixes=[\"_pos\", \"_neg\"],\n",
    "        )\n",
    "        sol = pd.Series(\n",
    "            np.where(\n",
    "                self.dataset.variantid2_pos.notnull(),\n",
    "                self.dataset.variantid2_pos,\n",
    "                pd.Series(self.dataset.index).apply(lambda x: [x]),\n",
    "            )\n",
    "        )\n",
    "        self.dataset[\"variantid2_pos\"] = sol.set_axis(self.dataset.index)\n",
    "        ld = pd.Series(self.dataset.index).sample(frac=1).apply(lambda x: [x])\n",
    "        sol = pd.Series(\n",
    "            np.where(self.dataset.variantid2_neg.notnull(), self.dataset.variantid2_neg, ld)\n",
    "        )\n",
    "        self.dataset[\"variantid2_neg\"] = sol.set_axis(self.dataset.index)\n",
    "        self.dataset = self.dataset.reset_index()\n",
    "\n",
    "\n",
    "    def __getitem__(self, index):\n",
    "        original_idx = self.dataset.loc[index].variantid1\n",
    "        positive_idx = self.dataset.loc[index].variantid2_pos\n",
    "        negative_idx = self.dataset.loc[index].variantid2_neg\n",
    "        if len(positive_idx)>1:\n",
    "            val = np.random.choice(len(positive_idx), 1)[0]\n",
    "            positive_idx = positive_idx[val]\n",
    "        else:\n",
    "            positive_idx = positive_idx[0]\n",
    "        if len(negative_idx)>1:\n",
    "            val = np.random.choice(len(negative_idx), 1)[0]\n",
    "            negative_idx = negative_idx[val]\n",
    "        else:\n",
    "            negative_idx = negative_idx[0]\n",
    "        original_data = torch.cat([torch.tensor(self.original_dataset.loc[original_idx]['main_pic_embeddings_resnet_v1'][0]), torch.tensor(self.original_dataset.loc[original_idx]['name_bert_64'])], axis = 0)\n",
    "        positive_pair = torch.cat([torch.tensor(self.original_dataset.loc[positive_idx]['main_pic_embeddings_resnet_v1'][0]), torch.tensor(self.original_dataset.loc[positive_idx]['name_bert_64'])], axis =0)\n",
    "        negative_pair = torch.cat([torch.tensor(self.original_dataset.loc[negative_idx]['main_pic_embeddings_resnet_v1'][0]), torch.tensor(self.original_dataset.loc[negative_idx]['name_bert_64'])], axis = 0)\n",
    "        return original_data, positive_pair, negative_pair, original_idx\n",
    "\n",
    "    def __len__(self):\n",
    "        return len(self.dataset)\n"
   ]
  },
  {
   "cell_type": "markdown",
   "id": "4abd6a3f",
   "metadata": {
    "cellId": "3tmtu33k29xdruqfbz2rac",
    "execution_id": "80fa1605-175e-411e-a81a-190708cc061f"
   },
   "source": [
    "# Actual data"
   ]
  },
  {
   "cell_type": "code",
   "execution_count": 258,
   "id": "604712a7",
   "metadata": {
    "cellId": "e66sob5skeokmuldwzmmf"
   },
   "outputs": [],
   "source": [
    "symm_goods_pairs = symm_pairs(goods_pairs)"
   ]
  },
  {
   "cell_type": "code",
   "execution_count": 0,
   "id": "e419299a",
   "metadata": {
    "cellId": "t2mjnr0arhiu2offwu7hw9"
   },
   "outputs": [],
   "source": [
    "pos_pairs = symm_goods_pairs[symm_goods_pairs.target ==1].groupby('variantid1').variantid2.apply(lambda x: list(x)).to_frame()"
   ]
  },
  {
   "cell_type": "code",
   "execution_count": 0,
   "id": "2ff9bd2a",
   "metadata": {
    "cellId": "nq941935hwaa54be4wuljc"
   },
   "outputs": [],
   "source": [
    "#checking if lists contain duplicates\n",
    "pos_pairs.variantid2.apply(lambda x: len(x) !=len(set(x))).value_counts()"
   ]
  },
  {
   "cell_type": "code",
   "execution_count": 0,
   "id": "76aeff4a",
   "metadata": {
    "cellId": "e0h54jur2jwejixn71y48g"
   },
   "outputs": [],
   "source": [
    "# добавить все симметричные positive pairs\n",
    "pos_pairs.variantid2.str.len().value_counts()"
   ]
  },
  {
   "cell_type": "code",
   "execution_count": 259,
   "id": "21ba591e",
   "metadata": {
    "cellId": "1bml8e8n2hkepvpwr99isl"
   },
   "outputs": [],
   "source": [
    "embedding_columns = ['main_pic_embeddings_resnet_v1', 'name_bert_64']\n",
    "\n",
    "contrastive_dataset = ContrastiveDataset(goods_data, symm_goods_pairs, embedding_columns)"
   ]
  },
  {
   "cell_type": "code",
   "execution_count": 260,
   "id": "047a7461",
   "metadata": {
    "cellId": "s4fwg9p204n8sjuzrk1z02"
   },
   "outputs": [
    {
     "data": {
      "text/plain": [
       "torch.Size([128, 192])"
      ]
     },
     "metadata": {},
     "output_type": "display_data"
    }
   ],
   "source": [
    "contrastive_dataloader = DataLoader(contrastive_dataset, batch_size=128, shuffle=False, drop_last= True)\n",
    "next(iter(contrastive_dataloader))[0].shape"
   ]
  },
  {
   "cell_type": "code",
   "execution_count": 0,
   "id": "2a77b6ce",
   "metadata": {
    "cellId": "llgitpaocgi0no4zb064jwq"
   },
   "outputs": [],
   "source": [
    "yt[0].shape, yt[1].shape, yt[2].shape"
   ]
  },
  {
   "cell_type": "markdown",
   "id": "026c7bda",
   "metadata": {
    "cellId": "8hmealx9wh946wmkeqqznp",
    "execution_id": "4c11f772-d5dc-440d-be92-b9930289b0ab"
   },
   "source": [
    "# Basic train example"
   ]
  },
  {
   "cell_type": "code",
   "execution_count": 0,
   "id": "fc1b92f5",
   "metadata": {
    "cellId": "gkifm2i5zlil6n6mg5y71"
   },
   "outputs": [],
   "source": [
    "contrastive_dataset.dataset.shape"
   ]
  },
  {
   "cell_type": "code",
   "execution_count": 251,
   "id": "53a0cf2f",
   "metadata": {
    "cellId": "v3sv6t44b74rjsewq93wo"
   },
   "outputs": [],
   "source": [
    "import torch\n",
    "import torch.nn as nn\n",
    "import torch.optim as optim\n",
    "from torch.utils.data import DataLoader\n",
    "\n",
    "from tqdm.notebook import tqdm"
   ]
  },
  {
   "cell_type": "code",
   "execution_count": 252,
   "id": "7466953b",
   "metadata": {
    "cellId": "hftt4a973j5hxwbsb6hmd"
   },
   "outputs": [],
   "source": [
    "#!g1.1\n",
    "\n",
    "device = 'cuda' if torch.cuda.is_available() else 'cpu'"
   ]
  },
  {
   "cell_type": "code",
   "execution_count": 253,
   "id": "bdd585da",
   "metadata": {
    "cellId": "og2gft5os44sped1le5br",
    "execution_id": "37f530e5-d8ac-4ed7-9d4e-8b72e5ead7bc"
   },
   "outputs": [
    {
     "name": "stdout",
     "output_type": "stream",
     "text": [
      "Epoch [1/10], Average Loss: 0.4593\n",
      "Epoch [2/10], Average Loss: 0.3977\n",
      "Epoch [3/10], Average Loss: 0.3694\n",
      "Epoch [4/10], Average Loss: 0.3379\n",
      "Epoch [5/10], Average Loss: 0.3036\n",
      "Epoch [6/10], Average Loss: 0.2667\n",
      "Epoch [7/10], Average Loss: 0.2367\n",
      "Epoch [8/10], Average Loss: 0.2114\n",
      "Epoch [9/10], Average Loss: 0.1953\n",
      "Epoch [10/10], Average Loss: 0.1820\n"
     ]
    },
    {
     "data": {
      "application/vnd.jupyter.widget-view+json": {
       "model_id": "29dbc169b22740cdb88ee1e63dbf66d6",
       "version_major": 2,
       "version_minor": 0
      },
      "text/plain": [
       "  0%|          | 0/10 [00:00<?, ?it/s]"
      ]
     },
     "metadata": {},
     "output_type": "display_data"
    },
    {
     "data": {
      "application/vnd.jupyter.widget-view+json": {
       "model_id": "bfa0438f1b17469fa675a23cf6240164",
       "version_major": 2,
       "version_minor": 0
      },
      "text/plain": [
       "  0%|          | 0/3568 [00:00<?, ?it/s]"
      ]
     },
     "metadata": {},
     "output_type": "display_data"
    },
    {
     "data": {
      "application/vnd.jupyter.widget-view+json": {
       "model_id": "b97a984e10c84a97b4adf12d8dadafc0",
       "version_major": 2,
       "version_minor": 0
      },
      "text/plain": [
       "  0%|          | 0/3568 [00:00<?, ?it/s]"
      ]
     },
     "metadata": {},
     "output_type": "display_data"
    },
    {
     "data": {
      "application/vnd.jupyter.widget-view+json": {
       "model_id": "dd44bcbe00f14c6a91238aa9afb282f1",
       "version_major": 2,
       "version_minor": 0
      },
      "text/plain": [
       "  0%|          | 0/3568 [00:00<?, ?it/s]"
      ]
     },
     "metadata": {},
     "output_type": "display_data"
    },
    {
     "data": {
      "application/vnd.jupyter.widget-view+json": {
       "model_id": "f15db74b27c648d4aa55e8c3d0df0d41",
       "version_major": 2,
       "version_minor": 0
      },
      "text/plain": [
       "  0%|          | 0/3568 [00:00<?, ?it/s]"
      ]
     },
     "metadata": {},
     "output_type": "display_data"
    },
    {
     "data": {
      "application/vnd.jupyter.widget-view+json": {
       "model_id": "c31db2855eaa48fa93189a912ef72dc0",
       "version_major": 2,
       "version_minor": 0
      },
      "text/plain": [
       "  0%|          | 0/3568 [00:00<?, ?it/s]"
      ]
     },
     "metadata": {},
     "output_type": "display_data"
    },
    {
     "data": {
      "application/vnd.jupyter.widget-view+json": {
       "model_id": "600d9cf6d6094aff911e1934df68321a",
       "version_major": 2,
       "version_minor": 0
      },
      "text/plain": [
       "  0%|          | 0/3568 [00:00<?, ?it/s]"
      ]
     },
     "metadata": {},
     "output_type": "display_data"
    },
    {
     "data": {
      "application/vnd.jupyter.widget-view+json": {
       "model_id": "df7b62a789d4414da3e4770032db89ff",
       "version_major": 2,
       "version_minor": 0
      },
      "text/plain": [
       "  0%|          | 0/3568 [00:00<?, ?it/s]"
      ]
     },
     "metadata": {},
     "output_type": "display_data"
    },
    {
     "data": {
      "application/vnd.jupyter.widget-view+json": {
       "model_id": "66a391f5a6814d4b8bbef8b5a338ca9c",
       "version_major": 2,
       "version_minor": 0
      },
      "text/plain": [
       "  0%|          | 0/3568 [00:00<?, ?it/s]"
      ]
     },
     "metadata": {},
     "output_type": "display_data"
    },
    {
     "data": {
      "application/vnd.jupyter.widget-view+json": {
       "model_id": "1c1aaa0195ae4f2facc7275f3b70cadd",
       "version_major": 2,
       "version_minor": 0
      },
      "text/plain": [
       "  0%|          | 0/3568 [00:00<?, ?it/s]"
      ]
     },
     "metadata": {},
     "output_type": "display_data"
    },
    {
     "data": {
      "application/vnd.jupyter.widget-view+json": {
       "model_id": "f53f9b2102a74de09df0c8c1eee5d131",
       "version_major": 2,
       "version_minor": 0
      },
      "text/plain": [
       "  0%|          | 0/3568 [00:00<?, ?it/s]"
      ]
     },
     "metadata": {},
     "output_type": "display_data"
    }
   ],
   "source": [
    "#!g1.1\n",
    "class ContrastiveModel(nn.Module):\n",
    "    def __init__(self, input_size, hidden_size, embedding_size):\n",
    "        super(ContrastiveModel, self).__init__()\n",
    "        \n",
    "        self.input_size = input_size\n",
    "        self.embedding_size = embedding_size\n",
    "        self.hidden_size = hidden_size\n",
    "        \n",
    "        self.fc1 = nn.Linear(input_size, hidden_size)\n",
    "        self.fc2 = nn.Linear(hidden_size, hidden_size)\n",
    "        self.fc3 = nn.Linear(hidden_size, embedding_size)\n",
    "        \n",
    "        self.relu = nn.ReLU()\n",
    "        self.dropout = nn.Dropout(p=0.2)\n",
    "        \n",
    "    def forward(self, x):\n",
    "        x = self.relu(self.fc1(x))\n",
    "        x = self.dropout(x)\n",
    "        x = self.relu(self.fc2(x))\n",
    "        x = self.fc3(x)\n",
    "        return x\n",
    "\n",
    "def triplet_loss(anchor, positive, negative, margin=1.0):\n",
    "    distance_positive = torch.norm(anchor - positive, dim=1)\n",
    "    distance_negative = torch.norm(anchor - negative, dim=1)\n",
    "    loss = torch.clamp(distance_positive - distance_negative + margin, min=0.0).mean()\n",
    "    return loss\n",
    "\n",
    "# Example parameters\n",
    "input_size = 192\n",
    "hidden_size = 64\n",
    "embedding_size = 32\n",
    "learning_rate = 0.001\n",
    "num_epochs = 10\n",
    "\n",
    "# Create an instance of the model\n",
    "model = ContrastiveModel(input_size, hidden_size, embedding_size).to(device)\n",
    "\n",
    "# Define the optimizer and the loss function\n",
    "optimizer = optim.Adam(model.parameters(), lr=learning_rate)\n",
    "\n",
    "# Train loop\n",
    "for epoch in tqdm(range(num_epochs)):\n",
    "    total_loss = 0.0\n",
    "    \n",
    "    for original_data, positive_pair, negative_pair, _ in tqdm(contrastive_dataloader):\n",
    "        # Zero the gradients\n",
    "        optimizer.zero_grad()\n",
    "        \n",
    "        # Forward pass\n",
    "        anchor = model(original_data.to(device))\n",
    "        positive = model(positive_pair.to(device))\n",
    "        negative = model(negative_pair.to(device))\n",
    "        \n",
    "        # Compute the triplet loss\n",
    "        loss = triplet_loss(anchor, positive, negative)\n",
    "        \n",
    "        # Backward pass and optimization\n",
    "        loss.backward()\n",
    "        optimizer.step()\n",
    "        \n",
    "   #     print(loss.item())\n",
    "        total_loss += loss.item()\n",
    "    \n",
    "    average_loss = total_loss / len(contrastive_dataloader)\n",
    "    print(f\"Epoch [{epoch+1}/{num_epochs}], Average Loss: {average_loss:.4f}\")\n"
   ]
  },
  {
   "cell_type": "code",
   "execution_count": 0,
   "id": "f17f4848",
   "metadata": {
    "cellId": "hotj0pa9xaanq47tsra14"
   },
   "outputs": [],
   "source": [
    "torch.save(model.state_dict(), 'contrastive_ozon.pt')"
   ]
  },
  {
   "cell_type": "code",
   "execution_count": 273,
   "id": "f481fc96",
   "metadata": {
    "cellId": "13e01eam7vpcthi0zaphyes",
    "execution_id": "045d38c5-453d-44ae-a5cc-8d7272306430"
   },
   "outputs": [
    {
     "data": {
      "application/vnd.jupyter.widget-view+json": {
       "model_id": "5b02faeb2ad54fad87e56d8a292c521d",
       "version_major": 2,
       "version_minor": 0
      },
      "text/plain": [
       "  0%|          | 0/3568 [00:00<?, ?it/s]"
      ]
     },
     "metadata": {},
     "output_type": "display_data"
    }
   ],
   "source": [
    "def predict(model, dataloader):\n",
    "    y_idxs = []\n",
    "    y_embed = []\n",
    "    for orig, _, _, idx in tqdm(dataloader):\n",
    "        embed = model(orig.to(device))\n",
    "        y_idxs.extend([i.detach().cpu().item() for i in idx])\n",
    "        y_embed.extend([[j.item() for j in i.detach().cpu()] for i in embed])\n",
    "    return y_idxs, y_embed\n",
    "\n",
    "y_idxs, y_embed = predict(model, contrastive_dataloader)       \n"
   ]
  },
  {
   "cell_type": "code",
   "execution_count": 0,
   "id": "242e75cc",
   "metadata": {
    "cellId": "z4kzqndgnndktzj920g70q"
   },
   "outputs": [],
   "source": [
    "embed = pd.DataFrame({'variant': y_idxs, 'embed': y_embed})"
   ]
  },
  {
   "cell_type": "code",
   "execution_count": 0,
   "id": "961f182f",
   "metadata": {
    "cellId": "195zvarg628l1x0olm84qd"
   },
   "outputs": [],
   "source": [
    "classif = goods_pairs.merge(embed, left_on = 'variantid1', right_on = 'variant', how = 'left', suffixes = ['', '_1'])"
   ]
  },
  {
   "cell_type": "code",
   "execution_count": 0,
   "id": "3d10cee7",
   "metadata": {
    "cellId": "amodnc3oyij5xn9u8y6uc9"
   },
   "outputs": [],
   "source": [
    "classif = classif.merge(embed, left_on = 'variantid2', right_on='variant', how = 'left', suffixes = ['', '_2'])"
   ]
  },
  {
   "cell_type": "code",
   "execution_count": 0,
   "id": "b8e97fbe",
   "metadata": {
    "cellId": "9e5aihbdr5qvzuo9ubn6gb"
   },
   "outputs": [],
   "source": [
    "classif.drop(['variant', 'variant_2'],axis = 1, inplace = True)"
   ]
  },
  {
   "cell_type": "code",
   "execution_count": 0,
   "id": "5ed7a983",
   "metadata": {
    "cellId": "hcw723qfepah22439a4xs"
   },
   "outputs": [],
   "source": [
    "classif"
   ]
  },
  {
   "cell_type": "code",
   "execution_count": 0,
   "id": "f93db74c",
   "metadata": {
    "cellId": "nld2a2zp5weq2cet7njh8m"
   },
   "outputs": [],
   "source": []
  },
  {
   "cell_type": "code",
   "execution_count": 0,
   "id": "2ac3d47b",
   "metadata": {
    "cellId": "j1aa9a82h3qtziuq6fbj2"
   },
   "outputs": [],
   "source": []
  },
  {
   "cell_type": "markdown",
   "id": "08674305",
   "metadata": {
    "cellId": "1abg5mtuwxcnbngefc05j",
    "execution_id": "76e07775-1fe9-489a-9f6d-3970d534660d"
   },
   "source": [
    "# Catboost ingerence on cos sim"
   ]
  },
  {
   "cell_type": "code",
   "execution_count": 0,
   "id": "193be864",
   "metadata": {
    "cellId": "2wqf0o2v7d5iyrru97wxg"
   },
   "outputs": [],
   "source": [
    "from sklearn.metrics.pairwise import cosine_similarity\n",
    "def get_pic_features(main_pic_embeddings_1,\n",
    "                     main_pic_embeddings_2,\n",
    "                     percentiles):\n",
    "    \"\"\"Calculate distances percentiles for \n",
    "    pairwise pic distances. Percentiles are useful \n",
    "    when product has several pictures.\n",
    "    \"\"\"\n",
    "    \n",
    "    if main_pic_embeddings_1 is not None and main_pic_embeddings_2 is not None:     \n",
    "        dist_m = cosine_similarity(\n",
    "            np.array(main_pic_embeddings_1)[None, ...], np.array(main_pic_embeddings_2)[None, ...]\n",
    "        )\n",
    "    else:\n",
    "        dist_m = np.array([[-1]])\n",
    "\n",
    "    pair_features = []\n",
    "    pair_features += np.percentile(dist_m, percentiles).tolist()\n",
    "\n",
    "    return pair_features"
   ]
  },
  {
   "cell_type": "code",
   "execution_count": 0,
   "id": "3dcd2aeb",
   "metadata": {
    "cellId": "tct1e10imbdcokud6ysnxv"
   },
   "outputs": [],
   "source": [
    "from functools import partial\n",
    "classif = classif.dropna()\n",
    "get_pic_features_func = partial(\n",
    "    get_pic_features,\n",
    "    percentiles=[0, 25, 50]\n",
    ")\n",
    "classif[[\"pic_dist_0_perc\", \"pic_dist_25_perc\", \"pic_dist_50_perc\"]] = (\n",
    "    classif[[\"embed\", \"embed_2\"]].apply(\n",
    "        lambda x: pd.Series(get_pic_features_func(*x)), axis=1\n",
    "    )\n",
    ")"
   ]
  },
  {
   "cell_type": "code",
   "execution_count": 0,
   "id": "eace36e6",
   "metadata": {
    "cellId": "nvf773qmnnn8jb1oktvd"
   },
   "outputs": [],
   "source": [
    "classif"
   ]
  },
  {
   "cell_type": "code",
   "execution_count": 0,
   "id": "e2a4a5c8",
   "metadata": {
    "cellId": "90rnd96ek8mtpmzgnp9koe"
   },
   "outputs": [],
   "source": [
    "classif = classif.merge(goods_data[['variantid', 'categories']], left_on = 'variantid1', right_on = 'variantid', how = 'left')"
   ]
  },
  {
   "cell_type": "code",
   "execution_count": 0,
   "id": "49c92831",
   "metadata": {
    "cellId": "bfg09qutjtkrx8tr3ng24"
   },
   "outputs": [],
   "source": [
    "classif[\"cat3\"] = classif[\"categories\"].apply(lambda x: json.loads(x)[\"3\"])"
   ]
  },
  {
   "cell_type": "code",
   "execution_count": 0,
   "id": "d77bfafd",
   "metadata": {
    "cellId": "pfeyjqpzxe880mg4bdih0i"
   },
   "outputs": [],
   "source": [
    "cat3_counts = classif[\"cat3\"].value_counts().to_dict()"
   ]
  },
  {
   "cell_type": "code",
   "execution_count": 0,
   "id": "3a3434bd",
   "metadata": {
    "cellId": "a9zgby4mxsgjye327lpwn"
   },
   "outputs": [],
   "source": [
    "classif[\"cat3_grouped\"] = classif[\"cat3\"].apply(lambda x: x if cat3_counts[x] > 1000 else \"rest\")"
   ]
  },
  {
   "cell_type": "code",
   "execution_count": 0,
   "id": "fa6f6ae1",
   "metadata": {
    "cellId": "sa70hpfgd9pzw3ie1dx24"
   },
   "outputs": [],
   "source": [
    "\n",
    "from sklearn.model_selection import train_test_split\n",
    "\n",
    "X_train, X_test = train_test_split(\n",
    "    classif[['target', \"variantid1\", \"variantid2\", 'pic_dist_0_perc', 'cat3_grouped']], \n",
    "    test_size=0.1, random_state=42, stratify=classif[[\"target\", \"cat3_grouped\"]]\n",
    ")\n",
    "\n",
    "y_test = X_test[[\"target\", \"variantid1\", \"variantid2\" ]]\n",
    "X_test = X_test.drop([\"target\"], axis=1)\n",
    "\n",
    "y_train = X_train[\"target\"]\n",
    "\n",
    "X_train = X_train.drop([\"target\", \"variantid1\", \"variantid2\"], axis=1)"
   ]
  },
  {
   "cell_type": "code",
   "execution_count": 0,
   "id": "c105f965",
   "metadata": {
    "cellId": "dn6sv2qaiegwfhb22kcnj"
   },
   "outputs": [],
   "source": [
    "from catboost import CatBoostClassifier, Pool"
   ]
  },
  {
   "cell_type": "code",
   "execution_count": 0,
   "id": "8ba924d0",
   "metadata": {
    "cellId": "vkqmm35yd1otq7uax2so"
   },
   "outputs": [],
   "source": [
    "model = CatBoostClassifier()\n",
    "\n",
    "model.fit(\n",
    "    X_train[['pic_dist_0_perc']], y_train,\n",
    "    plot=True,\n",
    "    verbose=True,\n",
    "    use_best_model=True,\n",
    "    early_stopping_rounds=50,\n",
    "    metric_period=100\n",
    ")"
   ]
  },
  {
   "cell_type": "code",
   "execution_count": 0,
   "id": "b2df12c3",
   "metadata": {
    "cellId": "ujenqquk6yglnl5767b1vr"
   },
   "outputs": [],
   "source": [
    "import numpy as np\n",
    "from sklearn.metrics import precision_recall_curve, auc\n",
    "\n",
    "\n",
    "def pr_auc_macro(\n",
    "    target_df: pd.DataFrame,\n",
    "    predictions_df: pd.DataFrame,\n",
    "    prec_level: float = 0.75,\n",
    "    cat_column: str = \"cat3_grouped\"\n",
    ") -> float:\n",
    "    \n",
    "    df = target_df.merge(predictions_df, on=[\"variantid1\", \"variantid2\"])\n",
    "    \n",
    "    y_true = df[\"target\"]\n",
    "    y_pred = df[\"scores\"]\n",
    "    categories = df[cat_column]\n",
    "    \n",
    "    weights = []\n",
    "    pr_aucs = []\n",
    "\n",
    "    unique_cats, counts = np.unique(categories, return_counts=True)\n",
    "\n",
    "    for i, category in enumerate(unique_cats):\n",
    "        cat_idx = np.where(categories == category)[0]\n",
    "        y_pred_cat = y_pred[cat_idx]\n",
    "        y_true_cat = y_true[cat_idx]\n",
    "\n",
    "        y, x, thr = precision_recall_curve(y_true_cat, y_pred_cat)\n",
    "        gt_prec_level_idx = np.where(y >= prec_level)[0]\n",
    "\n",
    "        try:\n",
    "            pr_auc_prec_level = auc(x[gt_prec_level_idx], y[gt_prec_level_idx])\n",
    "            if not np.isnan(pr_auc_prec_level):\n",
    "                pr_aucs.append(pr_auc_prec_level)\n",
    "                weights.append(counts[i] / len(categories))\n",
    "        except ValueError as err:\n",
    "            pr_aucs.append(0)\n",
    "            weights.append(0)\n",
    "    return np.average(pr_aucs, weights=weights)"
   ]
  },
  {
   "cell_type": "code",
   "execution_count": 0,
   "id": "cd9f74d9",
   "metadata": {
    "cellId": "ez1kwalfqrp1bixmsgb2ef"
   },
   "outputs": [],
   "source": [
    "X_test[\"scores\"] = model.predict_proba(X_test[['pic_dist_0_perc']])[:, 1]"
   ]
  },
  {
   "cell_type": "code",
   "execution_count": 0,
   "id": "c7cae777",
   "metadata": {
    "cellId": "xamyzmhydpn77llwgyhmzs"
   },
   "outputs": [],
   "source": [
    "pr_auc_macro_metr = pr_auc_macro(\n",
    "    target_df=y_test, \n",
    "    predictions_df=X_test,\n",
    "    prec_level=0.75,\n",
    "    cat_column=\"cat3_grouped\"\n",
    ")\n",
    "\n",
    "pr_auc_macro_metr"
   ]
  },
  {
   "cell_type": "code",
   "execution_count": 0,
   "id": "65e96634",
   "metadata": {
    "cellId": "qz6l3vbf9ecuudoju4fw2f"
   },
   "outputs": [],
   "source": [
    "#используется только одна картинка, можно делать positive pairs со всеми"
   ]
  },
  {
   "cell_type": "code",
   "execution_count": 0,
   "id": "6f92c417",
   "metadata": {
    "cellId": "lttw92q9kimmhlldkzki3j"
   },
   "outputs": [],
   "source": [
    "X_test[\"scores\"].hist()"
   ]
  },
  {
   "cell_type": "code",
   "execution_count": 0,
   "id": "9b50c04e",
   "metadata": {
    "cellId": "40s9wg88vsijj3w9k13e8"
   },
   "outputs": [],
   "source": []
  }
 ],
 "metadata": {
  "language_info": {
   "codemirror_mode": {
    "name": "ipython",
    "version": 3
   },
   "file_extension": ".py",
   "mimetype": "text/x-python",
   "name": "python",
   "nbconvert_exporter": "python",
   "pygments_lexer": "ipython3",
   "version": "3.7.7"
  },
  "notebookId": "04a6e98d-b272-4bc0-9032-20ad0d86f1c3",
  "notebookPath": "ozon/Ozon_marketplace/ozon_zozon.ipynb"
 },
 "nbformat": 4,
 "nbformat_minor": 5
}

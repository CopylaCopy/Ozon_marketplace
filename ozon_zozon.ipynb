{
 "cells": [
  {
   "cell_type": "code",
   "execution_count": 324,
   "id": "27b992b0",
   "metadata": {
    "cellId": "bls132imi3lk984l5611l"
   },
   "outputs": [],
   "source": [
    "import gdown\n",
    "import pandas as pd\n",
    "import random\n",
    "import json"
   ]
  },
  {
   "cell_type": "code",
   "execution_count": 263,
   "id": "42bef86b",
   "metadata": {
    "cellId": "ecgc500ig4e84c0e08wi96"
   },
   "outputs": [],
   "source": [
    "# gdown.download('https://drive.google.com/file/d/17NBXx6l_6znStM52RJOKKKlxnHigavzq/view', fuzzy=True)"
   ]
  },
  {
   "cell_type": "code",
   "execution_count": 264,
   "id": "bbb30de9",
   "metadata": {
    "cellId": "wfvjmfdiopmgq06lqsi97g"
   },
   "outputs": [],
   "source": [
    "# tar -xvzf hackathon_objects.tar.gz"
   ]
  },
  {
   "cell_type": "code",
   "execution_count": 2,
   "id": "deee3114",
   "metadata": {
    "cellId": "s3787kdzasvahec8kf73r"
   },
   "outputs": [],
   "source": [
    "goods_data = pd.read_parquet('../datasets/train_data.parquet')\n",
    "\n",
    "goods_pairs = pd.read_parquet('../datasets/train_pairs_w_target.parquet')"
   ]
  },
  {
   "cell_type": "code",
   "execution_count": 3,
   "id": "0a0b9ccc",
   "metadata": {
    "cellId": "e8ysdi4b9cgil23ozi6ndh"
   },
   "outputs": [
    {
     "data": {
      "text/html": [
       "<div>\n",
       "<style scoped>\n",
       "    .dataframe tbody tr th:only-of-type {\n",
       "        vertical-align: middle;\n",
       "    }\n",
       "\n",
       "    .dataframe tbody tr th {\n",
       "        vertical-align: top;\n",
       "    }\n",
       "\n",
       "    .dataframe thead th {\n",
       "        text-align: right;\n",
       "    }\n",
       "</style>\n",
       "<table border=\"1\" class=\"dataframe\">\n",
       "  <thead>\n",
       "    <tr style=\"text-align: right;\">\n",
       "      <th></th>\n",
       "      <th>target</th>\n",
       "      <th>variantid1</th>\n",
       "      <th>variantid2</th>\n",
       "    </tr>\n",
       "  </thead>\n",
       "  <tbody>\n",
       "    <tr>\n",
       "      <th>0</th>\n",
       "      <td>0.0</td>\n",
       "      <td>51197862</td>\n",
       "      <td>51198054</td>\n",
       "    </tr>\n",
       "    <tr>\n",
       "      <th>1</th>\n",
       "      <td>1.0</td>\n",
       "      <td>53062686</td>\n",
       "      <td>536165289</td>\n",
       "    </tr>\n",
       "    <tr>\n",
       "      <th>2</th>\n",
       "      <td>1.0</td>\n",
       "      <td>53602615</td>\n",
       "      <td>587809782</td>\n",
       "    </tr>\n",
       "    <tr>\n",
       "      <th>3</th>\n",
       "      <td>1.0</td>\n",
       "      <td>53888651</td>\n",
       "      <td>89598677</td>\n",
       "    </tr>\n",
       "    <tr>\n",
       "      <th>4</th>\n",
       "      <td>0.0</td>\n",
       "      <td>56930698</td>\n",
       "      <td>551526166</td>\n",
       "    </tr>\n",
       "  </tbody>\n",
       "</table>\n",
       "</div>"
      ],
      "text/plain": [
       "   target  variantid1  variantid2\n",
       "0     0.0    51197862    51198054\n",
       "1     1.0    53062686   536165289\n",
       "2     1.0    53602615   587809782\n",
       "3     1.0    53888651    89598677\n",
       "4     0.0    56930698   551526166"
      ]
     },
     "execution_count": 3,
     "metadata": {},
     "output_type": "execute_result"
    }
   ],
   "source": [
    "goods_pairs.head()"
   ]
  },
  {
   "cell_type": "code",
   "execution_count": 4,
   "id": "445355c8",
   "metadata": {
    "cellId": "bx0pomb8jeuy85ea89zip"
   },
   "outputs": [
    {
     "data": {
      "text/html": [
       "<div>\n",
       "<style scoped>\n",
       "    .dataframe tbody tr th:only-of-type {\n",
       "        vertical-align: middle;\n",
       "    }\n",
       "\n",
       "    .dataframe tbody tr th {\n",
       "        vertical-align: top;\n",
       "    }\n",
       "\n",
       "    .dataframe thead th {\n",
       "        text-align: right;\n",
       "    }\n",
       "</style>\n",
       "<table border=\"1\" class=\"dataframe\">\n",
       "  <thead>\n",
       "    <tr style=\"text-align: right;\">\n",
       "      <th></th>\n",
       "      <th>variantid</th>\n",
       "      <th>characteristic_attributes_mapping</th>\n",
       "      <th>name</th>\n",
       "      <th>categories</th>\n",
       "      <th>color_parsed</th>\n",
       "      <th>pic_embeddings_resnet_v1</th>\n",
       "      <th>main_pic_embeddings_resnet_v1</th>\n",
       "      <th>name_bert_64</th>\n",
       "    </tr>\n",
       "  </thead>\n",
       "  <tbody>\n",
       "    <tr>\n",
       "      <th>0</th>\n",
       "      <td>51195767</td>\n",
       "      <td>{\"85\":[\"Партнер-Электро\"],\"8229\":[\"Удлинитель ...</td>\n",
       "      <td>Удлинитель Партнер-Электро ПВС 2х0,75 ГОСТ,6A,...</td>\n",
       "      <td>{\"1\": \"EPG\", \"2\": \"Электроника\", \"3\": \"Сетевые...</td>\n",
       "      <td>[оранжевый]</td>\n",
       "      <td>None</td>\n",
       "      <td>[[0.04603629, 0.18839523, -0.09973055, -0.6636...</td>\n",
       "      <td>[-0.47045058, 0.67237014, 0.48984158, -0.54485...</td>\n",
       "    </tr>\n",
       "    <tr>\n",
       "      <th>1</th>\n",
       "      <td>51196903</td>\n",
       "      <td>{\"85\":[\"TDM Electric\"],\"8229\":[\"Удлинитель быт...</td>\n",
       "      <td>Колодка TDM Electric пятиместная без заземлени...</td>\n",
       "      <td>{\"1\": \"EPG\", \"2\": \"Электроника\", \"3\": \"Сетевые...</td>\n",
       "      <td>[белый]</td>\n",
       "      <td>[[0.42044494, -0.33794826, -0.037247024, 0.165...</td>\n",
       "      <td>[[0.16211876, -0.4455993, 0.6131705, 0.5954206...</td>\n",
       "      <td>[-0.48503304, 0.6264443, 0.6406273, -0.4696772...</td>\n",
       "    </tr>\n",
       "    <tr>\n",
       "      <th>2</th>\n",
       "      <td>52061880</td>\n",
       "      <td>{\"85\":[\"MINAMOTO\"],\"8229\":[\"Батарейка\"],\"5111\"...</td>\n",
       "      <td>Батарейка литиевая CR 1/3N 3V (CR11108) Minamo...</td>\n",
       "      <td>{\"1\": \"EPG\", \"2\": \"Электроника\", \"3\": \"Батарей...</td>\n",
       "      <td>None</td>\n",
       "      <td>[[0.66729844, -0.023996592, 0.42721167, 0.0205...</td>\n",
       "      <td>[[-0.8638098, -0.1625915, -0.034600798, 0.1337...</td>\n",
       "      <td>[-0.15832633, 0.44736174, 0.31883216, -0.55559...</td>\n",
       "    </tr>\n",
       "    <tr>\n",
       "      <th>3</th>\n",
       "      <td>52067481</td>\n",
       "      <td>{\"85\":[\"Duracell\"],\"8229\":[\"Батарейка\"],\"5111\"...</td>\n",
       "      <td>Батарейки DURACELL Ultra Power AA (LR6), 4 шт</td>\n",
       "      <td>{\"1\": \"EPG\", \"2\": \"Электроника\", \"3\": \"Батарей...</td>\n",
       "      <td>None</td>\n",
       "      <td>[[0.3516068, 0.6306597, 0.80962396, -0.0104141...</td>\n",
       "      <td>[[-0.26286322, 0.22858405, 0.4346232, 0.023486...</td>\n",
       "      <td>[-0.42703134, 0.16898727, 0.53922343, -0.53523...</td>\n",
       "    </tr>\n",
       "    <tr>\n",
       "      <th>4</th>\n",
       "      <td>52610752</td>\n",
       "      <td>{\"85\":[\"HP\"],\"8229\":[\"Картридж\"],\"5708\":[\"для ...</td>\n",
       "      <td>Картридж лазерный HP 12A Q2612A черный для LJ ...</td>\n",
       "      <td>{\"1\": \"EPG\", \"2\": \"Электроника\", \"3\": \"Расходн...</td>\n",
       "      <td>[черный, чер]</td>\n",
       "      <td>[[-0.009966308, 0.70965785, 0.10790472, -0.411...</td>\n",
       "      <td>[[0.09032486, 0.74205226, 0.30355096, -0.04755...</td>\n",
       "      <td>[-0.4892143, 0.47568643, 0.6505941, -0.4106509...</td>\n",
       "    </tr>\n",
       "  </tbody>\n",
       "</table>\n",
       "</div>"
      ],
      "text/plain": [
       "   variantid                  characteristic_attributes_mapping  \\\n",
       "0   51195767  {\"85\":[\"Партнер-Электро\"],\"8229\":[\"Удлинитель ...   \n",
       "1   51196903  {\"85\":[\"TDM Electric\"],\"8229\":[\"Удлинитель быт...   \n",
       "2   52061880  {\"85\":[\"MINAMOTO\"],\"8229\":[\"Батарейка\"],\"5111\"...   \n",
       "3   52067481  {\"85\":[\"Duracell\"],\"8229\":[\"Батарейка\"],\"5111\"...   \n",
       "4   52610752  {\"85\":[\"HP\"],\"8229\":[\"Картридж\"],\"5708\":[\"для ...   \n",
       "\n",
       "                                                name  \\\n",
       "0  Удлинитель Партнер-Электро ПВС 2х0,75 ГОСТ,6A,...   \n",
       "1  Колодка TDM Electric пятиместная без заземлени...   \n",
       "2  Батарейка литиевая CR 1/3N 3V (CR11108) Minamo...   \n",
       "3      Батарейки DURACELL Ultra Power AA (LR6), 4 шт   \n",
       "4  Картридж лазерный HP 12A Q2612A черный для LJ ...   \n",
       "\n",
       "                                          categories   color_parsed  \\\n",
       "0  {\"1\": \"EPG\", \"2\": \"Электроника\", \"3\": \"Сетевые...    [оранжевый]   \n",
       "1  {\"1\": \"EPG\", \"2\": \"Электроника\", \"3\": \"Сетевые...        [белый]   \n",
       "2  {\"1\": \"EPG\", \"2\": \"Электроника\", \"3\": \"Батарей...           None   \n",
       "3  {\"1\": \"EPG\", \"2\": \"Электроника\", \"3\": \"Батарей...           None   \n",
       "4  {\"1\": \"EPG\", \"2\": \"Электроника\", \"3\": \"Расходн...  [черный, чер]   \n",
       "\n",
       "                            pic_embeddings_resnet_v1  \\\n",
       "0                                               None   \n",
       "1  [[0.42044494, -0.33794826, -0.037247024, 0.165...   \n",
       "2  [[0.66729844, -0.023996592, 0.42721167, 0.0205...   \n",
       "3  [[0.3516068, 0.6306597, 0.80962396, -0.0104141...   \n",
       "4  [[-0.009966308, 0.70965785, 0.10790472, -0.411...   \n",
       "\n",
       "                       main_pic_embeddings_resnet_v1  \\\n",
       "0  [[0.04603629, 0.18839523, -0.09973055, -0.6636...   \n",
       "1  [[0.16211876, -0.4455993, 0.6131705, 0.5954206...   \n",
       "2  [[-0.8638098, -0.1625915, -0.034600798, 0.1337...   \n",
       "3  [[-0.26286322, 0.22858405, 0.4346232, 0.023486...   \n",
       "4  [[0.09032486, 0.74205226, 0.30355096, -0.04755...   \n",
       "\n",
       "                                        name_bert_64  \n",
       "0  [-0.47045058, 0.67237014, 0.48984158, -0.54485...  \n",
       "1  [-0.48503304, 0.6264443, 0.6406273, -0.4696772...  \n",
       "2  [-0.15832633, 0.44736174, 0.31883216, -0.55559...  \n",
       "3  [-0.42703134, 0.16898727, 0.53922343, -0.53523...  \n",
       "4  [-0.4892143, 0.47568643, 0.6505941, -0.4106509...  "
      ]
     },
     "execution_count": 4,
     "metadata": {},
     "output_type": "execute_result"
    }
   ],
   "source": [
    "goods_data.head()"
   ]
  },
  {
   "cell_type": "code",
   "execution_count": 5,
   "id": "d7f5ee35",
   "metadata": {
    "cellId": "yk5wh4mhrz67saw80ojo6"
   },
   "outputs": [
    {
     "data": {
      "text/plain": [
       "0.04603629"
      ]
     },
     "execution_count": 5,
     "metadata": {},
     "output_type": "execute_result"
    }
   ],
   "source": [
    "goods_data['main_pic_embeddings_resnet_v1'][0][0][0]"
   ]
  },
  {
   "cell_type": "code",
   "execution_count": 39,
   "id": "3c57ed52",
   "metadata": {
    "cellId": "un7g4kr0qpd0tmhg5cztn"
   },
   "outputs": [],
   "source": [
    "def symm_pairs(df):\n",
    "    # todo: complete cliques of goods\n",
    "    \n",
    "    df2 = df.copy()\n",
    "    cols = [\"variantid1\", \"variantid2\"]\n",
    "    for c in cols:\n",
    "        if c not in df2.columns:\n",
    "            raise UserWarning\n",
    "    df2 = df2.rename(columns={cols[0]: cols[1], cols[1]: cols[0]})\n",
    "    return pd.concat([df, df2]).drop_duplicates()"
   ]
  },
  {
   "cell_type": "code",
   "execution_count": 257,
   "id": "010899f9",
   "metadata": {
    "cellId": "1kwhyiuyzyerhlxq9l94hm"
   },
   "outputs": [],
   "source": [
    "import torch\n",
    "import random\n",
    "import numpy as np\n",
    "from torch.utils.data import Dataset, DataLoader\n",
    "\n",
    "\n",
    "class ContrastiveDataset(Dataset):\n",
    "    def __init__(self, original_dataset, pairs_dataset, embedding_columns):\n",
    "        self.original_dataset = original_dataset.set_index('variantid')\n",
    "        self.pairs_dataset = pairs_dataset\n",
    "        self.embedding_columns = embedding_columns\n",
    "        self.dataset = None\n",
    "        self.prepare_dataset()\n",
    "        \n",
    "\n",
    "    def prepare_dataset(self,):\n",
    "        neg_pairs =  self.pairs_dataset[ self.pairs_dataset.target ==0.].groupby('variantid1').variantid2.apply(lambda x: list(x)).to_frame()\n",
    "        pos_pairs =  self.pairs_dataset[ self.pairs_dataset.target ==1.].groupby('variantid1').variantid2.apply(lambda x: list(x)).to_frame()\n",
    "        self.dataset = pos_pairs.merge(neg_pairs, how = 'outer', left_index = True, right_index = True, indicator = True, suffixes = ['_pos', '_neg'])\n",
    "        sol = pd.Series(np.where(self.dataset.variantid2_pos.notnull(), self.dataset.variantid2_pos, pd.Series(self.dataset.index).apply(lambda x: [x])))\n",
    "        self.dataset['variantid2_pos'] = sol.set_axis(self.dataset.index)\n",
    "        ld = pd.Series(self.dataset.index).sample(frac = 1).apply(lambda x: [x])\n",
    "        sol = pd.Series(np.where(self.dataset.variantid2_neg.notnull(), self.dataset.variantid2_neg, ld))\n",
    "        self.dataset['variantid2_neg'] = sol.set_axis(self.dataset.index)\n",
    "        self.dataset = self.dataset.reset_index()\n",
    "\n",
    "    def __getitem__(self, index):\n",
    "        original_idx = self.dataset.loc[index].variantid1\n",
    "        positive_idx = self.dataset.loc[index].variantid2_pos\n",
    "        negative_idx = self.dataset.loc[index].variantid2_neg\n",
    "        if len(positive_idx)>1:\n",
    "            val = np.random.choice(len(positive_idx), 1)[0]\n",
    "            positive_idx = positive_idx[val]\n",
    "        else:\n",
    "            positive_idx = positive_idx[0]\n",
    "        if len(negative_idx)>1:\n",
    "            val = np.random.choice(len(negative_idx), 1)[0]\n",
    "            negative_idx = negative_idx[val]\n",
    "        else:\n",
    "            negative_idx = negative_idx[0]\n",
    "        original_data = torch.cat([torch.tensor(self.original_dataset.loc[original_idx]['main_pic_embeddings_resnet_v1'][0]), torch.tensor(self.original_dataset.loc[original_idx]['name_bert_64'])], axis = 0)\n",
    "        positive_pair = torch.cat([torch.tensor(self.original_dataset.loc[positive_idx]['main_pic_embeddings_resnet_v1'][0]), torch.tensor(self.original_dataset.loc[positive_idx]['name_bert_64'])], axis =0)\n",
    "        negative_pair = torch.cat([torch.tensor(self.original_dataset.loc[negative_idx]['main_pic_embeddings_resnet_v1'][0]), torch.tensor(self.original_dataset.loc[negative_idx]['name_bert_64'])], axis = 0)\n",
    "        return original_data, positive_pair, negative_pair, original_idx\n",
    "\n",
    "    def __len__(self):\n",
    "        return len(self.dataset)-1\n",
    "\n",
    "    # def get_embeddings(self, index):\n",
    "    #     embeddings = []\n",
    "    #     for column in self.embedding_columns:\n",
    "    #         embedding = self.original_dataset[column].iloc[index]\n",
    "    #         if embedding.shape[0] == 1:\n",
    "    #             embedding = embedding[0]\n",
    "    #         embeddings.append(embedding)\n",
    "    #     return torch.tensor(np.concatenate(embeddings))\n",
    "\n",
    "    # def find_positive_pair(self, original_id):\n",
    "    #     positive_pairs = self.pairs_dataset[self.pairs_dataset[\"target\"] == 1]\n",
    "    #     matching_pairs = positive_pairs[(positive_pairs[\"variantid1\"] == original_id)]\n",
    "\n",
    "    #     if len(matching_pairs) > 0:\n",
    "    #         # Randomly choose a positive pair if multiple pairs are found\n",
    "    #         chosen_pair = matching_pairs.sample(1)\n",
    "\n",
    "    #         # Get the ID of the other data point in the pair\n",
    "    #         pair_id = chosen_pair[\"variantid2\"].values[0]\n",
    "\n",
    "    #         # Retrieve the corresponding data from the original dataset\n",
    "    #         positive_row = self.get_embeddings(\n",
    "    #             self.original_dataset[\n",
    "    #                 self.original_dataset[\"variantid\"] == pair_id\n",
    "    #             ].index[0]\n",
    "    #         )\n",
    "\n",
    "    #         return positive_row\n",
    "\n",
    "    #     # Return original data if positive pair is not found\n",
    "    #     original_row = self.get_embeddings(\n",
    "    #         self.original_dataset[\n",
    "    #             self.original_dataset[\"variantid\"] == original_id\n",
    "    #         ].index[0]\n",
    "    #     )\n",
    "    #     return original_row\n",
    "\n",
    "    # def find_negative_pair(self, original_id):\n",
    "    #     negative_pairs = self.pairs_dataset[self.pairs_dataset[\"target\"] == 0]\n",
    "    #     matching_pairs = negative_pairs[(negative_pairs[\"variantid1\"] == original_id)]\n",
    "\n",
    "    #     if len(matching_pairs) > 0:\n",
    "    #         # Randomly choose a positive pair if multiple pairs are found\n",
    "    #         chosen_pair = matching_pairs.sample(1)\n",
    "\n",
    "    #         # Get the ID of the other data point in the pair\n",
    "    #         pair_id = chosen_pair[\"variantid2\"].values[0]\n",
    "\n",
    "    #         # Retrieve the corresponding data from the original dataset\n",
    "    #         negative_row = self.get_embeddings(\n",
    "    #             self.original_dataset[\n",
    "    #                 self.original_dataset[\"variantid\"] == pair_id\n",
    "    #             ].index[0]\n",
    "    #         )\n",
    "\n",
    "    #         return negative_row\n",
    "\n",
    "    #     # Return random data if positive pair is not found\n",
    "    #     random_row = self.get_embeddings(random.choice(self.original_dataset.index))\n",
    "    #     return random_row\n",
    "\n",
    "\n"
   ]
  },
  {
   "attachments": {},
   "cell_type": "markdown",
   "id": "7cdd5b77",
   "metadata": {
    "cellId": "3tmtu33k29xdruqfbz2rac",
    "execution_id": "80fa1605-175e-411e-a81a-190708cc061f"
   },
   "source": [
    "# Actual data"
   ]
  },
  {
   "cell_type": "code",
   "execution_count": 258,
   "id": "31987838",
   "metadata": {
    "cellId": "e66sob5skeokmuldwzmmf"
   },
   "outputs": [],
   "source": [
    "symm_goods_pairs = symm_pairs(goods_pairs)"
   ]
  },
  {
   "cell_type": "code",
   "execution_count": 41,
   "id": "3e1d80a0",
   "metadata": {},
   "outputs": [],
   "source": [
    "pos_pairs = symm_goods_pairs[symm_goods_pairs.target ==1].groupby('variantid1').variantid2.apply(lambda x: list(x)).to_frame()"
   ]
  },
  {
   "cell_type": "code",
   "execution_count": 47,
   "id": "6248dae2",
   "metadata": {},
   "outputs": [
    {
     "data": {
      "text/plain": [
       "False    216911\n",
       "Name: variantid2, dtype: int64"
      ]
     },
     "execution_count": 47,
     "metadata": {},
     "output_type": "execute_result"
    }
   ],
   "source": [
    "#checking if lists contain duplicates\n",
    "pos_pairs.variantid2.apply(lambda x: len(x) !=len(set(x))).value_counts()"
   ]
  },
  {
   "cell_type": "code",
   "execution_count": 43,
   "id": "706a1189",
   "metadata": {},
   "outputs": [
    {
     "data": {
      "text/plain": [
       "1     189650\n",
       "2      18977\n",
       "3       3806\n",
       "4       1403\n",
       "5        734\n",
       "6        561\n",
       "7        380\n",
       "8        287\n",
       "9        247\n",
       "10       190\n",
       "11       166\n",
       "12       129\n",
       "13       115\n",
       "14        72\n",
       "15        55\n",
       "16        40\n",
       "17        24\n",
       "18        22\n",
       "20        15\n",
       "19        14\n",
       "21         6\n",
       "22         5\n",
       "25         3\n",
       "26         3\n",
       "23         2\n",
       "27         2\n",
       "24         2\n",
       "28         1\n",
       "Name: variantid2, dtype: int64"
      ]
     },
     "execution_count": 43,
     "metadata": {},
     "output_type": "execute_result"
    }
   ],
   "source": [
    "# добавить все симметричные positive pairs\n",
    "pos_pairs.variantid2.str.len().value_counts()"
   ]
  },
  {
   "cell_type": "code",
   "execution_count": 259,
   "id": "cae3e1c6",
   "metadata": {
    "cellId": "1bml8e8n2hkepvpwr99isl"
   },
   "outputs": [],
   "source": [
    "embedding_columns = ['main_pic_embeddings_resnet_v1', 'name_bert_64']\n",
    "\n",
    "contrastive_dataset = ContrastiveDataset(goods_data, symm_goods_pairs, embedding_columns)"
   ]
  },
  {
   "cell_type": "code",
   "execution_count": 260,
   "id": "94bf6263",
   "metadata": {
    "cellId": "s4fwg9p204n8sjuzrk1z02"
   },
   "outputs": [
    {
     "data": {
      "text/plain": [
       "torch.Size([128, 192])"
      ]
     },
     "execution_count": 260,
     "metadata": {},
     "output_type": "execute_result"
    }
   ],
   "source": [
    "contrastive_dataloader = DataLoader(contrastive_dataset, batch_size=128, shuffle=False, drop_last= True)\n",
    "next(iter(contrastive_dataloader))[0].shape"
   ]
  },
  {
   "cell_type": "code",
   "execution_count": 202,
   "id": "59466520",
   "metadata": {},
   "outputs": [
    {
     "data": {
      "text/plain": [
       "(torch.Size([128, 192]), torch.Size([128, 192]), torch.Size([128, 192]))"
      ]
     },
     "execution_count": 202,
     "metadata": {},
     "output_type": "execute_result"
    }
   ],
   "source": [
    "yt[0].shape, yt[1].shape, yt[2].shape"
   ]
  },
  {
   "attachments": {},
   "cell_type": "markdown",
   "id": "ed9a02a9",
   "metadata": {
    "cellId": "8hmealx9wh946wmkeqqznp",
    "execution_id": "4c11f772-d5dc-440d-be92-b9930289b0ab"
   },
   "source": [
    "# Basic train example"
   ]
  },
  {
   "cell_type": "code",
   "execution_count": 219,
   "id": "1993a9aa",
   "metadata": {},
   "outputs": [
    {
     "data": {
      "text/plain": [
       "(456741, 4)"
      ]
     },
     "execution_count": 219,
     "metadata": {},
     "output_type": "execute_result"
    }
   ],
   "source": [
    "contrastive_dataset.dataset.shape"
   ]
  },
  {
   "cell_type": "code",
   "execution_count": 251,
   "id": "dce93811",
   "metadata": {
    "cellId": "v3sv6t44b74rjsewq93wo"
   },
   "outputs": [],
   "source": [
    "import torch\n",
    "import torch.nn as nn\n",
    "import torch.optim as optim\n",
    "from torch.utils.data import DataLoader\n",
    "\n",
    "from tqdm.notebook import tqdm"
   ]
  },
  {
   "cell_type": "code",
   "execution_count": 252,
   "id": "e5d822a5",
   "metadata": {
    "cellId": "hftt4a973j5hxwbsb6hmd"
   },
   "outputs": [],
   "source": [
    "#!g1.1\n",
    "\n",
    "device = 'cuda' if torch.cuda.is_available() else 'cpu'"
   ]
  },
  {
   "cell_type": "code",
   "execution_count": 253,
   "id": "e683a8cd",
   "metadata": {
    "cellId": "og2gft5os44sped1le5br",
    "execution_id": "37f530e5-d8ac-4ed7-9d4e-8b72e5ead7bc"
   },
   "outputs": [
    {
     "data": {
      "application/vnd.jupyter.widget-view+json": {
       "model_id": "29dbc169b22740cdb88ee1e63dbf66d6",
       "version_major": 2,
       "version_minor": 0
      },
      "text/plain": [
       "  0%|          | 0/10 [00:00<?, ?it/s]"
      ]
     },
     "metadata": {},
     "output_type": "display_data"
    },
    {
     "data": {
      "application/vnd.jupyter.widget-view+json": {
       "model_id": "bfa0438f1b17469fa675a23cf6240164",
       "version_major": 2,
       "version_minor": 0
      },
      "text/plain": [
       "  0%|          | 0/3568 [00:00<?, ?it/s]"
      ]
     },
     "metadata": {},
     "output_type": "display_data"
    },
    {
     "name": "stdout",
     "output_type": "stream",
     "text": [
      "Epoch [1/10], Average Loss: 0.4593\n"
     ]
    },
    {
     "data": {
      "application/vnd.jupyter.widget-view+json": {
       "model_id": "b97a984e10c84a97b4adf12d8dadafc0",
       "version_major": 2,
       "version_minor": 0
      },
      "text/plain": [
       "  0%|          | 0/3568 [00:00<?, ?it/s]"
      ]
     },
     "metadata": {},
     "output_type": "display_data"
    },
    {
     "name": "stdout",
     "output_type": "stream",
     "text": [
      "Epoch [2/10], Average Loss: 0.3977\n"
     ]
    },
    {
     "data": {
      "application/vnd.jupyter.widget-view+json": {
       "model_id": "dd44bcbe00f14c6a91238aa9afb282f1",
       "version_major": 2,
       "version_minor": 0
      },
      "text/plain": [
       "  0%|          | 0/3568 [00:00<?, ?it/s]"
      ]
     },
     "metadata": {},
     "output_type": "display_data"
    },
    {
     "name": "stdout",
     "output_type": "stream",
     "text": [
      "Epoch [3/10], Average Loss: 0.3694\n"
     ]
    },
    {
     "data": {
      "application/vnd.jupyter.widget-view+json": {
       "model_id": "f15db74b27c648d4aa55e8c3d0df0d41",
       "version_major": 2,
       "version_minor": 0
      },
      "text/plain": [
       "  0%|          | 0/3568 [00:00<?, ?it/s]"
      ]
     },
     "metadata": {},
     "output_type": "display_data"
    },
    {
     "name": "stdout",
     "output_type": "stream",
     "text": [
      "Epoch [4/10], Average Loss: 0.3379\n"
     ]
    },
    {
     "data": {
      "application/vnd.jupyter.widget-view+json": {
       "model_id": "c31db2855eaa48fa93189a912ef72dc0",
       "version_major": 2,
       "version_minor": 0
      },
      "text/plain": [
       "  0%|          | 0/3568 [00:00<?, ?it/s]"
      ]
     },
     "metadata": {},
     "output_type": "display_data"
    },
    {
     "name": "stdout",
     "output_type": "stream",
     "text": [
      "Epoch [5/10], Average Loss: 0.3036\n"
     ]
    },
    {
     "data": {
      "application/vnd.jupyter.widget-view+json": {
       "model_id": "600d9cf6d6094aff911e1934df68321a",
       "version_major": 2,
       "version_minor": 0
      },
      "text/plain": [
       "  0%|          | 0/3568 [00:00<?, ?it/s]"
      ]
     },
     "metadata": {},
     "output_type": "display_data"
    },
    {
     "name": "stdout",
     "output_type": "stream",
     "text": [
      "Epoch [6/10], Average Loss: 0.2667\n"
     ]
    },
    {
     "data": {
      "application/vnd.jupyter.widget-view+json": {
       "model_id": "df7b62a789d4414da3e4770032db89ff",
       "version_major": 2,
       "version_minor": 0
      },
      "text/plain": [
       "  0%|          | 0/3568 [00:00<?, ?it/s]"
      ]
     },
     "metadata": {},
     "output_type": "display_data"
    },
    {
     "name": "stdout",
     "output_type": "stream",
     "text": [
      "Epoch [7/10], Average Loss: 0.2367\n"
     ]
    },
    {
     "data": {
      "application/vnd.jupyter.widget-view+json": {
       "model_id": "66a391f5a6814d4b8bbef8b5a338ca9c",
       "version_major": 2,
       "version_minor": 0
      },
      "text/plain": [
       "  0%|          | 0/3568 [00:00<?, ?it/s]"
      ]
     },
     "metadata": {},
     "output_type": "display_data"
    },
    {
     "name": "stdout",
     "output_type": "stream",
     "text": [
      "Epoch [8/10], Average Loss: 0.2114\n"
     ]
    },
    {
     "data": {
      "application/vnd.jupyter.widget-view+json": {
       "model_id": "1c1aaa0195ae4f2facc7275f3b70cadd",
       "version_major": 2,
       "version_minor": 0
      },
      "text/plain": [
       "  0%|          | 0/3568 [00:00<?, ?it/s]"
      ]
     },
     "metadata": {},
     "output_type": "display_data"
    },
    {
     "name": "stdout",
     "output_type": "stream",
     "text": [
      "Epoch [9/10], Average Loss: 0.1953\n"
     ]
    },
    {
     "data": {
      "application/vnd.jupyter.widget-view+json": {
       "model_id": "f53f9b2102a74de09df0c8c1eee5d131",
       "version_major": 2,
       "version_minor": 0
      },
      "text/plain": [
       "  0%|          | 0/3568 [00:00<?, ?it/s]"
      ]
     },
     "metadata": {},
     "output_type": "display_data"
    },
    {
     "name": "stdout",
     "output_type": "stream",
     "text": [
      "Epoch [10/10], Average Loss: 0.1820\n"
     ]
    }
   ],
   "source": [
    "#!g1.1\n",
    "class ContrastiveModel(nn.Module):\n",
    "    def __init__(self, input_size, hidden_size, embedding_size):\n",
    "        super(ContrastiveModel, self).__init__()\n",
    "        \n",
    "        self.input_size = input_size\n",
    "        self.embedding_size = embedding_size\n",
    "        self.hidden_size = hidden_size\n",
    "        \n",
    "        self.fc1 = nn.Linear(input_size, hidden_size)\n",
    "        self.fc2 = nn.Linear(hidden_size, hidden_size)\n",
    "        self.fc3 = nn.Linear(hidden_size, embedding_size)\n",
    "        \n",
    "        self.relu = nn.ReLU()\n",
    "        self.dropout = nn.Dropout(p=0.2)\n",
    "        \n",
    "    def forward(self, x):\n",
    "        x = self.relu(self.fc1(x))\n",
    "        x = self.dropout(x)\n",
    "        x = self.relu(self.fc2(x))\n",
    "        x = self.fc3(x)\n",
    "        return x\n",
    "\n",
    "def triplet_loss(anchor, positive, negative, margin=1.0):\n",
    "    distance_positive = torch.norm(anchor - positive, dim=1)\n",
    "    distance_negative = torch.norm(anchor - negative, dim=1)\n",
    "    loss = torch.clamp(distance_positive - distance_negative + margin, min=0.0).mean()\n",
    "    return loss\n",
    "\n",
    "# Example parameters\n",
    "input_size = 192\n",
    "hidden_size = 64\n",
    "embedding_size = 32\n",
    "learning_rate = 0.001\n",
    "num_epochs = 10\n",
    "\n",
    "# Create an instance of the model\n",
    "model = ContrastiveModel(input_size, hidden_size, embedding_size).to(device)\n",
    "\n",
    "# Define the optimizer and the loss function\n",
    "optimizer = optim.Adam(model.parameters(), lr=learning_rate)\n",
    "\n",
    "# Train loop\n",
    "for epoch in tqdm(range(num_epochs)):\n",
    "    total_loss = 0.0\n",
    "    \n",
    "    for original_data, positive_pair, negative_pair, _ in tqdm(contrastive_dataloader):\n",
    "        # Zero the gradients\n",
    "        optimizer.zero_grad()\n",
    "        \n",
    "        # Forward pass\n",
    "        anchor = model(original_data.to(device))\n",
    "        positive = model(positive_pair.to(device))\n",
    "        negative = model(negative_pair.to(device))\n",
    "        \n",
    "        # Compute the triplet loss\n",
    "        loss = triplet_loss(anchor, positive, negative)\n",
    "        \n",
    "        # Backward pass and optimization\n",
    "        loss.backward()\n",
    "        optimizer.step()\n",
    "        \n",
    "   #     print(loss.item())\n",
    "        total_loss += loss.item()\n",
    "    \n",
    "    average_loss = total_loss / len(contrastive_dataloader)\n",
    "    print(f\"Epoch [{epoch+1}/{num_epochs}], Average Loss: {average_loss:.4f}\")\n"
   ]
  },
  {
   "cell_type": "code",
   "execution_count": 255,
   "id": "4f1c220f",
   "metadata": {},
   "outputs": [],
   "source": [
    "torch.save(model.state_dict(), 'contrastive_ozon.pt')"
   ]
  },
  {
   "cell_type": "code",
   "execution_count": 273,
   "id": "f434720f",
   "metadata": {
    "cellId": "13e01eam7vpcthi0zaphyes",
    "execution_id": "045d38c5-453d-44ae-a5cc-8d7272306430"
   },
   "outputs": [
    {
     "data": {
      "application/vnd.jupyter.widget-view+json": {
       "model_id": "5b02faeb2ad54fad87e56d8a292c521d",
       "version_major": 2,
       "version_minor": 0
      },
      "text/plain": [
       "  0%|          | 0/3568 [00:00<?, ?it/s]"
      ]
     },
     "metadata": {},
     "output_type": "display_data"
    }
   ],
   "source": [
    "def predict(model, dataloader):\n",
    "    y_idxs = []\n",
    "    y_embed = []\n",
    "    for orig, _, _, idx in tqdm(dataloader):\n",
    "        embed = model(orig.to(device))\n",
    "        y_idxs.extend([i.detach().cpu().item() for i in idx])\n",
    "        y_embed.extend([[j.item() for j in i.detach().cpu()] for i in embed])\n",
    "    return y_idxs, y_embed\n",
    "\n",
    "y_idxs, y_embed = predict(model, contrastive_dataloader)\n",
    "\n",
    "        \n"
   ]
  },
  {
   "cell_type": "code",
   "execution_count": 275,
   "id": "b512afb5",
   "metadata": {},
   "outputs": [],
   "source": [
    "embed = pd.DataFrame({'variant': y_idxs, 'embed': y_embed})"
   ]
  },
  {
   "cell_type": "code",
   "execution_count": 281,
   "id": "c9b0a2f7",
   "metadata": {},
   "outputs": [],
   "source": [
    "classif = goods_pairs.merge(embed, left_on = 'variantid1', right_on = 'variant', how = 'left', suffixes = ['', '_1'])"
   ]
  },
  {
   "cell_type": "code",
   "execution_count": 283,
   "id": "72df6226",
   "metadata": {},
   "outputs": [],
   "source": [
    "classif = classif.merge(embed, left_on = 'variantid2', right_on='variant', how = 'left', suffixes = ['', '_2'])"
   ]
  },
  {
   "cell_type": "code",
   "execution_count": 285,
   "id": "aa6567e1",
   "metadata": {},
   "outputs": [],
   "source": [
    "classif.drop(['variant', 'variant_2'],axis = 1, inplace = True)"
   ]
  },
  {
   "cell_type": "code",
   "execution_count": 286,
   "id": "2eee9052",
   "metadata": {},
   "outputs": [
    {
     "data": {
      "text/html": [
       "<div>\n",
       "<style scoped>\n",
       "    .dataframe tbody tr th:only-of-type {\n",
       "        vertical-align: middle;\n",
       "    }\n",
       "\n",
       "    .dataframe tbody tr th {\n",
       "        vertical-align: top;\n",
       "    }\n",
       "\n",
       "    .dataframe thead th {\n",
       "        text-align: right;\n",
       "    }\n",
       "</style>\n",
       "<table border=\"1\" class=\"dataframe\">\n",
       "  <thead>\n",
       "    <tr style=\"text-align: right;\">\n",
       "      <th></th>\n",
       "      <th>target</th>\n",
       "      <th>variantid1</th>\n",
       "      <th>variantid2</th>\n",
       "      <th>embed</th>\n",
       "      <th>embed_2</th>\n",
       "    </tr>\n",
       "  </thead>\n",
       "  <tbody>\n",
       "    <tr>\n",
       "      <th>0</th>\n",
       "      <td>0.0</td>\n",
       "      <td>51197862</td>\n",
       "      <td>51198054</td>\n",
       "      <td>[1.4180996417999268, -1.3223673105239868, 1.41...</td>\n",
       "      <td>[0.04952368885278702, -2.240968704223633, 0.43...</td>\n",
       "    </tr>\n",
       "    <tr>\n",
       "      <th>1</th>\n",
       "      <td>1.0</td>\n",
       "      <td>53062686</td>\n",
       "      <td>536165289</td>\n",
       "      <td>[1.3268283605575562, -3.441253900527954, 2.318...</td>\n",
       "      <td>[0.8855724334716797, -2.7517037391662598, 1.94...</td>\n",
       "    </tr>\n",
       "    <tr>\n",
       "      <th>2</th>\n",
       "      <td>1.0</td>\n",
       "      <td>53602615</td>\n",
       "      <td>587809782</td>\n",
       "      <td>[1.046702265739441, -3.2472989559173584, 1.840...</td>\n",
       "      <td>[0.6976622343063354, -2.9333677291870117, 2.31...</td>\n",
       "    </tr>\n",
       "    <tr>\n",
       "      <th>3</th>\n",
       "      <td>1.0</td>\n",
       "      <td>53888651</td>\n",
       "      <td>89598677</td>\n",
       "      <td>[-1.1161519289016724, 1.4208519458770752, 2.15...</td>\n",
       "      <td>[0.019846655428409576, 0.38493552803993225, 1....</td>\n",
       "    </tr>\n",
       "    <tr>\n",
       "      <th>4</th>\n",
       "      <td>0.0</td>\n",
       "      <td>56930698</td>\n",
       "      <td>551526166</td>\n",
       "      <td>[-2.0551748275756836, -0.1769544780254364, 2.5...</td>\n",
       "      <td>[-1.9071264266967773, -0.020127616822719574, 3...</td>\n",
       "    </tr>\n",
       "    <tr>\n",
       "      <th>...</th>\n",
       "      <td>...</td>\n",
       "      <td>...</td>\n",
       "      <td>...</td>\n",
       "      <td>...</td>\n",
       "      <td>...</td>\n",
       "    </tr>\n",
       "    <tr>\n",
       "      <th>306535</th>\n",
       "      <td>0.0</td>\n",
       "      <td>817327230</td>\n",
       "      <td>822083612</td>\n",
       "      <td>[-2.3245913982391357, 2.6929333209991455, 2.70...</td>\n",
       "      <td>[-2.254394769668579, 2.539191961288452, 2.6339...</td>\n",
       "    </tr>\n",
       "    <tr>\n",
       "      <th>306536</th>\n",
       "      <td>0.0</td>\n",
       "      <td>817560551</td>\n",
       "      <td>818069912</td>\n",
       "      <td>[0.22542718052864075, -0.5770217180252075, 1.3...</td>\n",
       "      <td>[-0.03559388965368271, -0.3368261754512787, 1....</td>\n",
       "    </tr>\n",
       "    <tr>\n",
       "      <th>306537</th>\n",
       "      <td>0.0</td>\n",
       "      <td>817854719</td>\n",
       "      <td>817857267</td>\n",
       "      <td>[0.29288360476493835, 0.9060116410255432, 2.65...</td>\n",
       "      <td>[0.44187256693840027, 0.6562294363975525, 2.46...</td>\n",
       "    </tr>\n",
       "    <tr>\n",
       "      <th>306538</th>\n",
       "      <td>0.0</td>\n",
       "      <td>820036017</td>\n",
       "      <td>820037019</td>\n",
       "      <td>[-1.0455105304718018, 0.6065959334373474, 0.93...</td>\n",
       "      <td>[-0.9406758546829224, 0.525477945804596, 0.797...</td>\n",
       "    </tr>\n",
       "    <tr>\n",
       "      <th>306539</th>\n",
       "      <td>0.0</td>\n",
       "      <td>821514120</td>\n",
       "      <td>821514311</td>\n",
       "      <td>[-3.3501689434051514, 1.1904510259628296, 0.35...</td>\n",
       "      <td>[-2.057309150695801, 0.65735924243927, 1.03569...</td>\n",
       "    </tr>\n",
       "  </tbody>\n",
       "</table>\n",
       "<p>306540 rows × 5 columns</p>\n",
       "</div>"
      ],
      "text/plain": [
       "        target  variantid1  variantid2  \\\n",
       "0          0.0    51197862    51198054   \n",
       "1          1.0    53062686   536165289   \n",
       "2          1.0    53602615   587809782   \n",
       "3          1.0    53888651    89598677   \n",
       "4          0.0    56930698   551526166   \n",
       "...        ...         ...         ...   \n",
       "306535     0.0   817327230   822083612   \n",
       "306536     0.0   817560551   818069912   \n",
       "306537     0.0   817854719   817857267   \n",
       "306538     0.0   820036017   820037019   \n",
       "306539     0.0   821514120   821514311   \n",
       "\n",
       "                                                    embed  \\\n",
       "0       [1.4180996417999268, -1.3223673105239868, 1.41...   \n",
       "1       [1.3268283605575562, -3.441253900527954, 2.318...   \n",
       "2       [1.046702265739441, -3.2472989559173584, 1.840...   \n",
       "3       [-1.1161519289016724, 1.4208519458770752, 2.15...   \n",
       "4       [-2.0551748275756836, -0.1769544780254364, 2.5...   \n",
       "...                                                   ...   \n",
       "306535  [-2.3245913982391357, 2.6929333209991455, 2.70...   \n",
       "306536  [0.22542718052864075, -0.5770217180252075, 1.3...   \n",
       "306537  [0.29288360476493835, 0.9060116410255432, 2.65...   \n",
       "306538  [-1.0455105304718018, 0.6065959334373474, 0.93...   \n",
       "306539  [-3.3501689434051514, 1.1904510259628296, 0.35...   \n",
       "\n",
       "                                                  embed_2  \n",
       "0       [0.04952368885278702, -2.240968704223633, 0.43...  \n",
       "1       [0.8855724334716797, -2.7517037391662598, 1.94...  \n",
       "2       [0.6976622343063354, -2.9333677291870117, 2.31...  \n",
       "3       [0.019846655428409576, 0.38493552803993225, 1....  \n",
       "4       [-1.9071264266967773, -0.020127616822719574, 3...  \n",
       "...                                                   ...  \n",
       "306535  [-2.254394769668579, 2.539191961288452, 2.6339...  \n",
       "306536  [-0.03559388965368271, -0.3368261754512787, 1....  \n",
       "306537  [0.44187256693840027, 0.6562294363975525, 2.46...  \n",
       "306538  [-0.9406758546829224, 0.525477945804596, 0.797...  \n",
       "306539  [-2.057309150695801, 0.65735924243927, 1.03569...  \n",
       "\n",
       "[306540 rows x 5 columns]"
      ]
     },
     "execution_count": 286,
     "metadata": {},
     "output_type": "execute_result"
    }
   ],
   "source": [
    "classif"
   ]
  },
  {
   "cell_type": "code",
   "execution_count": null,
   "id": "49718345",
   "metadata": {},
   "outputs": [],
   "source": []
  },
  {
   "cell_type": "code",
   "execution_count": null,
   "id": "6b0e75ff",
   "metadata": {},
   "outputs": [],
   "source": []
  },
  {
   "cell_type": "code",
   "execution_count": 299,
   "id": "965f7493",
   "metadata": {},
   "outputs": [],
   "source": [
    "from sklearn.metrics.pairwise import cosine_similarity\n",
    "def get_pic_features(main_pic_embeddings_1,\n",
    "                     main_pic_embeddings_2,\n",
    "                     percentiles):\n",
    "    \"\"\"Calculate distances percentiles for \n",
    "    pairwise pic distances. Percentiles are useful \n",
    "    when product has several pictures.\n",
    "    \"\"\"\n",
    "    \n",
    "    if main_pic_embeddings_1 is not None and main_pic_embeddings_2 is not None:     \n",
    "        dist_m = cosine_similarity(\n",
    "            np.array(main_pic_embeddings_1)[None, ...], np.array(main_pic_embeddings_2)[None, ...]\n",
    "        )\n",
    "    else:\n",
    "        dist_m = np.array([[-1]])\n",
    "\n",
    "    pair_features = []\n",
    "    pair_features += np.percentile(dist_m, percentiles).tolist()\n",
    "\n",
    "    return pair_features"
   ]
  },
  {
   "cell_type": "code",
   "execution_count": 307,
   "id": "485b853c",
   "metadata": {},
   "outputs": [
    {
     "name": "stderr",
     "output_type": "stream",
     "text": [
      "/home/andreychuk/.venv/lib/python3.7/site-packages/pandas/core/frame.py:3641: SettingWithCopyWarning: \n",
      "A value is trying to be set on a copy of a slice from a DataFrame.\n",
      "Try using .loc[row_indexer,col_indexer] = value instead\n",
      "\n",
      "See the caveats in the documentation: https://pandas.pydata.org/pandas-docs/stable/user_guide/indexing.html#returning-a-view-versus-a-copy\n",
      "  self[k1] = value[k2]\n"
     ]
    }
   ],
   "source": [
    "from functools import partial\n",
    "classif = classif.dropna()\n",
    "get_pic_features_func = partial(\n",
    "    get_pic_features,\n",
    "    percentiles=[0, 25, 50]\n",
    ")\n",
    "classif[[\"pic_dist_0_perc\", \"pic_dist_25_perc\", \"pic_dist_50_perc\"]] = (\n",
    "    classif[[\"embed\", \"embed_2\"]].apply(\n",
    "        lambda x: pd.Series(get_pic_features_func(*x)), axis=1\n",
    "    )\n",
    ")"
   ]
  },
  {
   "cell_type": "code",
   "execution_count": 309,
   "id": "92d5fd4a",
   "metadata": {},
   "outputs": [
    {
     "data": {
      "text/html": [
       "<div>\n",
       "<style scoped>\n",
       "    .dataframe tbody tr th:only-of-type {\n",
       "        vertical-align: middle;\n",
       "    }\n",
       "\n",
       "    .dataframe tbody tr th {\n",
       "        vertical-align: top;\n",
       "    }\n",
       "\n",
       "    .dataframe thead th {\n",
       "        text-align: right;\n",
       "    }\n",
       "</style>\n",
       "<table border=\"1\" class=\"dataframe\">\n",
       "  <thead>\n",
       "    <tr style=\"text-align: right;\">\n",
       "      <th></th>\n",
       "      <th>target</th>\n",
       "      <th>variantid1</th>\n",
       "      <th>variantid2</th>\n",
       "      <th>embed</th>\n",
       "      <th>embed_2</th>\n",
       "      <th>pic_dist_0_perc</th>\n",
       "      <th>pic_dist_25_perc</th>\n",
       "      <th>pic_dist_50_perc</th>\n",
       "    </tr>\n",
       "  </thead>\n",
       "  <tbody>\n",
       "    <tr>\n",
       "      <th>0</th>\n",
       "      <td>0.0</td>\n",
       "      <td>51197862</td>\n",
       "      <td>51198054</td>\n",
       "      <td>[1.4180996417999268, -1.3223673105239868, 1.41...</td>\n",
       "      <td>[0.04952368885278702, -2.240968704223633, 0.43...</td>\n",
       "      <td>0.636839</td>\n",
       "      <td>0.636839</td>\n",
       "      <td>0.636839</td>\n",
       "    </tr>\n",
       "    <tr>\n",
       "      <th>1</th>\n",
       "      <td>1.0</td>\n",
       "      <td>53062686</td>\n",
       "      <td>536165289</td>\n",
       "      <td>[1.3268283605575562, -3.441253900527954, 2.318...</td>\n",
       "      <td>[0.8855724334716797, -2.7517037391662598, 1.94...</td>\n",
       "      <td>0.995550</td>\n",
       "      <td>0.995550</td>\n",
       "      <td>0.995550</td>\n",
       "    </tr>\n",
       "    <tr>\n",
       "      <th>2</th>\n",
       "      <td>1.0</td>\n",
       "      <td>53602615</td>\n",
       "      <td>587809782</td>\n",
       "      <td>[1.046702265739441, -3.2472989559173584, 1.840...</td>\n",
       "      <td>[0.6976622343063354, -2.9333677291870117, 2.31...</td>\n",
       "      <td>0.962935</td>\n",
       "      <td>0.962935</td>\n",
       "      <td>0.962935</td>\n",
       "    </tr>\n",
       "    <tr>\n",
       "      <th>3</th>\n",
       "      <td>1.0</td>\n",
       "      <td>53888651</td>\n",
       "      <td>89598677</td>\n",
       "      <td>[-1.1161519289016724, 1.4208519458770752, 2.15...</td>\n",
       "      <td>[0.019846655428409576, 0.38493552803993225, 1....</td>\n",
       "      <td>0.988674</td>\n",
       "      <td>0.988674</td>\n",
       "      <td>0.988674</td>\n",
       "    </tr>\n",
       "    <tr>\n",
       "      <th>4</th>\n",
       "      <td>0.0</td>\n",
       "      <td>56930698</td>\n",
       "      <td>551526166</td>\n",
       "      <td>[-2.0551748275756836, -0.1769544780254364, 2.5...</td>\n",
       "      <td>[-1.9071264266967773, -0.020127616822719574, 3...</td>\n",
       "      <td>0.993168</td>\n",
       "      <td>0.993168</td>\n",
       "      <td>0.993168</td>\n",
       "    </tr>\n",
       "    <tr>\n",
       "      <th>...</th>\n",
       "      <td>...</td>\n",
       "      <td>...</td>\n",
       "      <td>...</td>\n",
       "      <td>...</td>\n",
       "      <td>...</td>\n",
       "      <td>...</td>\n",
       "      <td>...</td>\n",
       "      <td>...</td>\n",
       "    </tr>\n",
       "    <tr>\n",
       "      <th>306535</th>\n",
       "      <td>0.0</td>\n",
       "      <td>817327230</td>\n",
       "      <td>822083612</td>\n",
       "      <td>[-2.3245913982391357, 2.6929333209991455, 2.70...</td>\n",
       "      <td>[-2.254394769668579, 2.539191961288452, 2.6339...</td>\n",
       "      <td>0.999600</td>\n",
       "      <td>0.999600</td>\n",
       "      <td>0.999600</td>\n",
       "    </tr>\n",
       "    <tr>\n",
       "      <th>306536</th>\n",
       "      <td>0.0</td>\n",
       "      <td>817560551</td>\n",
       "      <td>818069912</td>\n",
       "      <td>[0.22542718052864075, -0.5770217180252075, 1.3...</td>\n",
       "      <td>[-0.03559388965368271, -0.3368261754512787, 1....</td>\n",
       "      <td>0.990181</td>\n",
       "      <td>0.990181</td>\n",
       "      <td>0.990181</td>\n",
       "    </tr>\n",
       "    <tr>\n",
       "      <th>306537</th>\n",
       "      <td>0.0</td>\n",
       "      <td>817854719</td>\n",
       "      <td>817857267</td>\n",
       "      <td>[0.29288360476493835, 0.9060116410255432, 2.65...</td>\n",
       "      <td>[0.44187256693840027, 0.6562294363975525, 2.46...</td>\n",
       "      <td>0.986249</td>\n",
       "      <td>0.986249</td>\n",
       "      <td>0.986249</td>\n",
       "    </tr>\n",
       "    <tr>\n",
       "      <th>306538</th>\n",
       "      <td>0.0</td>\n",
       "      <td>820036017</td>\n",
       "      <td>820037019</td>\n",
       "      <td>[-1.0455105304718018, 0.6065959334373474, 0.93...</td>\n",
       "      <td>[-0.9406758546829224, 0.525477945804596, 0.797...</td>\n",
       "      <td>0.999600</td>\n",
       "      <td>0.999600</td>\n",
       "      <td>0.999600</td>\n",
       "    </tr>\n",
       "    <tr>\n",
       "      <th>306539</th>\n",
       "      <td>0.0</td>\n",
       "      <td>821514120</td>\n",
       "      <td>821514311</td>\n",
       "      <td>[-3.3501689434051514, 1.1904510259628296, 0.35...</td>\n",
       "      <td>[-2.057309150695801, 0.65735924243927, 1.03569...</td>\n",
       "      <td>0.977671</td>\n",
       "      <td>0.977671</td>\n",
       "      <td>0.977671</td>\n",
       "    </tr>\n",
       "  </tbody>\n",
       "</table>\n",
       "<p>306497 rows × 8 columns</p>\n",
       "</div>"
      ],
      "text/plain": [
       "        target  variantid1  variantid2  \\\n",
       "0          0.0    51197862    51198054   \n",
       "1          1.0    53062686   536165289   \n",
       "2          1.0    53602615   587809782   \n",
       "3          1.0    53888651    89598677   \n",
       "4          0.0    56930698   551526166   \n",
       "...        ...         ...         ...   \n",
       "306535     0.0   817327230   822083612   \n",
       "306536     0.0   817560551   818069912   \n",
       "306537     0.0   817854719   817857267   \n",
       "306538     0.0   820036017   820037019   \n",
       "306539     0.0   821514120   821514311   \n",
       "\n",
       "                                                    embed  \\\n",
       "0       [1.4180996417999268, -1.3223673105239868, 1.41...   \n",
       "1       [1.3268283605575562, -3.441253900527954, 2.318...   \n",
       "2       [1.046702265739441, -3.2472989559173584, 1.840...   \n",
       "3       [-1.1161519289016724, 1.4208519458770752, 2.15...   \n",
       "4       [-2.0551748275756836, -0.1769544780254364, 2.5...   \n",
       "...                                                   ...   \n",
       "306535  [-2.3245913982391357, 2.6929333209991455, 2.70...   \n",
       "306536  [0.22542718052864075, -0.5770217180252075, 1.3...   \n",
       "306537  [0.29288360476493835, 0.9060116410255432, 2.65...   \n",
       "306538  [-1.0455105304718018, 0.6065959334373474, 0.93...   \n",
       "306539  [-3.3501689434051514, 1.1904510259628296, 0.35...   \n",
       "\n",
       "                                                  embed_2  pic_dist_0_perc  \\\n",
       "0       [0.04952368885278702, -2.240968704223633, 0.43...         0.636839   \n",
       "1       [0.8855724334716797, -2.7517037391662598, 1.94...         0.995550   \n",
       "2       [0.6976622343063354, -2.9333677291870117, 2.31...         0.962935   \n",
       "3       [0.019846655428409576, 0.38493552803993225, 1....         0.988674   \n",
       "4       [-1.9071264266967773, -0.020127616822719574, 3...         0.993168   \n",
       "...                                                   ...              ...   \n",
       "306535  [-2.254394769668579, 2.539191961288452, 2.6339...         0.999600   \n",
       "306536  [-0.03559388965368271, -0.3368261754512787, 1....         0.990181   \n",
       "306537  [0.44187256693840027, 0.6562294363975525, 2.46...         0.986249   \n",
       "306538  [-0.9406758546829224, 0.525477945804596, 0.797...         0.999600   \n",
       "306539  [-2.057309150695801, 0.65735924243927, 1.03569...         0.977671   \n",
       "\n",
       "        pic_dist_25_perc  pic_dist_50_perc  \n",
       "0               0.636839          0.636839  \n",
       "1               0.995550          0.995550  \n",
       "2               0.962935          0.962935  \n",
       "3               0.988674          0.988674  \n",
       "4               0.993168          0.993168  \n",
       "...                  ...               ...  \n",
       "306535          0.999600          0.999600  \n",
       "306536          0.990181          0.990181  \n",
       "306537          0.986249          0.986249  \n",
       "306538          0.999600          0.999600  \n",
       "306539          0.977671          0.977671  \n",
       "\n",
       "[306497 rows x 8 columns]"
      ]
     },
     "execution_count": 309,
     "metadata": {},
     "output_type": "execute_result"
    }
   ],
   "source": [
    "classif"
   ]
  },
  {
   "cell_type": "code",
   "execution_count": 321,
   "id": "757773bf",
   "metadata": {},
   "outputs": [],
   "source": [
    "classif = classif.merge(goods_data[['variantid', 'categories']], left_on = 'variantid1', right_on = 'variantid', how = 'left')"
   ]
  },
  {
   "cell_type": "code",
   "execution_count": 325,
   "id": "039a8b20",
   "metadata": {},
   "outputs": [],
   "source": [
    "classif[\"cat3\"] = classif[\"categories\"].apply(lambda x: json.loads(x)[\"3\"])"
   ]
  },
  {
   "cell_type": "code",
   "execution_count": 327,
   "id": "9304db70",
   "metadata": {},
   "outputs": [],
   "source": [
    "cat3_counts = classif[\"cat3\"].value_counts().to_dict()"
   ]
  },
  {
   "cell_type": "code",
   "execution_count": 328,
   "id": "3820c0f4",
   "metadata": {},
   "outputs": [],
   "source": [
    "classif[\"cat3_grouped\"] = classif[\"cat3\"].apply(lambda x: x if cat3_counts[x] > 1000 else \"rest\")"
   ]
  },
  {
   "cell_type": "code",
   "execution_count": 374,
   "id": "a11dfecf",
   "metadata": {},
   "outputs": [],
   "source": [
    "\n",
    "from sklearn.model_selection import train_test_split\n",
    "\n",
    "X_train, X_test = train_test_split(\n",
    "    classif[['target', \"variantid1\", \"variantid2\", 'pic_dist_0_perc', 'cat3_grouped']], \n",
    "    test_size=0.1, random_state=42, stratify=classif[[\"target\", \"cat3_grouped\"]]\n",
    ")\n",
    "\n",
    "y_test = X_test[[\"target\", \"variantid1\", \"variantid2\" ]]\n",
    "X_test = X_test.drop([\"target\"], axis=1)\n",
    "\n",
    "y_train = X_train[\"target\"]\n",
    "\n",
    "X_train = X_train.drop([\"target\", \"variantid1\", \"variantid2\"], axis=1)"
   ]
  },
  {
   "cell_type": "code",
   "execution_count": 375,
   "id": "9dea8907",
   "metadata": {},
   "outputs": [],
   "source": [
    "from catboost import CatBoostClassifier, Pool"
   ]
  },
  {
   "cell_type": "code",
   "execution_count": 376,
   "id": "2680d36b",
   "metadata": {},
   "outputs": [
    {
     "data": {
      "application/vnd.jupyter.widget-view+json": {
       "model_id": "daf6208e717543d683aabb02a9291424",
       "version_major": 2,
       "version_minor": 0
      },
      "text/plain": [
       "MetricVisualizer(layout=Layout(align_self='stretch', height='500px'))"
      ]
     },
     "metadata": {},
     "output_type": "display_data"
    },
    {
     "name": "stderr",
     "output_type": "stream",
     "text": [
      "You should provide test set for use best model. use_best_model parameter has been switched to false value.\n"
     ]
    },
    {
     "name": "stdout",
     "output_type": "stream",
     "text": [
      "Learning rate set to 0.113527\n",
      "0:\tlearn: 0.6910534\ttotal: 16.5ms\tremaining: 16.5s\n",
      "100:\tlearn: 0.6831762\ttotal: 1.07s\tremaining: 9.55s\n",
      "200:\tlearn: 0.6830308\ttotal: 2.11s\tremaining: 8.38s\n",
      "300:\tlearn: 0.6829578\ttotal: 3.18s\tremaining: 7.38s\n",
      "400:\tlearn: 0.6829247\ttotal: 4.21s\tremaining: 6.29s\n",
      "500:\tlearn: 0.6829069\ttotal: 5.23s\tremaining: 5.21s\n",
      "600:\tlearn: 0.6828938\ttotal: 6.25s\tremaining: 4.15s\n",
      "700:\tlearn: 0.6828865\ttotal: 7.29s\tremaining: 3.11s\n",
      "800:\tlearn: 0.6828800\ttotal: 8.32s\tremaining: 2.07s\n",
      "900:\tlearn: 0.6828745\ttotal: 9.31s\tremaining: 1.02s\n",
      "999:\tlearn: 0.6828707\ttotal: 10.3s\tremaining: 0us\n"
     ]
    },
    {
     "data": {
      "text/plain": [
       "<catboost.core.CatBoostClassifier at 0x7f821b2ce050>"
      ]
     },
     "execution_count": 376,
     "metadata": {},
     "output_type": "execute_result"
    }
   ],
   "source": [
    "model = CatBoostClassifier()\n",
    "\n",
    "model.fit(\n",
    "    X_train[['pic_dist_0_perc']], y_train,\n",
    "    plot=True,\n",
    "    verbose=True,\n",
    "    use_best_model=True,\n",
    "    early_stopping_rounds=50,\n",
    "    metric_period=100\n",
    ")"
   ]
  },
  {
   "cell_type": "code",
   "execution_count": 377,
   "id": "8612d9a4",
   "metadata": {},
   "outputs": [],
   "source": [
    "import numpy as np\n",
    "from sklearn.metrics import precision_recall_curve, auc\n",
    "\n",
    "\n",
    "def pr_auc_macro(\n",
    "    target_df: pd.DataFrame,\n",
    "    predictions_df: pd.DataFrame,\n",
    "    prec_level: float = 0.75,\n",
    "    cat_column: str = \"cat3_grouped\"\n",
    ") -> float:\n",
    "    \n",
    "    df = target_df.merge(predictions_df, on=[\"variantid1\", \"variantid2\"])\n",
    "    \n",
    "    y_true = df[\"target\"]\n",
    "    y_pred = df[\"scores\"]\n",
    "    categories = df[cat_column]\n",
    "    \n",
    "    weights = []\n",
    "    pr_aucs = []\n",
    "\n",
    "    unique_cats, counts = np.unique(categories, return_counts=True)\n",
    "\n",
    "    for i, category in enumerate(unique_cats):\n",
    "        cat_idx = np.where(categories == category)[0]\n",
    "        y_pred_cat = y_pred[cat_idx]\n",
    "        y_true_cat = y_true[cat_idx]\n",
    "\n",
    "        y, x, thr = precision_recall_curve(y_true_cat, y_pred_cat)\n",
    "        gt_prec_level_idx = np.where(y >= prec_level)[0]\n",
    "\n",
    "        try:\n",
    "            pr_auc_prec_level = auc(x[gt_prec_level_idx], y[gt_prec_level_idx])\n",
    "            if not np.isnan(pr_auc_prec_level):\n",
    "                pr_aucs.append(pr_auc_prec_level)\n",
    "                weights.append(counts[i] / len(categories))\n",
    "        except ValueError as err:\n",
    "            pr_aucs.append(0)\n",
    "            weights.append(0)\n",
    "    return np.average(pr_aucs, weights=weights)"
   ]
  },
  {
   "cell_type": "code",
   "execution_count": 378,
   "id": "2bdcdbc1",
   "metadata": {},
   "outputs": [],
   "source": [
    "X_test[\"scores\"] = model.predict_proba(X_test[['pic_dist_0_perc']])[:, 1]"
   ]
  },
  {
   "cell_type": "code",
   "execution_count": 379,
   "id": "49092822",
   "metadata": {},
   "outputs": [
    {
     "data": {
      "text/plain": [
       "0.49209805512350385"
      ]
     },
     "execution_count": 379,
     "metadata": {},
     "output_type": "execute_result"
    }
   ],
   "source": [
    "pr_auc_macro_metr = pr_auc_macro(\n",
    "    target_df=y_test, \n",
    "    predictions_df=X_test,\n",
    "    prec_level=0.75,\n",
    "    cat_column=\"cat3_grouped\"\n",
    ")\n",
    "\n",
    "pr_auc_macro_metr"
   ]
  },
  {
   "cell_type": "code",
   "execution_count": 380,
   "id": "a1853363",
   "metadata": {},
   "outputs": [],
   "source": [
    "#используется только одна картинка, можно делать positive pairs со всеми"
   ]
  },
  {
   "cell_type": "code",
   "execution_count": 382,
   "id": "a82674f7",
   "metadata": {},
   "outputs": [
    {
     "data": {
      "text/plain": [
       "<AxesSubplot:>"
      ]
     },
     "execution_count": 382,
     "metadata": {},
     "output_type": "execute_result"
    },
    {
     "data": {
      "image/png": "[encoded data removed]",
      "text/plain": [
       "<Figure size 640x480 with 1 Axes>"
      ]
     },
     "metadata": {},
     "output_type": "display_data"
    }
   ],
   "source": [
    "X_test[\"scores\"].hist()"
   ]
  },
  {
   "cell_type": "code",
   "execution_count": null,
   "id": "4a27288e",
   "metadata": {},
   "outputs": [],
   "source": []
  }
 ],
 "metadata": {
  "kernelspec": {
   "display_name": ".venv",
   "language": "python",
   "name": "python3"
  },
  "language_info": {
   "codemirror_mode": {
    "name": "ipython",
    "version": 3
   },
   "file_extension": ".py",
   "mimetype": "text/x-python",
   "name": "python",
   "nbconvert_exporter": "python",
   "pygments_lexer": "ipython3",
   "version": "3.7.9"
  },
  "notebookId": "4dc84276-532a-4fde-b258-fa27d9b5763e",
  "notebookPath": "ozon_zozon.ipynb"
 },
 "nbformat": 4,
 "nbformat_minor": 5
}

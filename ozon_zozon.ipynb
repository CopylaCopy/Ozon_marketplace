{
 "cells": [
  {
   "cell_type": "code",
   "execution_count": 262,
   "id": "27b992b0",
   "metadata": {
    "cellId": "bls132imi3lk984l5611l"
   },
   "outputs": [],
   "source": [
    "import gdown\n",
    "import pandas as pd"
   ]
  },
  {
   "cell_type": "code",
   "execution_count": 263,
   "id": "42bef86b",
   "metadata": {
    "cellId": "ecgc500ig4e84c0e08wi96"
   },
   "outputs": [],
   "source": [
    "# gdown.download('https://drive.google.com/file/d/17NBXx6l_6znStM52RJOKKKlxnHigavzq/view', fuzzy=True)"
   ]
  },
  {
   "cell_type": "code",
   "execution_count": 264,
   "id": "bbb30de9",
   "metadata": {
    "cellId": "wfvjmfdiopmgq06lqsi97g"
   },
   "outputs": [],
   "source": [
    "# tar -xvzf hackathon_objects.tar.gz"
   ]
  },
  {
   "cell_type": "code",
   "execution_count": 265,
   "id": "deee3114",
   "metadata": {
    "cellId": "s3787kdzasvahec8kf73r"
   },
   "outputs": [],
   "source": [
    "goods_data = pd.read_parquet('files/datasets/train_data.parquet')\n",
    "\n",
    "goods_pairs = pd.read_parquet('files/datasets/train_pairs_w_target.parquet')"
   ]
  },
  {
   "cell_type": "code",
   "execution_count": 266,
   "id": "0a0b9ccc",
   "metadata": {
    "cellId": "e8ysdi4b9cgil23ozi6ndh"
   },
   "outputs": [
    {
     "data": {
      "text/html": [
       "<div>\n",
       "<style scoped>\n",
       "    .dataframe tbody tr th:only-of-type {\n",
       "        vertical-align: middle;\n",
       "    }\n",
       "\n",
       "    .dataframe tbody tr th {\n",
       "        vertical-align: top;\n",
       "    }\n",
       "\n",
       "    .dataframe thead th {\n",
       "        text-align: right;\n",
       "    }\n",
       "</style>\n",
       "<table border=\"1\" class=\"dataframe\">\n",
       "  <thead>\n",
       "    <tr style=\"text-align: right;\">\n",
       "      <th></th>\n",
       "      <th>target</th>\n",
       "      <th>variantid1</th>\n",
       "      <th>variantid2</th>\n",
       "    </tr>\n",
       "  </thead>\n",
       "  <tbody>\n",
       "    <tr>\n",
       "      <th>0</th>\n",
       "      <td>0.0</td>\n",
       "      <td>51197862</td>\n",
       "      <td>51198054</td>\n",
       "    </tr>\n",
       "    <tr>\n",
       "      <th>1</th>\n",
       "      <td>1.0</td>\n",
       "      <td>53062686</td>\n",
       "      <td>536165289</td>\n",
       "    </tr>\n",
       "    <tr>\n",
       "      <th>2</th>\n",
       "      <td>1.0</td>\n",
       "      <td>53602615</td>\n",
       "      <td>587809782</td>\n",
       "    </tr>\n",
       "    <tr>\n",
       "      <th>3</th>\n",
       "      <td>1.0</td>\n",
       "      <td>53888651</td>\n",
       "      <td>89598677</td>\n",
       "    </tr>\n",
       "    <tr>\n",
       "      <th>4</th>\n",
       "      <td>0.0</td>\n",
       "      <td>56930698</td>\n",
       "      <td>551526166</td>\n",
       "    </tr>\n",
       "  </tbody>\n",
       "</table>\n",
       "</div>"
      ],
      "text/plain": [
       "   target  variantid1  variantid2\n",
       "0     0.0    51197862    51198054\n",
       "1     1.0    53062686   536165289\n",
       "2     1.0    53602615   587809782\n",
       "3     1.0    53888651    89598677\n",
       "4     0.0    56930698   551526166"
      ]
     },
     "execution_count": 266,
     "metadata": {},
     "output_type": "execute_result"
    }
   ],
   "source": [
    "goods_pairs.head()"
   ]
  },
  {
   "cell_type": "code",
   "execution_count": 267,
   "id": "445355c8",
   "metadata": {
    "cellId": "bx0pomb8jeuy85ea89zip"
   },
   "outputs": [
    {
     "data": {
      "text/html": [
       "<div>\n",
       "<style scoped>\n",
       "    .dataframe tbody tr th:only-of-type {\n",
       "        vertical-align: middle;\n",
       "    }\n",
       "\n",
       "    .dataframe tbody tr th {\n",
       "        vertical-align: top;\n",
       "    }\n",
       "\n",
       "    .dataframe thead th {\n",
       "        text-align: right;\n",
       "    }\n",
       "</style>\n",
       "<table border=\"1\" class=\"dataframe\">\n",
       "  <thead>\n",
       "    <tr style=\"text-align: right;\">\n",
       "      <th></th>\n",
       "      <th>variantid</th>\n",
       "      <th>characteristic_attributes_mapping</th>\n",
       "      <th>name</th>\n",
       "      <th>categories</th>\n",
       "      <th>color_parsed</th>\n",
       "      <th>pic_embeddings_resnet_v1</th>\n",
       "      <th>main_pic_embeddings_resnet_v1</th>\n",
       "      <th>name_bert_64</th>\n",
       "    </tr>\n",
       "  </thead>\n",
       "  <tbody>\n",
       "    <tr>\n",
       "      <th>0</th>\n",
       "      <td>51195767</td>\n",
       "      <td>{\"85\":[\"Партнер-Электро\"],\"8229\":[\"Удлинитель ...</td>\n",
       "      <td>Удлинитель Партнер-Электро ПВС 2х0,75 ГОСТ,6A,...</td>\n",
       "      <td>{\"1\": \"EPG\", \"2\": \"Электроника\", \"3\": \"Сетевые...</td>\n",
       "      <td>[оранжевый]</td>\n",
       "      <td>None</td>\n",
       "      <td>[[0.04603629, 0.18839523, -0.09973055, -0.6636...</td>\n",
       "      <td>[-0.47045058, 0.67237014, 0.48984158, -0.54485...</td>\n",
       "    </tr>\n",
       "    <tr>\n",
       "      <th>1</th>\n",
       "      <td>51196903</td>\n",
       "      <td>{\"85\":[\"TDM Electric\"],\"8229\":[\"Удлинитель быт...</td>\n",
       "      <td>Колодка TDM Electric пятиместная без заземлени...</td>\n",
       "      <td>{\"1\": \"EPG\", \"2\": \"Электроника\", \"3\": \"Сетевые...</td>\n",
       "      <td>[белый]</td>\n",
       "      <td>[[0.42044494, -0.33794826, -0.037247024, 0.165...</td>\n",
       "      <td>[[0.16211876, -0.4455993, 0.6131705, 0.5954206...</td>\n",
       "      <td>[-0.48503304, 0.6264443, 0.6406273, -0.4696772...</td>\n",
       "    </tr>\n",
       "    <tr>\n",
       "      <th>2</th>\n",
       "      <td>52061880</td>\n",
       "      <td>{\"85\":[\"MINAMOTO\"],\"8229\":[\"Батарейка\"],\"5111\"...</td>\n",
       "      <td>Батарейка литиевая CR 1/3N 3V (CR11108) Minamo...</td>\n",
       "      <td>{\"1\": \"EPG\", \"2\": \"Электроника\", \"3\": \"Батарей...</td>\n",
       "      <td>None</td>\n",
       "      <td>[[0.66729844, -0.023996592, 0.42721167, 0.0205...</td>\n",
       "      <td>[[-0.8638098, -0.1625915, -0.034600798, 0.1337...</td>\n",
       "      <td>[-0.15832633, 0.44736174, 0.31883216, -0.55559...</td>\n",
       "    </tr>\n",
       "    <tr>\n",
       "      <th>3</th>\n",
       "      <td>52067481</td>\n",
       "      <td>{\"85\":[\"Duracell\"],\"8229\":[\"Батарейка\"],\"5111\"...</td>\n",
       "      <td>Батарейки DURACELL Ultra Power AA (LR6), 4 шт</td>\n",
       "      <td>{\"1\": \"EPG\", \"2\": \"Электроника\", \"3\": \"Батарей...</td>\n",
       "      <td>None</td>\n",
       "      <td>[[0.3516068, 0.6306597, 0.80962396, -0.0104141...</td>\n",
       "      <td>[[-0.26286322, 0.22858405, 0.4346232, 0.023486...</td>\n",
       "      <td>[-0.42703134, 0.16898727, 0.53922343, -0.53523...</td>\n",
       "    </tr>\n",
       "    <tr>\n",
       "      <th>4</th>\n",
       "      <td>52610752</td>\n",
       "      <td>{\"85\":[\"HP\"],\"8229\":[\"Картридж\"],\"5708\":[\"для ...</td>\n",
       "      <td>Картридж лазерный HP 12A Q2612A черный для LJ ...</td>\n",
       "      <td>{\"1\": \"EPG\", \"2\": \"Электроника\", \"3\": \"Расходн...</td>\n",
       "      <td>[черный, чер]</td>\n",
       "      <td>[[-0.009966308, 0.70965785, 0.10790472, -0.411...</td>\n",
       "      <td>[[0.09032486, 0.74205226, 0.30355096, -0.04755...</td>\n",
       "      <td>[-0.4892143, 0.47568643, 0.6505941, -0.4106509...</td>\n",
       "    </tr>\n",
       "  </tbody>\n",
       "</table>\n",
       "</div>"
      ],
      "text/plain": [
       "   variantid  ...                                       name_bert_64\n",
       "0   51195767  ...  [-0.47045058, 0.67237014, 0.48984158, -0.54485...\n",
       "1   51196903  ...  [-0.48503304, 0.6264443, 0.6406273, -0.4696772...\n",
       "2   52061880  ...  [-0.15832633, 0.44736174, 0.31883216, -0.55559...\n",
       "3   52067481  ...  [-0.42703134, 0.16898727, 0.53922343, -0.53523...\n",
       "4   52610752  ...  [-0.4892143, 0.47568643, 0.6505941, -0.4106509...\n",
       "\n",
       "[5 rows x 8 columns]"
      ]
     },
     "execution_count": 267,
     "metadata": {},
     "output_type": "execute_result"
    }
   ],
   "source": [
    "goods_data.head()"
   ]
  },
  {
   "cell_type": "code",
   "execution_count": 268,
   "id": "d7f5ee35",
   "metadata": {
    "cellId": "yk5wh4mhrz67saw80ojo6"
   },
   "outputs": [
    {
     "data": {
      "text/plain": [
       "0.04603629"
      ]
     },
     "execution_count": 268,
     "metadata": {},
     "output_type": "execute_result"
    }
   ],
   "source": [
    "goods_data['main_pic_embeddings_resnet_v1'][0][0][0]"
   ]
  },
  {
   "cell_type": "code",
   "execution_count": 269,
   "id": "3c57ed52",
   "metadata": {
    "cellId": "un7g4kr0qpd0tmhg5cztn"
   },
   "outputs": [],
   "source": [
    "def symm_pairs(df):\n",
    "    # todo: complete cliques of goods\n",
    "    \n",
    "    df2 = df.copy()\n",
    "    cols = [\"variantid1\", \"variantid2\"]\n",
    "    for c in cols:\n",
    "        if c not in df2.columns:\n",
    "            raise UserWarning\n",
    "    df2 = df2.rename(columns={cols[0]: cols[1], cols[1]: cols[0]})\n",
    "    return pd.concat([df, df2]).drop_duplicates()"
   ]
  },
  {
   "cell_type": "code",
   "execution_count": 270,
   "id": "010899f9",
   "metadata": {
    "cellId": "1kwhyiuyzyerhlxq9l94hm"
   },
   "outputs": [
    {
     "name": "stdout",
     "output_type": "stream",
     "text": [
      "Original Data: tensor([[0.2153, 0.6319, 0.5349, 0.7366, 0.1102],\n",
      "        [0.7397, 0.5251, 0.0387, 0.9687, 0.2887]], dtype=torch.float64)\n",
      "Positive Pair: tensor([[0.4922, 0.8236, 0.9081, 0.6742, 0.3004],\n",
      "        [0.4097, 0.2647, 0.2717, 0.2404, 0.0680]], dtype=torch.float64)\n",
      "Negative Pair: tensor([[0.4097, 0.2647, 0.2717, 0.2404, 0.0680],\n",
      "        [0.4922, 0.8236, 0.9081, 0.6742, 0.3004]], dtype=torch.float64)\n",
      "Original Data: tensor([[0.4922, 0.8236, 0.9081, 0.6742, 0.3004],\n",
      "        [0.9249, 0.8772, 0.0431, 0.6729, 0.5220]], dtype=torch.float64)\n",
      "Positive Pair: tensor([[0.2153, 0.6319, 0.5349, 0.7366, 0.1102],\n",
      "        [0.2153, 0.6319, 0.5349, 0.7366, 0.1102]], dtype=torch.float64)\n",
      "Negative Pair: tensor([[0.7397, 0.5251, 0.0387, 0.9687, 0.2887],\n",
      "        [0.4097, 0.2647, 0.2717, 0.2404, 0.0680]], dtype=torch.float64)\n",
      "Original Data: tensor([[0.4097, 0.2647, 0.2717, 0.2404, 0.0680]], dtype=torch.float64)\n",
      "Positive Pair: tensor([[0.7397, 0.5251, 0.0387, 0.9687, 0.2887]], dtype=torch.float64)\n",
      "Negative Pair: tensor([[0.9249, 0.8772, 0.0431, 0.6729, 0.5220]], dtype=torch.float64)\n"
     ]
    }
   ],
   "source": [
    "import torch\n",
    "import random\n",
    "import numpy as np\n",
    "from torch.utils.data import Dataset, DataLoader\n",
    "\n",
    "\n",
    "class ContrastiveDataset(Dataset):\n",
    "    def __init__(self, original_dataset, pairs_dataset, embedding_columns):\n",
    "        self.original_dataset = original_dataset\n",
    "        self.pairs_dataset = pairs_dataset\n",
    "        self.embedding_columns = embedding_columns\n",
    "\n",
    "    def __getitem__(self, index):\n",
    "        # Get original data\n",
    "        original_data = self.get_embeddings(index)\n",
    "        original_id = self.original_dataset[\"variantid\"].iloc[index]\n",
    "\n",
    "        # Find positive and negative pairs\n",
    "        positive_pair = self.find_positive_pair(original_id)\n",
    "        negative_pair = self.find_negative_pair(original_id)\n",
    "\n",
    "        return original_data, positive_pair, negative_pair\n",
    "\n",
    "    def __len__(self):\n",
    "        return len(self.original_dataset)\n",
    "\n",
    "    def get_embeddings(self, index):\n",
    "        embeddings = []\n",
    "        for column in self.embedding_columns:\n",
    "            embedding = self.original_dataset[column].iloc[index]\n",
    "            if embedding.shape[0] == 1:\n",
    "                embedding = embedding[0]\n",
    "            embeddings.append(embedding)\n",
    "        return torch.tensor(np.concatenate(embeddings))\n",
    "\n",
    "    def find_positive_pair(self, original_id):\n",
    "        positive_pairs = self.pairs_dataset[self.pairs_dataset[\"target\"] == 1]\n",
    "        matching_pairs = positive_pairs[(positive_pairs[\"variantid1\"] == original_id)]\n",
    "\n",
    "        if len(matching_pairs) > 0:\n",
    "            # Randomly choose a positive pair if multiple pairs are found\n",
    "            chosen_pair = matching_pairs.sample(1)\n",
    "\n",
    "            # Get the ID of the other data point in the pair\n",
    "            pair_id = chosen_pair[\"variantid2\"].values[0]\n",
    "\n",
    "            # Retrieve the corresponding data from the original dataset\n",
    "            positive_row = self.get_embeddings(\n",
    "                self.original_dataset[\n",
    "                    self.original_dataset[\"variantid\"] == pair_id\n",
    "                ].index[0]\n",
    "            )\n",
    "\n",
    "            return positive_row\n",
    "\n",
    "        # Return original data if positive pair is not found\n",
    "        original_row = self.get_embeddings(\n",
    "            self.original_dataset[\n",
    "                self.original_dataset[\"variantid\"] == original_id\n",
    "            ].index[0]\n",
    "        )\n",
    "        return original_row\n",
    "\n",
    "    def find_negative_pair(self, original_id):\n",
    "        negative_pairs = self.pairs_dataset[self.pairs_dataset[\"target\"] == 0]\n",
    "        matching_pairs = negative_pairs[(negative_pairs[\"variantid1\"] == original_id)]\n",
    "\n",
    "        if len(matching_pairs) > 0:\n",
    "            # Randomly choose a positive pair if multiple pairs are found\n",
    "            chosen_pair = matching_pairs.sample(1)\n",
    "\n",
    "            # Get the ID of the other data point in the pair\n",
    "            pair_id = chosen_pair[\"variantid2\"].values[0]\n",
    "\n",
    "            # Retrieve the corresponding data from the original dataset\n",
    "            negative_row = self.get_embeddings(\n",
    "                self.original_dataset[\n",
    "                    self.original_dataset[\"variantid\"] == pair_id\n",
    "                ].index[0]\n",
    "            )\n",
    "\n",
    "            return negative_row\n",
    "\n",
    "        # Return random data if positive pair is not found\n",
    "        random_row = self.get_embeddings(random.choice(self.original_dataset.index))\n",
    "        return random_row\n",
    "\n",
    "\n",
    "# Usage example\n",
    "original_dataset = pd.DataFrame(\n",
    "    {\n",
    "        \"variantid\": [1, 2, 3, 4, 5],\n",
    "        \"main_pic_embeddings_resnet_v1\": [\n",
    "            np.random.rand(2),\n",
    "            np.random.rand(2),\n",
    "            np.random.rand(2),\n",
    "            np.random.rand(2),\n",
    "            np.random.rand(2),\n",
    "        ],\n",
    "        \"other_embeddings\": [\n",
    "            np.random.rand(3),\n",
    "            np.random.rand(3),\n",
    "            np.random.rand(3),\n",
    "            np.random.rand(3),\n",
    "            np.random.rand(3),\n",
    "        ],\n",
    "    }\n",
    ")\n",
    "\n",
    "pairs_dataset = pd.DataFrame(\n",
    "    {\n",
    "        \"variantid1\": [1, 2, 3, 4, 5],\n",
    "        \"variantid2\": [2, 3, 4, 5, 1],\n",
    "        \"target\": [1, 1, 0, 1, 0],\n",
    "    }\n",
    ")\n",
    "\n",
    "pairs_dataset_symm = symm_pairs(pairs_dataset)\n",
    "\n",
    "embedding_columns = [\"main_pic_embeddings_resnet_v1\", \"other_embeddings\"]\n",
    "\n",
    "contrastive_dataset = ContrastiveDataset(\n",
    "    original_dataset, pairs_dataset_symm, embedding_columns\n",
    ")\n",
    "dataloader = DataLoader(contrastive_dataset, batch_size=2, shuffle=True)\n",
    "\n",
    "for original_data, positive_pair, negative_pair in dataloader:\n",
    "    # Use the data for training or inference\n",
    "    print(\"Original Data:\", original_data)\n",
    "    print(\"Positive Pair:\", positive_pair)\n",
    "    print(\"Negative Pair:\", negative_pair)\n"
   ]
  },
  {
   "cell_type": "markdown",
   "id": "7cdd5b77",
   "metadata": {
    "cellId": "3tmtu33k29xdruqfbz2rac",
    "execution_id": "80fa1605-175e-411e-a81a-190708cc061f"
   },
   "source": [
    "# Actual data"
   ]
  },
  {
   "cell_type": "code",
   "execution_count": 271,
   "id": "31987838",
   "metadata": {
    "cellId": "e66sob5skeokmuldwzmmf"
   },
   "outputs": [],
   "source": [
    "symm_goods_pairs = symm_pairs(goods_pairs)"
   ]
  },
  {
   "cell_type": "code",
   "execution_count": 272,
   "id": "cae3e1c6",
   "metadata": {
    "cellId": "1bml8e8n2hkepvpwr99isl"
   },
   "outputs": [],
   "source": [
    "embedding_columns = ['main_pic_embeddings_resnet_v1', 'name_bert_64']\n",
    "\n",
    "contrastive_dataset = ContrastiveDataset(goods_data, symm_goods_pairs, embedding_columns)\n",
    "a = contrastive_dataset[0]"
   ]
  },
  {
   "cell_type": "code",
   "execution_count": 273,
   "id": "b3ae99f7",
   "metadata": {
    "cellId": "nh67wmmre4pudxi5rurlj"
   },
   "outputs": [
    {
     "data": {
      "text/plain": [
       "torch.Size([192])"
      ]
     },
     "execution_count": 273,
     "metadata": {},
     "output_type": "execute_result"
    }
   ],
   "source": [
    "a[0].shape"
   ]
  },
  {
   "cell_type": "code",
   "execution_count": 274,
   "id": "94bf6263",
   "metadata": {
    "cellId": "s4fwg9p204n8sjuzrk1z02"
   },
   "outputs": [
    {
     "data": {
      "text/plain": [
       "torch.Size([128, 192])"
      ]
     },
     "execution_count": 274,
     "metadata": {},
     "output_type": "execute_result"
    }
   ],
   "source": [
    "contrastive_dataloader = DataLoader(contrastive_dataset, batch_size=128, shuffle=False)\n",
    "next(iter(contrastive_dataloader))[0].shape"
   ]
  },
  {
   "cell_type": "markdown",
   "id": "ed9a02a9",
   "metadata": {
    "cellId": "8hmealx9wh946wmkeqqznp",
    "execution_id": "4c11f772-d5dc-440d-be92-b9930289b0ab"
   },
   "source": [
    "# Basic train example"
   ]
  },
  {
   "cell_type": "code",
   "execution_count": 275,
   "id": "fabe113a",
   "metadata": {
    "cellId": "3899tdsq7bfqmfohj0evp"
   },
   "outputs": [
    {
     "data": {
      "text/plain": [
       "variantid                                                                     53929742\n",
       "characteristic_attributes_mapping    {\"85\":[\"HP\"],\"8229\":[\"Картридж\"],\"5708\":[\"для ...\n",
       "name                                 Картридж струйный HP (CZ109AE) Deskjet Ink Adv...\n",
       "categories                           {\"1\": \"EPG\", \"2\": \"Электроника\", \"3\": \"Расходн...\n",
       "color_parsed                                                                  [черный]\n",
       "pic_embeddings_resnet_v1             [[1.2208006, 0.66162866, 0.49201033, 0.1131612...\n",
       "main_pic_embeddings_resnet_v1        [[0.9229982, -0.17476001, 0.37529987, 0.263404...\n",
       "name_bert_64                         [-0.19159806, 0.5509367, 0.50015163, -0.362934...\n",
       "Name: 12, dtype: object"
      ]
     },
     "execution_count": 275,
     "metadata": {},
     "output_type": "execute_result"
    }
   ],
   "source": [
    "goods_data.iloc[12]"
   ]
  },
  {
   "cell_type": "code",
   "execution_count": 276,
   "id": "254cb7cb",
   "metadata": {
    "cellId": "a8bezjxo9twbpw8kg0cbns"
   },
   "outputs": [
    {
     "data": {
      "text/plain": [
       "(457063, 8)"
      ]
     },
     "execution_count": 276,
     "metadata": {},
     "output_type": "execute_result"
    }
   ],
   "source": [
    "goods_data.shape"
   ]
  },
  {
   "cell_type": "code",
   "execution_count": 277,
   "id": "31c6793d",
   "metadata": {
    "cellId": "hfjmsv16cqqjn817qd1jcs"
   },
   "outputs": [
    {
     "data": {
      "text/plain": [
       "(457063,)"
      ]
     },
     "execution_count": 277,
     "metadata": {},
     "output_type": "execute_result"
    }
   ],
   "source": [
    "goods_data['variantid'].unique().shape"
   ]
  },
  {
   "cell_type": "code",
   "execution_count": 278,
   "id": "5fbbf573",
   "metadata": {
    "cellId": "he0tpxslu5hvxfvr86yov"
   },
   "outputs": [
    {
     "data": {
      "text/plain": [
       "0          51197862\n",
       "1          53062686\n",
       "2          53602615\n",
       "3          53888651\n",
       "4          56930698\n",
       "            ...    \n",
       "306535    817327230\n",
       "306536    817560551\n",
       "306537    817854719\n",
       "306538    820036017\n",
       "306539    821514120\n",
       "Name: variantid1, Length: 306540, dtype: int64"
      ]
     },
     "execution_count": 278,
     "metadata": {},
     "output_type": "execute_result"
    }
   ],
   "source": [
    "pd.concat([goods_pairs['variantid1']])"
   ]
  },
  {
   "cell_type": "code",
   "execution_count": 279,
   "id": "83e19e09",
   "metadata": {
    "cellId": "9iqg5r6eielni8n92s0hmm"
   },
   "outputs": [
    {
     "data": {
      "text/plain": [
       "(456741,)"
      ]
     },
     "execution_count": 279,
     "metadata": {},
     "output_type": "execute_result"
    }
   ],
   "source": [
    "pd.concat([goods_pairs['variantid1'], goods_pairs['variantid2']]).unique().shape"
   ]
  },
  {
   "cell_type": "code",
   "execution_count": 280,
   "id": "a0d1594b",
   "metadata": {
    "cellId": "z54sy7liah17ibgv8blu5"
   },
   "outputs": [
    {
     "data": {
      "text/html": [
       "<div>\n",
       "<style scoped>\n",
       "    .dataframe tbody tr th:only-of-type {\n",
       "        vertical-align: middle;\n",
       "    }\n",
       "\n",
       "    .dataframe tbody tr th {\n",
       "        vertical-align: top;\n",
       "    }\n",
       "\n",
       "    .dataframe thead th {\n",
       "        text-align: right;\n",
       "    }\n",
       "</style>\n",
       "<table border=\"1\" class=\"dataframe\">\n",
       "  <thead>\n",
       "    <tr style=\"text-align: right;\">\n",
       "      <th></th>\n",
       "      <th>target</th>\n",
       "      <th>variantid1</th>\n",
       "      <th>variantid2</th>\n",
       "    </tr>\n",
       "  </thead>\n",
       "  <tbody>\n",
       "  </tbody>\n",
       "</table>\n",
       "</div>"
      ],
      "text/plain": [
       "Empty DataFrame\n",
       "Columns: [target, variantid1, variantid2]\n",
       "Index: []"
      ]
     },
     "execution_count": 280,
     "metadata": {},
     "output_type": "execute_result"
    }
   ],
   "source": [
    "goods_pairs[goods_pairs['variantid1'] == 53929742]"
   ]
  },
  {
   "cell_type": "code",
   "execution_count": 281,
   "id": "720ea49a",
   "metadata": {
    "cellId": "0n9ms6r06pga6a0gaeq54s6"
   },
   "outputs": [
    {
     "data": {
      "text/html": [
       "<div>\n",
       "<style scoped>\n",
       "    .dataframe tbody tr th:only-of-type {\n",
       "        vertical-align: middle;\n",
       "    }\n",
       "\n",
       "    .dataframe tbody tr th {\n",
       "        vertical-align: top;\n",
       "    }\n",
       "\n",
       "    .dataframe thead th {\n",
       "        text-align: right;\n",
       "    }\n",
       "</style>\n",
       "<table border=\"1\" class=\"dataframe\">\n",
       "  <thead>\n",
       "    <tr style=\"text-align: right;\">\n",
       "      <th></th>\n",
       "      <th>target</th>\n",
       "      <th>variantid1</th>\n",
       "      <th>variantid2</th>\n",
       "    </tr>\n",
       "  </thead>\n",
       "  <tbody>\n",
       "  </tbody>\n",
       "</table>\n",
       "</div>"
      ],
      "text/plain": [
       "Empty DataFrame\n",
       "Columns: [target, variantid1, variantid2]\n",
       "Index: []"
      ]
     },
     "execution_count": 281,
     "metadata": {},
     "output_type": "execute_result"
    }
   ],
   "source": [
    "symm_goods_pairs[symm_goods_pairs['variantid1'] == 53929742]"
   ]
  },
  {
   "cell_type": "code",
   "execution_count": 282,
   "id": "47dc2224",
   "metadata": {
    "cellId": "0tws8l3xuawn7bw0y3oaq9"
   },
   "outputs": [
    {
     "data": {
      "text/plain": [
       "torch.Size([192])"
      ]
     },
     "execution_count": 282,
     "metadata": {},
     "output_type": "execute_result"
    }
   ],
   "source": [
    "contrastive_dataset[25][0].shape"
   ]
  },
  {
   "cell_type": "code",
   "execution_count": 283,
   "id": "e50efc50",
   "metadata": {
    "cellId": "bok93errjb1mcmtvrtaxh"
   },
   "outputs": [
    {
     "name": "stdout",
     "output_type": "stream",
     "text": [
      "0 torch.Size([128, 192])\n"
     ]
    }
   ],
   "source": [
    "for i, (original_data, positive_pair, negative_pair) in enumerate(contrastive_dataloader):\n",
    "    print(i, original_data.shape)\n",
    "    break"
   ]
  },
  {
   "cell_type": "code",
   "execution_count": 284,
   "id": "dce93811",
   "metadata": {
    "cellId": "v3sv6t44b74rjsewq93wo"
   },
   "outputs": [],
   "source": [
    "import torch\n",
    "import torch.nn as nn\n",
    "import torch.optim as optim\n",
    "from torch.utils.data import DataLoader\n",
    "\n",
    "from tqdm.notebook import tqdm"
   ]
  },
  {
   "cell_type": "code",
   "execution_count": 285,
   "id": "e5d822a5",
   "metadata": {
    "cellId": "hftt4a973j5hxwbsb6hmd"
   },
   "outputs": [],
   "source": [
    "#!g1.1\n",
    "\n",
    "device = 'cuda' if torch.cuda.is_available() else 'cpu'"
   ]
  },
  {
   "cell_type": "code",
   "execution_count": null,
   "id": "e683a8cd",
   "metadata": {
    "cellId": "og2gft5os44sped1le5br",
    "execution_id": "37f530e5-d8ac-4ed7-9d4e-8b72e5ead7bc"
   },
   "outputs": [],
   "source": [
    "#!g1.1\n",
    "class ContrastiveModel(nn.Module):\n",
    "    def __init__(self, input_size, hidden_size, embedding_size):\n",
    "        super(ContrastiveModel, self).__init__()\n",
    "        \n",
    "        self.input_size = input_size\n",
    "        self.embedding_size = embedding_size\n",
    "        self.hidden_size = hidden_size\n",
    "        \n",
    "        self.fc1 = nn.Linear(input_size, hidden_size)\n",
    "        self.fc2 = nn.Linear(hidden_size, hidden_size)\n",
    "        self.fc3 = nn.Linear(hidden_size, embedding_size)\n",
    "        \n",
    "        self.relu = nn.ReLU()\n",
    "        self.dropout = nn.Dropout(p=0.2)\n",
    "        \n",
    "    def forward(self, x):\n",
    "        x = self.relu(self.fc1(x))\n",
    "        x = self.dropout(x)\n",
    "        x = self.relu(self.fc2(x))\n",
    "        x = self.fc3(x)\n",
    "        return x\n",
    "\n",
    "def triplet_loss(anchor, positive, negative, margin=1.0):\n",
    "    distance_positive = torch.norm(anchor - positive, dim=1)\n",
    "    distance_negative = torch.norm(anchor - negative, dim=1)\n",
    "    loss = torch.clamp(distance_positive - distance_negative + margin, min=0.0).mean()\n",
    "    return loss\n",
    "\n",
    "# Example parameters\n",
    "input_size = 192\n",
    "hidden_size = 64\n",
    "embedding_size = 32\n",
    "learning_rate = 0.001\n",
    "num_epochs = 10\n",
    "\n",
    "# Create an instance of the model\n",
    "model = ContrastiveModel(input_size, hidden_size, embedding_size).to(device)\n",
    "\n",
    "# Define the optimizer and the loss function\n",
    "optimizer = optim.Adam(model.parameters(), lr=learning_rate)\n",
    "\n",
    "# Train loop\n",
    "for epoch in tqdm(range(num_epochs)):\n",
    "    total_loss = 0.0\n",
    "    \n",
    "    for original_data, positive_pair, negative_pair in tqdm(contrastive_dataloader):\n",
    "        # Zero the gradients\n",
    "        optimizer.zero_grad()\n",
    "        \n",
    "        # Forward pass\n",
    "        anchor = model(original_data.to(device))\n",
    "        positive = model(positive_pair.to(device))\n",
    "        negative = model(negative_pair.to(device))\n",
    "        \n",
    "        # Compute the triplet loss\n",
    "        loss = triplet_loss(anchor, positive, negative)\n",
    "        \n",
    "        # Backward pass and optimization\n",
    "        loss.backward()\n",
    "        optimizer.step()\n",
    "        \n",
    "        print(loss.item())\n",
    "        total_loss += loss.item()\n",
    "    \n",
    "    average_loss = total_loss / len(contrastive_dataloader)\n",
    "    print(f\"Epoch [{epoch+1}/{num_epochs}], Average Loss: {average_loss:.4f}\")\n"
   ]
  },
  {
   "cell_type": "code",
   "execution_count": null,
   "id": "f434720f",
   "metadata": {
    "cellId": "13e01eam7vpcthi0zaphyes",
    "execution_id": "045d38c5-453d-44ae-a5cc-8d7272306430"
   },
   "outputs": [],
   "source": [
    "#!g1.1\n"
   ]
  }
 ],
 "metadata": {
  "language_info": {
   "codemirror_mode": {
    "name": "ipython",
    "version": 3
   },
   "file_extension": ".py",
   "mimetype": "text/x-python",
   "name": "python",
   "nbconvert_exporter": "python",
   "pygments_lexer": "ipython3",
   "version": "3.7.7"
  },
  "notebookId": "4dc84276-532a-4fde-b258-fa27d9b5763e",
  "notebookPath": "ozon_zozon.ipynb"
 },
 "nbformat": 4,
 "nbformat_minor": 5
}

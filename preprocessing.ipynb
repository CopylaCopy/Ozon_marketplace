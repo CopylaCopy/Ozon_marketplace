{
 "cells": [
  {
   "cell_type": "code",
   "execution_count": 1,
   "id": "cf61cb4b",
   "metadata": {},
   "outputs": [],
   "source": [
    "import os\n",
    "import pandas as pd\n",
    "import numpy as np\n",
    "from tqdm import tqdm"
   ]
  },
  {
   "cell_type": "code",
   "execution_count": 2,
   "id": "3cb962dc",
   "metadata": {},
   "outputs": [],
   "source": [
    "path = os.path.join(os.getcwd(),'files')\n",
    "datasets = os.path.join(path,'datasets')"
   ]
  },
  {
   "cell_type": "code",
   "execution_count": 3,
   "id": "089ed6c9",
   "metadata": {},
   "outputs": [
    {
     "data": {
      "text/plain": [
       "['test_data.parquet',\n",
       " 'test_for_participants.csv',\n",
       " 'train_data.parquet',\n",
       " 'train_pairs_w_target.parquet']"
      ]
     },
     "execution_count": 3,
     "metadata": {},
     "output_type": "execute_result"
    }
   ],
   "source": [
    "os.listdir(datasets)"
   ]
  },
  {
   "cell_type": "code",
   "execution_count": 4,
   "id": "4335c44f",
   "metadata": {},
   "outputs": [],
   "source": [
    "pairs = pd.read_parquet(os.path.join(datasets,'train_pairs_w_target.parquet'))"
   ]
  },
  {
   "cell_type": "code",
   "execution_count": 5,
   "id": "810ab223",
   "metadata": {},
   "outputs": [
    {
     "data": {
      "text/html": [
       "<div>\n",
       "<style scoped>\n",
       "    .dataframe tbody tr th:only-of-type {\n",
       "        vertical-align: middle;\n",
       "    }\n",
       "\n",
       "    .dataframe tbody tr th {\n",
       "        vertical-align: top;\n",
       "    }\n",
       "\n",
       "    .dataframe thead th {\n",
       "        text-align: right;\n",
       "    }\n",
       "</style>\n",
       "<table border=\"1\" class=\"dataframe\">\n",
       "  <thead>\n",
       "    <tr style=\"text-align: right;\">\n",
       "      <th></th>\n",
       "      <th>target</th>\n",
       "      <th>variantid1</th>\n",
       "      <th>variantid2</th>\n",
       "    </tr>\n",
       "  </thead>\n",
       "  <tbody>\n",
       "    <tr>\n",
       "      <th>0</th>\n",
       "      <td>0.0</td>\n",
       "      <td>51197862</td>\n",
       "      <td>51198054</td>\n",
       "    </tr>\n",
       "    <tr>\n",
       "      <th>1</th>\n",
       "      <td>1.0</td>\n",
       "      <td>53062686</td>\n",
       "      <td>536165289</td>\n",
       "    </tr>\n",
       "    <tr>\n",
       "      <th>2</th>\n",
       "      <td>1.0</td>\n",
       "      <td>53602615</td>\n",
       "      <td>587809782</td>\n",
       "    </tr>\n",
       "    <tr>\n",
       "      <th>3</th>\n",
       "      <td>1.0</td>\n",
       "      <td>53888651</td>\n",
       "      <td>89598677</td>\n",
       "    </tr>\n",
       "    <tr>\n",
       "      <th>4</th>\n",
       "      <td>0.0</td>\n",
       "      <td>56930698</td>\n",
       "      <td>551526166</td>\n",
       "    </tr>\n",
       "    <tr>\n",
       "      <th>...</th>\n",
       "      <td>...</td>\n",
       "      <td>...</td>\n",
       "      <td>...</td>\n",
       "    </tr>\n",
       "    <tr>\n",
       "      <th>306535</th>\n",
       "      <td>0.0</td>\n",
       "      <td>817327230</td>\n",
       "      <td>822083612</td>\n",
       "    </tr>\n",
       "    <tr>\n",
       "      <th>306536</th>\n",
       "      <td>0.0</td>\n",
       "      <td>817560551</td>\n",
       "      <td>818069912</td>\n",
       "    </tr>\n",
       "    <tr>\n",
       "      <th>306537</th>\n",
       "      <td>0.0</td>\n",
       "      <td>817854719</td>\n",
       "      <td>817857267</td>\n",
       "    </tr>\n",
       "    <tr>\n",
       "      <th>306538</th>\n",
       "      <td>0.0</td>\n",
       "      <td>820036017</td>\n",
       "      <td>820037019</td>\n",
       "    </tr>\n",
       "    <tr>\n",
       "      <th>306539</th>\n",
       "      <td>0.0</td>\n",
       "      <td>821514120</td>\n",
       "      <td>821514311</td>\n",
       "    </tr>\n",
       "  </tbody>\n",
       "</table>\n",
       "<p>306540 rows × 3 columns</p>\n",
       "</div>"
      ],
      "text/plain": [
       "        target  variantid1  variantid2\n",
       "0          0.0    51197862    51198054\n",
       "1          1.0    53062686   536165289\n",
       "2          1.0    53602615   587809782\n",
       "3          1.0    53888651    89598677\n",
       "4          0.0    56930698   551526166\n",
       "...        ...         ...         ...\n",
       "306535     0.0   817327230   822083612\n",
       "306536     0.0   817560551   818069912\n",
       "306537     0.0   817854719   817857267\n",
       "306538     0.0   820036017   820037019\n",
       "306539     0.0   821514120   821514311\n",
       "\n",
       "[306540 rows x 3 columns]"
      ]
     },
     "execution_count": 5,
     "metadata": {},
     "output_type": "execute_result"
    }
   ],
   "source": [
    "pairs"
   ]
  },
  {
   "cell_type": "code",
   "execution_count": 25,
   "id": "1a2179e1",
   "metadata": {},
   "outputs": [],
   "source": [
    "def increase_db(db,niters=5):\n",
    "    db.target = db.target.apply(int)\n",
    "    indexes = db.variantid1.value_counts().index\n",
    "    variant_ids1 = indexes[:len(indexes)//2]\n",
    "    \n",
    "    for idx in tqdm(variant_ids1):\n",
    "        pairs = db[db.variantid1==idx].merge(db,left_on='variantid2', right_on='variantid1')\n",
    "        pairs['target'] = pairs['target_x']&pairs['target_y']\n",
    "        pairs['variantid1'] = pairs['variantid1_x']\n",
    "        pairs['variantid2'] = pairs['variantid2_y']\n",
    "        pairs = pairs[['target', 'variantid1','variantid2']]\n",
    "        db =  pd.concat([db,pairs])\n",
    "    db = db.reset_index()\n",
    "    db.drop('index',axis=1,inplace=True)\n",
    "        \n",
    "    return db"
   ]
  },
  {
   "cell_type": "code",
   "execution_count": 26,
   "id": "8f092085",
   "metadata": {},
   "outputs": [
    {
     "name": "stderr",
     "output_type": "stream",
     "text": [
      "100%|████████████████████████████████████████████████████████████████████████| 123069/123069 [3:28:59<00:00,  9.81it/s]\n"
     ]
    }
   ],
   "source": [
    "db = increase_db(pairs)"
   ]
  },
  {
   "cell_type": "code",
   "execution_count": 43,
   "id": "8b875054",
   "metadata": {},
   "outputs": [],
   "source": [
    "db = db.drop_duplicates()"
   ]
  },
  {
   "cell_type": "code",
   "execution_count": 44,
   "id": "9d7f65ef",
   "metadata": {},
   "outputs": [],
   "source": [
    "db.to_parquet('train_pairs_ext.parquet')"
   ]
  },
  {
   "cell_type": "code",
   "execution_count": 47,
   "id": "ab40e9a3",
   "metadata": {},
   "outputs": [
    {
     "data": {
      "text/plain": [
       "1    243842\n",
       "0    224917\n",
       "Name: target, dtype: int64"
      ]
     },
     "execution_count": 47,
     "metadata": {},
     "output_type": "execute_result"
    }
   ],
   "source": [
    "db.target.value_counts()"
   ]
  },
  {
   "cell_type": "code",
   "execution_count": 48,
   "id": "f2cda49d",
   "metadata": {},
   "outputs": [
    {
     "data": {
      "text/plain": [
       "0    171527\n",
       "1    135013\n",
       "Name: target, dtype: int64"
      ]
     },
     "execution_count": 48,
     "metadata": {},
     "output_type": "execute_result"
    }
   ],
   "source": [
    "pairs.target.value_counts()"
   ]
  },
  {
   "cell_type": "code",
   "execution_count": null,
   "id": "5a42e237",
   "metadata": {},
   "outputs": [],
   "source": []
  }
 ],
 "metadata": {
  "kernelspec": {
   "display_name": "Python 3 (ipykernel)",
   "language": "python",
   "name": "python3"
  },
  "language_info": {
   "codemirror_mode": {
    "name": "ipython",
    "version": 3
   },
   "file_extension": ".py",
   "mimetype": "text/x-python",
   "name": "python",
   "nbconvert_exporter": "python",
   "pygments_lexer": "ipython3",
   "version": "3.10.7"
  }
 },
 "nbformat": 4,
 "nbformat_minor": 5
}

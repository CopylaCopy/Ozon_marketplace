{
 "cells": [
  {
   "cell_type": "code",
   "execution_count": 4,
   "id": "43c0dbdc",
   "metadata": {
    "cellId": "2nsqqr86x7xv72m8visqd9",
    "execution": {
     "iopub.execute_input": "2023-05-25T09:23:14.966840Z",
     "iopub.status.busy": "2023-05-25T09:23:14.966490Z",
     "iopub.status.idle": "2023-05-25T09:23:29.869704Z",
     "shell.execute_reply": "2023-05-25T09:23:29.868469Z",
     "shell.execute_reply.started": "2023-05-25T09:23:14.966811Z"
    }
   },
   "outputs": [],
   "source": [
    "!pip install gdown"
   ]
  },
  {
   "cell_type": "code",
   "execution_count": 5,
   "id": "3b4e25f4",
   "metadata": {
    "cellId": "bls132imi3lk984l5611l",
    "execution": {
     "iopub.execute_input": "2023-05-25T09:23:29.877779Z",
     "iopub.status.busy": "2023-05-25T09:23:29.873715Z",
     "iopub.status.idle": "2023-05-25T09:23:30.394198Z",
     "shell.execute_reply": "2023-05-25T09:23:30.393183Z",
     "shell.execute_reply.started": "2023-05-25T09:23:29.877735Z"
    }
   },
   "outputs": [],
   "source": [
    "import gdown\n",
    "import pandas as pd\n",
    "import random\n",
    "import json\n",
    "import numpy as np\n",
    "import networkx as nx"
   ]
  },
  {
   "cell_type": "code",
   "execution_count": 6,
   "id": "871d1e31",
   "metadata": {
    "cellId": "ecgc500ig4e84c0e08wi96",
    "execution": {
     "iopub.execute_input": "2023-05-25T09:23:30.402466Z",
     "iopub.status.busy": "2023-05-25T09:23:30.399374Z",
     "iopub.status.idle": "2023-05-25T09:23:39.412429Z",
     "shell.execute_reply": "2023-05-25T09:23:39.411439Z",
     "shell.execute_reply.started": "2023-05-25T09:23:30.402427Z"
    }
   },
   "outputs": [
    {
     "name": "stderr",
     "output_type": "stream",
     "text": [
      "Downloading...\n",
      "From (uriginal): https://drive.google.com/uc?id=17NBXx6l_6znStM52RJOKKKlxnHigavzq\n",
      "From (redirected): https://drive.google.com/uc?id=17NBXx6l_6znStM52RJOKKKlxnHigavzq&confirm=t&uuid=15dbfa11-7951-4076-b35e-d7ba9355acf7\n",
      "To: /kaggle/working/hackathon_objects.tar.gz\n",
      "100%|██████████| 1.15G/1.15G [00:08<00:00, 135MB/s] \n"
     ]
    },
    {
     "data": {
      "text/plain": [
       "'hackathon_objects.tar.gz'"
      ]
     },
     "metadata": {},
     "output_type": "display_data"
    }
   ],
   "source": [
    "gdown.download('https://drive.google.com/file/d/17NBXx6l_6znStM52RJOKKKlxnHigavzq/view', fuzzy=True)"
   ]
  },
  {
   "cell_type": "code",
   "execution_count": 7,
   "id": "3fc86b4f",
   "metadata": {
    "cellId": "hwohee7gwj4j1786f4b5l",
    "execution": {
     "iopub.execute_input": "2023-05-25T09:23:39.421564Z",
     "iopub.status.busy": "2023-05-25T09:23:39.418685Z",
     "iopub.status.idle": "2023-05-25T09:23:40.960944Z",
     "shell.execute_reply": "2023-05-25T09:23:40.960031Z",
     "shell.execute_reply.started": "2023-05-25T09:23:39.421523Z"
    }
   },
   "outputs": [],
   "source": [
    "gdown.download('https://drive.google.com/file/d/1WGODJxN91z98TsR6Pt4lTkGtJwBglMGm/view?usp=drive_link', fuzzy = True)"
   ]
  },
  {
   "cell_type": "code",
   "execution_count": 8,
   "id": "5bb70165",
   "metadata": {
    "cellId": "re6h9wqm6g8hiuvjgsdmq",
    "execution": {
     "iopub.execute_input": "2023-05-25T09:23:40.962970Z",
     "iopub.status.busy": "2023-05-25T09:23:40.962397Z",
     "iopub.status.idle": "2023-05-25T09:23:42.070585Z",
     "shell.execute_reply": "2023-05-25T09:23:42.067301Z",
     "shell.execute_reply.started": "2023-05-25T09:23:40.962937Z"
    }
   },
   "outputs": [],
   "source": [
    "!ls ../input/my-params"
   ]
  },
  {
   "cell_type": "code",
   "execution_count": 9,
   "id": "01b8cc73",
   "metadata": {
    "cellId": "wfvjmfdiopmgq06lqsi97g",
    "execution": {
     "iopub.execute_input": "2023-05-25T09:23:42.072822Z",
     "iopub.status.busy": "2023-05-25T09:23:42.072213Z",
     "iopub.status.idle": "2023-05-25T09:23:57.204394Z",
     "shell.execute_reply": "2023-05-25T09:23:57.203288Z",
     "shell.execute_reply.started": "2023-05-25T09:23:42.072765Z"
    }
   },
   "outputs": [
    {
     "name": "stdout",
     "output_type": "stream",
     "text": [
      "files/\n",
      "files/metric.py\n",
      "files/submission_example.csv\n",
      "files/datasets/\n",
      "files/datasets/test_data.parquet\n",
      "files/datasets/train_data.parquet\n",
      "files/datasets/train_pairs_w_target.parquet\n",
      "files/datasets/test_for_participants.csv\n"
     ]
    }
   ],
   "source": [
    "!tar -xvzf hackathon_objects.tar.gz"
   ]
  },
  {
   "cell_type": "code",
   "execution_count": 10,
   "id": "34ca8e4b",
   "metadata": {
    "cellId": "s3787kdzasvahec8kf73r",
    "execution": {
     "iopub.execute_input": "2023-05-25T09:23:57.207109Z",
     "iopub.status.busy": "2023-05-25T09:23:57.206711Z",
     "iopub.status.idle": "2023-05-25T09:24:14.278843Z",
     "shell.execute_reply": "2023-05-25T09:24:14.277729Z",
     "shell.execute_reply.started": "2023-05-25T09:23:57.207066Z"
    }
   },
   "outputs": [],
   "source": [
    "goods_data = pd.read_parquet('files/datasets/train_data.parquet')\n",
    "\n",
    "#goods_pairs = pd.read_parquet('files/datasets/train_pairs_w_target.parquet')"
   ]
  },
  {
   "cell_type": "code",
   "execution_count": 11,
   "id": "5a70c044",
   "metadata": {
    "cellId": "7fb83ie8l6jmuctlg76so",
    "execution": {
     "iopub.execute_input": "2023-05-25T09:24:14.281087Z",
     "iopub.status.busy": "2023-05-25T09:24:14.280661Z",
     "iopub.status.idle": "2023-05-25T09:24:24.665326Z",
     "shell.execute_reply": "2023-05-25T09:24:24.664381Z",
     "shell.execute_reply.started": "2023-05-25T09:24:14.281033Z"
    }
   },
   "outputs": [],
   "source": [
    "tr = goods_data.categories.apply(lambda x: eval(x))\n",
    "trim = pd.DataFrame(tr.to_list()).rename(columns={str(i):f'cat_{i}' for i in range(1, 5)})\n",
    "st = trim.drop_duplicates().reset_index(drop = True).rename(columns={str(i):f'cat_{i}' for i in range(1, 5)})\n",
    "dikt_cat_2= {i: j for i, j in zip(st.cat_2.unique(), range(1, st.cat_2.nunique()+1))}\n",
    "dikt_cat_3= {i: j for i, j in zip(st.cat_3.unique(), range(1, st.cat_3.nunique()+1))}\n",
    "dikt_cat_4= {i: j for i, j in zip(st.cat_4.unique(), range(1, st.cat_4.nunique()+1))}\n",
    "st['cat_2'] = st.cat_2.map(dikt_cat_2)\n",
    "st['cat_3'] = st.cat_3.map(dikt_cat_3)\n",
    "st['cat_4'] = st.cat_4.map(dikt_cat_4)\n",
    "trim['cat_2_en'] = trim.cat_2.map(dikt_cat_2)\n",
    "trim['cat_3_en'] = trim.cat_3.map(dikt_cat_3)\n",
    "trim['cat_4_en'] = trim.cat_4.map(dikt_cat_4)\n",
    "G = nx.Graph()\n",
    "nodes = [0]\n",
    "edges = []\n",
    "lz = []\n",
    "for _, row in st.iterrows():\n",
    "\n",
    "    cat_1, cat_2, cat_3, cat_4 = row['cat_1'], row['cat_2'], row['cat_3'], row['cat_4']\n",
    "    cat_2 = int('1'+('0'+str(cat_2))[-2:])\n",
    "    if cat_2 not in nodes:\n",
    "        nodes.append(cat_2)\n",
    "        edges.append((0, cat_2))\n",
    "    cat_3 = int(str(cat_2)+('00'+str(cat_3))[-3:])\n",
    "    if cat_3 not in nodes:\n",
    "        nodes.append(cat_3)\n",
    "        edges.append((cat_2, cat_3))\n",
    "    cat_4 = int(str(cat_2)+str(cat_3)+('00'+str(cat_4))[-3:])\n",
    "    if cat_4 not in nodes:\n",
    "        nodes.append(cat_4)\n",
    "        edges.append((cat_3, cat_4))\n",
    "    lz.append(cat_4)\n",
    "G.add_nodes_from(nodes)\n",
    "G.add_edges_from(edges)\n",
    "st['encoder'] = lz\n",
    "trim = trim.merge(st, left_on = ['cat_2_en', 'cat_3_en', 'cat_4_en'], right_on = ['cat_2', 'cat_3', 'cat_4'], how = 'left')\n",
    "goods_data['cat_encoded'] = trim['encoder']"
   ]
  },
  {
   "cell_type": "code",
   "execution_count": null,
   "id": "29f41cc1",
   "metadata": {
    "cellId": "un7g4kr0qpd0tmhg5cztn"
   },
   "outputs": [],
   "source": [
    "def symm_pairs(df):\n",
    "    # todo: complete cliques of goods\n",
    "    \n",
    "    df2 = df.copy()\n",
    "    cols = [\"variantid1\", \"variantid2\"]\n",
    "    for c in cols:\n",
    "        if c not in df2.columns:\n",
    "            raise UserWarning\n",
    "    df2 = df2.rename(columns={cols[0]: cols[1], cols[1]: cols[0]})\n",
    "    return pd.concat([df, df2]).drop_duplicates()"
   ]
  },
  {
   "cell_type": "code",
   "execution_count": 13,
   "id": "7262530f",
   "metadata": {
    "cellId": "mxmneu68tpil28k71w3ktm",
    "execution": {
     "iopub.execute_input": "2023-05-25T09:24:24.678270Z",
     "iopub.status.busy": "2023-05-25T09:24:24.677964Z",
     "iopub.status.idle": "2023-05-25T09:24:30.571447Z",
     "shell.execute_reply": "2023-05-25T09:24:30.570490Z",
     "shell.execute_reply.started": "2023-05-25T09:24:24.678246Z"
    }
   },
   "outputs": [],
   "source": [
    "import torch\n",
    "import random\n",
    "import numpy as np\n",
    "from torch.utils.data import Dataset, DataLoader\n",
    "\n",
    "\n",
    "class ContrastiveDataset(Dataset):\n",
    "    def __init__(self, original_dataset, pairs_dataset, embedding_columns, mode = True):\n",
    "       # self.original_dataset = original_dataset.set_index('variantid')\n",
    "        self.pairs_dataset = pairs_dataset\n",
    "        self.embedding_columns = embedding_columns\n",
    "        self.dataset = None\n",
    "        self.mode = mode\n",
    "        if self.mode:\n",
    "            self.prepare_dataset()\n",
    "\n",
    "        else:\n",
    "            self.prepare_test_dataset()\n",
    "        self.data = self.prepare_data(original_dataset.set_index('variantid'))\n",
    "        \n",
    "\n",
    "    def prepare_dataset(self):\n",
    "        neg_pairs =  self.pairs_dataset[ self.pairs_dataset.target ==0.].groupby('variantid1').variantid2.apply(lambda x: list(x)).to_frame()\n",
    "        pos_pairs =  self.pairs_dataset[ self.pairs_dataset.target ==1.].groupby('variantid1').variantid2.apply(lambda x: list(x)).to_frame()\n",
    "        self.dataset = pos_pairs.merge(neg_pairs, how = 'outer', left_index = True, right_index = True, suffixes = ['_pos', '_neg'])\n",
    "        sol = pd.Series(np.where(self.dataset.variantid2_pos.notnull(), self.dataset.variantid2_pos, pd.Series(self.dataset.index).apply(lambda x: [x])))\n",
    "        self.dataset['variantid2_pos'] = sol.set_axis(self.dataset.index)\n",
    "        ld = pd.Series(self.dataset.index).sample(frac = 1).apply(lambda x: [x])\n",
    "        sol = pd.Series(np.where(self.dataset.variantid2_neg.notnull(), self.dataset.variantid2_neg, ld))\n",
    "        self.dataset['variantid2_neg'] = sol.set_axis(self.dataset.index)\n",
    "        self.dataset = self.dataset.reset_index()\n",
    "\n",
    "        \n",
    "    def prepare_data(self, original_dataset):\n",
    "        def func(x):\n",
    "            lz = [torch.tensor(x['main_pic_embeddings_resnet_v1'][0]), torch.tensor(x['name_bert_64'])]#, torch.tensor(x['category_encoded']).unsqueeze(dim =0)]\n",
    "            return torch.cat(lz, axis = 0)\n",
    "        \n",
    "        return original_dataset.apply(lambda x: func(x), axis =1)\n",
    "    \n",
    "    def prepare_test_dataset(self):\n",
    "        self.dataset = self.pairs_dataset[['variantid1']].drop_duplicates().reset_index(drop=True)\n",
    "\n",
    "\n",
    "\n",
    "    def __getitem__(self, index):\n",
    "        original_idx = self.dataset.loc[index].variantid1\n",
    "        if self.mode:\n",
    "            positive_idx = self.dataset.loc[index].variantid2_pos\n",
    "            negative_idx = self.dataset.loc[index].variantid2_neg\n",
    "            if len(positive_idx)>1:\n",
    "                val = np.random.choice(len(positive_idx), 1)[0]\n",
    "                positive_idx = positive_idx[val]\n",
    "            else:\n",
    "                positive_idx = positive_idx[0]\n",
    "            if len(negative_idx)>1:\n",
    "                val = np.random.choice(len(negative_idx), 1)[0]\n",
    "                negative_idx = negative_idx[val]\n",
    "            else:\n",
    "                negative_idx = negative_idx[0]\n",
    "            positive_pair = self.data.loc[positive_idx]\n",
    "            negative_pair = self.data.loc[negative_idx]\n",
    "            original_data = self.data.loc[original_idx]\n",
    "          #  print(original_data)\n",
    "            return original_data, positive_pair, negative_pair, original_idx\n",
    "        else:\n",
    "            original_data = self.data.loc[original_idx]\n",
    "            return original_data, original_idx\n",
    "\n",
    "\n",
    "    def __len__(self):\n",
    "        return len(self.dataset)\n",
    "\n"
   ]
  },
  {
   "cell_type": "markdown",
   "id": "d1ecc575",
   "metadata": {
    "cellId": "3tmtu33k29xdruqfbz2rac",
    "execution_id": "80fa1605-175e-411e-a81a-190708cc061f"
   },
   "source": [
    "# Actual data"
   ]
  },
  {
   "cell_type": "code",
   "execution_count": null,
   "id": "a145400d",
   "metadata": {
    "cellId": "e66sob5skeokmuldwzmmf"
   },
   "outputs": [],
   "source": [
    "goods_pairs_ext = pd.read_parquet('train_pairs_ext.parquet')\n",
    "#symm_goods_pairs = symm_pairs(goods_pairs)\n",
    "symm_goods_pairs_ext = symm_pairs(goods_pairs_ext)"
   ]
  },
  {
   "cell_type": "code",
   "execution_count": 10,
   "id": "f1ef2542",
   "metadata": {
    "cellId": "5rg0va45rbvvbocucuhpm",
    "execution": {
     "iopub.execute_input": "2023-05-25T03:48:09.078288Z",
     "iopub.status.busy": "2023-05-25T03:48:09.077817Z",
     "iopub.status.idle": "2023-05-25T03:48:12.170411Z",
     "shell.execute_reply": "2023-05-25T03:48:12.169311Z",
     "shell.execute_reply.started": "2023-05-25T03:48:09.078250Z"
    }
   },
   "outputs": [],
   "source": [
    "# goods_data[\"cat3\"] = goods_data[\"categories\"].apply(lambda x: json.loads(x)[\"3\"])\n",
    "# cat3_counts = goods_data[\"cat3\"].value_counts().to_dict()\n",
    "# goods_data[\"cat3_grouped\"] = goods_data[\"cat3\"].apply(lambda x: x if cat3_counts[x] > 1000 else \"rest\")\n",
    "# dikt_categories= {i: j for i, j in zip(goods_data.cat3_grouped.unique(), np.arange(goods_data.cat3_grouped.nunique())/goods_data.cat3_grouped.nunique())}\n",
    "# goods_data['category_encoded'] = goods_data.cat3_grouped.map(dikt_categories)"
   ]
  },
  {
   "cell_type": "code",
   "execution_count": null,
   "id": "ff3661d9",
   "metadata": {
    "cellId": "s4fwg9p204n8sjuzrk1z02"
   },
   "outputs": [],
   "source": [
    "embedding_columns = ['main_pic_embeddings_resnet_v1', 'name_bert_64', 'category']\n",
    "\n",
    "contrastive_dataset = ContrastiveDataset(goods_data, symm_goods_pairs_ext, embedding_columns, mode= True)\n",
    "contrastive_dataloader = DataLoader(contrastive_dataset, batch_size=128, shuffle=True, drop_last= False, num_workers = 2)\n",
    "next(iter(contrastive_dataloader))[0].shape"
   ]
  },
  {
   "cell_type": "code",
   "execution_count": 16,
   "id": "ea54a1c2",
   "metadata": {
    "cellId": "s1wm2jphrh10gjw3av98ls",
    "execution": {
     "iopub.execute_input": "2023-05-25T09:25:21.304688Z",
     "iopub.status.busy": "2023-05-25T09:25:21.304227Z",
     "iopub.status.idle": "2023-05-25T09:25:22.394425Z",
     "shell.execute_reply": "2023-05-25T09:25:22.393323Z",
     "shell.execute_reply.started": "2023-05-25T09:25:21.304634Z"
    }
   },
   "outputs": [],
   "source": [
    "yt = next(iter(contrastive_dataloader))\n",
    "yt[0].shape, yt[1].shape, yt[2].shape"
   ]
  },
  {
   "cell_type": "markdown",
   "id": "4e5407c0",
   "metadata": {
    "cellId": "8hmealx9wh946wmkeqqznp",
    "execution_id": "4c11f772-d5dc-440d-be92-b9930289b0ab"
   },
   "source": [
    "# Basic train example"
   ]
  },
  {
   "cell_type": "code",
   "execution_count": null,
   "id": "5d6e401f",
   "metadata": {
    "cellId": "v3sv6t44b74rjsewq93wo"
   },
   "outputs": [],
   "source": [
    "import torch\n",
    "import torch.nn as nn\n",
    "import torch.optim as optim\n",
    "from torch.utils.data import DataLoader\n",
    "from torch.optim.lr_scheduler import ExponentialLR\n",
    "\n",
    "\n",
    "from tqdm.notebook import tqdm"
   ]
  },
  {
   "cell_type": "code",
   "execution_count": 18,
   "id": "3fef2970",
   "metadata": {
    "cellId": "hftt4a973j5hxwbsb6hmd",
    "execution": {
     "iopub.execute_input": "2023-05-25T09:25:22.519425Z",
     "iopub.status.busy": "2023-05-25T09:25:22.518833Z",
     "iopub.status.idle": "2023-05-25T09:25:22.622616Z",
     "shell.execute_reply": "2023-05-25T09:25:22.621173Z",
     "shell.execute_reply.started": "2023-05-25T09:25:22.519391Z"
    }
   },
   "outputs": [],
   "source": [
    "#!g1.1\n",
    "\n",
    "device = 'cuda' if torch.cuda.is_available() else 'cpu'"
   ]
  },
  {
   "cell_type": "code",
   "execution_count": null,
   "id": "3cacea76",
   "metadata": {
    "cellId": "og2gft5os44sped1le5br"
   },
   "outputs": [],
   "source": [
    "#!g1.1\n",
    "class EncoderModel(nn.Module):\n",
    "    def __init__(self, input_size, hidden_sizes, embedding_size):\n",
    "        super(ContrastiveModel, self).__init__()\n",
    "        \n",
    "        self.input_size = input_size\n",
    "        self.embedding_size = embedding_size\n",
    "        self.hidden_size = hidden_size\n",
    "        \n",
    "        self.fc1 = nn.Linear(input_size, hidden_sizes[0])\n",
    "        self.fc2 = nn.Linear(hidden_sizes[0], hidden_sizes[1])\n",
    "        self.fc3 = nn.Linear(hidden_sizes[1], embedding_size)\n",
    "        \n",
    "        self.relu = nn.ReLU()\n",
    "        self.dropout = nn.Dropout(p=0.2)\n",
    "        \n",
    "    def forward(self, x):\n",
    "        x = self.relu(self.fc1(x))\n",
    "        x = self.dropout(x)\n",
    "        x = self.relu(self.fc2(x))\n",
    "        x = self.fc3(x)\n",
    "        return x\n",
    "    \n",
    "class ProjectorModel(nn.Module):\n",
    "    def __init__(self, input_size, hidden_sizes, output_size):\n",
    "        super(ContrastiveModel, self).__init__()\n",
    "        \n",
    "        self.input_size = input_size\n",
    "        self.embedding_size = embedding_size\n",
    "        self.hidden_size = hidden_size\n",
    "        \n",
    "        self.fc1 = nn.Linear(input_size, hidden_sizes[0])\n",
    "        self.fc2 = nn.Linear(hidden_sizes[0], hidden_sizes[1])\n",
    "        self.fc3 = nn.Linear(hidden_sizes[1], output_size)\n",
    "        \n",
    "        self.relu = nn.ReLU()\n",
    "        self.dropout = nn.Dropout(p=0.2)\n",
    "        \n",
    "    def forward(self, x):\n",
    "        x = self.relu(self.fc1(x))\n",
    "        x = self.dropout(x)\n",
    "        x = self.relu(self.fc2(x))\n",
    "        x = self.fc3(x)\n",
    "        return x\n",
    "    \n",
    "class ContrastiveModel(nn.Module):\n",
    "    def __init__(self, input_size, hidden_sizes_encoder, embedding_size, hidden_sizes_projector, output_size):\n",
    "        super(ContrastiveModel, self).__init__()\n",
    "        \n",
    "        self.encoder = EncoderModel(input_size, hidden_sizes_encoder, embedding_size)\n",
    "        self.projector = ProjectorModel(embedding_size, hidden_sizes_projector, output_size)\n",
    "    def forward(self, x):\n",
    "        x = self.encoder(x)\n",
    "        x = self.projector(x)\n",
    "        return x\n",
    "\n",
    "def triplet_loss(anchor, positive, negative, margin=1.0):\n",
    "    distance_positive = torch.norm(anchor - positive, dim=1)\n",
    "    distance_negative = torch.norm(anchor - negative, dim=1)\n",
    "    loss = torch.clamp(distance_positive - distance_negative + margin, min=0.0).mean()\n",
    "    return loss\n",
    "\n",
    "# Example parameters\n",
    "input_size = 192\n",
    "hidden_sizes_encoder = [64, 64]\n",
    "embedding_size = 32\n",
    "hidden_sizes_projector = [64, 64]\n",
    "output_size = 256\n",
    "learning_rate = 0.001\n",
    "num_epochs = 10\n",
    "\n",
    "# Create an instance of the model\n",
    "model = ContrastiveModel(\n",
    "    input_size=input_size, \n",
    "    hidden_sizes_encoder=hiddens_sizes_encoder, \n",
    "    embedding_size=embedding_size, \n",
    "    hidden_sizes_projector=hidden_sizes_projector, \n",
    "    output_size=output_size,\n",
    ").to(device)\n",
    "\n",
    "# Define the optimizer and the loss function\n",
    "optimizer = optim.Adam(model.parameters(), lr=learning_rate)\n",
    "scheduler = ExponentialLR(optimizer, gamma = 0.9, verbose=True) \n",
    "\n",
    "# Train loop\n",
    "def train(model, contrastive_dataloader, optimizer, num_epochs):\n",
    "    for epoch in tqdm(range(num_epochs)):\n",
    "        total_loss = 0.0\n",
    "        \n",
    "        for original_data, positive_pair, negative_pair, _ in tqdm(contrastive_dataloader):\n",
    "            # Zero the gradients\n",
    "            optimizer.zero_grad()\n",
    "            \n",
    "            # Forward pass\n",
    "            anchor = model(original_data.to(device))\n",
    "            positive = model(positive_pair.to(device))\n",
    "            negative = model(negative_pair.to(device))\n",
    "            \n",
    "            # Compute the triplet loss\n",
    "            loss = triplet_loss(anchor, positive, negative)\n",
    "            \n",
    "            # Backward pass and optimization\n",
    "            loss.backward()\n",
    "            optimizer.step()\n",
    "            \n",
    "    #     print(loss.item())\n",
    "            total_loss += loss.item()\n",
    "        \n",
    "        average_loss = total_loss / len(contrastive_dataloader)\n",
    "        scheduler.step()\n",
    "\n",
    "        print(f\"Epoch [{epoch+1}/{num_epochs}], Average Loss: {average_loss:.4f}\")\n"
   ]
  },
  {
   "cell_type": "code",
   "execution_count": 70,
   "id": "591dfd1e",
   "metadata": {
    "cellId": "xpemhf1vojxmetejzybic",
    "execution": {
     "iopub.execute_input": "2023-05-25T03:24:31.547864Z",
     "iopub.status.busy": "2023-05-25T03:24:31.546736Z",
     "iopub.status.idle": "2023-05-25T03:24:31.555411Z",
     "shell.execute_reply": "2023-05-25T03:24:31.554379Z",
     "shell.execute_reply.started": "2023-05-25T03:24:31.547824Z"
    }
   },
   "outputs": [],
   "source": [
    "# Create an instance of the model\n",
    "learning_rate = 0.001\n",
    "model = ContrastiveModel(input_size, hidden_size, embedding_size).to(device)\n",
    "\n",
    "# Define the optimizer and the loss function\n",
    "optimizer = optim.Adam(model.parameters(), lr=learning_rate)"
   ]
  },
  {
   "cell_type": "code",
   "execution_count": 72,
   "id": "e9e71766",
   "metadata": {
    "cellId": "256cs6dlcnuodf0fljjpak",
    "execution": {
     "iopub.execute_input": "2023-05-25T03:37:34.742800Z",
     "iopub.status.busy": "2023-05-25T03:37:34.741722Z",
     "iopub.status.idle": "2023-05-25T03:40:29.327593Z",
     "shell.execute_reply": "2023-05-25T03:40:29.325838Z",
     "shell.execute_reply.started": "2023-05-25T03:37:34.742749Z"
    }
   },
   "outputs": [],
   "source": [
    "learning_rate = 0.0001\n",
    "num_epochs = 10\n",
    "train(model, contrastive_dataloader, optimizer, num_epochs)"
   ]
  },
  {
   "cell_type": "code",
   "execution_count": 18,
   "id": "ae614636",
   "metadata": {
    "cellId": "ih9rpbuckvdebbt33i6sm7",
    "execution": {
     "iopub.execute_input": "2023-05-25T03:49:36.173112Z",
     "iopub.status.busy": "2023-05-25T03:49:36.172731Z",
     "iopub.status.idle": "2023-05-25T03:49:36.186377Z",
     "shell.execute_reply": "2023-05-25T03:49:36.185166Z",
     "shell.execute_reply.started": "2023-05-25T03:49:36.173079Z"
    }
   },
   "outputs": [],
   "source": [
    "torch.save(model.state_dict(), 'contrastive_ozon_last.pt')"
   ]
  },
  {
   "cell_type": "code",
   "execution_count": 75,
   "id": "7ebaa6be",
   "metadata": {
    "cellId": "m01xk2iyg6cweuydz54",
    "execution": {
     "iopub.execute_input": "2023-05-25T03:41:00.450350Z",
     "iopub.status.busy": "2023-05-25T03:41:00.449514Z",
     "iopub.status.idle": "2023-05-25T03:41:00.457978Z",
     "shell.execute_reply": "2023-05-25T03:41:00.456929Z",
     "shell.execute_reply.started": "2023-05-25T03:41:00.450317Z"
    }
   },
   "outputs": [],
   "source": [
    "from IPython.display import FileLink\n",
    "FileLink(r'contrastive_ozon_cat.pt')"
   ]
  },
  {
   "cell_type": "code",
   "execution_count": 20,
   "id": "e042fd59",
   "metadata": {
    "cellId": "8oelxn8m4pq817q8g4javy",
    "execution": {
     "iopub.execute_input": "2023-05-25T09:25:27.123933Z",
     "iopub.status.busy": "2023-05-25T09:25:27.123579Z",
     "iopub.status.idle": "2023-05-25T09:25:27.150179Z",
     "shell.execute_reply": "2023-05-25T09:25:27.149337Z",
     "shell.execute_reply.started": "2023-05-25T09:25:27.123897Z"
    }
   },
   "outputs": [],
   "source": [
    "model = ContrastiveModel(input_size, hidden_size, embedding_size).to(device)\n",
    "model.load_state_dict(torch.load('../input/my-params/contrastive_ozon.pt'))\n",
    "# leave only encoder \n",
    "model = model.encoder"
   ]
  },
  {
   "cell_type": "code",
   "execution_count": null,
   "id": "36d9ad39",
   "metadata": {
    "cellId": "13e01eam7vpcthi0zaphyes"
   },
   "outputs": [],
   "source": [
    "def predict(model, dataloader):\n",
    "    y_idxs = []\n",
    "    y_embed = []\n",
    "    for orig, _, _, idx in tqdm(dataloader):\n",
    "        embed = model(orig.to(device))\n",
    "        y_idxs.extend([i.detach().cpu().item() for i in idx])\n",
    "        y_embed.extend([[j.item() for j in i.detach().cpu()] for i in embed])\n",
    "    return y_idxs, y_embed\n",
    "\n",
    "y_idxs, y_embed = predict(model, contrastive_dataloader)\n",
    "\n",
    "        \n"
   ]
  },
  {
   "cell_type": "code",
   "execution_count": 22,
   "id": "12913682",
   "metadata": {
    "cellId": "msv2w5pywrr16x3iukljl",
    "execution": {
     "iopub.execute_input": "2023-05-25T09:29:04.016065Z",
     "iopub.status.busy": "2023-05-25T09:29:04.015675Z",
     "iopub.status.idle": "2023-05-25T09:29:04.773612Z",
     "shell.execute_reply": "2023-05-25T09:29:04.772600Z",
     "shell.execute_reply.started": "2023-05-25T09:29:04.016024Z"
    }
   },
   "outputs": [],
   "source": [
    "embed = pd.DataFrame({'variant': y_idxs, 'embed': y_embed})\n",
    "classif = goods_pairs_ext.merge(embed, left_on = 'variantid1', right_on = 'variant', how = 'left', suffixes = ['', '_1'])\n",
    "classif = classif.merge(embed, left_on = 'variantid2', right_on='variant', how = 'left', suffixes = ['', '_2'])\n",
    "classif.drop(['variant', 'variant_2'],axis = 1, inplace = True)"
   ]
  },
  {
   "cell_type": "code",
   "execution_count": 139,
   "id": "df401608",
   "metadata": {
    "cellId": "1mugr7zg26252912dlcsfs",
    "execution": {
     "iopub.execute_input": "2023-05-25T06:09:19.116129Z",
     "iopub.status.busy": "2023-05-25T06:09:19.115725Z",
     "iopub.status.idle": "2023-05-25T06:09:19.421536Z",
     "shell.execute_reply": "2023-05-25T06:09:19.420394Z",
     "shell.execute_reply.started": "2023-05-25T06:09:19.116099Z"
    }
   },
   "outputs": [],
   "source": [
    "classif.info()"
   ]
  },
  {
   "cell_type": "code",
   "execution_count": 23,
   "id": "e78ae8d5",
   "metadata": {
    "cellId": "nmmne8c49hp8qg8qvgwa8",
    "execution": {
     "iopub.execute_input": "2023-05-25T09:29:04.776077Z",
     "iopub.status.busy": "2023-05-25T09:29:04.775360Z",
     "iopub.status.idle": "2023-05-25T09:29:07.601796Z",
     "shell.execute_reply": "2023-05-25T09:29:07.600533Z",
     "shell.execute_reply.started": "2023-05-25T09:29:04.776042Z"
    }
   },
   "outputs": [],
   "source": [
    "classif = classif.merge(goods_data[['variantid', 'categories', 'cat_encoded']], left_on = 'variantid1', right_on = 'variantid', how = 'left', suffixes = ['', '_1'])\n",
    "classif = classif.merge(goods_data[['variantid', 'cat_encoded']], left_on = 'variantid2', right_on = 'variantid', how = 'left', suffixes = ['', '_2'])\n",
    "classif[\"cat3\"] = classif[\"categories\"].apply(lambda x: json.loads(x)[\"3\"])\n",
    "cat3_counts = classif[\"cat3\"].value_counts().to_dict()\n",
    "classif[\"cat3_grouped\"] = classif[\"cat3\"].apply(lambda x: x if cat3_counts[x] > 1000 else \"rest\")"
   ]
  },
  {
   "cell_type": "code",
   "execution_count": 24,
   "id": "e87095ea",
   "metadata": {
    "cellId": "4rwy8m0jfpl9ooy2bbxp",
    "execution": {
     "iopub.execute_input": "2023-05-25T09:30:39.353592Z",
     "iopub.status.busy": "2023-05-25T09:30:39.352825Z",
     "iopub.status.idle": "2023-05-25T09:30:40.968877Z",
     "shell.execute_reply": "2023-05-25T09:30:40.967566Z",
     "shell.execute_reply.started": "2023-05-25T09:30:39.353550Z"
    }
   },
   "outputs": [],
   "source": [
    "del goods_data"
   ]
  },
  {
   "cell_type": "code",
   "execution_count": 23,
   "id": "05a62f76",
   "metadata": {
    "cellId": "o28v73atcpqooevrq9d8",
    "execution": {
     "iopub.execute_input": "2023-05-25T06:38:46.925476Z",
     "iopub.status.busy": "2023-05-25T06:38:46.925094Z",
     "iopub.status.idle": "2023-05-25T06:38:46.982740Z",
     "shell.execute_reply": "2023-05-25T06:38:46.981779Z",
     "shell.execute_reply.started": "2023-05-25T06:38:46.925447Z"
    }
   },
   "outputs": [],
   "source": [
    "classif"
   ]
  },
  {
   "cell_type": "code",
   "execution_count": 25,
   "id": "2c315b13",
   "metadata": {
    "cellId": "61c8ltyj62875y61zd3jj4",
    "execution": {
     "iopub.execute_input": "2023-05-25T09:30:43.362213Z",
     "iopub.status.busy": "2023-05-25T09:30:43.361822Z",
     "iopub.status.idle": "2023-05-25T09:30:43.367670Z",
     "shell.execute_reply": "2023-05-25T09:30:43.366442Z",
     "shell.execute_reply.started": "2023-05-25T09:30:43.362182Z"
    }
   },
   "outputs": [],
   "source": [
    "def get_cat_diff(x, y):\n",
    "    return (len(nx.bidirectional_shortest_path(G, int(x), int(y)))-1)//2"
   ]
  },
  {
   "cell_type": "code",
   "execution_count": 26,
   "id": "6f3ec6bd",
   "metadata": {
    "cellId": "lfwpt7b0umjg56onrhi6n9",
    "execution": {
     "iopub.execute_input": "2023-05-25T09:30:44.269298Z",
     "iopub.status.busy": "2023-05-25T09:30:44.268319Z",
     "iopub.status.idle": "2023-05-25T09:30:50.354397Z",
     "shell.execute_reply": "2023-05-25T09:30:50.353339Z",
     "shell.execute_reply.started": "2023-05-25T09:30:44.269262Z"
    }
   },
   "outputs": [],
   "source": [
    "classif['cat_dif'] = classif[['cat_encoded', 'cat_encoded_2']].apply(lambda x: get_cat_diff(*x), axis = 1)"
   ]
  },
  {
   "cell_type": "code",
   "execution_count": 27,
   "id": "675da8ca",
   "metadata": {
    "cellId": "j2czjmhgixlguriy95rpw5",
    "execution": {
     "iopub.execute_input": "2023-05-25T09:30:50.357071Z",
     "iopub.status.busy": "2023-05-25T09:30:50.356582Z",
     "iopub.status.idle": "2023-05-25T09:30:51.778414Z",
     "shell.execute_reply": "2023-05-25T09:30:51.777354Z",
     "shell.execute_reply.started": "2023-05-25T09:30:50.357032Z"
    }
   },
   "outputs": [],
   "source": [
    "from sklearn.metrics.pairwise import cosine_similarity\n",
    "def get_pic_features(main_pic_embeddings_1,\n",
    "                     main_pic_embeddings_2):\n",
    "    \"\"\"Calculate distances percentiles for \n",
    "    pairwise pic distances. Percentiles are useful \n",
    "    when product has several pictures.\n",
    "    \"\"\"\n",
    "     \n",
    "    embed= list(np.abs(np.array(main_pic_embeddings_1)[None, ...] - np.array(main_pic_embeddings_2)[None, ...])[0])\n",
    "\n",
    "    cos_sim = cosine_similarity(\n",
    "        np.array(main_pic_embeddings_1)[None, ...], np.array(main_pic_embeddings_2)[None, ...]\n",
    "    )[0][0]\n",
    "    \n",
    "\n",
    "    # pair_features = []\n",
    "    # pair_features += np.percentile(dist_m, percentiles).tolist()\n",
    "\n",
    "    return embed, cos_sim"
   ]
  },
  {
   "cell_type": "code",
   "execution_count": 28,
   "id": "759449a6",
   "metadata": {
    "cellId": "d2tu81oqfz7a8t6vkxdf56",
    "execution": {
     "iopub.execute_input": "2023-05-25T09:30:51.780355Z",
     "iopub.status.busy": "2023-05-25T09:30:51.779997Z",
     "iopub.status.idle": "2023-05-25T09:35:44.084343Z",
     "shell.execute_reply": "2023-05-25T09:35:44.079861Z",
     "shell.execute_reply.started": "2023-05-25T09:30:51.780321Z"
    }
   },
   "outputs": [],
   "source": [
    "\n",
    "classif[[\"embed_dif\", \"cos_sim\", ]] = (\n",
    "    classif[[\"embed\", \"embed_2\"]].apply(\n",
    "        lambda x: pd.Series(get_pic_features(*x)), axis=1\n",
    "    )\n",
    ")"
   ]
  },
  {
   "cell_type": "code",
   "execution_count": 29,
   "id": "2d5f849a",
   "metadata": {
    "cellId": "xamgjtteyxms8tz24va6g",
    "execution": {
     "iopub.execute_input": "2023-05-25T09:35:44.108251Z",
     "iopub.status.busy": "2023-05-25T09:35:44.107941Z",
     "iopub.status.idle": "2023-05-25T09:35:50.159157Z",
     "shell.execute_reply": "2023-05-25T09:35:50.158198Z",
     "shell.execute_reply.started": "2023-05-25T09:35:44.108224Z"
    }
   },
   "outputs": [],
   "source": [
    "dikt_categories= {i: j for i, j in zip(sorted(classif.cat_encoded.unique()), range(1, classif.cat_encoded.nunique()+1))}\n",
    "classif['category'] = classif.cat_encoded.map(dikt_categories)\n",
    "classif.category = np.where(classif.cat3_grouped=='rest', 0, classif.category)\n",
    "embeddings = pd.DataFrame(classif['embed_dif'].tolist())\n",
    "data = pd.concat([classif, embeddings], axis = 1)\n",
    "data= data[['target', 'variantid1', 'variantid2',   'cat3_grouped', 'cos_sim','cat_dif']+list(embeddings.columns)] #, 'category'"
   ]
  },
  {
   "cell_type": "code",
   "execution_count": 30,
   "id": "9786150d",
   "metadata": {
    "cellId": "ablwdt9izelwmpi5zcr3b",
    "execution": {
     "iopub.execute_input": "2023-05-25T09:35:50.161038Z",
     "iopub.status.busy": "2023-05-25T09:35:50.160550Z",
     "iopub.status.idle": "2023-05-25T09:35:54.687862Z",
     "shell.execute_reply": "2023-05-25T09:35:54.686811Z",
     "shell.execute_reply.started": "2023-05-25T09:35:50.160978Z"
    }
   },
   "outputs": [],
   "source": [
    "from catboost import CatBoostClassifier, Pool\n",
    "from sklearn.model_selection import train_test_split\n",
    "from sklearn.preprocessing import StandardScaler\n",
    "\n",
    "X_train, X_test = train_test_split(\n",
    "    data, \n",
    "    test_size=0.3, random_state=42, stratify=classif[[\"target\", \"cat3_grouped\"]]\n",
    ")\n",
    "\n",
    "y_test = X_test[[\"target\", \"variantid1\", \"variantid2\", ]]\n",
    "cat_test = X_test[\"cat3_grouped\" ]\n",
    "X_test = X_test.drop([\"target\", \"cat3_grouped\"], axis=1)\n",
    "\n",
    "y_train = X_train[\"target\"]\n",
    "cat_train = X_train[\"cat3_grouped\"]\n",
    "X_train = X_train.drop([\"target\", \"cat3_grouped\", \"variantid1\", \"variantid2\"], axis=1) #, \n",
    "# scaler = StandardScaler()\n",
    "# X_train_sc = scaler.fit_transform(X_train)\n",
    "# X_test_sc =scaler.transform(X_test)\n",
    "train_pool = Pool(\n",
    "    data=X_train,\n",
    "    label=y_train,\n",
    ")\n",
    "eval_pool = Pool(\n",
    "    data=X_test.drop([\"variantid1\", \"variantid2\"], axis = 1),\n",
    "    label=y_test['target']\n",
    ")"
   ]
  },
  {
   "cell_type": "code",
   "execution_count": 30,
   "id": "68b0b23c",
   "metadata": {
    "cellId": "42pkvub9alw0uo5b32rdxlq",
    "execution": {
     "iopub.execute_input": "2023-05-25T08:07:16.449878Z",
     "iopub.status.busy": "2023-05-25T08:07:16.447119Z",
     "iopub.status.idle": "2023-05-25T08:07:17.075416Z",
     "shell.execute_reply": "2023-05-25T08:07:17.074286Z",
     "shell.execute_reply.started": "2023-05-25T08:07:16.449837Z"
    }
   },
   "outputs": [],
   "source": [
    "tr = list(set(X_train.variantid1.to_list()+X_train.variantid2.to_list()))\n",
    "X_test[X_test.variantid1.isin(tr)].shape, X_test.shape"
   ]
  },
  {
   "cell_type": "code",
   "execution_count": 166,
   "id": "0a43059e",
   "metadata": {
    "cellId": "377lekse0kkfuxxziukp3c",
    "execution": {
     "iopub.execute_input": "2023-05-25T07:27:39.684112Z",
     "iopub.status.busy": "2023-05-25T07:27:39.683738Z",
     "iopub.status.idle": "2023-05-25T07:27:39.689714Z",
     "shell.execute_reply": "2023-05-25T07:27:39.688734Z",
     "shell.execute_reply.started": "2023-05-25T07:27:39.684062Z"
    }
   },
   "outputs": [],
   "source": [
    "# from sklearn.linear_model import LogisticRegression\n",
    "# clf = LogisticRegression(penalty='l2')\n",
    "# clf.fit(X_train_sc, y_train)"
   ]
  },
  {
   "cell_type": "code",
   "execution_count": 31,
   "id": "4075c4a2",
   "metadata": {
    "cellId": "8o6p7u5p6choe3zfiq2cf",
    "execution": {
     "iopub.execute_input": "2023-05-25T09:35:54.689874Z",
     "iopub.status.busy": "2023-05-25T09:35:54.689501Z",
     "iopub.status.idle": "2023-05-25T09:36:08.338192Z",
     "shell.execute_reply": "2023-05-25T09:36:08.337275Z",
     "shell.execute_reply.started": "2023-05-25T09:35:54.689842Z"
    }
   },
   "outputs": [],
   "source": [
    "model_cat = CatBoostClassifier(iterations = 100)\n",
    "\n",
    "model_cat.fit(\n",
    "   train_pool,\n",
    "    eval_set = eval_pool,\n",
    " #   n_jobs=10, \n",
    "    plot=True,\n",
    "    verbose=True,\n",
    "    use_best_model=True,\n",
    "    early_stopping_rounds=50,\n",
    "    metric_period=100\n",
    ")"
   ]
  },
  {
   "cell_type": "code",
   "execution_count": 32,
   "id": "60410f73",
   "metadata": {
    "cellId": "ma08m3t67b82mpnhne8a0b",
    "execution": {
     "iopub.execute_input": "2023-05-25T09:37:54.288617Z",
     "iopub.status.busy": "2023-05-25T09:37:54.287553Z",
     "iopub.status.idle": "2023-05-25T09:37:54.298844Z",
     "shell.execute_reply": "2023-05-25T09:37:54.297886Z",
     "shell.execute_reply.started": "2023-05-25T09:37:54.288583Z"
    }
   },
   "outputs": [],
   "source": [
    "for i, j in {i:j for i, j in zip(X_train.columns, model_cat.get_feature_importance())}.items():\n",
    "    print(i, j)"
   ]
  },
  {
   "cell_type": "code",
   "execution_count": 33,
   "id": "ef13094a",
   "metadata": {
    "cellId": "y9e1d4f2halxdsisw1qi",
    "execution": {
     "iopub.execute_input": "2023-05-25T09:38:07.356210Z",
     "iopub.status.busy": "2023-05-25T09:38:07.355819Z",
     "iopub.status.idle": "2023-05-25T09:38:07.367215Z",
     "shell.execute_reply": "2023-05-25T09:38:07.366037Z",
     "shell.execute_reply.started": "2023-05-25T09:38:07.356177Z"
    }
   },
   "outputs": [],
   "source": [
    "import numpy as np\n",
    "from sklearn.metrics import precision_recall_curve, auc\n",
    "\n",
    "\n",
    "def pr_auc_macro(\n",
    "    target_df: pd.DataFrame,\n",
    "    predictions_df: pd.DataFrame,\n",
    "    prec_level: float = 0.75,\n",
    "    cat_column: str = \"cat3_grouped\",\n",
    "    cat_df: pd.DataFrame = cat_test\n",
    ") -> float:\n",
    "    \n",
    "    df = target_df.merge(predictions_df, on=[\"variantid1\", \"variantid2\"])\n",
    "    \n",
    "    y_true = df[\"target\"]\n",
    "    y_pred = df[\"scores\"]\n",
    "    categories = cat_df\n",
    "    \n",
    "    weights = []\n",
    "    pr_aucs = []\n",
    "\n",
    "    unique_cats, counts = np.unique(categories, return_counts=True)\n",
    "\n",
    "    for i, category in enumerate(unique_cats):\n",
    "        cat_idx = np.where(categories == category)[0]\n",
    "        y_pred_cat = y_pred[cat_idx]\n",
    "        y_true_cat = y_true[cat_idx]\n",
    "\n",
    "        y, x, thr = precision_recall_curve(y_true_cat, y_pred_cat)\n",
    "        gt_prec_level_idx = np.where(y >= prec_level)[0]\n",
    "\n",
    "        try:\n",
    "            pr_auc_prec_level = auc(x[gt_prec_level_idx], y[gt_prec_level_idx])\n",
    "            if not np.isnan(pr_auc_prec_level):\n",
    "                pr_aucs.append(pr_auc_prec_level)\n",
    "                weights.append(counts[i] / len(categories))\n",
    "        except ValueError as err:\n",
    "            pr_aucs.append(0)\n",
    "            weights.append(0)\n",
    "    return np.average(pr_aucs, weights=weights)"
   ]
  },
  {
   "cell_type": "code",
   "execution_count": 34,
   "id": "d19d2372",
   "metadata": {
    "cellId": "zu9qik6zi7h3j8uqmvswqo",
    "execution": {
     "iopub.execute_input": "2023-05-25T09:38:09.364067Z",
     "iopub.status.busy": "2023-05-25T09:38:09.363692Z",
     "iopub.status.idle": "2023-05-25T09:38:09.464170Z",
     "shell.execute_reply": "2023-05-25T09:38:09.463175Z",
     "shell.execute_reply.started": "2023-05-25T09:38:09.364037Z"
    }
   },
   "outputs": [],
   "source": [
    "X_test['scores'] = model_cat.predict_proba(X_test.drop([\"variantid1\", \"variantid2\"], axis = 1))[:, 1]"
   ]
  },
  {
   "cell_type": "code",
   "execution_count": 35,
   "id": "7a4ce649",
   "metadata": {
    "cellId": "f8vfe2dviuqx0fu7ztkj",
    "execution": {
     "iopub.execute_input": "2023-05-25T09:38:09.775154Z",
     "iopub.status.busy": "2023-05-25T09:38:09.774798Z",
     "iopub.status.idle": "2023-05-25T09:38:09.942976Z",
     "shell.execute_reply": "2023-05-25T09:38:09.941826Z",
     "shell.execute_reply.started": "2023-05-25T09:38:09.775125Z"
    }
   },
   "outputs": [],
   "source": [
    "X_train['scores'] = model_cat.predict_proba(X_train)[:, 1]"
   ]
  },
  {
   "cell_type": "code",
   "execution_count": 36,
   "id": "56388c8d",
   "metadata": {
    "cellId": "dpk7njltk3jksk0znob8bh",
    "execution": {
     "iopub.execute_input": "2023-05-25T09:38:12.973064Z",
     "iopub.status.busy": "2023-05-25T09:38:12.972639Z",
     "iopub.status.idle": "2023-05-25T09:38:13.101230Z",
     "shell.execute_reply": "2023-05-25T09:38:13.100201Z",
     "shell.execute_reply.started": "2023-05-25T09:38:12.973031Z"
    }
   },
   "outputs": [],
   "source": [
    "res = model_cat.predict(X_test.drop([\"variantid1\", \"variantid2\"], axis = 1))"
   ]
  },
  {
   "cell_type": "code",
   "execution_count": 37,
   "id": "d52b37a3",
   "metadata": {
    "cellId": "7qnjceuqvqso34x6i6f0si",
    "execution": {
     "iopub.execute_input": "2023-05-25T09:38:15.683894Z",
     "iopub.status.busy": "2023-05-25T09:38:15.683521Z",
     "iopub.status.idle": "2023-05-25T09:38:17.071604Z",
     "shell.execute_reply": "2023-05-25T09:38:17.070411Z",
     "shell.execute_reply.started": "2023-05-25T09:38:15.683865Z"
    }
   },
   "outputs": [],
   "source": [
    "pr_auc_macro_metr = pr_auc_macro(\n",
    "    target_df=y_test, \n",
    "    predictions_df=X_test,\n",
    "    prec_level=0.75,\n",
    "    cat_column=\"cat3_grouped\", \n",
    "    cat_df= cat_test\n",
    ")\n",
    "\n",
    "pr_auc_macro_metr"
   ]
  },
  {
   "cell_type": "code",
   "execution_count": 174,
   "id": "7c588acd",
   "metadata": {
    "cellId": "3q6kulk5diazs3j9l2cr6",
    "execution": {
     "iopub.execute_input": "2023-05-25T07:27:58.509296Z",
     "iopub.status.busy": "2023-05-25T07:27:58.508918Z",
     "iopub.status.idle": "2023-05-25T07:27:58.514071Z",
     "shell.execute_reply": "2023-05-25T07:27:58.513134Z",
     "shell.execute_reply.started": "2023-05-25T07:27:58.509266Z"
    }
   },
   "outputs": [],
   "source": [
    "#используется только одна картинка, можно делать positive pairs со всеми"
   ]
  },
  {
   "cell_type": "code",
   "execution_count": 38,
   "id": "d0fb2e18",
   "metadata": {
    "cellId": "c5d93cg52fgkff9fcsmowt",
    "execution": {
     "iopub.execute_input": "2023-05-25T09:38:27.316774Z",
     "iopub.status.busy": "2023-05-25T09:38:27.316397Z",
     "iopub.status.idle": "2023-05-25T09:38:27.479261Z",
     "shell.execute_reply": "2023-05-25T09:38:27.478315Z",
     "shell.execute_reply.started": "2023-05-25T09:38:27.316744Z"
    }
   },
   "outputs": [],
   "source": [
    "from sklearn.metrics import roc_auc_score\n",
    "from sklearn.metrics import roc_curve\n",
    "roc_auc_score(y_test['target'], X_test['scores']), roc_auc_score(y_train, X_train['scores'])"
   ]
  },
  {
   "cell_type": "code",
   "execution_count": 39,
   "id": "32fe43b6",
   "metadata": {
    "cellId": "ayxx9wuixof6mj1h3f47n4",
    "execution": {
     "iopub.execute_input": "2023-05-25T09:38:33.642039Z",
     "iopub.status.busy": "2023-05-25T09:38:33.641288Z",
     "iopub.status.idle": "2023-05-25T09:38:33.737642Z",
     "shell.execute_reply": "2023-05-25T09:38:33.736435Z",
     "shell.execute_reply.started": "2023-05-25T09:38:33.641996Z"
    }
   },
   "outputs": [],
   "source": [
    "from sklearn.metrics import precision_score, f1_score\n",
    "precision_score(y_test['target'], res), f1_score(y_test['target'], res)"
   ]
  },
  {
   "cell_type": "code",
   "execution_count": 40,
   "id": "c738b9f4",
   "metadata": {
    "cellId": "qvfyw463q6pid4jkdcuo2",
    "execution": {
     "iopub.execute_input": "2023-05-25T09:38:42.863963Z",
     "iopub.status.busy": "2023-05-25T09:38:42.863576Z",
     "iopub.status.idle": "2023-05-25T09:38:43.238354Z",
     "shell.execute_reply": "2023-05-25T09:38:43.237296Z",
     "shell.execute_reply.started": "2023-05-25T09:38:42.863935Z"
    }
   },
   "outputs": [],
   "source": [
    "import matplotlib.pyplot as plt\n",
    "fpr, tpr, thresholds =roc_curve(y_test['target'], X_test['scores'])\n",
    "plt.plot(fpr, tpr)"
   ]
  },
  {
   "cell_type": "code",
   "execution_count": 41,
   "id": "3612ba62",
   "metadata": {
    "cellId": "iqj92obkdpx5pe43cj9g",
    "execution": {
     "iopub.execute_input": "2023-05-25T09:38:44.610350Z",
     "iopub.status.busy": "2023-05-25T09:38:44.609975Z",
     "iopub.status.idle": "2023-05-25T09:38:44.931328Z",
     "shell.execute_reply": "2023-05-25T09:38:44.930306Z",
     "shell.execute_reply.started": "2023-05-25T09:38:44.610320Z"
    }
   },
   "outputs": [],
   "source": [
    "\n",
    "y, x, thr = precision_recall_curve(y_test['target'], X_test['scores'])\n",
    "plt.plot(x, y)"
   ]
  },
  {
   "cell_type": "code",
   "execution_count": 42,
   "id": "60466c6a",
   "metadata": {
    "cellId": "um5f0j2j9o5kilnybw1l",
    "execution": {
     "iopub.execute_input": "2023-05-25T09:38:49.605124Z",
     "iopub.status.busy": "2023-05-25T09:38:49.604746Z",
     "iopub.status.idle": "2023-05-25T09:38:49.912432Z",
     "shell.execute_reply": "2023-05-25T09:38:49.911481Z",
     "shell.execute_reply.started": "2023-05-25T09:38:49.605094Z"
    }
   },
   "outputs": [],
   "source": [
    "pd.Series(X_test['scores']).hist()"
   ]
  },
  {
   "cell_type": "code",
   "execution_count": 43,
   "id": "fe6e4994",
   "metadata": {
    "cellId": "nmt7mm0bn9sor17yc7mnc",
    "execution": {
     "iopub.execute_input": "2023-05-25T09:38:54.168891Z",
     "iopub.status.busy": "2023-05-25T09:38:54.168418Z",
     "iopub.status.idle": "2023-05-25T09:38:54.571824Z",
     "shell.execute_reply": "2023-05-25T09:38:54.570911Z",
     "shell.execute_reply.started": "2023-05-25T09:38:54.168854Z"
    }
   },
   "outputs": [],
   "source": [
    "pd.Series(X_train['scores']).hist()"
   ]
  },
  {
   "cell_type": "code",
   "execution_count": 44,
   "id": "695556bc",
   "metadata": {
    "cellId": "9olq4zxd6ku9cceclhtvd",
    "execution": {
     "iopub.execute_input": "2023-05-25T09:39:10.275059Z",
     "iopub.status.busy": "2023-05-25T09:39:10.274213Z",
     "iopub.status.idle": "2023-05-25T09:39:10.601379Z",
     "shell.execute_reply": "2023-05-25T09:39:10.600289Z",
     "shell.execute_reply.started": "2023-05-25T09:39:10.275021Z"
    }
   },
   "outputs": [],
   "source": [
    "X_train.cos_sim.hist()"
   ]
  },
  {
   "cell_type": "code",
   "execution_count": 182,
   "id": "4b5ad492",
   "metadata": {
    "cellId": "fyjtewjocxc8gh2kkj5yvx",
    "execution": {
     "iopub.execute_input": "2023-05-25T07:28:13.668620Z",
     "iopub.status.busy": "2023-05-25T07:28:13.668216Z",
     "iopub.status.idle": "2023-05-25T07:28:14.144794Z",
     "shell.execute_reply": "2023-05-25T07:28:14.143833Z",
     "shell.execute_reply.started": "2023-05-25T07:28:13.668591Z"
    }
   },
   "outputs": [],
   "source": [
    "X_train = X_train.merge(data[['target', 'variantid1', 'variantid2']], right_index = True, left_index = True)\n",
    "X_test = X_test.merge(data[['target']], right_index = True, left_index = True)"
   ]
  },
  {
   "cell_type": "code",
   "execution_count": 183,
   "id": "59232314",
   "metadata": {
    "cellId": "xnh41nx5zq89ots33z0ehp",
    "execution": {
     "iopub.execute_input": "2023-05-25T07:28:16.220876Z",
     "iopub.status.busy": "2023-05-25T07:28:16.220511Z",
     "iopub.status.idle": "2023-05-25T07:28:16.228566Z",
     "shell.execute_reply": "2023-05-25T07:28:16.227129Z",
     "shell.execute_reply.started": "2023-05-25T07:28:16.220847Z"
    }
   },
   "outputs": [],
   "source": [
    "pd.set_option('display.max_rows', 100)"
   ]
  },
  {
   "cell_type": "code",
   "execution_count": 197,
   "id": "a4f03467",
   "metadata": {
    "cellId": "bmxrt26hnab2r2oup2htqy",
    "execution": {
     "iopub.execute_input": "2023-05-25T07:33:29.924287Z",
     "iopub.status.busy": "2023-05-25T07:33:29.923795Z",
     "iopub.status.idle": "2023-05-25T07:33:29.948222Z",
     "shell.execute_reply": "2023-05-25T07:33:29.946955Z",
     "shell.execute_reply.started": "2023-05-25T07:33:29.924243Z"
    }
   },
   "outputs": [],
   "source": [
    "X_test[X_test.category==211].target.value_counts()"
   ]
  },
  {
   "cell_type": "code",
   "execution_count": 34,
   "id": "71515d74",
   "metadata": {
    "cellId": "xbinoyjv1rk753qlfm0jo",
    "execution": {
     "iopub.execute_input": "2023-05-25T08:22:20.480046Z",
     "iopub.status.busy": "2023-05-25T08:22:20.479616Z",
     "iopub.status.idle": "2023-05-25T08:22:20.485002Z",
     "shell.execute_reply": "2023-05-25T08:22:20.483854Z",
     "shell.execute_reply.started": "2023-05-25T08:22:20.480008Z"
    }
   },
   "outputs": [],
   "source": [
    "# X_test[[ 'target', 'scores','cos_sim', 'category', 'cat_dif',  'variantid1', 'variantid2', ]].iloc[37000:37100] #[(X_test.scores>0.9)]\n",
    "#  #'cos_sim', 'category', (X_test.category==211)&"
   ]
  },
  {
   "cell_type": "markdown",
   "id": "3bd29123",
   "metadata": {
    "cellId": "r1n771izxyeo11itxqsvo"
   },
   "source": [
    "# Submission"
   ]
  },
  {
   "cell_type": "code",
   "execution_count": 45,
   "id": "c89abd55",
   "metadata": {
    "cellId": "mksv7gsukwrnd265ihxk",
    "execution": {
     "iopub.execute_input": "2023-05-25T09:39:19.404052Z",
     "iopub.status.busy": "2023-05-25T09:39:19.403655Z",
     "iopub.status.idle": "2023-05-25T09:39:20.516926Z",
     "shell.execute_reply": "2023-05-25T09:39:20.515722Z",
     "shell.execute_reply.started": "2023-05-25T09:39:19.404022Z"
    }
   },
   "outputs": [],
   "source": [
    "#test_pairs = pd.read_parquet(\"../datasets/test_pairs_wo_target.parquet\")\n",
    "test_pairs = pd.read_csv(\"files/datasets/test_for_participants.csv\")\n",
    "test_etl = pd.read_parquet(\"files/datasets/test_data.parquet\")"
   ]
  },
  {
   "cell_type": "code",
   "execution_count": 41,
   "id": "973ccde4",
   "metadata": {
    "cellId": "kwu5luvhbjfnttt42iqzff",
    "execution": {
     "iopub.execute_input": "2023-05-25T08:30:20.698328Z",
     "iopub.status.busy": "2023-05-25T08:30:20.697849Z",
     "iopub.status.idle": "2023-05-25T08:30:20.736913Z",
     "shell.execute_reply": "2023-05-25T08:30:20.735902Z",
     "shell.execute_reply.started": "2023-05-25T08:30:20.698291Z"
    }
   },
   "outputs": [],
   "source": [
    "tr = list(set(test_pairs.variantid1.to_list()+test_pairs.variantid2.to_list()))\n",
    "data[data.variantid1.isin(tr)].shape, len(tr)"
   ]
  },
  {
   "cell_type": "code",
   "execution_count": 46,
   "id": "a8cc1550",
   "metadata": {
    "cellId": "z73yru5coms9gxytcjd195",
    "execution": {
     "iopub.execute_input": "2023-05-25T09:39:22.515912Z",
     "iopub.status.busy": "2023-05-25T09:39:22.515510Z",
     "iopub.status.idle": "2023-05-25T09:39:23.286059Z",
     "shell.execute_reply": "2023-05-25T09:39:23.285077Z",
     "shell.execute_reply.started": "2023-05-25T09:39:22.515882Z"
    }
   },
   "outputs": [],
   "source": [
    "tr_test = test_etl.categories.apply(lambda x: eval(x))\n",
    "trim_test = pd.DataFrame(tr_test.to_list()).rename(columns={str(i):f'cat_{i}' for i in range(1, 5)})\n",
    "trim_test['cat_2_en'] = trim_test.cat_2.map(dikt_cat_2)\n",
    "trim_test['cat_3_en'] = trim_test.cat_3.map(dikt_cat_3)\n",
    "trim_test['cat_4_en'] = trim_test.cat_4.map(dikt_cat_4)\n",
    "trim_test = trim_test.merge(st, left_on = ['cat_2_en', 'cat_3_en', 'cat_4_en'], right_on = ['cat_2', 'cat_3', 'cat_4'], how = 'left')\n",
    "test_etl['cat_encoded'] = trim_test['encoder']"
   ]
  },
  {
   "cell_type": "code",
   "execution_count": 39,
   "id": "a0de01da",
   "metadata": {
    "cellId": "66xi2dpen7w5k9vdlg8tki",
    "execution": {
     "iopub.execute_input": "2023-05-25T04:02:38.302872Z",
     "iopub.status.busy": "2023-05-25T04:02:38.301889Z",
     "iopub.status.idle": "2023-05-25T04:02:38.512098Z",
     "shell.execute_reply": "2023-05-25T04:02:38.511198Z",
     "shell.execute_reply.started": "2023-05-25T04:02:38.302823Z"
    }
   },
   "outputs": [],
   "source": [
    "# test_etl[\"cat3\"] = test_etl[\"categories\"].apply(lambda x: json.loads(x)[\"3\"])\n",
    "# cat3_counts = test_etl[\"cat3\"].value_counts().to_dict()\n",
    "# test_etl[\"cat3_grouped\"] = test_etl[\"cat3\"].apply(lambda x: x if cat3_counts[x] > 1000 else \"rest\")\n",
    "# dikt_categories= {i: j for i, j in zip(test_etl.cat3_grouped.unique(), np.arange(test_etl.cat3_grouped.nunique())/test_etl.cat3_grouped.nunique())}\n",
    "# test_etl['category_encoded'] = test_etl.cat3_grouped.map(dikt_categories)"
   ]
  },
  {
   "cell_type": "code",
   "execution_count": 47,
   "id": "7d14e296",
   "metadata": {
    "cellId": "yvgn0bu5gmalfxbg5nkzj",
    "execution": {
     "iopub.execute_input": "2023-05-25T09:39:25.532958Z",
     "iopub.status.busy": "2023-05-25T09:39:25.529686Z",
     "iopub.status.idle": "2023-05-25T09:39:28.316601Z",
     "shell.execute_reply": "2023-05-25T09:39:28.315551Z",
     "shell.execute_reply.started": "2023-05-25T09:39:25.532916Z"
    }
   },
   "outputs": [],
   "source": [
    "embedding_columns = ['main_pic_embeddings_resnet_v1', 'name_bert_64']\n",
    "symm_goods_pairs_test = symm_pairs(test_pairs)\n",
    "dataset_test = ContrastiveDataset(test_etl, symm_goods_pairs_test, embedding_columns, mode = False)\n",
    "test_dataloader = DataLoader(dataset_test, batch_size=128, shuffle=False, drop_last= False, num_workers =2)"
   ]
  },
  {
   "cell_type": "code",
   "execution_count": 48,
   "id": "4595c9ac",
   "metadata": {
    "cellId": "z6bfzfbexfs02b5sln3kf",
    "execution": {
     "iopub.execute_input": "2023-05-25T09:39:28.319060Z",
     "iopub.status.busy": "2023-05-25T09:39:28.318676Z",
     "iopub.status.idle": "2023-05-25T09:39:28.774302Z",
     "shell.execute_reply": "2023-05-25T09:39:28.772745Z",
     "shell.execute_reply.started": "2023-05-25T09:39:28.319024Z"
    }
   },
   "outputs": [],
   "source": [
    "yt = next(iter(test_dataloader))"
   ]
  },
  {
   "cell_type": "code",
   "execution_count": 49,
   "id": "a35369fa",
   "metadata": {
    "cellId": "4vvewv793b8kgkwb463vl",
    "execution": {
     "iopub.execute_input": "2023-05-25T09:39:28.779693Z",
     "iopub.status.busy": "2023-05-25T09:39:28.779284Z",
     "iopub.status.idle": "2023-05-25T09:39:36.750689Z",
     "shell.execute_reply": "2023-05-25T09:39:36.748303Z",
     "shell.execute_reply.started": "2023-05-25T09:39:28.779656Z"
    }
   },
   "outputs": [],
   "source": [
    "def predict(model, dataloader):\n",
    "    y_idxs = []\n",
    "    y_embed = []\n",
    "    for orig, idx in tqdm(dataloader):\n",
    "        embed = model(orig.to(device))\n",
    "        y_idxs.extend([i.detach().cpu().item() for i in idx])\n",
    "        y_embed.extend([[j.item() for j in i.detach().cpu()] for i in embed])\n",
    "    return y_idxs, y_embed\n",
    "\n",
    "y_idxs, y_embed = predict(model, test_dataloader)\n",
    "\n",
    "        \n"
   ]
  },
  {
   "cell_type": "code",
   "execution_count": 50,
   "id": "ca03334c",
   "metadata": {
    "cellId": "zgjul9hk2r8o6cm7yvco8",
    "execution": {
     "iopub.execute_input": "2023-05-25T09:39:36.758449Z",
     "iopub.status.busy": "2023-05-25T09:39:36.757507Z",
     "iopub.status.idle": "2023-05-25T09:39:36.860961Z",
     "shell.execute_reply": "2023-05-25T09:39:36.859639Z",
     "shell.execute_reply.started": "2023-05-25T09:39:36.758397Z"
    }
   },
   "outputs": [],
   "source": [
    "embed_test = pd.DataFrame({'variant': y_idxs, 'embed': y_embed})\n",
    "classif_test = test_pairs.merge(embed_test, left_on = 'variantid1', right_on = 'variant', how = 'left', suffixes = ['', '_1'])\n",
    "classif_test = classif_test.merge(embed_test, left_on = 'variantid2', right_on='variant', how = 'left', suffixes = ['', '_2'])\n",
    "classif_test.drop(['variant', 'variant_2'],axis = 1, inplace = True)"
   ]
  },
  {
   "cell_type": "code",
   "execution_count": 51,
   "id": "cc772aa8",
   "metadata": {
    "cellId": "nsc1z0zgzvqwzy3az7kc6a",
    "execution": {
     "iopub.execute_input": "2023-05-25T02:08:35.685900Z",
     "iopub.status.busy": "2023-05-25T02:08:35.685346Z",
     "iopub.status.idle": "2023-05-25T02:08:35.724021Z",
     "shell.execute_reply": "2023-05-25T02:08:35.723307Z",
     "shell.execute_reply.started": "2023-05-25T02:08:35.685857Z"
    }
   },
   "outputs": [],
   "source": [
    "classif_test.info()"
   ]
  },
  {
   "cell_type": "code",
   "execution_count": 51,
   "id": "fad55dc5",
   "metadata": {
    "cellId": "hdqsdrx1mjhb3qnxdsgjsg",
    "execution": {
     "iopub.execute_input": "2023-05-25T09:39:36.869707Z",
     "iopub.status.busy": "2023-05-25T09:39:36.866388Z",
     "iopub.status.idle": "2023-05-25T09:39:36.881019Z",
     "shell.execute_reply": "2023-05-25T09:39:36.879774Z",
     "shell.execute_reply.started": "2023-05-25T09:39:36.869658Z"
    }
   },
   "outputs": [],
   "source": [
    "from sklearn.metrics.pairwise import cosine_similarity\n",
    "from sklearn.metrics import pairwise_distances\n",
    "def get_pic_features(main_pic_embeddings_1,\n",
    "                     main_pic_embeddings_2):\n",
    "    \"\"\"Calculate distances percentiles for \n",
    "    pairwise pic distances. Percentiles are useful \n",
    "    when product has several pictures.\n",
    "    \"\"\"\n",
    "     \n",
    "    embed= list(np.abs(np.array(main_pic_embeddings_1)[None, ...] - np.array(main_pic_embeddings_2)[None, ...])[0])\n",
    "\n",
    "    cos_sim = cosine_similarity(\n",
    "        np.array(main_pic_embeddings_1)[None, ...], np.array(main_pic_embeddings_2)[None, ...]\n",
    "    )[0][0]\n",
    "    \n",
    "\n",
    "    # pair_features = []\n",
    "    # pair_features += np.percentile(dist_m, percentiles).tolist()\n",
    "\n",
    "    return embed, cos_sim"
   ]
  },
  {
   "cell_type": "code",
   "execution_count": 52,
   "id": "4d20534d",
   "metadata": {
    "cellId": "dfk43vsbxai07pg4w5fk0d4",
    "execution": {
     "iopub.execute_input": "2023-05-25T09:39:36.884161Z",
     "iopub.status.busy": "2023-05-25T09:39:36.883810Z",
     "iopub.status.idle": "2023-05-25T09:39:47.850881Z",
     "shell.execute_reply": "2023-05-25T09:39:47.849179Z",
     "shell.execute_reply.started": "2023-05-25T09:39:36.884128Z"
    }
   },
   "outputs": [],
   "source": [
    "\n",
    "classif_test[[\"embed_dif\", \"cos_sim\", ]] = (\n",
    "    classif_test[[\"embed\", \"embed_2\"]].apply(\n",
    "        lambda x: pd.Series(get_pic_features(*x)), axis=1\n",
    "    )\n",
    ")"
   ]
  },
  {
   "cell_type": "code",
   "execution_count": 53,
   "id": "102e3934",
   "metadata": {
    "cellId": "9aknx5tzvxctf9bg5q00w",
    "execution": {
     "iopub.execute_input": "2023-05-25T09:39:47.855883Z",
     "iopub.status.busy": "2023-05-25T09:39:47.855465Z",
     "iopub.status.idle": "2023-05-25T09:39:47.996246Z",
     "shell.execute_reply": "2023-05-25T09:39:47.995277Z",
     "shell.execute_reply.started": "2023-05-25T09:39:47.855844Z"
    }
   },
   "outputs": [],
   "source": [
    "classif_test = classif_test.merge(test_etl[['variantid', 'categories','cat_encoded' ]], left_on = 'variantid1', right_on = 'variantid', how = 'left', suffixes = ['', '_1'])\n",
    "classif_test = classif_test.merge(test_etl[['variantid', 'cat_encoded']], left_on = 'variantid2', right_on = 'variantid', how = 'left', suffixes = ['', '_2'])\n",
    "classif_test[\"cat3\"] = classif_test[\"categories\"].apply(lambda x: json.loads(x)[\"3\"])\n",
    "cat3_counts = classif_test[\"cat3\"].value_counts().to_dict()\n"
   ]
  },
  {
   "cell_type": "code",
   "execution_count": 54,
   "id": "cb9e2e09",
   "metadata": {
    "cellId": "zfcdry370dbe3iopjbsrlv",
    "execution": {
     "iopub.execute_input": "2023-05-25T09:39:47.998591Z",
     "iopub.status.busy": "2023-05-25T09:39:47.998291Z",
     "iopub.status.idle": "2023-05-25T09:39:48.013295Z",
     "shell.execute_reply": "2023-05-25T09:39:48.012223Z",
     "shell.execute_reply.started": "2023-05-25T09:39:47.998566Z"
    }
   },
   "outputs": [],
   "source": [
    "classif_test[\"cat3_grouped\"] = classif_test[\"cat3\"].apply(lambda x: x if cat3_counts[x] > 1000 else \"rest\")"
   ]
  },
  {
   "cell_type": "code",
   "execution_count": 55,
   "id": "142c2919",
   "metadata": {
    "cellId": "9eczbf1pxtq3jc4abatexn",
    "execution": {
     "iopub.execute_input": "2023-05-25T09:39:48.015178Z",
     "iopub.status.busy": "2023-05-25T09:39:48.014830Z",
     "iopub.status.idle": "2023-05-25T09:39:48.022556Z",
     "shell.execute_reply": "2023-05-25T09:39:48.021563Z",
     "shell.execute_reply.started": "2023-05-25T09:39:48.015146Z"
    }
   },
   "outputs": [],
   "source": [
    "def get_cat_diff(x, y):\n",
    "    if not np.isnan(x) and not np.isnan(y):\n",
    "        return (len(nx.bidirectional_shortest_path(G, int(x), int(y)))-1)//2\n",
    "    else: return 0"
   ]
  },
  {
   "cell_type": "code",
   "execution_count": 56,
   "id": "f26c6fdc",
   "metadata": {
    "cellId": "gpj8vg9ae6mjlhqqsynyee",
    "execution": {
     "iopub.execute_input": "2023-05-25T09:39:48.024465Z",
     "iopub.status.busy": "2023-05-25T09:39:48.024100Z",
     "iopub.status.idle": "2023-05-25T09:39:48.375504Z",
     "shell.execute_reply": "2023-05-25T09:39:48.374422Z",
     "shell.execute_reply.started": "2023-05-25T09:39:48.024434Z"
    }
   },
   "outputs": [],
   "source": [
    "classif_test['cat_dif'] = classif_test[['cat_encoded', 'cat_encoded_2']].apply(lambda x: get_cat_diff(*x), axis = 1)"
   ]
  },
  {
   "cell_type": "code",
   "execution_count": 57,
   "id": "9892cafb",
   "metadata": {
    "cellId": "0t15ix4dafu0tmzjg19s3xr",
    "execution": {
     "iopub.execute_input": "2023-05-25T09:39:48.378057Z",
     "iopub.status.busy": "2023-05-25T09:39:48.376974Z",
     "iopub.status.idle": "2023-05-25T09:39:48.584566Z",
     "shell.execute_reply": "2023-05-25T09:39:48.583572Z",
     "shell.execute_reply.started": "2023-05-25T09:39:48.378006Z"
    }
   },
   "outputs": [],
   "source": [
    "dikt_categories= {i: j for i, j in zip(sorted(classif_test.cat_encoded.unique()), range(1, classif_test.cat_encoded.nunique()+1))}\n",
    "classif_test['category'] = classif_test.cat_encoded.map(dikt_categories)\n",
    "classif_test.category = np.where(classif_test.cat3_grouped=='rest', 0, classif_test.category)\n",
    "embeddings = pd.DataFrame(classif_test['embed_dif'].tolist())\n",
    "data_test = pd.concat([classif_test, embeddings], axis = 1)"
   ]
  },
  {
   "cell_type": "code",
   "execution_count": 58,
   "id": "fbe356c1",
   "metadata": {
    "cellId": "otaobnmxe0ipksu0zcjwn8",
    "execution": {
     "iopub.execute_input": "2023-05-25T09:39:49.342957Z",
     "iopub.status.busy": "2023-05-25T09:39:49.342577Z",
     "iopub.status.idle": "2023-05-25T09:39:49.361758Z",
     "shell.execute_reply": "2023-05-25T09:39:49.360670Z",
     "shell.execute_reply.started": "2023-05-25T09:39:49.342927Z"
    }
   },
   "outputs": [],
   "source": [
    "data_test= data_test[['variantid1', 'variantid2',  'cos_sim', 'cat_dif']+list(embeddings.columns)] #'category'"
   ]
  },
  {
   "cell_type": "code",
   "execution_count": 63,
   "id": "40b5d6ed",
   "metadata": {
    "cellId": "uoncptt7hv8ftnq34qgzzt",
    "execution": {
     "iopub.execute_input": "2023-05-25T08:44:46.160115Z",
     "iopub.status.busy": "2023-05-25T08:44:46.159707Z",
     "iopub.status.idle": "2023-05-25T08:44:46.177612Z",
     "shell.execute_reply": "2023-05-25T08:44:46.176622Z",
     "shell.execute_reply.started": "2023-05-25T08:44:46.160084Z"
    }
   },
   "outputs": [],
   "source": [
    "data_test.info()"
   ]
  },
  {
   "cell_type": "code",
   "execution_count": 59,
   "id": "fbdfcc9a",
   "metadata": {
    "cellId": "q5fg0ttrpxsasner0mesuv",
    "execution": {
     "iopub.execute_input": "2023-05-25T09:39:59.394344Z",
     "iopub.status.busy": "2023-05-25T09:39:59.393958Z",
     "iopub.status.idle": "2023-05-25T09:39:59.421516Z",
     "shell.execute_reply": "2023-05-25T09:39:59.420430Z",
     "shell.execute_reply.started": "2023-05-25T09:39:59.394312Z"
    }
   },
   "outputs": [],
   "source": [
    "data_test['scores'] = model_cat.predict_proba(data_test)[:, 1]"
   ]
  },
  {
   "cell_type": "code",
   "execution_count": 60,
   "id": "0fef7b14",
   "metadata": {
    "cellId": "0rze4z2mu3cwz2ef6nwlqg",
    "execution": {
     "iopub.execute_input": "2023-05-25T09:40:02.212197Z",
     "iopub.status.busy": "2023-05-25T09:40:02.211810Z",
     "iopub.status.idle": "2023-05-25T09:40:02.221552Z",
     "shell.execute_reply": "2023-05-25T09:40:02.220246Z",
     "shell.execute_reply.started": "2023-05-25T09:40:02.212165Z"
    }
   },
   "outputs": [],
   "source": [
    "submit = data_test[['variantid1', 'variantid2', 'scores']]"
   ]
  },
  {
   "cell_type": "code",
   "execution_count": 67,
   "id": "8db821c1",
   "metadata": {
    "cellId": "qpncmi3tuc1v3uqd1f8rr",
    "execution": {
     "iopub.execute_input": "2023-05-25T08:45:08.438566Z",
     "iopub.status.busy": "2023-05-25T08:45:08.438209Z",
     "iopub.status.idle": "2023-05-25T08:45:08.517020Z",
     "shell.execute_reply": "2023-05-25T08:45:08.516029Z",
     "shell.execute_reply.started": "2023-05-25T08:45:08.438536Z"
    }
   },
   "outputs": [],
   "source": [
    "submit.to_csv('submition_last_2.csv', index=False, sep = ',')"
   ]
  },
  {
   "cell_type": "code",
   "execution_count": 134,
   "id": "a3e6cb21",
   "metadata": {
    "cellId": "e9u0esxr4ykktm61qxnl5e"
   },
   "outputs": [],
   "source": [
    "import os\n",
    "os.getcwd()"
   ]
  },
  {
   "cell_type": "code",
   "execution_count": 68,
   "id": "25ce3901",
   "metadata": {
    "cellId": "t34u80vpqtqsfl6yq3tk5c",
    "execution": {
     "iopub.execute_input": "2023-05-25T08:45:12.367144Z",
     "iopub.status.busy": "2023-05-25T08:45:12.366749Z",
     "iopub.status.idle": "2023-05-25T08:45:12.374017Z",
     "shell.execute_reply": "2023-05-25T08:45:12.373041Z",
     "shell.execute_reply.started": "2023-05-25T08:45:12.367109Z"
    }
   },
   "outputs": [],
   "source": [
    "from IPython.display import FileLink\n",
    "FileLink(r'submition_last_2.csv')"
   ]
  },
  {
   "cell_type": "code",
   "execution_count": 69,
   "id": "d12aabf0",
   "metadata": {
    "cellId": "042e8e8rd9chg1s4j4goh0t",
    "execution": {
     "iopub.execute_input": "2023-05-25T08:45:19.661255Z",
     "iopub.status.busy": "2023-05-25T08:45:19.660827Z",
     "iopub.status.idle": "2023-05-25T08:45:19.681222Z",
     "shell.execute_reply": "2023-05-25T08:45:19.680348Z",
     "shell.execute_reply.started": "2023-05-25T08:45:19.661221Z"
    }
   },
   "outputs": [],
   "source": [
    "submit.iloc[0:10]"
   ]
  },
  {
   "cell_type": "code",
   "execution_count": 64,
   "id": "ae5dce92",
   "metadata": {
    "cellId": "vqh1s9zqfqc10cujyigq8",
    "execution": {
     "iopub.execute_input": "2023-05-25T09:42:25.726396Z",
     "iopub.status.busy": "2023-05-25T09:42:25.725986Z",
     "iopub.status.idle": "2023-05-25T09:42:25.738804Z",
     "shell.execute_reply": "2023-05-25T09:42:25.737424Z",
     "shell.execute_reply.started": "2023-05-25T09:42:25.726347Z"
    }
   },
   "outputs": [],
   "source": [
    "submit.iloc[20:30]"
   ]
  },
  {
   "cell_type": "code",
   "execution_count": 63,
   "id": "e0b83bcc",
   "metadata": {
    "cellId": "gdxrl8d4hlhgv5d2o0rtm5",
    "execution": {
     "iopub.execute_input": "2023-05-25T09:42:00.044447Z",
     "iopub.status.busy": "2023-05-25T09:42:00.044038Z",
     "iopub.status.idle": "2023-05-25T09:42:00.309610Z",
     "shell.execute_reply": "2023-05-25T09:42:00.308731Z",
     "shell.execute_reply.started": "2023-05-25T09:42:00.044413Z"
    }
   },
   "outputs": [],
   "source": [
    "submit.scores.hist()"
   ]
  },
  {
   "cell_type": "code",
   "execution_count": null,
   "id": "52773c92",
   "metadata": {
    "cellId": "l1a92w6isq1nx0jificco"
   },
   "outputs": [],
   "source": []
  }
 ],
 "metadata": {
  "language_info": {
   "codemirror_mode": {
    "name": "ipython",
    "version": 3
   },
   "file_extension": ".py",
   "mimetype": "text/x-python",
   "name": "python",
   "nbconvert_exporter": "python",
   "pygments_lexer": "ipython3",
   "version": "3.7.7"
  },
  "notebookId": "e57f2cf1-d111-49e7-b4cf-332ced700e9f",
  "notebookPath": "ozon/Ozon_marketplace/cur_ver.ipynb"
 },
 "nbformat": 4,
 "nbformat_minor": 5
}
